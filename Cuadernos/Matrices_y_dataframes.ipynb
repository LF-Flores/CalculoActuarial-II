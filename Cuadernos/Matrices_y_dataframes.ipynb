{
 "cells": [
  {
   "cell_type": "markdown",
   "metadata": {},
   "source": [
    "# Operaciones con Matrices y Dataframes\n",
    "\n",
    "En R se tiene soporte a una estructura de dato sumamente útil para el análisis y organización de observaciones con múltiples variables: El dataframe. Para comprender mejor los dataframes y las operaciones sobre ellos, se repasará y practicará a continuación con operaciones de matrices, las cuales pueden servir para generar dataframes.\n",
    "\n",
    "## Operaciones con Matrices\n",
    "\n",
    "### Sumas y productos\n",
    "Considere el siguiente producto simple de números:"
   ]
  },
  {
   "cell_type": "code",
   "execution_count": 1,
   "metadata": {},
   "outputs": [
    {
     "data": {
      "text/html": [
       "4"
      ],
      "text/latex": [
       "4"
      ],
      "text/markdown": [
       "4"
      ],
      "text/plain": [
       "[1] 4"
      ]
     },
     "metadata": {},
     "output_type": "display_data"
    }
   ],
   "source": [
    "2 * 2"
   ]
  },
  {
   "cell_type": "markdown",
   "metadata": {},
   "source": [
    "Contrastando ahorita con el operador de producto matricial, `%*%`"
   ]
  },
  {
   "cell_type": "code",
   "execution_count": 2,
   "metadata": {},
   "outputs": [
    {
     "data": {
      "text/html": [
       "<table>\n",
       "<caption>A matrix: 1 × 1 of type dbl</caption>\n",
       "<tbody>\n",
       "\t<tr><td>4</td></tr>\n",
       "</tbody>\n",
       "</table>\n"
      ],
      "text/latex": [
       "A matrix: 1 × 1 of type dbl\n",
       "\\begin{tabular}{l}\n",
       "\t 4\\\\\n",
       "\\end{tabular}\n"
      ],
      "text/markdown": [
       "\n",
       "A matrix: 1 × 1 of type dbl\n",
       "\n",
       "| 4 |\n",
       "\n"
      ],
      "text/plain": [
       "     [,1]\n",
       "[1,] 4   "
      ]
     },
     "metadata": {},
     "output_type": "display_data"
    }
   ],
   "source": [
    "2%*%2"
   ]
  },
  {
   "cell_type": "markdown",
   "metadata": {},
   "source": [
    "El resultado será el mismo, pero el tipo de dato retornado será automáticamente una matriz, sin importar que los operandos del producto no lo sean. Probemos multiplicar las siguientes dos matrices:"
   ]
  },
  {
   "cell_type": "code",
   "execution_count": 3,
   "metadata": {},
   "outputs": [
    {
     "data": {
      "text/html": [
       "<table>\n",
       "<caption>A matrix: 2 × 2 of type dbl</caption>\n",
       "<tbody>\n",
       "\t<tr><td>1</td><td>2</td></tr>\n",
       "\t<tr><td>2</td><td>3</td></tr>\n",
       "</tbody>\n",
       "</table>\n"
      ],
      "text/latex": [
       "A matrix: 2 × 2 of type dbl\n",
       "\\begin{tabular}{ll}\n",
       "\t 1 & 2\\\\\n",
       "\t 2 & 3\\\\\n",
       "\\end{tabular}\n"
      ],
      "text/markdown": [
       "\n",
       "A matrix: 2 × 2 of type dbl\n",
       "\n",
       "| 1 | 2 |\n",
       "| 2 | 3 |\n",
       "\n"
      ],
      "text/plain": [
       "     [,1] [,2]\n",
       "[1,] 1    2   \n",
       "[2,] 2    3   "
      ]
     },
     "metadata": {},
     "output_type": "display_data"
    },
    {
     "data": {
      "text/html": [
       "<table>\n",
       "<caption>A matrix: 2 × 2 of type dbl</caption>\n",
       "<tbody>\n",
       "\t<tr><td>5</td><td>3</td></tr>\n",
       "\t<tr><td>1</td><td>2</td></tr>\n",
       "</tbody>\n",
       "</table>\n"
      ],
      "text/latex": [
       "A matrix: 2 × 2 of type dbl\n",
       "\\begin{tabular}{ll}\n",
       "\t 5 & 3\\\\\n",
       "\t 1 & 2\\\\\n",
       "\\end{tabular}\n"
      ],
      "text/markdown": [
       "\n",
       "A matrix: 2 × 2 of type dbl\n",
       "\n",
       "| 5 | 3 |\n",
       "| 1 | 2 |\n",
       "\n"
      ],
      "text/plain": [
       "     [,1] [,2]\n",
       "[1,] 5    3   \n",
       "[2,] 1    2   "
      ]
     },
     "metadata": {},
     "output_type": "display_data"
    }
   ],
   "source": [
    "A <- cbind(c(1,2), c(2,3))\n",
    "B <- cbind(c(5,1), c(3,2))\n",
    "A\n",
    "B"
   ]
  },
  {
   "cell_type": "code",
   "execution_count": 4,
   "metadata": {},
   "outputs": [
    {
     "data": {
      "text/html": [
       "<table>\n",
       "<caption>A matrix: 2 × 2 of type dbl</caption>\n",
       "<tbody>\n",
       "\t<tr><td> 7</td><td> 7</td></tr>\n",
       "\t<tr><td>13</td><td>12</td></tr>\n",
       "</tbody>\n",
       "</table>\n"
      ],
      "text/latex": [
       "A matrix: 2 × 2 of type dbl\n",
       "\\begin{tabular}{ll}\n",
       "\t  7 &  7\\\\\n",
       "\t 13 & 12\\\\\n",
       "\\end{tabular}\n"
      ],
      "text/markdown": [
       "\n",
       "A matrix: 2 × 2 of type dbl\n",
       "\n",
       "|  7 |  7 |\n",
       "| 13 | 12 |\n",
       "\n"
      ],
      "text/plain": [
       "     [,1] [,2]\n",
       "[1,]  7    7  \n",
       "[2,] 13   12  "
      ]
     },
     "metadata": {},
     "output_type": "display_data"
    }
   ],
   "source": [
    "A%*%B"
   ]
  },
  {
   "cell_type": "markdown",
   "metadata": {},
   "source": [
    "### Álgebra lineal básica\n",
    "R igualmente tiene implementadas funciones para álgebra lineal general, es decir, podemos realizar cálculos como encontrar el espectro de nuestras matrices:"
   ]
  },
  {
   "cell_type": "code",
   "execution_count": 5,
   "metadata": {},
   "outputs": [],
   "source": [
    "eig <- eigen(A)"
   ]
  },
  {
   "cell_type": "markdown",
   "metadata": {},
   "source": [
    "En el siguiente bloque se visualiza lo calculado:\n",
    "* Los valores propios en orden descendiente\n",
    "* Los vectores propios enlistados como columnas de una matriz. Éstos están en el mismo orden que los valores propios para corresponder adecuadamente."
   ]
  },
  {
   "cell_type": "code",
   "execution_count": 6,
   "metadata": {
    "scrolled": false
   },
   "outputs": [
    {
     "data": {
      "text/html": [
       "<style>\n",
       ".list-inline {list-style: none; margin:0; padding: 0}\n",
       ".list-inline>li {display: inline-block}\n",
       ".list-inline>li:not(:last-child)::after {content: \"\\00b7\"; padding: 0 .5ex}\n",
       "</style>\n",
       "<ol class=list-inline><li>4.23606797749979</li><li>-0.23606797749979</li></ol>\n"
      ],
      "text/latex": [
       "\\begin{enumerate*}\n",
       "\\item 4.23606797749979\n",
       "\\item -0.23606797749979\n",
       "\\end{enumerate*}\n"
      ],
      "text/markdown": [
       "1. 4.23606797749979\n",
       "2. -0.23606797749979\n",
       "\n",
       "\n"
      ],
      "text/plain": [
       "[1]  4.236068 -0.236068"
      ]
     },
     "metadata": {},
     "output_type": "display_data"
    },
    {
     "data": {
      "text/html": [
       "<table>\n",
       "<caption>A matrix: 2 × 2 of type dbl</caption>\n",
       "<tbody>\n",
       "\t<tr><td>0.5257311</td><td>-0.8506508</td></tr>\n",
       "\t<tr><td>0.8506508</td><td> 0.5257311</td></tr>\n",
       "</tbody>\n",
       "</table>\n"
      ],
      "text/latex": [
       "A matrix: 2 × 2 of type dbl\n",
       "\\begin{tabular}{ll}\n",
       "\t 0.5257311 & -0.8506508\\\\\n",
       "\t 0.8506508 &  0.5257311\\\\\n",
       "\\end{tabular}\n"
      ],
      "text/markdown": [
       "\n",
       "A matrix: 2 × 2 of type dbl\n",
       "\n",
       "| 0.5257311 | -0.8506508 |\n",
       "| 0.8506508 |  0.5257311 |\n",
       "\n"
      ],
      "text/plain": [
       "     [,1]      [,2]      \n",
       "[1,] 0.5257311 -0.8506508\n",
       "[2,] 0.8506508  0.5257311"
      ]
     },
     "metadata": {},
     "output_type": "display_data"
    }
   ],
   "source": [
    "eig$values\n",
    "eig$vectors"
   ]
  },
  {
   "cell_type": "markdown",
   "metadata": {},
   "source": [
    "Aquí se ha utilizado el operador `$` para acceder a objetos internos del objeto `eig`. En particular, este operador es a veces conocido como **operador de nombre**, ya que permite hacer referencia a los *nombres* internos de una variable. Para entender con mayor claridad esto, consideremos la funci[on `names()` para enlistar los nombres de la variable `eig`:"
   ]
  },
  {
   "cell_type": "code",
   "execution_count": 7,
   "metadata": {},
   "outputs": [
    {
     "data": {
      "text/html": [
       "<style>\n",
       ".list-inline {list-style: none; margin:0; padding: 0}\n",
       ".list-inline>li {display: inline-block}\n",
       ".list-inline>li:not(:last-child)::after {content: \"\\00b7\"; padding: 0 .5ex}\n",
       "</style>\n",
       "<ol class=list-inline><li>'values'</li><li>'vectors'</li></ol>\n"
      ],
      "text/latex": [
       "\\begin{enumerate*}\n",
       "\\item 'values'\n",
       "\\item 'vectors'\n",
       "\\end{enumerate*}\n"
      ],
      "text/markdown": [
       "1. 'values'\n",
       "2. 'vectors'\n",
       "\n",
       "\n"
      ],
      "text/plain": [
       "[1] \"values\"  \"vectors\""
      ]
     },
     "metadata": {},
     "output_type": "display_data"
    }
   ],
   "source": [
    "names(eig)"
   ]
  },
  {
   "cell_type": "markdown",
   "metadata": {},
   "source": [
    "Estos son precisamente los nombres a los que hemos accesido anteriormente. Ahora, aprovechamos que tenemos los vectores propios en el interior de la variable `eig` para introducir la función `crossprod()` la cual calcula el **producto interno usual**, por pares, de una lista de vectores. "
   ]
  },
  {
   "cell_type": "code",
   "execution_count": 8,
   "metadata": {},
   "outputs": [
    {
     "data": {
      "text/html": [
       "<table>\n",
       "<caption>A matrix: 2 × 2 of type dbl</caption>\n",
       "<tbody>\n",
       "\t<tr><td>1</td><td>0</td></tr>\n",
       "\t<tr><td>0</td><td>1</td></tr>\n",
       "</tbody>\n",
       "</table>\n"
      ],
      "text/latex": [
       "A matrix: 2 × 2 of type dbl\n",
       "\\begin{tabular}{ll}\n",
       "\t 1 & 0\\\\\n",
       "\t 0 & 1\\\\\n",
       "\\end{tabular}\n"
      ],
      "text/markdown": [
       "\n",
       "A matrix: 2 × 2 of type dbl\n",
       "\n",
       "| 1 | 0 |\n",
       "| 0 | 1 |\n",
       "\n"
      ],
      "text/plain": [
       "     [,1] [,2]\n",
       "[1,] 1    0   \n",
       "[2,] 0    1   "
      ]
     },
     "metadata": {},
     "output_type": "display_data"
    }
   ],
   "source": [
    "crossprod(eig$vectors)"
   ]
  },
  {
   "cell_type": "markdown",
   "metadata": {},
   "source": [
    "Se ve que los elementos en la diagonal toman el valor de 1 (y corresponden a realizar el producto punto de cada valor propio consigo mismo, obteniendo su norma al cuadrado que sabemos que es 1) y los elementos fuera de la diagonal corresponden a números muy pequeños que bien podrían ser considerados 0. \n",
    "\n",
    "Esto es sólo una verificación de las propiedades de los vectores propios regresados por la función `eigen()`, son unitarios y ortogonales. \n",
    "\n",
    "A veces es útil poder deshacernos de cantidades tan pequeñas, que prácticamente son cero, y lo podemos lograr de la siguiente manera:"
   ]
  },
  {
   "cell_type": "code",
   "execution_count": 9,
   "metadata": {},
   "outputs": [
    {
     "data": {
      "text/html": [
       "<table>\n",
       "<caption>A matrix: 2 × 2 of type dbl</caption>\n",
       "<tbody>\n",
       "\t<tr><td>1</td><td>0</td></tr>\n",
       "\t<tr><td>0</td><td>1</td></tr>\n",
       "</tbody>\n",
       "</table>\n"
      ],
      "text/latex": [
       "A matrix: 2 × 2 of type dbl\n",
       "\\begin{tabular}{ll}\n",
       "\t 1 & 0\\\\\n",
       "\t 0 & 1\\\\\n",
       "\\end{tabular}\n"
      ],
      "text/markdown": [
       "\n",
       "A matrix: 2 × 2 of type dbl\n",
       "\n",
       "| 1 | 0 |\n",
       "| 0 | 1 |\n",
       "\n"
      ],
      "text/plain": [
       "     [,1] [,2]\n",
       "[1,] 1    0   \n",
       "[2,] 0    1   "
      ]
     },
     "metadata": {},
     "output_type": "display_data"
    }
   ],
   "source": [
    "zapsmall(crossprod(eig$vectors))"
   ]
  },
  {
   "cell_type": "markdown",
   "metadata": {},
   "source": [
    "Por supuesto, también podemos calcular determinantes:"
   ]
  },
  {
   "cell_type": "code",
   "execution_count": 10,
   "metadata": {},
   "outputs": [
    {
     "data": {
      "text/html": [
       "-1"
      ],
      "text/latex": [
       "-1"
      ],
      "text/markdown": [
       "-1"
      ],
      "text/plain": [
       "[1] -1"
      ]
     },
     "metadata": {},
     "output_type": "display_data"
    }
   ],
   "source": [
    "det(A)"
   ]
  },
  {
   "cell_type": "markdown",
   "metadata": {},
   "source": [
    "### Resolución de sistemas de ecuaciones\n",
    "En R también es muy fácil calcular inversas de matriz:"
   ]
  },
  {
   "cell_type": "code",
   "execution_count": 11,
   "metadata": {},
   "outputs": [
    {
     "data": {
      "text/html": [
       "<table>\n",
       "<caption>A matrix: 2 × 2 of type dbl</caption>\n",
       "<tbody>\n",
       "\t<tr><td>-3</td><td> 2</td></tr>\n",
       "\t<tr><td> 2</td><td>-1</td></tr>\n",
       "</tbody>\n",
       "</table>\n"
      ],
      "text/latex": [
       "A matrix: 2 × 2 of type dbl\n",
       "\\begin{tabular}{ll}\n",
       "\t -3 &  2\\\\\n",
       "\t  2 & -1\\\\\n",
       "\\end{tabular}\n"
      ],
      "text/markdown": [
       "\n",
       "A matrix: 2 × 2 of type dbl\n",
       "\n",
       "| -3 |  2 |\n",
       "|  2 | -1 |\n",
       "\n"
      ],
      "text/plain": [
       "     [,1] [,2]\n",
       "[1,] -3    2  \n",
       "[2,]  2   -1  "
      ]
     },
     "metadata": {},
     "output_type": "display_data"
    }
   ],
   "source": [
    "A_inversa <- solve(A)\n",
    "A_inversa"
   ]
  },
  {
   "cell_type": "markdown",
   "metadata": {},
   "source": [
    "Verificamos:"
   ]
  },
  {
   "cell_type": "code",
   "execution_count": 12,
   "metadata": {},
   "outputs": [
    {
     "data": {
      "text/html": [
       "<table>\n",
       "<caption>A matrix: 2 × 2 of type dbl</caption>\n",
       "<tbody>\n",
       "\t<tr><td>1</td><td>0</td></tr>\n",
       "\t<tr><td>0</td><td>1</td></tr>\n",
       "</tbody>\n",
       "</table>\n"
      ],
      "text/latex": [
       "A matrix: 2 × 2 of type dbl\n",
       "\\begin{tabular}{ll}\n",
       "\t 1 & 0\\\\\n",
       "\t 0 & 1\\\\\n",
       "\\end{tabular}\n"
      ],
      "text/markdown": [
       "\n",
       "A matrix: 2 × 2 of type dbl\n",
       "\n",
       "| 1 | 0 |\n",
       "| 0 | 1 |\n",
       "\n"
      ],
      "text/plain": [
       "     [,1] [,2]\n",
       "[1,] 1    0   \n",
       "[2,] 0    1   "
      ]
     },
     "metadata": {},
     "output_type": "display_data"
    },
    {
     "data": {
      "text/html": [
       "<table>\n",
       "<caption>A matrix: 2 × 2 of type dbl</caption>\n",
       "<tbody>\n",
       "\t<tr><td>1</td><td>0</td></tr>\n",
       "\t<tr><td>0</td><td>1</td></tr>\n",
       "</tbody>\n",
       "</table>\n"
      ],
      "text/latex": [
       "A matrix: 2 × 2 of type dbl\n",
       "\\begin{tabular}{ll}\n",
       "\t 1 & 0\\\\\n",
       "\t 0 & 1\\\\\n",
       "\\end{tabular}\n"
      ],
      "text/markdown": [
       "\n",
       "A matrix: 2 × 2 of type dbl\n",
       "\n",
       "| 1 | 0 |\n",
       "| 0 | 1 |\n",
       "\n"
      ],
      "text/plain": [
       "     [,1] [,2]\n",
       "[1,] 1    0   \n",
       "[2,] 0    1   "
      ]
     },
     "metadata": {},
     "output_type": "display_data"
    }
   ],
   "source": [
    "A_inversa%*%A\n",
    "A%*%A_inversa"
   ]
  },
  {
   "cell_type": "markdown",
   "metadata": {},
   "source": [
    "Recordemos que todas estas operaciones son realizadas por R llamando códigos optimizados de librerías de álgebra lineal en C o en Fortran. Por ello, es importante conocer (y utilizar) las funciones ya asignadas para cada labor.\n",
    "\n",
    "Consideremos ahora la siguiente matriz aleatoria:"
   ]
  },
  {
   "cell_type": "code",
   "execution_count": 13,
   "metadata": {},
   "outputs": [],
   "source": [
    "n <- 2000\n",
    "MatNorm <- matrix(rnorm(n*n, mean = 10, sd = 4), nrow = n, ncol = n)"
   ]
  },
  {
   "cell_type": "code",
   "execution_count": 14,
   "metadata": {
    "scrolled": true
   },
   "outputs": [
    {
     "data": {
      "text/html": [
       "<table>\n",
       "<caption>A matrix: 2000 × 2000 of type dbl</caption>\n",
       "<tbody>\n",
       "\t<tr><td> 7.687873</td><td>12.1920982</td><td> 5.512654</td><td>11.4344003</td><td>19.8264002</td><td> 4.446502</td><td> 9.260482</td><td>13.3121085</td><td>10.744280</td><td>11.8922811</td><td>⋯</td><td>14.927303</td><td> 7.761441</td><td> 7.239293</td><td> 8.167824</td><td>13.151298</td><td> 6.194997</td><td>12.0497028</td><td>11.5687859</td><td> 7.194965</td><td> 8.9340252</td></tr>\n",
       "\t<tr><td>18.503566</td><td>11.6861994</td><td>11.676320</td><td> 6.2781474</td><td> 5.2894329</td><td>12.125431</td><td>11.261661</td><td>15.6375725</td><td>11.136238</td><td>11.3329627</td><td>⋯</td><td> 9.090321</td><td>13.628204</td><td>11.130596</td><td>10.586455</td><td>10.701363</td><td> 6.145600</td><td> 9.7539135</td><td>12.2907290</td><td>10.403223</td><td> 6.8093390</td></tr>\n",
       "\t<tr><td> 9.455332</td><td>13.5412954</td><td>15.351449</td><td> 8.0608798</td><td> 1.8741197</td><td>12.248893</td><td>17.489003</td><td>13.6780604</td><td> 7.229572</td><td>12.2757147</td><td>⋯</td><td> 6.545973</td><td>11.495756</td><td> 6.034343</td><td> 7.812939</td><td>12.030099</td><td>11.563523</td><td> 9.4935359</td><td>18.3543050</td><td>14.937409</td><td> 8.1620593</td></tr>\n",
       "\t<tr><td> 7.851702</td><td>20.2180036</td><td>13.098582</td><td> 6.2557430</td><td>10.7111070</td><td>14.433079</td><td> 6.648086</td><td>12.0563282</td><td> 6.044242</td><td> 9.2237024</td><td>⋯</td><td> 9.817449</td><td> 8.181637</td><td> 5.917555</td><td>10.147069</td><td> 9.668293</td><td> 9.672510</td><td> 3.7191108</td><td>10.5344491</td><td>16.477503</td><td>19.1268611</td></tr>\n",
       "\t<tr><td>11.759881</td><td> 9.3707937</td><td>13.712998</td><td> 7.5964085</td><td> 9.4717311</td><td>12.153248</td><td> 5.348172</td><td> 3.1322507</td><td> 9.036996</td><td> 8.0580927</td><td>⋯</td><td>10.544913</td><td>13.170033</td><td>14.199582</td><td> 9.738530</td><td> 5.700553</td><td> 6.691812</td><td> 4.0398145</td><td> 8.9878782</td><td>14.014813</td><td>10.4472829</td></tr>\n",
       "\t<tr><td>10.174179</td><td>14.3328771</td><td> 7.011041</td><td>16.1796237</td><td>12.0869096</td><td>12.927144</td><td>15.190659</td><td>15.7822423</td><td>11.172354</td><td>12.2445247</td><td>⋯</td><td>12.995545</td><td> 5.998408</td><td> 6.282599</td><td> 4.789194</td><td> 9.347627</td><td>20.326230</td><td> 5.3759599</td><td>16.6788804</td><td> 7.742613</td><td>15.6953263</td></tr>\n",
       "\t<tr><td>17.393629</td><td> 3.8487542</td><td>10.236791</td><td> 8.5355761</td><td>11.1672835</td><td> 9.772290</td><td>11.630889</td><td> 8.5597171</td><td>10.756870</td><td> 9.4591236</td><td>⋯</td><td>10.365670</td><td> 9.397100</td><td> 4.798493</td><td> 8.909583</td><td> 8.748524</td><td>-3.012737</td><td>10.4658034</td><td>12.8266460</td><td> 8.549616</td><td>14.1547507</td></tr>\n",
       "\t<tr><td> 8.138950</td><td> 0.1188237</td><td> 9.210748</td><td>10.0826688</td><td>17.5120276</td><td> 7.765741</td><td>13.476205</td><td>10.6745399</td><td>11.157751</td><td> 4.5700871</td><td>⋯</td><td>11.267914</td><td> 4.654623</td><td>14.613204</td><td> 8.554618</td><td>11.196942</td><td>13.709020</td><td> 9.2242252</td><td>11.8940849</td><td>13.053163</td><td>11.9200417</td></tr>\n",
       "\t<tr><td> 8.156875</td><td>15.0465092</td><td> 8.464266</td><td>14.4097484</td><td>11.5619236</td><td> 5.643583</td><td> 9.081497</td><td>15.2931719</td><td>15.063551</td><td> 7.8525078</td><td>⋯</td><td>18.535945</td><td>11.952810</td><td> 8.798268</td><td> 7.524930</td><td>10.732712</td><td>-3.467104</td><td>17.0520450</td><td>14.4736540</td><td> 4.169313</td><td>13.5920117</td></tr>\n",
       "\t<tr><td> 8.774483</td><td> 2.4726283</td><td>12.740655</td><td> 8.6684194</td><td> 0.8374797</td><td> 4.246995</td><td> 9.607416</td><td>11.9328053</td><td>16.464865</td><td>12.3308810</td><td>⋯</td><td> 6.556751</td><td>14.026541</td><td> 2.120194</td><td>16.946849</td><td>10.573797</td><td>10.671311</td><td>15.9213626</td><td> 3.8403288</td><td>10.685400</td><td>10.0787734</td></tr>\n",
       "\t<tr><td>10.328666</td><td> 9.4419217</td><td>11.823478</td><td> 8.1127637</td><td>14.4104994</td><td>10.717365</td><td> 5.799274</td><td> 8.9198155</td><td>10.016382</td><td>18.3674137</td><td>⋯</td><td>11.021343</td><td> 8.028079</td><td>12.813544</td><td>11.408069</td><td> 5.217266</td><td> 9.929637</td><td>12.2531251</td><td> 6.6811524</td><td> 2.448014</td><td> 8.7659482</td></tr>\n",
       "\t<tr><td>14.067799</td><td> 7.3724100</td><td> 8.672136</td><td> 0.7216661</td><td> 9.7845133</td><td> 7.900636</td><td> 7.703985</td><td> 7.8098636</td><td> 3.531849</td><td> 0.9958448</td><td>⋯</td><td>13.165634</td><td> 6.180286</td><td>12.379103</td><td> 3.026415</td><td>13.558476</td><td> 8.640350</td><td>16.2399166</td><td>12.7827174</td><td> 8.724524</td><td> 4.9646274</td></tr>\n",
       "\t<tr><td> 7.956189</td><td>11.8612772</td><td>11.240169</td><td>11.7116321</td><td>11.2541539</td><td> 5.534969</td><td>17.503009</td><td> 3.5992269</td><td> 2.911456</td><td> 8.2892121</td><td>⋯</td><td>17.225236</td><td> 8.556031</td><td>13.600292</td><td> 6.271506</td><td>18.033225</td><td> 8.987618</td><td> 8.4885952</td><td>15.3943602</td><td> 8.034022</td><td> 9.5565997</td></tr>\n",
       "\t<tr><td>13.445799</td><td> 9.9636924</td><td> 6.779932</td><td>10.3665123</td><td> 8.2585421</td><td>17.083521</td><td>12.918847</td><td> 1.5105229</td><td>13.315365</td><td> 5.0890890</td><td>⋯</td><td> 5.505911</td><td>11.069814</td><td> 5.817019</td><td>12.782663</td><td>12.107923</td><td> 8.895058</td><td> 9.2171402</td><td> 7.8015543</td><td>12.988936</td><td>10.8123641</td></tr>\n",
       "\t<tr><td> 8.871231</td><td> 6.3355092</td><td>12.001244</td><td> 8.8409723</td><td> 7.7878106</td><td>14.520852</td><td> 6.430957</td><td>15.3729217</td><td>13.702774</td><td> 6.3720796</td><td>⋯</td><td> 6.631174</td><td> 7.176327</td><td> 9.795313</td><td>11.413272</td><td>11.317615</td><td> 8.333705</td><td>16.5496908</td><td>12.7917973</td><td>18.065527</td><td>10.6605718</td></tr>\n",
       "\t<tr><td>13.017093</td><td>10.7625051</td><td> 8.225018</td><td> 7.5533717</td><td> 7.2385823</td><td> 6.003409</td><td> 9.354472</td><td>20.4787728</td><td>14.517434</td><td>14.7827742</td><td>⋯</td><td> 9.349664</td><td>14.812688</td><td>11.143807</td><td> 7.054087</td><td> 7.635398</td><td> 7.634297</td><td>13.6600786</td><td> 2.2486775</td><td> 4.103971</td><td> 0.2782809</td></tr>\n",
       "\t<tr><td> 6.100091</td><td>16.8943168</td><td>16.385222</td><td>14.5245964</td><td>11.1873749</td><td> 7.860325</td><td>13.478787</td><td> 0.3809815</td><td> 6.236959</td><td>13.0929633</td><td>⋯</td><td> 5.477088</td><td> 6.046897</td><td>10.524536</td><td> 6.920995</td><td>13.187274</td><td>10.095003</td><td>16.2168839</td><td> 8.9879170</td><td>13.381814</td><td> 7.6254560</td></tr>\n",
       "\t<tr><td>18.513658</td><td> 7.9830251</td><td>10.148532</td><td> 9.6794783</td><td>11.4301180</td><td> 3.508605</td><td> 9.272770</td><td> 9.9149560</td><td> 8.073985</td><td> 2.5429673</td><td>⋯</td><td>15.476795</td><td>11.570030</td><td> 3.417950</td><td> 4.482231</td><td>19.656844</td><td> 8.458803</td><td> 6.7160401</td><td> 2.9429114</td><td> 3.433408</td><td> 6.8735634</td></tr>\n",
       "\t<tr><td> 5.852166</td><td> 9.7713901</td><td> 9.574253</td><td> 7.7406148</td><td>16.2417050</td><td>12.628962</td><td> 7.513512</td><td>14.4034825</td><td>13.500907</td><td> 9.5442435</td><td>⋯</td><td>16.436898</td><td>16.393106</td><td>11.857135</td><td>10.679764</td><td> 9.882449</td><td>11.647823</td><td> 6.1493834</td><td>13.7290222</td><td>16.768370</td><td> 9.2580755</td></tr>\n",
       "\t<tr><td>13.642919</td><td>15.3050930</td><td>13.383236</td><td>15.1295428</td><td>13.0910299</td><td> 8.599886</td><td> 4.113841</td><td>16.1617112</td><td>13.193780</td><td> 6.4206968</td><td>⋯</td><td> 4.299862</td><td>11.051396</td><td> 8.498012</td><td>13.990188</td><td>12.282829</td><td>12.090766</td><td> 0.6623183</td><td> 9.8603694</td><td> 8.344271</td><td> 1.2255416</td></tr>\n",
       "\t<tr><td>12.909990</td><td>12.9099520</td><td>11.124317</td><td>10.9800977</td><td> 9.9797291</td><td>14.705840</td><td> 8.199924</td><td>11.0498875</td><td> 6.033543</td><td>13.5705852</td><td>⋯</td><td>10.816347</td><td>10.324184</td><td> 8.724907</td><td> 8.432775</td><td> 2.070401</td><td>17.023147</td><td> 8.8579024</td><td>12.3699591</td><td> 8.846481</td><td> 2.9278788</td></tr>\n",
       "\t<tr><td> 7.234652</td><td> 9.8625077</td><td>11.027460</td><td>12.0694193</td><td> 9.3996296</td><td> 8.090872</td><td> 6.407956</td><td>12.3838386</td><td>10.836818</td><td> 7.4466271</td><td>⋯</td><td>10.466196</td><td> 9.072466</td><td> 5.120466</td><td> 7.048963</td><td>12.326252</td><td> 8.712362</td><td> 5.3242371</td><td>11.3132415</td><td>10.285216</td><td>12.0178315</td></tr>\n",
       "\t<tr><td> 7.305426</td><td> 6.4949450</td><td> 8.986339</td><td> 3.5317046</td><td> 8.6931407</td><td>17.176677</td><td>16.969189</td><td> 3.6776993</td><td>13.814469</td><td> 8.7032284</td><td>⋯</td><td> 6.835225</td><td> 7.231210</td><td> 8.797739</td><td> 5.403389</td><td>16.737670</td><td>10.622747</td><td>11.7492071</td><td> 1.8142290</td><td> 6.377776</td><td>11.9789188</td></tr>\n",
       "\t<tr><td> 9.509750</td><td> 7.8404097</td><td> 6.274294</td><td> 8.5715107</td><td>16.1182070</td><td>11.987028</td><td>10.405253</td><td>13.0749193</td><td>13.710038</td><td>14.3417249</td><td>⋯</td><td> 7.512069</td><td> 6.213231</td><td>13.514648</td><td> 8.277796</td><td>15.767692</td><td> 7.057573</td><td>10.2289211</td><td>15.7801425</td><td>15.175525</td><td>15.7301429</td></tr>\n",
       "\t<tr><td>15.407687</td><td>11.0372319</td><td>16.829179</td><td> 8.5215294</td><td>10.2467019</td><td> 9.160177</td><td>13.553047</td><td> 3.4704235</td><td> 7.052687</td><td> 9.2102654</td><td>⋯</td><td>10.812920</td><td>15.584488</td><td>10.489876</td><td> 9.864758</td><td> 8.292686</td><td> 2.485175</td><td>10.0972472</td><td> 0.5734615</td><td> 3.490126</td><td>15.1402370</td></tr>\n",
       "\t<tr><td>11.837156</td><td> 8.8567265</td><td> 7.471415</td><td> 6.6118270</td><td>12.5924342</td><td>12.313083</td><td>15.145538</td><td>10.8553717</td><td> 8.382783</td><td>18.0277211</td><td>⋯</td><td> 8.785337</td><td> 6.565680</td><td>12.510035</td><td>12.066602</td><td> 6.151790</td><td>12.495307</td><td> 5.4804171</td><td>17.9516969</td><td>12.991395</td><td>16.2261613</td></tr>\n",
       "\t<tr><td>10.349749</td><td>15.3147357</td><td> 7.533089</td><td> 8.6043549</td><td> 9.1051963</td><td> 4.223060</td><td> 2.964743</td><td>11.0483567</td><td> 5.076368</td><td> 7.5506156</td><td>⋯</td><td>12.808987</td><td> 7.466860</td><td>17.108187</td><td>13.341278</td><td>14.905412</td><td>12.270376</td><td>16.7880201</td><td>13.8612112</td><td> 7.115264</td><td>11.3211923</td></tr>\n",
       "\t<tr><td>11.183145</td><td>14.5241152</td><td>18.396039</td><td>13.5505704</td><td> 3.6896646</td><td> 1.081795</td><td> 9.073025</td><td>13.9739637</td><td>11.556480</td><td>10.3110113</td><td>⋯</td><td>10.493258</td><td> 5.228933</td><td>12.980289</td><td>12.523409</td><td> 8.006980</td><td>10.553832</td><td> 5.3203474</td><td>13.1834906</td><td> 8.425339</td><td> 6.1700955</td></tr>\n",
       "\t<tr><td> 7.981568</td><td>13.1116511</td><td>13.472691</td><td> 7.2356240</td><td>16.1483096</td><td>18.025147</td><td>17.532723</td><td> 8.2598032</td><td>13.002207</td><td>12.5448464</td><td>⋯</td><td> 6.526044</td><td> 9.566086</td><td>12.364936</td><td> 5.877261</td><td>14.777057</td><td> 7.958816</td><td> 8.0925999</td><td>11.0837219</td><td> 6.844583</td><td>10.9672236</td></tr>\n",
       "\t<tr><td>13.111212</td><td>13.3025286</td><td>15.510758</td><td>13.5270241</td><td>17.9441088</td><td>14.141273</td><td>10.900819</td><td> 7.3152356</td><td> 4.367561</td><td> 6.9012364</td><td>⋯</td><td> 0.806213</td><td> 9.153077</td><td>12.208102</td><td>11.762781</td><td> 1.967882</td><td> 7.135103</td><td> 6.5551081</td><td>15.4693522</td><td> 2.467580</td><td> 1.0847833</td></tr>\n",
       "\t<tr><td>⋮</td><td>⋮</td><td>⋮</td><td>⋮</td><td>⋮</td><td>⋮</td><td>⋮</td><td>⋮</td><td>⋮</td><td>⋮</td><td>⋱</td><td>⋮</td><td>⋮</td><td>⋮</td><td>⋮</td><td>⋮</td><td>⋮</td><td>⋮</td><td>⋮</td><td>⋮</td><td>⋮</td></tr>\n",
       "\t<tr><td>13.6010478</td><td> 9.9545650</td><td> 9.219208</td><td>13.546055</td><td> 6.534337</td><td>13.8298326</td><td>15.642895</td><td>14.034698</td><td> 8.891070</td><td> 7.554070</td><td>⋯</td><td> 7.126349</td><td> 8.546560</td><td>12.259187</td><td> 6.284560</td><td> 3.236068</td><td>13.7542648</td><td>10.433579</td><td> 8.139587</td><td> 8.108156</td><td>16.0421501</td></tr>\n",
       "\t<tr><td>19.0623548</td><td> 5.0434531</td><td>12.702693</td><td> 9.659422</td><td> 9.219359</td><td> 6.2512453</td><td>12.931255</td><td> 8.383704</td><td>15.450150</td><td>12.895485</td><td>⋯</td><td> 9.896733</td><td> 7.718483</td><td> 9.523056</td><td>16.910528</td><td>12.082846</td><td>11.3980692</td><td> 7.610943</td><td> 6.521394</td><td>10.955301</td><td>13.3414607</td></tr>\n",
       "\t<tr><td>11.8453990</td><td>14.7135604</td><td> 7.885082</td><td>18.993112</td><td> 9.438164</td><td> 6.3772786</td><td>15.070556</td><td> 5.566768</td><td> 2.903642</td><td> 8.357085</td><td>⋯</td><td> 9.910471</td><td> 5.310539</td><td> 8.710284</td><td> 5.593678</td><td>10.417992</td><td> 6.0850107</td><td>12.481123</td><td> 1.176891</td><td> 4.510363</td><td>15.1101077</td></tr>\n",
       "\t<tr><td>12.0005362</td><td>12.7802018</td><td>11.854652</td><td> 7.789726</td><td> 3.369392</td><td>15.1545309</td><td>18.762736</td><td> 4.800362</td><td>11.097110</td><td> 9.191025</td><td>⋯</td><td>13.006001</td><td> 6.131225</td><td>12.929961</td><td> 6.908405</td><td> 9.122661</td><td> 8.9255641</td><td>11.053703</td><td> 8.531838</td><td> 8.610244</td><td> 7.2570826</td></tr>\n",
       "\t<tr><td>16.5061724</td><td>18.4352066</td><td> 9.232104</td><td>12.363408</td><td>12.492606</td><td> 9.8870945</td><td> 8.591597</td><td>10.597309</td><td> 7.314416</td><td> 7.970338</td><td>⋯</td><td>14.802311</td><td> 7.057482</td><td>13.689780</td><td> 7.143255</td><td> 7.143744</td><td>20.5645553</td><td> 8.638693</td><td> 5.273788</td><td>13.613493</td><td> 9.1873922</td></tr>\n",
       "\t<tr><td> 2.1788554</td><td> 7.3318010</td><td> 7.175127</td><td>11.619894</td><td>13.606673</td><td>13.4893559</td><td>14.466721</td><td>11.151308</td><td>11.844396</td><td> 8.607740</td><td>⋯</td><td>15.927080</td><td>10.898372</td><td> 9.710920</td><td> 5.517264</td><td>14.114760</td><td> 1.3585538</td><td>17.447279</td><td>13.558193</td><td>12.137589</td><td>10.6994895</td></tr>\n",
       "\t<tr><td>13.7593657</td><td>19.5539527</td><td> 6.634235</td><td>18.188023</td><td> 9.607719</td><td>11.7896649</td><td>14.564133</td><td> 9.541351</td><td>10.225774</td><td>11.203505</td><td>⋯</td><td>18.749462</td><td>12.811701</td><td> 9.311505</td><td>11.611538</td><td>11.639289</td><td>10.4188830</td><td> 4.294760</td><td>11.993213</td><td> 8.352706</td><td> 7.8386992</td></tr>\n",
       "\t<tr><td>11.3477297</td><td>10.4322171</td><td>11.656039</td><td> 9.688368</td><td>24.367611</td><td>14.2873469</td><td> 8.870196</td><td>10.899691</td><td>12.065077</td><td>12.957434</td><td>⋯</td><td>13.649706</td><td>10.792396</td><td> 9.495014</td><td> 8.028184</td><td> 7.299843</td><td> 6.7838537</td><td> 4.706493</td><td>13.059826</td><td> 6.242665</td><td> 8.1765623</td></tr>\n",
       "\t<tr><td>18.3372796</td><td> 7.5372222</td><td> 9.760791</td><td> 6.978490</td><td>11.556772</td><td> 1.2672583</td><td>10.526800</td><td> 8.876122</td><td>14.735174</td><td> 7.033220</td><td>⋯</td><td>12.883777</td><td>11.262709</td><td>16.597803</td><td> 6.985112</td><td>12.905891</td><td>14.4364085</td><td>11.072656</td><td> 7.347770</td><td> 5.666210</td><td> 7.9369226</td></tr>\n",
       "\t<tr><td> 5.6528211</td><td>12.2755346</td><td> 7.143526</td><td>14.723973</td><td> 7.447494</td><td> 6.4745735</td><td>10.495963</td><td>10.029969</td><td> 1.616784</td><td> 2.973906</td><td>⋯</td><td> 8.254853</td><td> 9.419750</td><td> 4.999100</td><td>11.910409</td><td>14.885012</td><td>-1.3944107</td><td>15.866309</td><td>14.530927</td><td>14.485506</td><td>11.6459222</td></tr>\n",
       "\t<tr><td> 6.9432175</td><td>16.8889384</td><td> 7.595332</td><td>12.961210</td><td> 9.132343</td><td> 7.0567145</td><td> 7.952253</td><td>14.845329</td><td> 5.312264</td><td>13.667988</td><td>⋯</td><td>10.995846</td><td> 8.530085</td><td>10.191120</td><td> 4.225064</td><td>17.650366</td><td>13.3884861</td><td> 8.215464</td><td>10.251318</td><td>16.374104</td><td> 6.6392267</td></tr>\n",
       "\t<tr><td> 9.7317034</td><td> 5.7198956</td><td> 6.272667</td><td> 7.018809</td><td>11.042556</td><td>14.2220875</td><td> 7.249083</td><td> 4.945572</td><td>10.548469</td><td>10.653829</td><td>⋯</td><td> 7.819843</td><td>14.964158</td><td> 8.072002</td><td> 7.826341</td><td> 9.194398</td><td> 0.7634686</td><td> 9.138354</td><td>13.097656</td><td> 7.443080</td><td>11.1208528</td></tr>\n",
       "\t<tr><td>14.7016342</td><td> 4.6072605</td><td>14.927354</td><td>14.287696</td><td> 9.369733</td><td>13.6602260</td><td>16.248514</td><td> 8.607130</td><td>13.585611</td><td>16.253180</td><td>⋯</td><td> 9.680346</td><td>11.538730</td><td> 9.238875</td><td> 8.175445</td><td>10.097661</td><td> 8.3828787</td><td>11.974327</td><td> 6.272739</td><td>14.625824</td><td> 9.7174604</td></tr>\n",
       "\t<tr><td> 4.3228520</td><td> 7.2989301</td><td>13.387964</td><td>11.036680</td><td> 7.452957</td><td>12.2735026</td><td> 9.994776</td><td>13.236056</td><td>13.686025</td><td> 6.734123</td><td>⋯</td><td> 6.207643</td><td> 7.828896</td><td>10.819901</td><td> 9.818385</td><td>13.964561</td><td>12.3936796</td><td> 7.565681</td><td> 9.374864</td><td> 2.984813</td><td> 5.8151625</td></tr>\n",
       "\t<tr><td> 2.2697992</td><td> 6.0970746</td><td>10.001521</td><td> 0.865036</td><td> 8.798166</td><td> 6.4914087</td><td> 5.500044</td><td>13.023720</td><td> 9.777887</td><td> 7.281955</td><td>⋯</td><td>14.736245</td><td>11.670282</td><td> 7.024117</td><td>14.453166</td><td> 8.813358</td><td> 8.3717060</td><td>13.473430</td><td>10.679987</td><td>14.908699</td><td>11.9943911</td></tr>\n",
       "\t<tr><td> 0.8454744</td><td>10.9776611</td><td>14.394873</td><td> 4.467400</td><td> 5.834625</td><td> 6.0444385</td><td>10.941621</td><td>14.441717</td><td> 7.863200</td><td>12.782170</td><td>⋯</td><td>11.718742</td><td>11.624468</td><td> 8.375909</td><td>15.900897</td><td> 3.962395</td><td>14.5725256</td><td>15.800261</td><td>13.825373</td><td>11.648855</td><td> 6.8718429</td></tr>\n",
       "\t<tr><td> 5.7433236</td><td>10.5074174</td><td> 5.837190</td><td> 7.026152</td><td> 6.342301</td><td> 9.8126363</td><td> 7.347921</td><td> 2.740850</td><td> 9.200052</td><td>11.124421</td><td>⋯</td><td>15.983782</td><td>14.610728</td><td>14.265250</td><td>11.111710</td><td> 8.950644</td><td>17.4124623</td><td> 5.448688</td><td> 8.242344</td><td>12.799499</td><td> 2.7848168</td></tr>\n",
       "\t<tr><td>16.0617349</td><td> 9.7726514</td><td> 7.143359</td><td> 9.413924</td><td>14.532348</td><td> 3.1951688</td><td> 5.633432</td><td> 7.875961</td><td> 8.404376</td><td> 5.231235</td><td>⋯</td><td> 7.115787</td><td> 9.933158</td><td> 9.386103</td><td> 8.581579</td><td> 7.793567</td><td> 9.5339090</td><td> 6.535299</td><td>10.642382</td><td> 3.704274</td><td>11.8381987</td></tr>\n",
       "\t<tr><td>13.0758689</td><td>10.6277858</td><td> 9.215714</td><td>12.289201</td><td>13.930451</td><td> 0.8290686</td><td>16.184317</td><td> 8.574274</td><td> 8.061629</td><td>11.044667</td><td>⋯</td><td>11.495159</td><td> 7.283739</td><td> 6.371374</td><td>16.074982</td><td>10.834844</td><td> 1.7545488</td><td>17.584133</td><td>13.106055</td><td> 9.066983</td><td>10.8351112</td></tr>\n",
       "\t<tr><td>14.6659658</td><td>12.5047912</td><td>14.603359</td><td>16.187090</td><td> 9.354687</td><td>10.1168744</td><td>10.322059</td><td> 4.115289</td><td> 8.930954</td><td>11.924921</td><td>⋯</td><td> 8.413069</td><td> 8.421240</td><td> 2.146758</td><td>12.911085</td><td> 4.583517</td><td>11.5266426</td><td> 4.779032</td><td> 6.416830</td><td> 4.053678</td><td> 5.9187228</td></tr>\n",
       "\t<tr><td>17.5190934</td><td> 9.5992931</td><td> 6.956546</td><td> 7.985018</td><td> 8.910991</td><td>13.4624465</td><td>14.340903</td><td> 9.857609</td><td> 4.575640</td><td>12.961245</td><td>⋯</td><td>12.269976</td><td>13.213590</td><td> 9.088102</td><td>11.067082</td><td> 5.521036</td><td> 9.6949129</td><td> 9.236513</td><td> 8.374849</td><td> 5.426915</td><td>13.0395931</td></tr>\n",
       "\t<tr><td> 6.0804904</td><td>13.2097168</td><td>12.363375</td><td> 9.962162</td><td>13.633416</td><td>10.2501564</td><td>11.289379</td><td> 9.905273</td><td>12.051338</td><td> 4.505346</td><td>⋯</td><td> 8.959580</td><td>20.334956</td><td> 9.279376</td><td> 9.312248</td><td>14.623396</td><td> 8.5068042</td><td>13.824481</td><td>-3.181155</td><td> 8.329285</td><td> 9.9404758</td></tr>\n",
       "\t<tr><td>17.9516036</td><td>10.4611078</td><td> 9.771396</td><td> 5.241842</td><td> 8.578368</td><td>12.5893486</td><td>10.558265</td><td> 5.380162</td><td>10.542091</td><td>14.874478</td><td>⋯</td><td>14.477853</td><td>11.634907</td><td> 8.352554</td><td>12.495309</td><td>12.966099</td><td> 2.5462362</td><td> 5.745391</td><td> 6.215690</td><td>16.153081</td><td>15.5414551</td></tr>\n",
       "\t<tr><td>13.4172013</td><td> 9.6285345</td><td> 4.960144</td><td> 8.070804</td><td>16.542495</td><td>10.2812834</td><td>19.488235</td><td>12.647423</td><td> 8.010261</td><td> 5.516292</td><td>⋯</td><td>10.394373</td><td>16.612991</td><td>16.931193</td><td> 4.551468</td><td> 4.820577</td><td> 2.4377507</td><td>12.342321</td><td>10.496890</td><td>17.086052</td><td>11.2628385</td></tr>\n",
       "\t<tr><td>13.4792999</td><td> 7.5238982</td><td>11.063726</td><td> 8.584306</td><td>10.497388</td><td> 7.5750167</td><td>11.864079</td><td>16.316722</td><td> 8.912769</td><td>13.857430</td><td>⋯</td><td>12.583600</td><td> 9.982400</td><td>14.645846</td><td> 8.360675</td><td>13.069278</td><td>17.6061854</td><td>13.594458</td><td> 7.184753</td><td>12.934882</td><td>11.1345632</td></tr>\n",
       "\t<tr><td>10.9694727</td><td> 0.8169286</td><td> 6.467553</td><td> 7.327629</td><td>15.339409</td><td>13.8414454</td><td>13.212946</td><td> 6.719780</td><td> 9.897041</td><td> 2.597281</td><td>⋯</td><td> 7.342641</td><td>12.223786</td><td>12.414558</td><td> 8.657981</td><td> 5.297387</td><td> 7.0836792</td><td>12.974499</td><td> 8.465437</td><td> 8.248589</td><td> 0.9901659</td></tr>\n",
       "\t<tr><td> 8.2432525</td><td> 8.2334650</td><td>10.948438</td><td>18.776501</td><td>12.612390</td><td> 1.9722614</td><td>12.344144</td><td>16.339623</td><td> 4.828312</td><td>10.620193</td><td>⋯</td><td> 5.573043</td><td> 6.327394</td><td> 7.665509</td><td> 3.595374</td><td>12.233081</td><td> 8.1489075</td><td>18.666073</td><td>15.839155</td><td>11.727635</td><td>18.3357447</td></tr>\n",
       "\t<tr><td> 2.4590397</td><td>11.0684018</td><td>14.576365</td><td>13.141391</td><td>16.562964</td><td>10.7992674</td><td>11.462102</td><td>12.478273</td><td>21.058359</td><td>10.400347</td><td>⋯</td><td> 9.683577</td><td> 6.522439</td><td>10.059764</td><td>14.358887</td><td>12.932492</td><td> 8.6068171</td><td> 5.069658</td><td>10.727305</td><td> 8.681383</td><td>13.5306468</td></tr>\n",
       "\t<tr><td>10.1678501</td><td>14.9576269</td><td>12.078908</td><td> 8.952811</td><td> 2.344555</td><td> 7.0586607</td><td>14.913937</td><td>10.545377</td><td> 9.866655</td><td> 7.362296</td><td>⋯</td><td> 2.176956</td><td> 1.498018</td><td>12.983349</td><td>12.130454</td><td>11.086450</td><td>10.2621778</td><td> 8.999970</td><td> 4.374307</td><td>12.703609</td><td>11.4411589</td></tr>\n",
       "\t<tr><td> 5.8278120</td><td>10.3937957</td><td> 7.299769</td><td>14.620322</td><td> 8.600080</td><td>11.8772736</td><td> 8.016795</td><td>14.288267</td><td>10.011656</td><td>14.918114</td><td>⋯</td><td>15.051126</td><td>14.495259</td><td>12.556529</td><td>12.918019</td><td> 4.082263</td><td> 8.8413674</td><td>11.591592</td><td> 9.121509</td><td>13.829866</td><td> 9.3921713</td></tr>\n",
       "</tbody>\n",
       "</table>\n"
      ],
      "text/latex": [
       "A matrix: 2000 × 2000 of type dbl\n",
       "\\begin{tabular}{lllllllllllllllllllll}\n",
       "\t  7.687873 & 12.1920982 &  5.512654 & 11.4344003 & 19.8264002 &  4.446502 &  9.260482 & 13.3121085 & 10.744280 & 11.8922811 & ⋯ & 14.927303 &  7.761441 &  7.239293 &  8.167824 & 13.151298 &  6.194997 & 12.0497028 & 11.5687859 &  7.194965 &  8.9340252\\\\\n",
       "\t 18.503566 & 11.6861994 & 11.676320 &  6.2781474 &  5.2894329 & 12.125431 & 11.261661 & 15.6375725 & 11.136238 & 11.3329627 & ⋯ &  9.090321 & 13.628204 & 11.130596 & 10.586455 & 10.701363 &  6.145600 &  9.7539135 & 12.2907290 & 10.403223 &  6.8093390\\\\\n",
       "\t  9.455332 & 13.5412954 & 15.351449 &  8.0608798 &  1.8741197 & 12.248893 & 17.489003 & 13.6780604 &  7.229572 & 12.2757147 & ⋯ &  6.545973 & 11.495756 &  6.034343 &  7.812939 & 12.030099 & 11.563523 &  9.4935359 & 18.3543050 & 14.937409 &  8.1620593\\\\\n",
       "\t  7.851702 & 20.2180036 & 13.098582 &  6.2557430 & 10.7111070 & 14.433079 &  6.648086 & 12.0563282 &  6.044242 &  9.2237024 & ⋯ &  9.817449 &  8.181637 &  5.917555 & 10.147069 &  9.668293 &  9.672510 &  3.7191108 & 10.5344491 & 16.477503 & 19.1268611\\\\\n",
       "\t 11.759881 &  9.3707937 & 13.712998 &  7.5964085 &  9.4717311 & 12.153248 &  5.348172 &  3.1322507 &  9.036996 &  8.0580927 & ⋯ & 10.544913 & 13.170033 & 14.199582 &  9.738530 &  5.700553 &  6.691812 &  4.0398145 &  8.9878782 & 14.014813 & 10.4472829\\\\\n",
       "\t 10.174179 & 14.3328771 &  7.011041 & 16.1796237 & 12.0869096 & 12.927144 & 15.190659 & 15.7822423 & 11.172354 & 12.2445247 & ⋯ & 12.995545 &  5.998408 &  6.282599 &  4.789194 &  9.347627 & 20.326230 &  5.3759599 & 16.6788804 &  7.742613 & 15.6953263\\\\\n",
       "\t 17.393629 &  3.8487542 & 10.236791 &  8.5355761 & 11.1672835 &  9.772290 & 11.630889 &  8.5597171 & 10.756870 &  9.4591236 & ⋯ & 10.365670 &  9.397100 &  4.798493 &  8.909583 &  8.748524 & -3.012737 & 10.4658034 & 12.8266460 &  8.549616 & 14.1547507\\\\\n",
       "\t  8.138950 &  0.1188237 &  9.210748 & 10.0826688 & 17.5120276 &  7.765741 & 13.476205 & 10.6745399 & 11.157751 &  4.5700871 & ⋯ & 11.267914 &  4.654623 & 14.613204 &  8.554618 & 11.196942 & 13.709020 &  9.2242252 & 11.8940849 & 13.053163 & 11.9200417\\\\\n",
       "\t  8.156875 & 15.0465092 &  8.464266 & 14.4097484 & 11.5619236 &  5.643583 &  9.081497 & 15.2931719 & 15.063551 &  7.8525078 & ⋯ & 18.535945 & 11.952810 &  8.798268 &  7.524930 & 10.732712 & -3.467104 & 17.0520450 & 14.4736540 &  4.169313 & 13.5920117\\\\\n",
       "\t  8.774483 &  2.4726283 & 12.740655 &  8.6684194 &  0.8374797 &  4.246995 &  9.607416 & 11.9328053 & 16.464865 & 12.3308810 & ⋯ &  6.556751 & 14.026541 &  2.120194 & 16.946849 & 10.573797 & 10.671311 & 15.9213626 &  3.8403288 & 10.685400 & 10.0787734\\\\\n",
       "\t 10.328666 &  9.4419217 & 11.823478 &  8.1127637 & 14.4104994 & 10.717365 &  5.799274 &  8.9198155 & 10.016382 & 18.3674137 & ⋯ & 11.021343 &  8.028079 & 12.813544 & 11.408069 &  5.217266 &  9.929637 & 12.2531251 &  6.6811524 &  2.448014 &  8.7659482\\\\\n",
       "\t 14.067799 &  7.3724100 &  8.672136 &  0.7216661 &  9.7845133 &  7.900636 &  7.703985 &  7.8098636 &  3.531849 &  0.9958448 & ⋯ & 13.165634 &  6.180286 & 12.379103 &  3.026415 & 13.558476 &  8.640350 & 16.2399166 & 12.7827174 &  8.724524 &  4.9646274\\\\\n",
       "\t  7.956189 & 11.8612772 & 11.240169 & 11.7116321 & 11.2541539 &  5.534969 & 17.503009 &  3.5992269 &  2.911456 &  8.2892121 & ⋯ & 17.225236 &  8.556031 & 13.600292 &  6.271506 & 18.033225 &  8.987618 &  8.4885952 & 15.3943602 &  8.034022 &  9.5565997\\\\\n",
       "\t 13.445799 &  9.9636924 &  6.779932 & 10.3665123 &  8.2585421 & 17.083521 & 12.918847 &  1.5105229 & 13.315365 &  5.0890890 & ⋯ &  5.505911 & 11.069814 &  5.817019 & 12.782663 & 12.107923 &  8.895058 &  9.2171402 &  7.8015543 & 12.988936 & 10.8123641\\\\\n",
       "\t  8.871231 &  6.3355092 & 12.001244 &  8.8409723 &  7.7878106 & 14.520852 &  6.430957 & 15.3729217 & 13.702774 &  6.3720796 & ⋯ &  6.631174 &  7.176327 &  9.795313 & 11.413272 & 11.317615 &  8.333705 & 16.5496908 & 12.7917973 & 18.065527 & 10.6605718\\\\\n",
       "\t 13.017093 & 10.7625051 &  8.225018 &  7.5533717 &  7.2385823 &  6.003409 &  9.354472 & 20.4787728 & 14.517434 & 14.7827742 & ⋯ &  9.349664 & 14.812688 & 11.143807 &  7.054087 &  7.635398 &  7.634297 & 13.6600786 &  2.2486775 &  4.103971 &  0.2782809\\\\\n",
       "\t  6.100091 & 16.8943168 & 16.385222 & 14.5245964 & 11.1873749 &  7.860325 & 13.478787 &  0.3809815 &  6.236959 & 13.0929633 & ⋯ &  5.477088 &  6.046897 & 10.524536 &  6.920995 & 13.187274 & 10.095003 & 16.2168839 &  8.9879170 & 13.381814 &  7.6254560\\\\\n",
       "\t 18.513658 &  7.9830251 & 10.148532 &  9.6794783 & 11.4301180 &  3.508605 &  9.272770 &  9.9149560 &  8.073985 &  2.5429673 & ⋯ & 15.476795 & 11.570030 &  3.417950 &  4.482231 & 19.656844 &  8.458803 &  6.7160401 &  2.9429114 &  3.433408 &  6.8735634\\\\\n",
       "\t  5.852166 &  9.7713901 &  9.574253 &  7.7406148 & 16.2417050 & 12.628962 &  7.513512 & 14.4034825 & 13.500907 &  9.5442435 & ⋯ & 16.436898 & 16.393106 & 11.857135 & 10.679764 &  9.882449 & 11.647823 &  6.1493834 & 13.7290222 & 16.768370 &  9.2580755\\\\\n",
       "\t 13.642919 & 15.3050930 & 13.383236 & 15.1295428 & 13.0910299 &  8.599886 &  4.113841 & 16.1617112 & 13.193780 &  6.4206968 & ⋯ &  4.299862 & 11.051396 &  8.498012 & 13.990188 & 12.282829 & 12.090766 &  0.6623183 &  9.8603694 &  8.344271 &  1.2255416\\\\\n",
       "\t 12.909990 & 12.9099520 & 11.124317 & 10.9800977 &  9.9797291 & 14.705840 &  8.199924 & 11.0498875 &  6.033543 & 13.5705852 & ⋯ & 10.816347 & 10.324184 &  8.724907 &  8.432775 &  2.070401 & 17.023147 &  8.8579024 & 12.3699591 &  8.846481 &  2.9278788\\\\\n",
       "\t  7.234652 &  9.8625077 & 11.027460 & 12.0694193 &  9.3996296 &  8.090872 &  6.407956 & 12.3838386 & 10.836818 &  7.4466271 & ⋯ & 10.466196 &  9.072466 &  5.120466 &  7.048963 & 12.326252 &  8.712362 &  5.3242371 & 11.3132415 & 10.285216 & 12.0178315\\\\\n",
       "\t  7.305426 &  6.4949450 &  8.986339 &  3.5317046 &  8.6931407 & 17.176677 & 16.969189 &  3.6776993 & 13.814469 &  8.7032284 & ⋯ &  6.835225 &  7.231210 &  8.797739 &  5.403389 & 16.737670 & 10.622747 & 11.7492071 &  1.8142290 &  6.377776 & 11.9789188\\\\\n",
       "\t  9.509750 &  7.8404097 &  6.274294 &  8.5715107 & 16.1182070 & 11.987028 & 10.405253 & 13.0749193 & 13.710038 & 14.3417249 & ⋯ &  7.512069 &  6.213231 & 13.514648 &  8.277796 & 15.767692 &  7.057573 & 10.2289211 & 15.7801425 & 15.175525 & 15.7301429\\\\\n",
       "\t 15.407687 & 11.0372319 & 16.829179 &  8.5215294 & 10.2467019 &  9.160177 & 13.553047 &  3.4704235 &  7.052687 &  9.2102654 & ⋯ & 10.812920 & 15.584488 & 10.489876 &  9.864758 &  8.292686 &  2.485175 & 10.0972472 &  0.5734615 &  3.490126 & 15.1402370\\\\\n",
       "\t 11.837156 &  8.8567265 &  7.471415 &  6.6118270 & 12.5924342 & 12.313083 & 15.145538 & 10.8553717 &  8.382783 & 18.0277211 & ⋯ &  8.785337 &  6.565680 & 12.510035 & 12.066602 &  6.151790 & 12.495307 &  5.4804171 & 17.9516969 & 12.991395 & 16.2261613\\\\\n",
       "\t 10.349749 & 15.3147357 &  7.533089 &  8.6043549 &  9.1051963 &  4.223060 &  2.964743 & 11.0483567 &  5.076368 &  7.5506156 & ⋯ & 12.808987 &  7.466860 & 17.108187 & 13.341278 & 14.905412 & 12.270376 & 16.7880201 & 13.8612112 &  7.115264 & 11.3211923\\\\\n",
       "\t 11.183145 & 14.5241152 & 18.396039 & 13.5505704 &  3.6896646 &  1.081795 &  9.073025 & 13.9739637 & 11.556480 & 10.3110113 & ⋯ & 10.493258 &  5.228933 & 12.980289 & 12.523409 &  8.006980 & 10.553832 &  5.3203474 & 13.1834906 &  8.425339 &  6.1700955\\\\\n",
       "\t  7.981568 & 13.1116511 & 13.472691 &  7.2356240 & 16.1483096 & 18.025147 & 17.532723 &  8.2598032 & 13.002207 & 12.5448464 & ⋯ &  6.526044 &  9.566086 & 12.364936 &  5.877261 & 14.777057 &  7.958816 &  8.0925999 & 11.0837219 &  6.844583 & 10.9672236\\\\\n",
       "\t 13.111212 & 13.3025286 & 15.510758 & 13.5270241 & 17.9441088 & 14.141273 & 10.900819 &  7.3152356 &  4.367561 &  6.9012364 & ⋯ &  0.806213 &  9.153077 & 12.208102 & 11.762781 &  1.967882 &  7.135103 &  6.5551081 & 15.4693522 &  2.467580 &  1.0847833\\\\\n",
       "\t ⋮ & ⋮ & ⋮ & ⋮ & ⋮ & ⋮ & ⋮ & ⋮ & ⋮ & ⋮ & ⋱ & ⋮ & ⋮ & ⋮ & ⋮ & ⋮ & ⋮ & ⋮ & ⋮ & ⋮ & ⋮\\\\\n",
       "\t 13.6010478 &  9.9545650 &  9.219208 & 13.546055 &  6.534337 & 13.8298326 & 15.642895 & 14.034698 &  8.891070 &  7.554070 & ⋯ &  7.126349 &  8.546560 & 12.259187 &  6.284560 &  3.236068 & 13.7542648 & 10.433579 &  8.139587 &  8.108156 & 16.0421501\\\\\n",
       "\t 19.0623548 &  5.0434531 & 12.702693 &  9.659422 &  9.219359 &  6.2512453 & 12.931255 &  8.383704 & 15.450150 & 12.895485 & ⋯ &  9.896733 &  7.718483 &  9.523056 & 16.910528 & 12.082846 & 11.3980692 &  7.610943 &  6.521394 & 10.955301 & 13.3414607\\\\\n",
       "\t 11.8453990 & 14.7135604 &  7.885082 & 18.993112 &  9.438164 &  6.3772786 & 15.070556 &  5.566768 &  2.903642 &  8.357085 & ⋯ &  9.910471 &  5.310539 &  8.710284 &  5.593678 & 10.417992 &  6.0850107 & 12.481123 &  1.176891 &  4.510363 & 15.1101077\\\\\n",
       "\t 12.0005362 & 12.7802018 & 11.854652 &  7.789726 &  3.369392 & 15.1545309 & 18.762736 &  4.800362 & 11.097110 &  9.191025 & ⋯ & 13.006001 &  6.131225 & 12.929961 &  6.908405 &  9.122661 &  8.9255641 & 11.053703 &  8.531838 &  8.610244 &  7.2570826\\\\\n",
       "\t 16.5061724 & 18.4352066 &  9.232104 & 12.363408 & 12.492606 &  9.8870945 &  8.591597 & 10.597309 &  7.314416 &  7.970338 & ⋯ & 14.802311 &  7.057482 & 13.689780 &  7.143255 &  7.143744 & 20.5645553 &  8.638693 &  5.273788 & 13.613493 &  9.1873922\\\\\n",
       "\t  2.1788554 &  7.3318010 &  7.175127 & 11.619894 & 13.606673 & 13.4893559 & 14.466721 & 11.151308 & 11.844396 &  8.607740 & ⋯ & 15.927080 & 10.898372 &  9.710920 &  5.517264 & 14.114760 &  1.3585538 & 17.447279 & 13.558193 & 12.137589 & 10.6994895\\\\\n",
       "\t 13.7593657 & 19.5539527 &  6.634235 & 18.188023 &  9.607719 & 11.7896649 & 14.564133 &  9.541351 & 10.225774 & 11.203505 & ⋯ & 18.749462 & 12.811701 &  9.311505 & 11.611538 & 11.639289 & 10.4188830 &  4.294760 & 11.993213 &  8.352706 &  7.8386992\\\\\n",
       "\t 11.3477297 & 10.4322171 & 11.656039 &  9.688368 & 24.367611 & 14.2873469 &  8.870196 & 10.899691 & 12.065077 & 12.957434 & ⋯ & 13.649706 & 10.792396 &  9.495014 &  8.028184 &  7.299843 &  6.7838537 &  4.706493 & 13.059826 &  6.242665 &  8.1765623\\\\\n",
       "\t 18.3372796 &  7.5372222 &  9.760791 &  6.978490 & 11.556772 &  1.2672583 & 10.526800 &  8.876122 & 14.735174 &  7.033220 & ⋯ & 12.883777 & 11.262709 & 16.597803 &  6.985112 & 12.905891 & 14.4364085 & 11.072656 &  7.347770 &  5.666210 &  7.9369226\\\\\n",
       "\t  5.6528211 & 12.2755346 &  7.143526 & 14.723973 &  7.447494 &  6.4745735 & 10.495963 & 10.029969 &  1.616784 &  2.973906 & ⋯ &  8.254853 &  9.419750 &  4.999100 & 11.910409 & 14.885012 & -1.3944107 & 15.866309 & 14.530927 & 14.485506 & 11.6459222\\\\\n",
       "\t  6.9432175 & 16.8889384 &  7.595332 & 12.961210 &  9.132343 &  7.0567145 &  7.952253 & 14.845329 &  5.312264 & 13.667988 & ⋯ & 10.995846 &  8.530085 & 10.191120 &  4.225064 & 17.650366 & 13.3884861 &  8.215464 & 10.251318 & 16.374104 &  6.6392267\\\\\n",
       "\t  9.7317034 &  5.7198956 &  6.272667 &  7.018809 & 11.042556 & 14.2220875 &  7.249083 &  4.945572 & 10.548469 & 10.653829 & ⋯ &  7.819843 & 14.964158 &  8.072002 &  7.826341 &  9.194398 &  0.7634686 &  9.138354 & 13.097656 &  7.443080 & 11.1208528\\\\\n",
       "\t 14.7016342 &  4.6072605 & 14.927354 & 14.287696 &  9.369733 & 13.6602260 & 16.248514 &  8.607130 & 13.585611 & 16.253180 & ⋯ &  9.680346 & 11.538730 &  9.238875 &  8.175445 & 10.097661 &  8.3828787 & 11.974327 &  6.272739 & 14.625824 &  9.7174604\\\\\n",
       "\t  4.3228520 &  7.2989301 & 13.387964 & 11.036680 &  7.452957 & 12.2735026 &  9.994776 & 13.236056 & 13.686025 &  6.734123 & ⋯ &  6.207643 &  7.828896 & 10.819901 &  9.818385 & 13.964561 & 12.3936796 &  7.565681 &  9.374864 &  2.984813 &  5.8151625\\\\\n",
       "\t  2.2697992 &  6.0970746 & 10.001521 &  0.865036 &  8.798166 &  6.4914087 &  5.500044 & 13.023720 &  9.777887 &  7.281955 & ⋯ & 14.736245 & 11.670282 &  7.024117 & 14.453166 &  8.813358 &  8.3717060 & 13.473430 & 10.679987 & 14.908699 & 11.9943911\\\\\n",
       "\t  0.8454744 & 10.9776611 & 14.394873 &  4.467400 &  5.834625 &  6.0444385 & 10.941621 & 14.441717 &  7.863200 & 12.782170 & ⋯ & 11.718742 & 11.624468 &  8.375909 & 15.900897 &  3.962395 & 14.5725256 & 15.800261 & 13.825373 & 11.648855 &  6.8718429\\\\\n",
       "\t  5.7433236 & 10.5074174 &  5.837190 &  7.026152 &  6.342301 &  9.8126363 &  7.347921 &  2.740850 &  9.200052 & 11.124421 & ⋯ & 15.983782 & 14.610728 & 14.265250 & 11.111710 &  8.950644 & 17.4124623 &  5.448688 &  8.242344 & 12.799499 &  2.7848168\\\\\n",
       "\t 16.0617349 &  9.7726514 &  7.143359 &  9.413924 & 14.532348 &  3.1951688 &  5.633432 &  7.875961 &  8.404376 &  5.231235 & ⋯ &  7.115787 &  9.933158 &  9.386103 &  8.581579 &  7.793567 &  9.5339090 &  6.535299 & 10.642382 &  3.704274 & 11.8381987\\\\\n",
       "\t 13.0758689 & 10.6277858 &  9.215714 & 12.289201 & 13.930451 &  0.8290686 & 16.184317 &  8.574274 &  8.061629 & 11.044667 & ⋯ & 11.495159 &  7.283739 &  6.371374 & 16.074982 & 10.834844 &  1.7545488 & 17.584133 & 13.106055 &  9.066983 & 10.8351112\\\\\n",
       "\t 14.6659658 & 12.5047912 & 14.603359 & 16.187090 &  9.354687 & 10.1168744 & 10.322059 &  4.115289 &  8.930954 & 11.924921 & ⋯ &  8.413069 &  8.421240 &  2.146758 & 12.911085 &  4.583517 & 11.5266426 &  4.779032 &  6.416830 &  4.053678 &  5.9187228\\\\\n",
       "\t 17.5190934 &  9.5992931 &  6.956546 &  7.985018 &  8.910991 & 13.4624465 & 14.340903 &  9.857609 &  4.575640 & 12.961245 & ⋯ & 12.269976 & 13.213590 &  9.088102 & 11.067082 &  5.521036 &  9.6949129 &  9.236513 &  8.374849 &  5.426915 & 13.0395931\\\\\n",
       "\t  6.0804904 & 13.2097168 & 12.363375 &  9.962162 & 13.633416 & 10.2501564 & 11.289379 &  9.905273 & 12.051338 &  4.505346 & ⋯ &  8.959580 & 20.334956 &  9.279376 &  9.312248 & 14.623396 &  8.5068042 & 13.824481 & -3.181155 &  8.329285 &  9.9404758\\\\\n",
       "\t 17.9516036 & 10.4611078 &  9.771396 &  5.241842 &  8.578368 & 12.5893486 & 10.558265 &  5.380162 & 10.542091 & 14.874478 & ⋯ & 14.477853 & 11.634907 &  8.352554 & 12.495309 & 12.966099 &  2.5462362 &  5.745391 &  6.215690 & 16.153081 & 15.5414551\\\\\n",
       "\t 13.4172013 &  9.6285345 &  4.960144 &  8.070804 & 16.542495 & 10.2812834 & 19.488235 & 12.647423 &  8.010261 &  5.516292 & ⋯ & 10.394373 & 16.612991 & 16.931193 &  4.551468 &  4.820577 &  2.4377507 & 12.342321 & 10.496890 & 17.086052 & 11.2628385\\\\\n",
       "\t 13.4792999 &  7.5238982 & 11.063726 &  8.584306 & 10.497388 &  7.5750167 & 11.864079 & 16.316722 &  8.912769 & 13.857430 & ⋯ & 12.583600 &  9.982400 & 14.645846 &  8.360675 & 13.069278 & 17.6061854 & 13.594458 &  7.184753 & 12.934882 & 11.1345632\\\\\n",
       "\t 10.9694727 &  0.8169286 &  6.467553 &  7.327629 & 15.339409 & 13.8414454 & 13.212946 &  6.719780 &  9.897041 &  2.597281 & ⋯ &  7.342641 & 12.223786 & 12.414558 &  8.657981 &  5.297387 &  7.0836792 & 12.974499 &  8.465437 &  8.248589 &  0.9901659\\\\\n",
       "\t  8.2432525 &  8.2334650 & 10.948438 & 18.776501 & 12.612390 &  1.9722614 & 12.344144 & 16.339623 &  4.828312 & 10.620193 & ⋯ &  5.573043 &  6.327394 &  7.665509 &  3.595374 & 12.233081 &  8.1489075 & 18.666073 & 15.839155 & 11.727635 & 18.3357447\\\\\n",
       "\t  2.4590397 & 11.0684018 & 14.576365 & 13.141391 & 16.562964 & 10.7992674 & 11.462102 & 12.478273 & 21.058359 & 10.400347 & ⋯ &  9.683577 &  6.522439 & 10.059764 & 14.358887 & 12.932492 &  8.6068171 &  5.069658 & 10.727305 &  8.681383 & 13.5306468\\\\\n",
       "\t 10.1678501 & 14.9576269 & 12.078908 &  8.952811 &  2.344555 &  7.0586607 & 14.913937 & 10.545377 &  9.866655 &  7.362296 & ⋯ &  2.176956 &  1.498018 & 12.983349 & 12.130454 & 11.086450 & 10.2621778 &  8.999970 &  4.374307 & 12.703609 & 11.4411589\\\\\n",
       "\t  5.8278120 & 10.3937957 &  7.299769 & 14.620322 &  8.600080 & 11.8772736 &  8.016795 & 14.288267 & 10.011656 & 14.918114 & ⋯ & 15.051126 & 14.495259 & 12.556529 & 12.918019 &  4.082263 &  8.8413674 & 11.591592 &  9.121509 & 13.829866 &  9.3921713\\\\\n",
       "\\end{tabular}\n"
      ],
      "text/markdown": [
       "\n",
       "A matrix: 2000 × 2000 of type dbl\n",
       "\n",
       "|  7.687873 | 12.1920982 |  5.512654 | 11.4344003 | 19.8264002 |  4.446502 |  9.260482 | 13.3121085 | 10.744280 | 11.8922811 | ⋯ | 14.927303 |  7.761441 |  7.239293 |  8.167824 | 13.151298 |  6.194997 | 12.0497028 | 11.5687859 |  7.194965 |  8.9340252 |\n",
       "| 18.503566 | 11.6861994 | 11.676320 |  6.2781474 |  5.2894329 | 12.125431 | 11.261661 | 15.6375725 | 11.136238 | 11.3329627 | ⋯ |  9.090321 | 13.628204 | 11.130596 | 10.586455 | 10.701363 |  6.145600 |  9.7539135 | 12.2907290 | 10.403223 |  6.8093390 |\n",
       "|  9.455332 | 13.5412954 | 15.351449 |  8.0608798 |  1.8741197 | 12.248893 | 17.489003 | 13.6780604 |  7.229572 | 12.2757147 | ⋯ |  6.545973 | 11.495756 |  6.034343 |  7.812939 | 12.030099 | 11.563523 |  9.4935359 | 18.3543050 | 14.937409 |  8.1620593 |\n",
       "|  7.851702 | 20.2180036 | 13.098582 |  6.2557430 | 10.7111070 | 14.433079 |  6.648086 | 12.0563282 |  6.044242 |  9.2237024 | ⋯ |  9.817449 |  8.181637 |  5.917555 | 10.147069 |  9.668293 |  9.672510 |  3.7191108 | 10.5344491 | 16.477503 | 19.1268611 |\n",
       "| 11.759881 |  9.3707937 | 13.712998 |  7.5964085 |  9.4717311 | 12.153248 |  5.348172 |  3.1322507 |  9.036996 |  8.0580927 | ⋯ | 10.544913 | 13.170033 | 14.199582 |  9.738530 |  5.700553 |  6.691812 |  4.0398145 |  8.9878782 | 14.014813 | 10.4472829 |\n",
       "| 10.174179 | 14.3328771 |  7.011041 | 16.1796237 | 12.0869096 | 12.927144 | 15.190659 | 15.7822423 | 11.172354 | 12.2445247 | ⋯ | 12.995545 |  5.998408 |  6.282599 |  4.789194 |  9.347627 | 20.326230 |  5.3759599 | 16.6788804 |  7.742613 | 15.6953263 |\n",
       "| 17.393629 |  3.8487542 | 10.236791 |  8.5355761 | 11.1672835 |  9.772290 | 11.630889 |  8.5597171 | 10.756870 |  9.4591236 | ⋯ | 10.365670 |  9.397100 |  4.798493 |  8.909583 |  8.748524 | -3.012737 | 10.4658034 | 12.8266460 |  8.549616 | 14.1547507 |\n",
       "|  8.138950 |  0.1188237 |  9.210748 | 10.0826688 | 17.5120276 |  7.765741 | 13.476205 | 10.6745399 | 11.157751 |  4.5700871 | ⋯ | 11.267914 |  4.654623 | 14.613204 |  8.554618 | 11.196942 | 13.709020 |  9.2242252 | 11.8940849 | 13.053163 | 11.9200417 |\n",
       "|  8.156875 | 15.0465092 |  8.464266 | 14.4097484 | 11.5619236 |  5.643583 |  9.081497 | 15.2931719 | 15.063551 |  7.8525078 | ⋯ | 18.535945 | 11.952810 |  8.798268 |  7.524930 | 10.732712 | -3.467104 | 17.0520450 | 14.4736540 |  4.169313 | 13.5920117 |\n",
       "|  8.774483 |  2.4726283 | 12.740655 |  8.6684194 |  0.8374797 |  4.246995 |  9.607416 | 11.9328053 | 16.464865 | 12.3308810 | ⋯ |  6.556751 | 14.026541 |  2.120194 | 16.946849 | 10.573797 | 10.671311 | 15.9213626 |  3.8403288 | 10.685400 | 10.0787734 |\n",
       "| 10.328666 |  9.4419217 | 11.823478 |  8.1127637 | 14.4104994 | 10.717365 |  5.799274 |  8.9198155 | 10.016382 | 18.3674137 | ⋯ | 11.021343 |  8.028079 | 12.813544 | 11.408069 |  5.217266 |  9.929637 | 12.2531251 |  6.6811524 |  2.448014 |  8.7659482 |\n",
       "| 14.067799 |  7.3724100 |  8.672136 |  0.7216661 |  9.7845133 |  7.900636 |  7.703985 |  7.8098636 |  3.531849 |  0.9958448 | ⋯ | 13.165634 |  6.180286 | 12.379103 |  3.026415 | 13.558476 |  8.640350 | 16.2399166 | 12.7827174 |  8.724524 |  4.9646274 |\n",
       "|  7.956189 | 11.8612772 | 11.240169 | 11.7116321 | 11.2541539 |  5.534969 | 17.503009 |  3.5992269 |  2.911456 |  8.2892121 | ⋯ | 17.225236 |  8.556031 | 13.600292 |  6.271506 | 18.033225 |  8.987618 |  8.4885952 | 15.3943602 |  8.034022 |  9.5565997 |\n",
       "| 13.445799 |  9.9636924 |  6.779932 | 10.3665123 |  8.2585421 | 17.083521 | 12.918847 |  1.5105229 | 13.315365 |  5.0890890 | ⋯ |  5.505911 | 11.069814 |  5.817019 | 12.782663 | 12.107923 |  8.895058 |  9.2171402 |  7.8015543 | 12.988936 | 10.8123641 |\n",
       "|  8.871231 |  6.3355092 | 12.001244 |  8.8409723 |  7.7878106 | 14.520852 |  6.430957 | 15.3729217 | 13.702774 |  6.3720796 | ⋯ |  6.631174 |  7.176327 |  9.795313 | 11.413272 | 11.317615 |  8.333705 | 16.5496908 | 12.7917973 | 18.065527 | 10.6605718 |\n",
       "| 13.017093 | 10.7625051 |  8.225018 |  7.5533717 |  7.2385823 |  6.003409 |  9.354472 | 20.4787728 | 14.517434 | 14.7827742 | ⋯ |  9.349664 | 14.812688 | 11.143807 |  7.054087 |  7.635398 |  7.634297 | 13.6600786 |  2.2486775 |  4.103971 |  0.2782809 |\n",
       "|  6.100091 | 16.8943168 | 16.385222 | 14.5245964 | 11.1873749 |  7.860325 | 13.478787 |  0.3809815 |  6.236959 | 13.0929633 | ⋯ |  5.477088 |  6.046897 | 10.524536 |  6.920995 | 13.187274 | 10.095003 | 16.2168839 |  8.9879170 | 13.381814 |  7.6254560 |\n",
       "| 18.513658 |  7.9830251 | 10.148532 |  9.6794783 | 11.4301180 |  3.508605 |  9.272770 |  9.9149560 |  8.073985 |  2.5429673 | ⋯ | 15.476795 | 11.570030 |  3.417950 |  4.482231 | 19.656844 |  8.458803 |  6.7160401 |  2.9429114 |  3.433408 |  6.8735634 |\n",
       "|  5.852166 |  9.7713901 |  9.574253 |  7.7406148 | 16.2417050 | 12.628962 |  7.513512 | 14.4034825 | 13.500907 |  9.5442435 | ⋯ | 16.436898 | 16.393106 | 11.857135 | 10.679764 |  9.882449 | 11.647823 |  6.1493834 | 13.7290222 | 16.768370 |  9.2580755 |\n",
       "| 13.642919 | 15.3050930 | 13.383236 | 15.1295428 | 13.0910299 |  8.599886 |  4.113841 | 16.1617112 | 13.193780 |  6.4206968 | ⋯ |  4.299862 | 11.051396 |  8.498012 | 13.990188 | 12.282829 | 12.090766 |  0.6623183 |  9.8603694 |  8.344271 |  1.2255416 |\n",
       "| 12.909990 | 12.9099520 | 11.124317 | 10.9800977 |  9.9797291 | 14.705840 |  8.199924 | 11.0498875 |  6.033543 | 13.5705852 | ⋯ | 10.816347 | 10.324184 |  8.724907 |  8.432775 |  2.070401 | 17.023147 |  8.8579024 | 12.3699591 |  8.846481 |  2.9278788 |\n",
       "|  7.234652 |  9.8625077 | 11.027460 | 12.0694193 |  9.3996296 |  8.090872 |  6.407956 | 12.3838386 | 10.836818 |  7.4466271 | ⋯ | 10.466196 |  9.072466 |  5.120466 |  7.048963 | 12.326252 |  8.712362 |  5.3242371 | 11.3132415 | 10.285216 | 12.0178315 |\n",
       "|  7.305426 |  6.4949450 |  8.986339 |  3.5317046 |  8.6931407 | 17.176677 | 16.969189 |  3.6776993 | 13.814469 |  8.7032284 | ⋯ |  6.835225 |  7.231210 |  8.797739 |  5.403389 | 16.737670 | 10.622747 | 11.7492071 |  1.8142290 |  6.377776 | 11.9789188 |\n",
       "|  9.509750 |  7.8404097 |  6.274294 |  8.5715107 | 16.1182070 | 11.987028 | 10.405253 | 13.0749193 | 13.710038 | 14.3417249 | ⋯ |  7.512069 |  6.213231 | 13.514648 |  8.277796 | 15.767692 |  7.057573 | 10.2289211 | 15.7801425 | 15.175525 | 15.7301429 |\n",
       "| 15.407687 | 11.0372319 | 16.829179 |  8.5215294 | 10.2467019 |  9.160177 | 13.553047 |  3.4704235 |  7.052687 |  9.2102654 | ⋯ | 10.812920 | 15.584488 | 10.489876 |  9.864758 |  8.292686 |  2.485175 | 10.0972472 |  0.5734615 |  3.490126 | 15.1402370 |\n",
       "| 11.837156 |  8.8567265 |  7.471415 |  6.6118270 | 12.5924342 | 12.313083 | 15.145538 | 10.8553717 |  8.382783 | 18.0277211 | ⋯ |  8.785337 |  6.565680 | 12.510035 | 12.066602 |  6.151790 | 12.495307 |  5.4804171 | 17.9516969 | 12.991395 | 16.2261613 |\n",
       "| 10.349749 | 15.3147357 |  7.533089 |  8.6043549 |  9.1051963 |  4.223060 |  2.964743 | 11.0483567 |  5.076368 |  7.5506156 | ⋯ | 12.808987 |  7.466860 | 17.108187 | 13.341278 | 14.905412 | 12.270376 | 16.7880201 | 13.8612112 |  7.115264 | 11.3211923 |\n",
       "| 11.183145 | 14.5241152 | 18.396039 | 13.5505704 |  3.6896646 |  1.081795 |  9.073025 | 13.9739637 | 11.556480 | 10.3110113 | ⋯ | 10.493258 |  5.228933 | 12.980289 | 12.523409 |  8.006980 | 10.553832 |  5.3203474 | 13.1834906 |  8.425339 |  6.1700955 |\n",
       "|  7.981568 | 13.1116511 | 13.472691 |  7.2356240 | 16.1483096 | 18.025147 | 17.532723 |  8.2598032 | 13.002207 | 12.5448464 | ⋯ |  6.526044 |  9.566086 | 12.364936 |  5.877261 | 14.777057 |  7.958816 |  8.0925999 | 11.0837219 |  6.844583 | 10.9672236 |\n",
       "| 13.111212 | 13.3025286 | 15.510758 | 13.5270241 | 17.9441088 | 14.141273 | 10.900819 |  7.3152356 |  4.367561 |  6.9012364 | ⋯ |  0.806213 |  9.153077 | 12.208102 | 11.762781 |  1.967882 |  7.135103 |  6.5551081 | 15.4693522 |  2.467580 |  1.0847833 |\n",
       "| ⋮ | ⋮ | ⋮ | ⋮ | ⋮ | ⋮ | ⋮ | ⋮ | ⋮ | ⋮ | ⋱ | ⋮ | ⋮ | ⋮ | ⋮ | ⋮ | ⋮ | ⋮ | ⋮ | ⋮ | ⋮ |\n",
       "| 13.6010478 |  9.9545650 |  9.219208 | 13.546055 |  6.534337 | 13.8298326 | 15.642895 | 14.034698 |  8.891070 |  7.554070 | ⋯ |  7.126349 |  8.546560 | 12.259187 |  6.284560 |  3.236068 | 13.7542648 | 10.433579 |  8.139587 |  8.108156 | 16.0421501 |\n",
       "| 19.0623548 |  5.0434531 | 12.702693 |  9.659422 |  9.219359 |  6.2512453 | 12.931255 |  8.383704 | 15.450150 | 12.895485 | ⋯ |  9.896733 |  7.718483 |  9.523056 | 16.910528 | 12.082846 | 11.3980692 |  7.610943 |  6.521394 | 10.955301 | 13.3414607 |\n",
       "| 11.8453990 | 14.7135604 |  7.885082 | 18.993112 |  9.438164 |  6.3772786 | 15.070556 |  5.566768 |  2.903642 |  8.357085 | ⋯ |  9.910471 |  5.310539 |  8.710284 |  5.593678 | 10.417992 |  6.0850107 | 12.481123 |  1.176891 |  4.510363 | 15.1101077 |\n",
       "| 12.0005362 | 12.7802018 | 11.854652 |  7.789726 |  3.369392 | 15.1545309 | 18.762736 |  4.800362 | 11.097110 |  9.191025 | ⋯ | 13.006001 |  6.131225 | 12.929961 |  6.908405 |  9.122661 |  8.9255641 | 11.053703 |  8.531838 |  8.610244 |  7.2570826 |\n",
       "| 16.5061724 | 18.4352066 |  9.232104 | 12.363408 | 12.492606 |  9.8870945 |  8.591597 | 10.597309 |  7.314416 |  7.970338 | ⋯ | 14.802311 |  7.057482 | 13.689780 |  7.143255 |  7.143744 | 20.5645553 |  8.638693 |  5.273788 | 13.613493 |  9.1873922 |\n",
       "|  2.1788554 |  7.3318010 |  7.175127 | 11.619894 | 13.606673 | 13.4893559 | 14.466721 | 11.151308 | 11.844396 |  8.607740 | ⋯ | 15.927080 | 10.898372 |  9.710920 |  5.517264 | 14.114760 |  1.3585538 | 17.447279 | 13.558193 | 12.137589 | 10.6994895 |\n",
       "| 13.7593657 | 19.5539527 |  6.634235 | 18.188023 |  9.607719 | 11.7896649 | 14.564133 |  9.541351 | 10.225774 | 11.203505 | ⋯ | 18.749462 | 12.811701 |  9.311505 | 11.611538 | 11.639289 | 10.4188830 |  4.294760 | 11.993213 |  8.352706 |  7.8386992 |\n",
       "| 11.3477297 | 10.4322171 | 11.656039 |  9.688368 | 24.367611 | 14.2873469 |  8.870196 | 10.899691 | 12.065077 | 12.957434 | ⋯ | 13.649706 | 10.792396 |  9.495014 |  8.028184 |  7.299843 |  6.7838537 |  4.706493 | 13.059826 |  6.242665 |  8.1765623 |\n",
       "| 18.3372796 |  7.5372222 |  9.760791 |  6.978490 | 11.556772 |  1.2672583 | 10.526800 |  8.876122 | 14.735174 |  7.033220 | ⋯ | 12.883777 | 11.262709 | 16.597803 |  6.985112 | 12.905891 | 14.4364085 | 11.072656 |  7.347770 |  5.666210 |  7.9369226 |\n",
       "|  5.6528211 | 12.2755346 |  7.143526 | 14.723973 |  7.447494 |  6.4745735 | 10.495963 | 10.029969 |  1.616784 |  2.973906 | ⋯ |  8.254853 |  9.419750 |  4.999100 | 11.910409 | 14.885012 | -1.3944107 | 15.866309 | 14.530927 | 14.485506 | 11.6459222 |\n",
       "|  6.9432175 | 16.8889384 |  7.595332 | 12.961210 |  9.132343 |  7.0567145 |  7.952253 | 14.845329 |  5.312264 | 13.667988 | ⋯ | 10.995846 |  8.530085 | 10.191120 |  4.225064 | 17.650366 | 13.3884861 |  8.215464 | 10.251318 | 16.374104 |  6.6392267 |\n",
       "|  9.7317034 |  5.7198956 |  6.272667 |  7.018809 | 11.042556 | 14.2220875 |  7.249083 |  4.945572 | 10.548469 | 10.653829 | ⋯ |  7.819843 | 14.964158 |  8.072002 |  7.826341 |  9.194398 |  0.7634686 |  9.138354 | 13.097656 |  7.443080 | 11.1208528 |\n",
       "| 14.7016342 |  4.6072605 | 14.927354 | 14.287696 |  9.369733 | 13.6602260 | 16.248514 |  8.607130 | 13.585611 | 16.253180 | ⋯ |  9.680346 | 11.538730 |  9.238875 |  8.175445 | 10.097661 |  8.3828787 | 11.974327 |  6.272739 | 14.625824 |  9.7174604 |\n",
       "|  4.3228520 |  7.2989301 | 13.387964 | 11.036680 |  7.452957 | 12.2735026 |  9.994776 | 13.236056 | 13.686025 |  6.734123 | ⋯ |  6.207643 |  7.828896 | 10.819901 |  9.818385 | 13.964561 | 12.3936796 |  7.565681 |  9.374864 |  2.984813 |  5.8151625 |\n",
       "|  2.2697992 |  6.0970746 | 10.001521 |  0.865036 |  8.798166 |  6.4914087 |  5.500044 | 13.023720 |  9.777887 |  7.281955 | ⋯ | 14.736245 | 11.670282 |  7.024117 | 14.453166 |  8.813358 |  8.3717060 | 13.473430 | 10.679987 | 14.908699 | 11.9943911 |\n",
       "|  0.8454744 | 10.9776611 | 14.394873 |  4.467400 |  5.834625 |  6.0444385 | 10.941621 | 14.441717 |  7.863200 | 12.782170 | ⋯ | 11.718742 | 11.624468 |  8.375909 | 15.900897 |  3.962395 | 14.5725256 | 15.800261 | 13.825373 | 11.648855 |  6.8718429 |\n",
       "|  5.7433236 | 10.5074174 |  5.837190 |  7.026152 |  6.342301 |  9.8126363 |  7.347921 |  2.740850 |  9.200052 | 11.124421 | ⋯ | 15.983782 | 14.610728 | 14.265250 | 11.111710 |  8.950644 | 17.4124623 |  5.448688 |  8.242344 | 12.799499 |  2.7848168 |\n",
       "| 16.0617349 |  9.7726514 |  7.143359 |  9.413924 | 14.532348 |  3.1951688 |  5.633432 |  7.875961 |  8.404376 |  5.231235 | ⋯ |  7.115787 |  9.933158 |  9.386103 |  8.581579 |  7.793567 |  9.5339090 |  6.535299 | 10.642382 |  3.704274 | 11.8381987 |\n",
       "| 13.0758689 | 10.6277858 |  9.215714 | 12.289201 | 13.930451 |  0.8290686 | 16.184317 |  8.574274 |  8.061629 | 11.044667 | ⋯ | 11.495159 |  7.283739 |  6.371374 | 16.074982 | 10.834844 |  1.7545488 | 17.584133 | 13.106055 |  9.066983 | 10.8351112 |\n",
       "| 14.6659658 | 12.5047912 | 14.603359 | 16.187090 |  9.354687 | 10.1168744 | 10.322059 |  4.115289 |  8.930954 | 11.924921 | ⋯ |  8.413069 |  8.421240 |  2.146758 | 12.911085 |  4.583517 | 11.5266426 |  4.779032 |  6.416830 |  4.053678 |  5.9187228 |\n",
       "| 17.5190934 |  9.5992931 |  6.956546 |  7.985018 |  8.910991 | 13.4624465 | 14.340903 |  9.857609 |  4.575640 | 12.961245 | ⋯ | 12.269976 | 13.213590 |  9.088102 | 11.067082 |  5.521036 |  9.6949129 |  9.236513 |  8.374849 |  5.426915 | 13.0395931 |\n",
       "|  6.0804904 | 13.2097168 | 12.363375 |  9.962162 | 13.633416 | 10.2501564 | 11.289379 |  9.905273 | 12.051338 |  4.505346 | ⋯ |  8.959580 | 20.334956 |  9.279376 |  9.312248 | 14.623396 |  8.5068042 | 13.824481 | -3.181155 |  8.329285 |  9.9404758 |\n",
       "| 17.9516036 | 10.4611078 |  9.771396 |  5.241842 |  8.578368 | 12.5893486 | 10.558265 |  5.380162 | 10.542091 | 14.874478 | ⋯ | 14.477853 | 11.634907 |  8.352554 | 12.495309 | 12.966099 |  2.5462362 |  5.745391 |  6.215690 | 16.153081 | 15.5414551 |\n",
       "| 13.4172013 |  9.6285345 |  4.960144 |  8.070804 | 16.542495 | 10.2812834 | 19.488235 | 12.647423 |  8.010261 |  5.516292 | ⋯ | 10.394373 | 16.612991 | 16.931193 |  4.551468 |  4.820577 |  2.4377507 | 12.342321 | 10.496890 | 17.086052 | 11.2628385 |\n",
       "| 13.4792999 |  7.5238982 | 11.063726 |  8.584306 | 10.497388 |  7.5750167 | 11.864079 | 16.316722 |  8.912769 | 13.857430 | ⋯ | 12.583600 |  9.982400 | 14.645846 |  8.360675 | 13.069278 | 17.6061854 | 13.594458 |  7.184753 | 12.934882 | 11.1345632 |\n",
       "| 10.9694727 |  0.8169286 |  6.467553 |  7.327629 | 15.339409 | 13.8414454 | 13.212946 |  6.719780 |  9.897041 |  2.597281 | ⋯ |  7.342641 | 12.223786 | 12.414558 |  8.657981 |  5.297387 |  7.0836792 | 12.974499 |  8.465437 |  8.248589 |  0.9901659 |\n",
       "|  8.2432525 |  8.2334650 | 10.948438 | 18.776501 | 12.612390 |  1.9722614 | 12.344144 | 16.339623 |  4.828312 | 10.620193 | ⋯ |  5.573043 |  6.327394 |  7.665509 |  3.595374 | 12.233081 |  8.1489075 | 18.666073 | 15.839155 | 11.727635 | 18.3357447 |\n",
       "|  2.4590397 | 11.0684018 | 14.576365 | 13.141391 | 16.562964 | 10.7992674 | 11.462102 | 12.478273 | 21.058359 | 10.400347 | ⋯ |  9.683577 |  6.522439 | 10.059764 | 14.358887 | 12.932492 |  8.6068171 |  5.069658 | 10.727305 |  8.681383 | 13.5306468 |\n",
       "| 10.1678501 | 14.9576269 | 12.078908 |  8.952811 |  2.344555 |  7.0586607 | 14.913937 | 10.545377 |  9.866655 |  7.362296 | ⋯ |  2.176956 |  1.498018 | 12.983349 | 12.130454 | 11.086450 | 10.2621778 |  8.999970 |  4.374307 | 12.703609 | 11.4411589 |\n",
       "|  5.8278120 | 10.3937957 |  7.299769 | 14.620322 |  8.600080 | 11.8772736 |  8.016795 | 14.288267 | 10.011656 | 14.918114 | ⋯ | 15.051126 | 14.495259 | 12.556529 | 12.918019 |  4.082263 |  8.8413674 | 11.591592 |  9.121509 | 13.829866 |  9.3921713 |\n",
       "\n"
      ],
      "text/plain": [
       "      [,1]       [,2]       [,3]      [,4]       [,5]       [,6]      \n",
       " [1,]  7.687873  12.1920982  5.512654 11.4344003 19.8264002  4.446502 \n",
       " [2,] 18.503566  11.6861994 11.676320  6.2781474  5.2894329 12.125431 \n",
       " [3,]  9.455332  13.5412954 15.351449  8.0608798  1.8741197 12.248893 \n",
       " [4,]  7.851702  20.2180036 13.098582  6.2557430 10.7111070 14.433079 \n",
       " [5,] 11.759881   9.3707937 13.712998  7.5964085  9.4717311 12.153248 \n",
       " [6,] 10.174179  14.3328771  7.011041 16.1796237 12.0869096 12.927144 \n",
       " [7,] 17.393629   3.8487542 10.236791  8.5355761 11.1672835  9.772290 \n",
       " [8,]  8.138950   0.1188237  9.210748 10.0826688 17.5120276  7.765741 \n",
       " [9,]  8.156875  15.0465092  8.464266 14.4097484 11.5619236  5.643583 \n",
       "[10,]  8.774483   2.4726283 12.740655  8.6684194  0.8374797  4.246995 \n",
       "[11,] 10.328666   9.4419217 11.823478  8.1127637 14.4104994 10.717365 \n",
       "[12,] 14.067799   7.3724100  8.672136  0.7216661  9.7845133  7.900636 \n",
       "[13,]  7.956189  11.8612772 11.240169 11.7116321 11.2541539  5.534969 \n",
       "[14,] 13.445799   9.9636924  6.779932 10.3665123  8.2585421 17.083521 \n",
       "[15,]  8.871231   6.3355092 12.001244  8.8409723  7.7878106 14.520852 \n",
       "[16,] 13.017093  10.7625051  8.225018  7.5533717  7.2385823  6.003409 \n",
       "[17,]  6.100091  16.8943168 16.385222 14.5245964 11.1873749  7.860325 \n",
       "[18,] 18.513658   7.9830251 10.148532  9.6794783 11.4301180  3.508605 \n",
       "[19,]  5.852166   9.7713901  9.574253  7.7406148 16.2417050 12.628962 \n",
       "[20,] 13.642919  15.3050930 13.383236 15.1295428 13.0910299  8.599886 \n",
       "[21,] 12.909990  12.9099520 11.124317 10.9800977  9.9797291 14.705840 \n",
       "[22,]  7.234652   9.8625077 11.027460 12.0694193  9.3996296  8.090872 \n",
       "[23,]  7.305426   6.4949450  8.986339  3.5317046  8.6931407 17.176677 \n",
       "[24,]  9.509750   7.8404097  6.274294  8.5715107 16.1182070 11.987028 \n",
       "[25,] 15.407687  11.0372319 16.829179  8.5215294 10.2467019  9.160177 \n",
       "[26,] 11.837156   8.8567265  7.471415  6.6118270 12.5924342 12.313083 \n",
       "[27,] 10.349749  15.3147357  7.533089  8.6043549  9.1051963  4.223060 \n",
       "[28,] 11.183145  14.5241152 18.396039 13.5505704  3.6896646  1.081795 \n",
       "[29,]  7.981568  13.1116511 13.472691  7.2356240 16.1483096 18.025147 \n",
       "[30,] 13.111212  13.3025286 15.510758 13.5270241 17.9441088 14.141273 \n",
       "[31,] ⋮          ⋮          ⋮         ⋮          ⋮          ⋮         \n",
       "[32,] 13.6010478  9.9545650  9.219208 13.546055   6.534337  13.8298326\n",
       "[33,] 19.0623548  5.0434531 12.702693  9.659422   9.219359   6.2512453\n",
       "[34,] 11.8453990 14.7135604  7.885082 18.993112   9.438164   6.3772786\n",
       "[35,] 12.0005362 12.7802018 11.854652  7.789726   3.369392  15.1545309\n",
       "[36,] 16.5061724 18.4352066  9.232104 12.363408  12.492606   9.8870945\n",
       "[37,]  2.1788554  7.3318010  7.175127 11.619894  13.606673  13.4893559\n",
       "[38,] 13.7593657 19.5539527  6.634235 18.188023   9.607719  11.7896649\n",
       "[39,] 11.3477297 10.4322171 11.656039  9.688368  24.367611  14.2873469\n",
       "[40,] 18.3372796  7.5372222  9.760791  6.978490  11.556772   1.2672583\n",
       "[41,]  5.6528211 12.2755346  7.143526 14.723973   7.447494   6.4745735\n",
       "[42,]  6.9432175 16.8889384  7.595332 12.961210   9.132343   7.0567145\n",
       "[43,]  9.7317034  5.7198956  6.272667  7.018809  11.042556  14.2220875\n",
       "[44,] 14.7016342  4.6072605 14.927354 14.287696   9.369733  13.6602260\n",
       "[45,]  4.3228520  7.2989301 13.387964 11.036680   7.452957  12.2735026\n",
       "[46,]  2.2697992  6.0970746 10.001521  0.865036   8.798166   6.4914087\n",
       "[47,]  0.8454744 10.9776611 14.394873  4.467400   5.834625   6.0444385\n",
       "[48,]  5.7433236 10.5074174  5.837190  7.026152   6.342301   9.8126363\n",
       "[49,] 16.0617349  9.7726514  7.143359  9.413924  14.532348   3.1951688\n",
       "[50,] 13.0758689 10.6277858  9.215714 12.289201  13.930451   0.8290686\n",
       "[51,] 14.6659658 12.5047912 14.603359 16.187090   9.354687  10.1168744\n",
       "[52,] 17.5190934  9.5992931  6.956546  7.985018   8.910991  13.4624465\n",
       "[53,]  6.0804904 13.2097168 12.363375  9.962162  13.633416  10.2501564\n",
       "[54,] 17.9516036 10.4611078  9.771396  5.241842   8.578368  12.5893486\n",
       "[55,] 13.4172013  9.6285345  4.960144  8.070804  16.542495  10.2812834\n",
       "[56,] 13.4792999  7.5238982 11.063726  8.584306  10.497388   7.5750167\n",
       "[57,] 10.9694727  0.8169286  6.467553  7.327629  15.339409  13.8414454\n",
       "[58,]  8.2432525  8.2334650 10.948438 18.776501  12.612390   1.9722614\n",
       "[59,]  2.4590397 11.0684018 14.576365 13.141391  16.562964  10.7992674\n",
       "[60,] 10.1678501 14.9576269 12.078908  8.952811   2.344555   7.0586607\n",
       "[61,]  5.8278120 10.3937957  7.299769 14.620322   8.600080  11.8772736\n",
       "      [,7]      [,8]       [,9]      [,10]      [,11] [,12]     [,13]    \n",
       " [1,]  9.260482 13.3121085 10.744280 11.8922811 ⋯     14.927303  7.761441\n",
       " [2,] 11.261661 15.6375725 11.136238 11.3329627 ⋯      9.090321 13.628204\n",
       " [3,] 17.489003 13.6780604  7.229572 12.2757147 ⋯      6.545973 11.495756\n",
       " [4,]  6.648086 12.0563282  6.044242  9.2237024 ⋯      9.817449  8.181637\n",
       " [5,]  5.348172  3.1322507  9.036996  8.0580927 ⋯     10.544913 13.170033\n",
       " [6,] 15.190659 15.7822423 11.172354 12.2445247 ⋯     12.995545  5.998408\n",
       " [7,] 11.630889  8.5597171 10.756870  9.4591236 ⋯     10.365670  9.397100\n",
       " [8,] 13.476205 10.6745399 11.157751  4.5700871 ⋯     11.267914  4.654623\n",
       " [9,]  9.081497 15.2931719 15.063551  7.8525078 ⋯     18.535945 11.952810\n",
       "[10,]  9.607416 11.9328053 16.464865 12.3308810 ⋯      6.556751 14.026541\n",
       "[11,]  5.799274  8.9198155 10.016382 18.3674137 ⋯     11.021343  8.028079\n",
       "[12,]  7.703985  7.8098636  3.531849  0.9958448 ⋯     13.165634  6.180286\n",
       "[13,] 17.503009  3.5992269  2.911456  8.2892121 ⋯     17.225236  8.556031\n",
       "[14,] 12.918847  1.5105229 13.315365  5.0890890 ⋯      5.505911 11.069814\n",
       "[15,]  6.430957 15.3729217 13.702774  6.3720796 ⋯      6.631174  7.176327\n",
       "[16,]  9.354472 20.4787728 14.517434 14.7827742 ⋯      9.349664 14.812688\n",
       "[17,] 13.478787  0.3809815  6.236959 13.0929633 ⋯      5.477088  6.046897\n",
       "[18,]  9.272770  9.9149560  8.073985  2.5429673 ⋯     15.476795 11.570030\n",
       "[19,]  7.513512 14.4034825 13.500907  9.5442435 ⋯     16.436898 16.393106\n",
       "[20,]  4.113841 16.1617112 13.193780  6.4206968 ⋯      4.299862 11.051396\n",
       "[21,]  8.199924 11.0498875  6.033543 13.5705852 ⋯     10.816347 10.324184\n",
       "[22,]  6.407956 12.3838386 10.836818  7.4466271 ⋯     10.466196  9.072466\n",
       "[23,] 16.969189  3.6776993 13.814469  8.7032284 ⋯      6.835225  7.231210\n",
       "[24,] 10.405253 13.0749193 13.710038 14.3417249 ⋯      7.512069  6.213231\n",
       "[25,] 13.553047  3.4704235  7.052687  9.2102654 ⋯     10.812920 15.584488\n",
       "[26,] 15.145538 10.8553717  8.382783 18.0277211 ⋯      8.785337  6.565680\n",
       "[27,]  2.964743 11.0483567  5.076368  7.5506156 ⋯     12.808987  7.466860\n",
       "[28,]  9.073025 13.9739637 11.556480 10.3110113 ⋯     10.493258  5.228933\n",
       "[29,] 17.532723  8.2598032 13.002207 12.5448464 ⋯      6.526044  9.566086\n",
       "[30,] 10.900819  7.3152356  4.367561  6.9012364 ⋯      0.806213  9.153077\n",
       "[31,] ⋮         ⋮          ⋮         ⋮          ⋱     ⋮         ⋮        \n",
       "[32,] 15.642895 14.034698   8.891070  7.554070  ⋯      7.126349  8.546560\n",
       "[33,] 12.931255  8.383704  15.450150 12.895485  ⋯      9.896733  7.718483\n",
       "[34,] 15.070556  5.566768   2.903642  8.357085  ⋯      9.910471  5.310539\n",
       "[35,] 18.762736  4.800362  11.097110  9.191025  ⋯     13.006001  6.131225\n",
       "[36,]  8.591597 10.597309   7.314416  7.970338  ⋯     14.802311  7.057482\n",
       "[37,] 14.466721 11.151308  11.844396  8.607740  ⋯     15.927080 10.898372\n",
       "[38,] 14.564133  9.541351  10.225774 11.203505  ⋯     18.749462 12.811701\n",
       "[39,]  8.870196 10.899691  12.065077 12.957434  ⋯     13.649706 10.792396\n",
       "[40,] 10.526800  8.876122  14.735174  7.033220  ⋯     12.883777 11.262709\n",
       "[41,] 10.495963 10.029969   1.616784  2.973906  ⋯      8.254853  9.419750\n",
       "[42,]  7.952253 14.845329   5.312264 13.667988  ⋯     10.995846  8.530085\n",
       "[43,]  7.249083  4.945572  10.548469 10.653829  ⋯      7.819843 14.964158\n",
       "[44,] 16.248514  8.607130  13.585611 16.253180  ⋯      9.680346 11.538730\n",
       "[45,]  9.994776 13.236056  13.686025  6.734123  ⋯      6.207643  7.828896\n",
       "[46,]  5.500044 13.023720   9.777887  7.281955  ⋯     14.736245 11.670282\n",
       "[47,] 10.941621 14.441717   7.863200 12.782170  ⋯     11.718742 11.624468\n",
       "[48,]  7.347921  2.740850   9.200052 11.124421  ⋯     15.983782 14.610728\n",
       "[49,]  5.633432  7.875961   8.404376  5.231235  ⋯      7.115787  9.933158\n",
       "[50,] 16.184317  8.574274   8.061629 11.044667  ⋯     11.495159  7.283739\n",
       "[51,] 10.322059  4.115289   8.930954 11.924921  ⋯      8.413069  8.421240\n",
       "[52,] 14.340903  9.857609   4.575640 12.961245  ⋯     12.269976 13.213590\n",
       "[53,] 11.289379  9.905273  12.051338  4.505346  ⋯      8.959580 20.334956\n",
       "[54,] 10.558265  5.380162  10.542091 14.874478  ⋯     14.477853 11.634907\n",
       "[55,] 19.488235 12.647423   8.010261  5.516292  ⋯     10.394373 16.612991\n",
       "[56,] 11.864079 16.316722   8.912769 13.857430  ⋯     12.583600  9.982400\n",
       "[57,] 13.212946  6.719780   9.897041  2.597281  ⋯      7.342641 12.223786\n",
       "[58,] 12.344144 16.339623   4.828312 10.620193  ⋯      5.573043  6.327394\n",
       "[59,] 11.462102 12.478273  21.058359 10.400347  ⋯      9.683577  6.522439\n",
       "[60,] 14.913937 10.545377   9.866655  7.362296  ⋯      2.176956  1.498018\n",
       "[61,]  8.016795 14.288267  10.011656 14.918114  ⋯     15.051126 14.495259\n",
       "      [,14]     [,15]     [,16]     [,17]      [,18]      [,19]      [,20]    \n",
       " [1,]  7.239293  8.167824 13.151298  6.194997  12.0497028 11.5687859  7.194965\n",
       " [2,] 11.130596 10.586455 10.701363  6.145600   9.7539135 12.2907290 10.403223\n",
       " [3,]  6.034343  7.812939 12.030099 11.563523   9.4935359 18.3543050 14.937409\n",
       " [4,]  5.917555 10.147069  9.668293  9.672510   3.7191108 10.5344491 16.477503\n",
       " [5,] 14.199582  9.738530  5.700553  6.691812   4.0398145  8.9878782 14.014813\n",
       " [6,]  6.282599  4.789194  9.347627 20.326230   5.3759599 16.6788804  7.742613\n",
       " [7,]  4.798493  8.909583  8.748524 -3.012737  10.4658034 12.8266460  8.549616\n",
       " [8,] 14.613204  8.554618 11.196942 13.709020   9.2242252 11.8940849 13.053163\n",
       " [9,]  8.798268  7.524930 10.732712 -3.467104  17.0520450 14.4736540  4.169313\n",
       "[10,]  2.120194 16.946849 10.573797 10.671311  15.9213626  3.8403288 10.685400\n",
       "[11,] 12.813544 11.408069  5.217266  9.929637  12.2531251  6.6811524  2.448014\n",
       "[12,] 12.379103  3.026415 13.558476  8.640350  16.2399166 12.7827174  8.724524\n",
       "[13,] 13.600292  6.271506 18.033225  8.987618   8.4885952 15.3943602  8.034022\n",
       "[14,]  5.817019 12.782663 12.107923  8.895058   9.2171402  7.8015543 12.988936\n",
       "[15,]  9.795313 11.413272 11.317615  8.333705  16.5496908 12.7917973 18.065527\n",
       "[16,] 11.143807  7.054087  7.635398  7.634297  13.6600786  2.2486775  4.103971\n",
       "[17,] 10.524536  6.920995 13.187274 10.095003  16.2168839  8.9879170 13.381814\n",
       "[18,]  3.417950  4.482231 19.656844  8.458803   6.7160401  2.9429114  3.433408\n",
       "[19,] 11.857135 10.679764  9.882449 11.647823   6.1493834 13.7290222 16.768370\n",
       "[20,]  8.498012 13.990188 12.282829 12.090766   0.6623183  9.8603694  8.344271\n",
       "[21,]  8.724907  8.432775  2.070401 17.023147   8.8579024 12.3699591  8.846481\n",
       "[22,]  5.120466  7.048963 12.326252  8.712362   5.3242371 11.3132415 10.285216\n",
       "[23,]  8.797739  5.403389 16.737670 10.622747  11.7492071  1.8142290  6.377776\n",
       "[24,] 13.514648  8.277796 15.767692  7.057573  10.2289211 15.7801425 15.175525\n",
       "[25,] 10.489876  9.864758  8.292686  2.485175  10.0972472  0.5734615  3.490126\n",
       "[26,] 12.510035 12.066602  6.151790 12.495307   5.4804171 17.9516969 12.991395\n",
       "[27,] 17.108187 13.341278 14.905412 12.270376  16.7880201 13.8612112  7.115264\n",
       "[28,] 12.980289 12.523409  8.006980 10.553832   5.3203474 13.1834906  8.425339\n",
       "[29,] 12.364936  5.877261 14.777057  7.958816   8.0925999 11.0837219  6.844583\n",
       "[30,] 12.208102 11.762781  1.967882  7.135103   6.5551081 15.4693522  2.467580\n",
       "[31,] ⋮         ⋮         ⋮         ⋮          ⋮          ⋮          ⋮        \n",
       "[32,] 12.259187  6.284560  3.236068 13.7542648 10.433579   8.139587   8.108156\n",
       "[33,]  9.523056 16.910528 12.082846 11.3980692  7.610943   6.521394  10.955301\n",
       "[34,]  8.710284  5.593678 10.417992  6.0850107 12.481123   1.176891   4.510363\n",
       "[35,] 12.929961  6.908405  9.122661  8.9255641 11.053703   8.531838   8.610244\n",
       "[36,] 13.689780  7.143255  7.143744 20.5645553  8.638693   5.273788  13.613493\n",
       "[37,]  9.710920  5.517264 14.114760  1.3585538 17.447279  13.558193  12.137589\n",
       "[38,]  9.311505 11.611538 11.639289 10.4188830  4.294760  11.993213   8.352706\n",
       "[39,]  9.495014  8.028184  7.299843  6.7838537  4.706493  13.059826   6.242665\n",
       "[40,] 16.597803  6.985112 12.905891 14.4364085 11.072656   7.347770   5.666210\n",
       "[41,]  4.999100 11.910409 14.885012 -1.3944107 15.866309  14.530927  14.485506\n",
       "[42,] 10.191120  4.225064 17.650366 13.3884861  8.215464  10.251318  16.374104\n",
       "[43,]  8.072002  7.826341  9.194398  0.7634686  9.138354  13.097656   7.443080\n",
       "[44,]  9.238875  8.175445 10.097661  8.3828787 11.974327   6.272739  14.625824\n",
       "[45,] 10.819901  9.818385 13.964561 12.3936796  7.565681   9.374864   2.984813\n",
       "[46,]  7.024117 14.453166  8.813358  8.3717060 13.473430  10.679987  14.908699\n",
       "[47,]  8.375909 15.900897  3.962395 14.5725256 15.800261  13.825373  11.648855\n",
       "[48,] 14.265250 11.111710  8.950644 17.4124623  5.448688   8.242344  12.799499\n",
       "[49,]  9.386103  8.581579  7.793567  9.5339090  6.535299  10.642382   3.704274\n",
       "[50,]  6.371374 16.074982 10.834844  1.7545488 17.584133  13.106055   9.066983\n",
       "[51,]  2.146758 12.911085  4.583517 11.5266426  4.779032   6.416830   4.053678\n",
       "[52,]  9.088102 11.067082  5.521036  9.6949129  9.236513   8.374849   5.426915\n",
       "[53,]  9.279376  9.312248 14.623396  8.5068042 13.824481  -3.181155   8.329285\n",
       "[54,]  8.352554 12.495309 12.966099  2.5462362  5.745391   6.215690  16.153081\n",
       "[55,] 16.931193  4.551468  4.820577  2.4377507 12.342321  10.496890  17.086052\n",
       "[56,] 14.645846  8.360675 13.069278 17.6061854 13.594458   7.184753  12.934882\n",
       "[57,] 12.414558  8.657981  5.297387  7.0836792 12.974499   8.465437   8.248589\n",
       "[58,]  7.665509  3.595374 12.233081  8.1489075 18.666073  15.839155  11.727635\n",
       "[59,] 10.059764 14.358887 12.932492  8.6068171  5.069658  10.727305   8.681383\n",
       "[60,] 12.983349 12.130454 11.086450 10.2621778  8.999970   4.374307  12.703609\n",
       "[61,] 12.556529 12.918019  4.082263  8.8413674 11.591592   9.121509  13.829866\n",
       "      [,21]     \n",
       " [1,]  8.9340252\n",
       " [2,]  6.8093390\n",
       " [3,]  8.1620593\n",
       " [4,] 19.1268611\n",
       " [5,] 10.4472829\n",
       " [6,] 15.6953263\n",
       " [7,] 14.1547507\n",
       " [8,] 11.9200417\n",
       " [9,] 13.5920117\n",
       "[10,] 10.0787734\n",
       "[11,]  8.7659482\n",
       "[12,]  4.9646274\n",
       "[13,]  9.5565997\n",
       "[14,] 10.8123641\n",
       "[15,] 10.6605718\n",
       "[16,]  0.2782809\n",
       "[17,]  7.6254560\n",
       "[18,]  6.8735634\n",
       "[19,]  9.2580755\n",
       "[20,]  1.2255416\n",
       "[21,]  2.9278788\n",
       "[22,] 12.0178315\n",
       "[23,] 11.9789188\n",
       "[24,] 15.7301429\n",
       "[25,] 15.1402370\n",
       "[26,] 16.2261613\n",
       "[27,] 11.3211923\n",
       "[28,]  6.1700955\n",
       "[29,] 10.9672236\n",
       "[30,]  1.0847833\n",
       "[31,] ⋮         \n",
       "[32,] 16.0421501\n",
       "[33,] 13.3414607\n",
       "[34,] 15.1101077\n",
       "[35,]  7.2570826\n",
       "[36,]  9.1873922\n",
       "[37,] 10.6994895\n",
       "[38,]  7.8386992\n",
       "[39,]  8.1765623\n",
       "[40,]  7.9369226\n",
       "[41,] 11.6459222\n",
       "[42,]  6.6392267\n",
       "[43,] 11.1208528\n",
       "[44,]  9.7174604\n",
       "[45,]  5.8151625\n",
       "[46,] 11.9943911\n",
       "[47,]  6.8718429\n",
       "[48,]  2.7848168\n",
       "[49,] 11.8381987\n",
       "[50,] 10.8351112\n",
       "[51,]  5.9187228\n",
       "[52,] 13.0395931\n",
       "[53,]  9.9404758\n",
       "[54,] 15.5414551\n",
       "[55,] 11.2628385\n",
       "[56,] 11.1345632\n",
       "[57,]  0.9901659\n",
       "[58,] 18.3357447\n",
       "[59,] 13.5306468\n",
       "[60,] 11.4411589\n",
       "[61,]  9.3921713"
      ]
     },
     "metadata": {},
     "output_type": "display_data"
    }
   ],
   "source": [
    "MatNorm"
   ]
  },
  {
   "cell_type": "markdown",
   "metadata": {},
   "source": [
    "¿Qué resulta de la siguiente operación?"
   ]
  },
  {
   "cell_type": "code",
   "execution_count": 15,
   "metadata": {
    "scrolled": true
   },
   "outputs": [
    {
     "data": {
      "text/html": [
       "<table>\n",
       "<caption>A matrix: 2000 × 1 of type dbl</caption>\n",
       "<tbody>\n",
       "\t<tr><td>1</td></tr>\n",
       "\t<tr><td>1</td></tr>\n",
       "\t<tr><td>1</td></tr>\n",
       "\t<tr><td>1</td></tr>\n",
       "\t<tr><td>1</td></tr>\n",
       "\t<tr><td>1</td></tr>\n",
       "\t<tr><td>1</td></tr>\n",
       "\t<tr><td>1</td></tr>\n",
       "\t<tr><td>1</td></tr>\n",
       "\t<tr><td>1</td></tr>\n",
       "\t<tr><td>1</td></tr>\n",
       "\t<tr><td>1</td></tr>\n",
       "\t<tr><td>1</td></tr>\n",
       "\t<tr><td>1</td></tr>\n",
       "\t<tr><td>1</td></tr>\n",
       "\t<tr><td>1</td></tr>\n",
       "\t<tr><td>1</td></tr>\n",
       "\t<tr><td>1</td></tr>\n",
       "\t<tr><td>1</td></tr>\n",
       "\t<tr><td>1</td></tr>\n",
       "\t<tr><td>1</td></tr>\n",
       "\t<tr><td>1</td></tr>\n",
       "\t<tr><td>1</td></tr>\n",
       "\t<tr><td>1</td></tr>\n",
       "\t<tr><td>1</td></tr>\n",
       "\t<tr><td>1</td></tr>\n",
       "\t<tr><td>1</td></tr>\n",
       "\t<tr><td>1</td></tr>\n",
       "\t<tr><td>1</td></tr>\n",
       "\t<tr><td>1</td></tr>\n",
       "\t<tr><td>⋮</td></tr>\n",
       "\t<tr><td>1</td></tr>\n",
       "\t<tr><td>1</td></tr>\n",
       "\t<tr><td>1</td></tr>\n",
       "\t<tr><td>1</td></tr>\n",
       "\t<tr><td>1</td></tr>\n",
       "\t<tr><td>1</td></tr>\n",
       "\t<tr><td>1</td></tr>\n",
       "\t<tr><td>1</td></tr>\n",
       "\t<tr><td>1</td></tr>\n",
       "\t<tr><td>1</td></tr>\n",
       "\t<tr><td>1</td></tr>\n",
       "\t<tr><td>1</td></tr>\n",
       "\t<tr><td>1</td></tr>\n",
       "\t<tr><td>1</td></tr>\n",
       "\t<tr><td>1</td></tr>\n",
       "\t<tr><td>1</td></tr>\n",
       "\t<tr><td>1</td></tr>\n",
       "\t<tr><td>1</td></tr>\n",
       "\t<tr><td>1</td></tr>\n",
       "\t<tr><td>1</td></tr>\n",
       "\t<tr><td>1</td></tr>\n",
       "\t<tr><td>1</td></tr>\n",
       "\t<tr><td>1</td></tr>\n",
       "\t<tr><td>1</td></tr>\n",
       "\t<tr><td>1</td></tr>\n",
       "\t<tr><td>1</td></tr>\n",
       "\t<tr><td>1</td></tr>\n",
       "\t<tr><td>1</td></tr>\n",
       "\t<tr><td>1</td></tr>\n",
       "\t<tr><td>1</td></tr>\n",
       "</tbody>\n",
       "</table>\n"
      ],
      "text/latex": [
       "A matrix: 2000 × 1 of type dbl\n",
       "\\begin{tabular}{l}\n",
       "\t 1\\\\\n",
       "\t 1\\\\\n",
       "\t 1\\\\\n",
       "\t 1\\\\\n",
       "\t 1\\\\\n",
       "\t 1\\\\\n",
       "\t 1\\\\\n",
       "\t 1\\\\\n",
       "\t 1\\\\\n",
       "\t 1\\\\\n",
       "\t 1\\\\\n",
       "\t 1\\\\\n",
       "\t 1\\\\\n",
       "\t 1\\\\\n",
       "\t 1\\\\\n",
       "\t 1\\\\\n",
       "\t 1\\\\\n",
       "\t 1\\\\\n",
       "\t 1\\\\\n",
       "\t 1\\\\\n",
       "\t 1\\\\\n",
       "\t 1\\\\\n",
       "\t 1\\\\\n",
       "\t 1\\\\\n",
       "\t 1\\\\\n",
       "\t 1\\\\\n",
       "\t 1\\\\\n",
       "\t 1\\\\\n",
       "\t 1\\\\\n",
       "\t 1\\\\\n",
       "\t ⋮\\\\\n",
       "\t 1\\\\\n",
       "\t 1\\\\\n",
       "\t 1\\\\\n",
       "\t 1\\\\\n",
       "\t 1\\\\\n",
       "\t 1\\\\\n",
       "\t 1\\\\\n",
       "\t 1\\\\\n",
       "\t 1\\\\\n",
       "\t 1\\\\\n",
       "\t 1\\\\\n",
       "\t 1\\\\\n",
       "\t 1\\\\\n",
       "\t 1\\\\\n",
       "\t 1\\\\\n",
       "\t 1\\\\\n",
       "\t 1\\\\\n",
       "\t 1\\\\\n",
       "\t 1\\\\\n",
       "\t 1\\\\\n",
       "\t 1\\\\\n",
       "\t 1\\\\\n",
       "\t 1\\\\\n",
       "\t 1\\\\\n",
       "\t 1\\\\\n",
       "\t 1\\\\\n",
       "\t 1\\\\\n",
       "\t 1\\\\\n",
       "\t 1\\\\\n",
       "\t 1\\\\\n",
       "\\end{tabular}\n"
      ],
      "text/markdown": [
       "\n",
       "A matrix: 2000 × 1 of type dbl\n",
       "\n",
       "| 1 |\n",
       "| 1 |\n",
       "| 1 |\n",
       "| 1 |\n",
       "| 1 |\n",
       "| 1 |\n",
       "| 1 |\n",
       "| 1 |\n",
       "| 1 |\n",
       "| 1 |\n",
       "| 1 |\n",
       "| 1 |\n",
       "| 1 |\n",
       "| 1 |\n",
       "| 1 |\n",
       "| 1 |\n",
       "| 1 |\n",
       "| 1 |\n",
       "| 1 |\n",
       "| 1 |\n",
       "| 1 |\n",
       "| 1 |\n",
       "| 1 |\n",
       "| 1 |\n",
       "| 1 |\n",
       "| 1 |\n",
       "| 1 |\n",
       "| 1 |\n",
       "| 1 |\n",
       "| 1 |\n",
       "| ⋮ |\n",
       "| 1 |\n",
       "| 1 |\n",
       "| 1 |\n",
       "| 1 |\n",
       "| 1 |\n",
       "| 1 |\n",
       "| 1 |\n",
       "| 1 |\n",
       "| 1 |\n",
       "| 1 |\n",
       "| 1 |\n",
       "| 1 |\n",
       "| 1 |\n",
       "| 1 |\n",
       "| 1 |\n",
       "| 1 |\n",
       "| 1 |\n",
       "| 1 |\n",
       "| 1 |\n",
       "| 1 |\n",
       "| 1 |\n",
       "| 1 |\n",
       "| 1 |\n",
       "| 1 |\n",
       "| 1 |\n",
       "| 1 |\n",
       "| 1 |\n",
       "| 1 |\n",
       "| 1 |\n",
       "| 1 |\n",
       "\n"
      ],
      "text/plain": [
       "      [,1]\n",
       " [1,] 1   \n",
       " [2,] 1   \n",
       " [3,] 1   \n",
       " [4,] 1   \n",
       " [5,] 1   \n",
       " [6,] 1   \n",
       " [7,] 1   \n",
       " [8,] 1   \n",
       " [9,] 1   \n",
       "[10,] 1   \n",
       "[11,] 1   \n",
       "[12,] 1   \n",
       "[13,] 1   \n",
       "[14,] 1   \n",
       "[15,] 1   \n",
       "[16,] 1   \n",
       "[17,] 1   \n",
       "[18,] 1   \n",
       "[19,] 1   \n",
       "[20,] 1   \n",
       "[21,] 1   \n",
       "[22,] 1   \n",
       "[23,] 1   \n",
       "[24,] 1   \n",
       "[25,] 1   \n",
       "[26,] 1   \n",
       "[27,] 1   \n",
       "[28,] 1   \n",
       "[29,] 1   \n",
       "[30,] 1   \n",
       "[31,] ⋮   \n",
       "[32,] 1   \n",
       "[33,] 1   \n",
       "[34,] 1   \n",
       "[35,] 1   \n",
       "[36,] 1   \n",
       "[37,] 1   \n",
       "[38,] 1   \n",
       "[39,] 1   \n",
       "[40,] 1   \n",
       "[41,] 1   \n",
       "[42,] 1   \n",
       "[43,] 1   \n",
       "[44,] 1   \n",
       "[45,] 1   \n",
       "[46,] 1   \n",
       "[47,] 1   \n",
       "[48,] 1   \n",
       "[49,] 1   \n",
       "[50,] 1   \n",
       "[51,] 1   \n",
       "[52,] 1   \n",
       "[53,] 1   \n",
       "[54,] 1   \n",
       "[55,] 1   \n",
       "[56,] 1   \n",
       "[57,] 1   \n",
       "[58,] 1   \n",
       "[59,] 1   \n",
       "[60,] 1   \n",
       "[61,] 1   "
      ]
     },
     "metadata": {},
     "output_type": "display_data"
    }
   ],
   "source": [
    "# Vector de 1's\n",
    "matrix(1, n)"
   ]
  },
  {
   "cell_type": "code",
   "execution_count": 16,
   "metadata": {},
   "outputs": [
    {
     "data": {
      "text/html": [
       "<table>\n",
       "<caption>A matrix: 1 × 2000 of type dbl</caption>\n",
       "<tbody>\n",
       "\t<tr><td>9.987768</td><td>9.933889</td><td>10.16351</td><td>10.20862</td><td>10.02952</td><td>10.03597</td><td>10.0966</td><td>9.942281</td><td>10.128</td><td>9.968392</td><td>⋯</td><td>10.05477</td><td>10.12126</td><td>9.993601</td><td>9.979465</td><td>9.945099</td><td>9.918196</td><td>9.995945</td><td>9.908851</td><td>10.2111</td><td>10.05083</td></tr>\n",
       "</tbody>\n",
       "</table>\n"
      ],
      "text/latex": [
       "A matrix: 1 × 2000 of type dbl\n",
       "\\begin{tabular}{lllllllllllllllllllll}\n",
       "\t 9.987768 & 9.933889 & 10.16351 & 10.20862 & 10.02952 & 10.03597 & 10.0966 & 9.942281 & 10.128 & 9.968392 & ⋯ & 10.05477 & 10.12126 & 9.993601 & 9.979465 & 9.945099 & 9.918196 & 9.995945 & 9.908851 & 10.2111 & 10.05083\\\\\n",
       "\\end{tabular}\n"
      ],
      "text/markdown": [
       "\n",
       "A matrix: 1 × 2000 of type dbl\n",
       "\n",
       "| 9.987768 | 9.933889 | 10.16351 | 10.20862 | 10.02952 | 10.03597 | 10.0966 | 9.942281 | 10.128 | 9.968392 | ⋯ | 10.05477 | 10.12126 | 9.993601 | 9.979465 | 9.945099 | 9.918196 | 9.995945 | 9.908851 | 10.2111 | 10.05083 |\n",
       "\n"
      ],
      "text/plain": [
       "     [,1]     [,2]     [,3]     [,4]     [,5]     [,6]     [,7]    [,8]    \n",
       "[1,] 9.987768 9.933889 10.16351 10.20862 10.02952 10.03597 10.0966 9.942281\n",
       "     [,9]   [,10]    [,11] [,12]    [,13]    [,14]    [,15]    [,16]   \n",
       "[1,] 10.128 9.968392 ⋯     10.05477 10.12126 9.993601 9.979465 9.945099\n",
       "     [,17]    [,18]    [,19]    [,20]   [,21]   \n",
       "[1,] 9.918196 9.995945 9.908851 10.2111 10.05083"
      ]
     },
     "metadata": {},
     "output_type": "display_data"
    }
   ],
   "source": [
    "# Media por columnas\n",
    "t(matrix(1, n))%*%MatNorm/n"
   ]
  },
  {
   "cell_type": "markdown",
   "metadata": {},
   "source": [
    "Se pueden extraer más propiedades de cualquier matriz aleatoria de esa manera. Por otro lado, esa misma operación se puede calcular mediante:"
   ]
  },
  {
   "cell_type": "code",
   "execution_count": 17,
   "metadata": {
    "scrolled": true
   },
   "outputs": [
    {
     "data": {
      "text/html": [
       "<style>\n",
       ".list-inline {list-style: none; margin:0; padding: 0}\n",
       ".list-inline>li {display: inline-block}\n",
       ".list-inline>li:not(:last-child)::after {content: \"\\00b7\"; padding: 0 .5ex}\n",
       "</style>\n",
       "<ol class=list-inline><li>9.98776769595726</li><li>9.93388922706935</li><li>10.1635082117304</li><li>10.2086188951863</li><li>10.0295155058487</li><li>10.035973150138</li><li>10.0965985881832</li><li>9.94228087351664</li><li>10.1279972399838</li><li>9.96839186303058</li><li>9.95840166765833</li><li>10.0215356577561</li><li>9.91494269833277</li><li>10.0752563859442</li><li>9.77235382867264</li><li>10.0829509725554</li><li>9.87872569531873</li><li>9.9975374186059</li><li>10.0529298263382</li><li>10.0212738075178</li><li>10.0631512137939</li><li>9.7832942277041</li><li>9.81242984173874</li><li>9.68164304629272</li><li>9.98481429421422</li><li>10.1188664557416</li><li>9.93194253468396</li><li>9.952727632588</li><li>9.94641864331437</li><li>9.97945230973262</li><li>10.0972031137869</li><li>9.96316016599043</li><li>10.0675967107078</li><li>9.99763611314176</li><li>9.77049268007702</li><li>9.99090901106175</li><li>9.9728971211613</li><li>10.0837860569676</li><li>10.0687209244766</li><li>9.94013752630502</li><li>9.97624517087111</li><li>9.83411546777151</li><li>10.0995677764512</li><li>9.9533737507337</li><li>9.97070075085627</li><li>9.93639250989748</li><li>10.1100188002253</li><li>10.0221212876815</li><li>9.96087455794536</li><li>10.0106433232529</li><li>9.91155470284764</li><li>9.96828969637829</li><li>10.0062242994017</li><li>10.0443869906482</li><li>9.96710463470685</li><li>10.0680697901629</li><li>10.1624681231418</li><li>9.82485037558065</li><li>10.0755508561864</li><li>10.1387292364897</li><li>9.93956207499273</li><li>10.1036727780789</li><li>9.98195024784939</li><li>10.0813836814749</li><li>10.0150124240545</li><li>10.1424070301066</li><li>9.96109636264705</li><li>10.1588844337035</li><li>9.89878251234216</li><li>9.8586005866796</li><li>10.0922353773745</li><li>10.0928130913237</li><li>10.0112186541096</li><li>10.0113522809199</li><li>10.0073144761292</li><li>9.96192959667124</li><li>10.0788015325905</li><li>10.1060178408228</li><li>10.1122672867289</li><li>9.88944693783396</li><li>10.0504212360697</li><li>10.074121250717</li><li>10.02058963912</li><li>10.0564201683604</li><li>10.0126955440893</li><li>9.94379464148692</li><li>10.0066085359266</li><li>10.0182381295803</li><li>10.0870407756239</li><li>9.98080997609954</li><li>10.0290195568753</li><li>9.99493920932255</li><li>10.078923098952</li><li>10.1073707943844</li><li>10.004590029365</li><li>9.96838766779956</li><li>9.95440301568634</li><li>10.0456770150916</li><li>10.0518264484251</li><li>9.96378813566199</li><li>9.97721710264808</li><li>10.0477793482897</li><li>10.0205619794154</li><li>9.92948201867591</li><li>10.0032939830068</li><li>10.045386528295</li><li>10.0290778491306</li><li>10.0293097297795</li><li>9.76269662759346</li><li>9.94561328757035</li><li>10.0246115871623</li><li>9.97058729910274</li><li>10.0045311008109</li><li>10.1396123227262</li><li>9.92644227946563</li><li>9.93864608267187</li><li>9.85419006510069</li><li>10.0145553838094</li><li>9.98274861444281</li><li>10.0361206524334</li><li>9.96016340038731</li><li>10.0637170545603</li><li>10.0481658501253</li><li>9.95802478207924</li><li>9.93165608317114</li><li>9.93064064744116</li><li>9.87607529765123</li><li>9.93400264580358</li><li>10.0512732998108</li><li>9.97410646316213</li><li>10.0976049699567</li><li>10.0667827083916</li><li>10.064464776061</li><li>9.9848717215502</li><li>9.82481309608468</li><li>10.0417232452158</li><li>9.95693429445554</li><li>9.96373550057961</li><li>9.89369657648692</li><li>9.9573805064817</li><li>9.93351973490404</li><li>9.95138326336871</li><li>9.97408502372132</li><li>10.0302899141562</li><li>9.94226895230614</li><li>10.0583862441271</li><li>10.1275391855027</li><li>9.90405526688238</li><li>9.96616247688344</li><li>9.99525472345426</li><li>9.99903773856009</li><li>9.94432378542923</li><li>9.90669917109653</li><li>10.0479483016534</li><li>9.88981886446294</li><li>10.0040013930697</li><li>9.94816115871656</li><li>9.9368182367329</li><li>9.97153111670816</li><li>10.0662002791294</li><li>10.2127212004627</li><li>9.9955280391281</li><li>9.80185730275179</li><li>9.97855714127533</li><li>9.904268084193</li><li>9.97730407437729</li><li>10.1367513590132</li><li>10.0405238250599</li><li>9.96536836618244</li><li>9.94922500679434</li><li>10.0459342729181</li><li>9.91292925093559</li><li>9.99191331060419</li><li>10.0772380971173</li><li>9.92826875724288</li><li>10.1261804229227</li><li>9.82175999311229</li><li>10.0245514795842</li><li>9.64721274975042</li><li>9.96749564881642</li><li>10.0162019277509</li><li>9.92439747286248</li><li>10.1052398763014</li><li>9.96028511423448</li><li>9.85638005251105</li><li>10.1059625474513</li><li>10.0698907233492</li><li>10.0363771782108</li><li>10.0826025947748</li><li>9.94135374164542</li><li>9.99891715799581</li><li>9.83745372106786</li><li>9.97446010814313</li><li>9.87998132136445</li><li>10.0008517389146</li><li>10.0305429607939</li><li>9.83606790462851</li><li>10.0356170981854</li><li>9.99573930814291</li><li>9.82470735825697</li><li>⋯</li><li>10.0851137993983</li><li>10.1272027730972</li><li>9.88645028312591</li><li>10.0441466659539</li><li>9.93536736782735</li><li>9.89208744044719</li><li>10.1216556761156</li><li>10.035341987215</li><li>10.0080234499036</li><li>9.9860320555304</li><li>10.0167246074773</li><li>10.0535985693781</li><li>9.81876552409953</li><li>10.0284615096065</li><li>10.1534307604621</li><li>9.8501689290261</li><li>10.0986903705118</li><li>9.91836058913267</li><li>10.0975389095344</li><li>10.0615985451339</li><li>9.98019399046331</li><li>9.94642005010186</li><li>9.9158079753927</li><li>9.89304522534693</li><li>9.95823009134352</li><li>9.94131876573276</li><li>10.1048350831239</li><li>10.0237798558875</li><li>10.1747208825651</li><li>10.0665560750476</li><li>10.043931174831</li><li>10.0390120765779</li><li>10.12708761586</li><li>9.98569039987461</li><li>10.1102116599086</li><li>10.1815536408874</li><li>10.0780417206587</li><li>9.95252003689037</li><li>10.0607869168176</li><li>9.93941001920515</li><li>10.1054561338282</li><li>9.95405187349633</li><li>10.0394285611674</li><li>9.89797752138005</li><li>10.2264633708667</li><li>9.94723526207401</li><li>9.96312619474675</li><li>10.0015446845782</li><li>9.99615501958765</li><li>9.92130947542808</li><li>9.91172780401279</li><li>9.84824045972212</li><li>10.1112158245522</li><li>10.0158761691965</li><li>10.0753190419212</li><li>10.0619497454095</li><li>10.1157902053257</li><li>9.97438315022306</li><li>10.0792712729091</li><li>10.0821277718314</li><li>10.0222906053513</li><li>10.0174152964064</li><li>9.85329050541479</li><li>9.92525228052396</li><li>9.97054531661051</li><li>9.94871077138285</li><li>10.0284690293429</li><li>10.0969077996369</li><li>9.95992187330422</li><li>10.1347692378341</li><li>10.0500765724713</li><li>10.0473153423457</li><li>10.1150276370623</li><li>9.98093857448123</li><li>10.0581069386506</li><li>9.95463590484767</li><li>10.0022528361927</li><li>9.95367757228797</li><li>9.97780056774247</li><li>10.025087403792</li><li>9.88151684766981</li><li>9.83326149129034</li><li>9.89893546548999</li><li>9.97370754843771</li><li>9.89490328683014</li><li>10.0460305950907</li><li>10.0186922266116</li><li>9.92358091869716</li><li>9.93055071568124</li><li>9.86800904962347</li><li>9.9764743259259</li><li>10.2061869530168</li><li>10.0993148449003</li><li>10.0080733693226</li><li>10.2465880820562</li><li>10.1856328490401</li><li>9.96315007653989</li><li>9.95065062930339</li><li>10.0327251842504</li><li>10.0352832768917</li><li>10.0935268216704</li><li>9.98371393960061</li><li>9.95117720702542</li><li>9.81789789041015</li><li>10.0043388506633</li><li>9.94459963986187</li><li>10.0767268301879</li><li>10.0077287811745</li><li>9.9754101683488</li><li>9.81356975662477</li><li>10.0726324256424</li><li>9.94201279482322</li><li>9.95594175450361</li><li>10.0079293489694</li><li>10.00296733616</li><li>9.9512940845684</li><li>9.91890933147488</li><li>10.1191194248396</li><li>10.0852484741192</li><li>9.95514671372366</li><li>10.0534000788044</li><li>9.90991564986906</li><li>9.97435134723288</li><li>10.0991273152407</li><li>10.06768953111</li><li>10.0784041811343</li><li>10.016054571692</li><li>10.0619516594708</li><li>10.0715029906596</li><li>10.0156268884851</li><li>10.0711830736429</li><li>10.2296421245624</li><li>10.0000325152772</li><li>9.85211579256331</li><li>9.94225071963473</li><li>9.98831002203261</li><li>10.0554877967352</li><li>9.96478051241781</li><li>9.94257966732796</li><li>9.95526121783585</li><li>10.070232511036</li><li>10.0214070772511</li><li>9.99110861088947</li><li>10.0580770821095</li><li>9.94017550613054</li><li>9.91532750878946</li><li>9.8360881657306</li><li>10.0365478667592</li><li>9.95316419530447</li><li>9.96099001157873</li><li>10.013612477362</li><li>10.2085386656084</li><li>10.2448916496305</li><li>9.95902355766865</li><li>10.0537770726567</li><li>10.0503585798147</li><li>9.98070709167798</li><li>10.0088199073428</li><li>10.031124764412</li><li>10.0347531567355</li><li>10.0040354097147</li><li>9.93168798309861</li><li>9.90528055815247</li><li>10.0926368510132</li><li>10.0084238826259</li><li>10.0647315960347</li><li>10.0306443363214</li><li>9.98691636683354</li><li>10.0668453137164</li><li>10.0660139092692</li><li>10.0294739001704</li><li>10.038379059703</li><li>10.0510138744023</li><li>10.0690054730104</li><li>10.1745964182357</li><li>9.92803266503899</li><li>10.0565907925235</li><li>10.0724502440623</li><li>9.88261473585077</li><li>9.83844502088288</li><li>9.87306780861709</li><li>10.0492937074225</li><li>9.99367245523215</li><li>9.90956305913822</li><li>10.0183993635402</li><li>10.0848793656172</li><li>10.0721315647427</li><li>10.1217606618099</li><li>10.0275627380135</li><li>10.0282514383145</li><li>10.054765649581</li><li>10.1212648919648</li><li>9.99360118154292</li><li>9.97946535893538</li><li>9.94509897993396</li><li>9.91819629579784</li><li>9.99594456751696</li><li>9.90885071469371</li><li>10.2111013211423</li><li>10.0508308795942</li></ol>\n"
      ],
      "text/latex": [
       "\\begin{enumerate*}\n",
       "\\item 9.98776769595726\n",
       "\\item 9.93388922706935\n",
       "\\item 10.1635082117304\n",
       "\\item 10.2086188951863\n",
       "\\item 10.0295155058487\n",
       "\\item 10.035973150138\n",
       "\\item 10.0965985881832\n",
       "\\item 9.94228087351664\n",
       "\\item 10.1279972399838\n",
       "\\item 9.96839186303058\n",
       "\\item 9.95840166765833\n",
       "\\item 10.0215356577561\n",
       "\\item 9.91494269833277\n",
       "\\item 10.0752563859442\n",
       "\\item 9.77235382867264\n",
       "\\item 10.0829509725554\n",
       "\\item 9.87872569531873\n",
       "\\item 9.9975374186059\n",
       "\\item 10.0529298263382\n",
       "\\item 10.0212738075178\n",
       "\\item 10.0631512137939\n",
       "\\item 9.7832942277041\n",
       "\\item 9.81242984173874\n",
       "\\item 9.68164304629272\n",
       "\\item 9.98481429421422\n",
       "\\item 10.1188664557416\n",
       "\\item 9.93194253468396\n",
       "\\item 9.952727632588\n",
       "\\item 9.94641864331437\n",
       "\\item 9.97945230973262\n",
       "\\item 10.0972031137869\n",
       "\\item 9.96316016599043\n",
       "\\item 10.0675967107078\n",
       "\\item 9.99763611314176\n",
       "\\item 9.77049268007702\n",
       "\\item 9.99090901106175\n",
       "\\item 9.9728971211613\n",
       "\\item 10.0837860569676\n",
       "\\item 10.0687209244766\n",
       "\\item 9.94013752630502\n",
       "\\item 9.97624517087111\n",
       "\\item 9.83411546777151\n",
       "\\item 10.0995677764512\n",
       "\\item 9.9533737507337\n",
       "\\item 9.97070075085627\n",
       "\\item 9.93639250989748\n",
       "\\item 10.1100188002253\n",
       "\\item 10.0221212876815\n",
       "\\item 9.96087455794536\n",
       "\\item 10.0106433232529\n",
       "\\item 9.91155470284764\n",
       "\\item 9.96828969637829\n",
       "\\item 10.0062242994017\n",
       "\\item 10.0443869906482\n",
       "\\item 9.96710463470685\n",
       "\\item 10.0680697901629\n",
       "\\item 10.1624681231418\n",
       "\\item 9.82485037558065\n",
       "\\item 10.0755508561864\n",
       "\\item 10.1387292364897\n",
       "\\item 9.93956207499273\n",
       "\\item 10.1036727780789\n",
       "\\item 9.98195024784939\n",
       "\\item 10.0813836814749\n",
       "\\item 10.0150124240545\n",
       "\\item 10.1424070301066\n",
       "\\item 9.96109636264705\n",
       "\\item 10.1588844337035\n",
       "\\item 9.89878251234216\n",
       "\\item 9.8586005866796\n",
       "\\item 10.0922353773745\n",
       "\\item 10.0928130913237\n",
       "\\item 10.0112186541096\n",
       "\\item 10.0113522809199\n",
       "\\item 10.0073144761292\n",
       "\\item 9.96192959667124\n",
       "\\item 10.0788015325905\n",
       "\\item 10.1060178408228\n",
       "\\item 10.1122672867289\n",
       "\\item 9.88944693783396\n",
       "\\item 10.0504212360697\n",
       "\\item 10.074121250717\n",
       "\\item 10.02058963912\n",
       "\\item 10.0564201683604\n",
       "\\item 10.0126955440893\n",
       "\\item 9.94379464148692\n",
       "\\item 10.0066085359266\n",
       "\\item 10.0182381295803\n",
       "\\item 10.0870407756239\n",
       "\\item 9.98080997609954\n",
       "\\item 10.0290195568753\n",
       "\\item 9.99493920932255\n",
       "\\item 10.078923098952\n",
       "\\item 10.1073707943844\n",
       "\\item 10.004590029365\n",
       "\\item 9.96838766779956\n",
       "\\item 9.95440301568634\n",
       "\\item 10.0456770150916\n",
       "\\item 10.0518264484251\n",
       "\\item 9.96378813566199\n",
       "\\item 9.97721710264808\n",
       "\\item 10.0477793482897\n",
       "\\item 10.0205619794154\n",
       "\\item 9.92948201867591\n",
       "\\item 10.0032939830068\n",
       "\\item 10.045386528295\n",
       "\\item 10.0290778491306\n",
       "\\item 10.0293097297795\n",
       "\\item 9.76269662759346\n",
       "\\item 9.94561328757035\n",
       "\\item 10.0246115871623\n",
       "\\item 9.97058729910274\n",
       "\\item 10.0045311008109\n",
       "\\item 10.1396123227262\n",
       "\\item 9.92644227946563\n",
       "\\item 9.93864608267187\n",
       "\\item 9.85419006510069\n",
       "\\item 10.0145553838094\n",
       "\\item 9.98274861444281\n",
       "\\item 10.0361206524334\n",
       "\\item 9.96016340038731\n",
       "\\item 10.0637170545603\n",
       "\\item 10.0481658501253\n",
       "\\item 9.95802478207924\n",
       "\\item 9.93165608317114\n",
       "\\item 9.93064064744116\n",
       "\\item 9.87607529765123\n",
       "\\item 9.93400264580358\n",
       "\\item 10.0512732998108\n",
       "\\item 9.97410646316213\n",
       "\\item 10.0976049699567\n",
       "\\item 10.0667827083916\n",
       "\\item 10.064464776061\n",
       "\\item 9.9848717215502\n",
       "\\item 9.82481309608468\n",
       "\\item 10.0417232452158\n",
       "\\item 9.95693429445554\n",
       "\\item 9.96373550057961\n",
       "\\item 9.89369657648692\n",
       "\\item 9.9573805064817\n",
       "\\item 9.93351973490404\n",
       "\\item 9.95138326336871\n",
       "\\item 9.97408502372132\n",
       "\\item 10.0302899141562\n",
       "\\item 9.94226895230614\n",
       "\\item 10.0583862441271\n",
       "\\item 10.1275391855027\n",
       "\\item 9.90405526688238\n",
       "\\item 9.96616247688344\n",
       "\\item 9.99525472345426\n",
       "\\item 9.99903773856009\n",
       "\\item 9.94432378542923\n",
       "\\item 9.90669917109653\n",
       "\\item 10.0479483016534\n",
       "\\item 9.88981886446294\n",
       "\\item 10.0040013930697\n",
       "\\item 9.94816115871656\n",
       "\\item 9.9368182367329\n",
       "\\item 9.97153111670816\n",
       "\\item 10.0662002791294\n",
       "\\item 10.2127212004627\n",
       "\\item 9.9955280391281\n",
       "\\item 9.80185730275179\n",
       "\\item 9.97855714127533\n",
       "\\item 9.904268084193\n",
       "\\item 9.97730407437729\n",
       "\\item 10.1367513590132\n",
       "\\item 10.0405238250599\n",
       "\\item 9.96536836618244\n",
       "\\item 9.94922500679434\n",
       "\\item 10.0459342729181\n",
       "\\item 9.91292925093559\n",
       "\\item 9.99191331060419\n",
       "\\item 10.0772380971173\n",
       "\\item 9.92826875724288\n",
       "\\item 10.1261804229227\n",
       "\\item 9.82175999311229\n",
       "\\item 10.0245514795842\n",
       "\\item 9.64721274975042\n",
       "\\item 9.96749564881642\n",
       "\\item 10.0162019277509\n",
       "\\item 9.92439747286248\n",
       "\\item 10.1052398763014\n",
       "\\item 9.96028511423448\n",
       "\\item 9.85638005251105\n",
       "\\item 10.1059625474513\n",
       "\\item 10.0698907233492\n",
       "\\item 10.0363771782108\n",
       "\\item 10.0826025947748\n",
       "\\item 9.94135374164542\n",
       "\\item 9.99891715799581\n",
       "\\item 9.83745372106786\n",
       "\\item 9.97446010814313\n",
       "\\item 9.87998132136445\n",
       "\\item 10.0008517389146\n",
       "\\item 10.0305429607939\n",
       "\\item 9.83606790462851\n",
       "\\item 10.0356170981854\n",
       "\\item 9.99573930814291\n",
       "\\item 9.82470735825697\n",
       "\\item ⋯\n",
       "\\item 10.0851137993983\n",
       "\\item 10.1272027730972\n",
       "\\item 9.88645028312591\n",
       "\\item 10.0441466659539\n",
       "\\item 9.93536736782735\n",
       "\\item 9.89208744044719\n",
       "\\item 10.1216556761156\n",
       "\\item 10.035341987215\n",
       "\\item 10.0080234499036\n",
       "\\item 9.9860320555304\n",
       "\\item 10.0167246074773\n",
       "\\item 10.0535985693781\n",
       "\\item 9.81876552409953\n",
       "\\item 10.0284615096065\n",
       "\\item 10.1534307604621\n",
       "\\item 9.8501689290261\n",
       "\\item 10.0986903705118\n",
       "\\item 9.91836058913267\n",
       "\\item 10.0975389095344\n",
       "\\item 10.0615985451339\n",
       "\\item 9.98019399046331\n",
       "\\item 9.94642005010186\n",
       "\\item 9.9158079753927\n",
       "\\item 9.89304522534693\n",
       "\\item 9.95823009134352\n",
       "\\item 9.94131876573276\n",
       "\\item 10.1048350831239\n",
       "\\item 10.0237798558875\n",
       "\\item 10.1747208825651\n",
       "\\item 10.0665560750476\n",
       "\\item 10.043931174831\n",
       "\\item 10.0390120765779\n",
       "\\item 10.12708761586\n",
       "\\item 9.98569039987461\n",
       "\\item 10.1102116599086\n",
       "\\item 10.1815536408874\n",
       "\\item 10.0780417206587\n",
       "\\item 9.95252003689037\n",
       "\\item 10.0607869168176\n",
       "\\item 9.93941001920515\n",
       "\\item 10.1054561338282\n",
       "\\item 9.95405187349633\n",
       "\\item 10.0394285611674\n",
       "\\item 9.89797752138005\n",
       "\\item 10.2264633708667\n",
       "\\item 9.94723526207401\n",
       "\\item 9.96312619474675\n",
       "\\item 10.0015446845782\n",
       "\\item 9.99615501958765\n",
       "\\item 9.92130947542808\n",
       "\\item 9.91172780401279\n",
       "\\item 9.84824045972212\n",
       "\\item 10.1112158245522\n",
       "\\item 10.0158761691965\n",
       "\\item 10.0753190419212\n",
       "\\item 10.0619497454095\n",
       "\\item 10.1157902053257\n",
       "\\item 9.97438315022306\n",
       "\\item 10.0792712729091\n",
       "\\item 10.0821277718314\n",
       "\\item 10.0222906053513\n",
       "\\item 10.0174152964064\n",
       "\\item 9.85329050541479\n",
       "\\item 9.92525228052396\n",
       "\\item 9.97054531661051\n",
       "\\item 9.94871077138285\n",
       "\\item 10.0284690293429\n",
       "\\item 10.0969077996369\n",
       "\\item 9.95992187330422\n",
       "\\item 10.1347692378341\n",
       "\\item 10.0500765724713\n",
       "\\item 10.0473153423457\n",
       "\\item 10.1150276370623\n",
       "\\item 9.98093857448123\n",
       "\\item 10.0581069386506\n",
       "\\item 9.95463590484767\n",
       "\\item 10.0022528361927\n",
       "\\item 9.95367757228797\n",
       "\\item 9.97780056774247\n",
       "\\item 10.025087403792\n",
       "\\item 9.88151684766981\n",
       "\\item 9.83326149129034\n",
       "\\item 9.89893546548999\n",
       "\\item 9.97370754843771\n",
       "\\item 9.89490328683014\n",
       "\\item 10.0460305950907\n",
       "\\item 10.0186922266116\n",
       "\\item 9.92358091869716\n",
       "\\item 9.93055071568124\n",
       "\\item 9.86800904962347\n",
       "\\item 9.9764743259259\n",
       "\\item 10.2061869530168\n",
       "\\item 10.0993148449003\n",
       "\\item 10.0080733693226\n",
       "\\item 10.2465880820562\n",
       "\\item 10.1856328490401\n",
       "\\item 9.96315007653989\n",
       "\\item 9.95065062930339\n",
       "\\item 10.0327251842504\n",
       "\\item 10.0352832768917\n",
       "\\item 10.0935268216704\n",
       "\\item 9.98371393960061\n",
       "\\item 9.95117720702542\n",
       "\\item 9.81789789041015\n",
       "\\item 10.0043388506633\n",
       "\\item 9.94459963986187\n",
       "\\item 10.0767268301879\n",
       "\\item 10.0077287811745\n",
       "\\item 9.9754101683488\n",
       "\\item 9.81356975662477\n",
       "\\item 10.0726324256424\n",
       "\\item 9.94201279482322\n",
       "\\item 9.95594175450361\n",
       "\\item 10.0079293489694\n",
       "\\item 10.00296733616\n",
       "\\item 9.9512940845684\n",
       "\\item 9.91890933147488\n",
       "\\item 10.1191194248396\n",
       "\\item 10.0852484741192\n",
       "\\item 9.95514671372366\n",
       "\\item 10.0534000788044\n",
       "\\item 9.90991564986906\n",
       "\\item 9.97435134723288\n",
       "\\item 10.0991273152407\n",
       "\\item 10.06768953111\n",
       "\\item 10.0784041811343\n",
       "\\item 10.016054571692\n",
       "\\item 10.0619516594708\n",
       "\\item 10.0715029906596\n",
       "\\item 10.0156268884851\n",
       "\\item 10.0711830736429\n",
       "\\item 10.2296421245624\n",
       "\\item 10.0000325152772\n",
       "\\item 9.85211579256331\n",
       "\\item 9.94225071963473\n",
       "\\item 9.98831002203261\n",
       "\\item 10.0554877967352\n",
       "\\item 9.96478051241781\n",
       "\\item 9.94257966732796\n",
       "\\item 9.95526121783585\n",
       "\\item 10.070232511036\n",
       "\\item 10.0214070772511\n",
       "\\item 9.99110861088947\n",
       "\\item 10.0580770821095\n",
       "\\item 9.94017550613054\n",
       "\\item 9.91532750878946\n",
       "\\item 9.8360881657306\n",
       "\\item 10.0365478667592\n",
       "\\item 9.95316419530447\n",
       "\\item 9.96099001157873\n",
       "\\item 10.013612477362\n",
       "\\item 10.2085386656084\n",
       "\\item 10.2448916496305\n",
       "\\item 9.95902355766865\n",
       "\\item 10.0537770726567\n",
       "\\item 10.0503585798147\n",
       "\\item 9.98070709167798\n",
       "\\item 10.0088199073428\n",
       "\\item 10.031124764412\n",
       "\\item 10.0347531567355\n",
       "\\item 10.0040354097147\n",
       "\\item 9.93168798309861\n",
       "\\item 9.90528055815247\n",
       "\\item 10.0926368510132\n",
       "\\item 10.0084238826259\n",
       "\\item 10.0647315960347\n",
       "\\item 10.0306443363214\n",
       "\\item 9.98691636683354\n",
       "\\item 10.0668453137164\n",
       "\\item 10.0660139092692\n",
       "\\item 10.0294739001704\n",
       "\\item 10.038379059703\n",
       "\\item 10.0510138744023\n",
       "\\item 10.0690054730104\n",
       "\\item 10.1745964182357\n",
       "\\item 9.92803266503899\n",
       "\\item 10.0565907925235\n",
       "\\item 10.0724502440623\n",
       "\\item 9.88261473585077\n",
       "\\item 9.83844502088288\n",
       "\\item 9.87306780861709\n",
       "\\item 10.0492937074225\n",
       "\\item 9.99367245523215\n",
       "\\item 9.90956305913822\n",
       "\\item 10.0183993635402\n",
       "\\item 10.0848793656172\n",
       "\\item 10.0721315647427\n",
       "\\item 10.1217606618099\n",
       "\\item 10.0275627380135\n",
       "\\item 10.0282514383145\n",
       "\\item 10.054765649581\n",
       "\\item 10.1212648919648\n",
       "\\item 9.99360118154292\n",
       "\\item 9.97946535893538\n",
       "\\item 9.94509897993396\n",
       "\\item 9.91819629579784\n",
       "\\item 9.99594456751696\n",
       "\\item 9.90885071469371\n",
       "\\item 10.2111013211423\n",
       "\\item 10.0508308795942\n",
       "\\end{enumerate*}\n"
      ],
      "text/markdown": [
       "1. 9.98776769595726\n",
       "2. 9.93388922706935\n",
       "3. 10.1635082117304\n",
       "4. 10.2086188951863\n",
       "5. 10.0295155058487\n",
       "6. 10.035973150138\n",
       "7. 10.0965985881832\n",
       "8. 9.94228087351664\n",
       "9. 10.1279972399838\n",
       "10. 9.96839186303058\n",
       "11. 9.95840166765833\n",
       "12. 10.0215356577561\n",
       "13. 9.91494269833277\n",
       "14. 10.0752563859442\n",
       "15. 9.77235382867264\n",
       "16. 10.0829509725554\n",
       "17. 9.87872569531873\n",
       "18. 9.9975374186059\n",
       "19. 10.0529298263382\n",
       "20. 10.0212738075178\n",
       "21. 10.0631512137939\n",
       "22. 9.7832942277041\n",
       "23. 9.81242984173874\n",
       "24. 9.68164304629272\n",
       "25. 9.98481429421422\n",
       "26. 10.1188664557416\n",
       "27. 9.93194253468396\n",
       "28. 9.952727632588\n",
       "29. 9.94641864331437\n",
       "30. 9.97945230973262\n",
       "31. 10.0972031137869\n",
       "32. 9.96316016599043\n",
       "33. 10.0675967107078\n",
       "34. 9.99763611314176\n",
       "35. 9.77049268007702\n",
       "36. 9.99090901106175\n",
       "37. 9.9728971211613\n",
       "38. 10.0837860569676\n",
       "39. 10.0687209244766\n",
       "40. 9.94013752630502\n",
       "41. 9.97624517087111\n",
       "42. 9.83411546777151\n",
       "43. 10.0995677764512\n",
       "44. 9.9533737507337\n",
       "45. 9.97070075085627\n",
       "46. 9.93639250989748\n",
       "47. 10.1100188002253\n",
       "48. 10.0221212876815\n",
       "49. 9.96087455794536\n",
       "50. 10.0106433232529\n",
       "51. 9.91155470284764\n",
       "52. 9.96828969637829\n",
       "53. 10.0062242994017\n",
       "54. 10.0443869906482\n",
       "55. 9.96710463470685\n",
       "56. 10.0680697901629\n",
       "57. 10.1624681231418\n",
       "58. 9.82485037558065\n",
       "59. 10.0755508561864\n",
       "60. 10.1387292364897\n",
       "61. 9.93956207499273\n",
       "62. 10.1036727780789\n",
       "63. 9.98195024784939\n",
       "64. 10.0813836814749\n",
       "65. 10.0150124240545\n",
       "66. 10.1424070301066\n",
       "67. 9.96109636264705\n",
       "68. 10.1588844337035\n",
       "69. 9.89878251234216\n",
       "70. 9.8586005866796\n",
       "71. 10.0922353773745\n",
       "72. 10.0928130913237\n",
       "73. 10.0112186541096\n",
       "74. 10.0113522809199\n",
       "75. 10.0073144761292\n",
       "76. 9.96192959667124\n",
       "77. 10.0788015325905\n",
       "78. 10.1060178408228\n",
       "79. 10.1122672867289\n",
       "80. 9.88944693783396\n",
       "81. 10.0504212360697\n",
       "82. 10.074121250717\n",
       "83. 10.02058963912\n",
       "84. 10.0564201683604\n",
       "85. 10.0126955440893\n",
       "86. 9.94379464148692\n",
       "87. 10.0066085359266\n",
       "88. 10.0182381295803\n",
       "89. 10.0870407756239\n",
       "90. 9.98080997609954\n",
       "91. 10.0290195568753\n",
       "92. 9.99493920932255\n",
       "93. 10.078923098952\n",
       "94. 10.1073707943844\n",
       "95. 10.004590029365\n",
       "96. 9.96838766779956\n",
       "97. 9.95440301568634\n",
       "98. 10.0456770150916\n",
       "99. 10.0518264484251\n",
       "100. 9.96378813566199\n",
       "101. 9.97721710264808\n",
       "102. 10.0477793482897\n",
       "103. 10.0205619794154\n",
       "104. 9.92948201867591\n",
       "105. 10.0032939830068\n",
       "106. 10.045386528295\n",
       "107. 10.0290778491306\n",
       "108. 10.0293097297795\n",
       "109. 9.76269662759346\n",
       "110. 9.94561328757035\n",
       "111. 10.0246115871623\n",
       "112. 9.97058729910274\n",
       "113. 10.0045311008109\n",
       "114. 10.1396123227262\n",
       "115. 9.92644227946563\n",
       "116. 9.93864608267187\n",
       "117. 9.85419006510069\n",
       "118. 10.0145553838094\n",
       "119. 9.98274861444281\n",
       "120. 10.0361206524334\n",
       "121. 9.96016340038731\n",
       "122. 10.0637170545603\n",
       "123. 10.0481658501253\n",
       "124. 9.95802478207924\n",
       "125. 9.93165608317114\n",
       "126. 9.93064064744116\n",
       "127. 9.87607529765123\n",
       "128. 9.93400264580358\n",
       "129. 10.0512732998108\n",
       "130. 9.97410646316213\n",
       "131. 10.0976049699567\n",
       "132. 10.0667827083916\n",
       "133. 10.064464776061\n",
       "134. 9.9848717215502\n",
       "135. 9.82481309608468\n",
       "136. 10.0417232452158\n",
       "137. 9.95693429445554\n",
       "138. 9.96373550057961\n",
       "139. 9.89369657648692\n",
       "140. 9.9573805064817\n",
       "141. 9.93351973490404\n",
       "142. 9.95138326336871\n",
       "143. 9.97408502372132\n",
       "144. 10.0302899141562\n",
       "145. 9.94226895230614\n",
       "146. 10.0583862441271\n",
       "147. 10.1275391855027\n",
       "148. 9.90405526688238\n",
       "149. 9.96616247688344\n",
       "150. 9.99525472345426\n",
       "151. 9.99903773856009\n",
       "152. 9.94432378542923\n",
       "153. 9.90669917109653\n",
       "154. 10.0479483016534\n",
       "155. 9.88981886446294\n",
       "156. 10.0040013930697\n",
       "157. 9.94816115871656\n",
       "158. 9.9368182367329\n",
       "159. 9.97153111670816\n",
       "160. 10.0662002791294\n",
       "161. 10.2127212004627\n",
       "162. 9.9955280391281\n",
       "163. 9.80185730275179\n",
       "164. 9.97855714127533\n",
       "165. 9.904268084193\n",
       "166. 9.97730407437729\n",
       "167. 10.1367513590132\n",
       "168. 10.0405238250599\n",
       "169. 9.96536836618244\n",
       "170. 9.94922500679434\n",
       "171. 10.0459342729181\n",
       "172. 9.91292925093559\n",
       "173. 9.99191331060419\n",
       "174. 10.0772380971173\n",
       "175. 9.92826875724288\n",
       "176. 10.1261804229227\n",
       "177. 9.82175999311229\n",
       "178. 10.0245514795842\n",
       "179. 9.64721274975042\n",
       "180. 9.96749564881642\n",
       "181. 10.0162019277509\n",
       "182. 9.92439747286248\n",
       "183. 10.1052398763014\n",
       "184. 9.96028511423448\n",
       "185. 9.85638005251105\n",
       "186. 10.1059625474513\n",
       "187. 10.0698907233492\n",
       "188. 10.0363771782108\n",
       "189. 10.0826025947748\n",
       "190. 9.94135374164542\n",
       "191. 9.99891715799581\n",
       "192. 9.83745372106786\n",
       "193. 9.97446010814313\n",
       "194. 9.87998132136445\n",
       "195. 10.0008517389146\n",
       "196. 10.0305429607939\n",
       "197. 9.83606790462851\n",
       "198. 10.0356170981854\n",
       "199. 9.99573930814291\n",
       "200. 9.82470735825697\n",
       "201. ⋯\n",
       "202. 10.0851137993983\n",
       "203. 10.1272027730972\n",
       "204. 9.88645028312591\n",
       "205. 10.0441466659539\n",
       "206. 9.93536736782735\n",
       "207. 9.89208744044719\n",
       "208. 10.1216556761156\n",
       "209. 10.035341987215\n",
       "210. 10.0080234499036\n",
       "211. 9.9860320555304\n",
       "212. 10.0167246074773\n",
       "213. 10.0535985693781\n",
       "214. 9.81876552409953\n",
       "215. 10.0284615096065\n",
       "216. 10.1534307604621\n",
       "217. 9.8501689290261\n",
       "218. 10.0986903705118\n",
       "219. 9.91836058913267\n",
       "220. 10.0975389095344\n",
       "221. 10.0615985451339\n",
       "222. 9.98019399046331\n",
       "223. 9.94642005010186\n",
       "224. 9.9158079753927\n",
       "225. 9.89304522534693\n",
       "226. 9.95823009134352\n",
       "227. 9.94131876573276\n",
       "228. 10.1048350831239\n",
       "229. 10.0237798558875\n",
       "230. 10.1747208825651\n",
       "231. 10.0665560750476\n",
       "232. 10.043931174831\n",
       "233. 10.0390120765779\n",
       "234. 10.12708761586\n",
       "235. 9.98569039987461\n",
       "236. 10.1102116599086\n",
       "237. 10.1815536408874\n",
       "238. 10.0780417206587\n",
       "239. 9.95252003689037\n",
       "240. 10.0607869168176\n",
       "241. 9.93941001920515\n",
       "242. 10.1054561338282\n",
       "243. 9.95405187349633\n",
       "244. 10.0394285611674\n",
       "245. 9.89797752138005\n",
       "246. 10.2264633708667\n",
       "247. 9.94723526207401\n",
       "248. 9.96312619474675\n",
       "249. 10.0015446845782\n",
       "250. 9.99615501958765\n",
       "251. 9.92130947542808\n",
       "252. 9.91172780401279\n",
       "253. 9.84824045972212\n",
       "254. 10.1112158245522\n",
       "255. 10.0158761691965\n",
       "256. 10.0753190419212\n",
       "257. 10.0619497454095\n",
       "258. 10.1157902053257\n",
       "259. 9.97438315022306\n",
       "260. 10.0792712729091\n",
       "261. 10.0821277718314\n",
       "262. 10.0222906053513\n",
       "263. 10.0174152964064\n",
       "264. 9.85329050541479\n",
       "265. 9.92525228052396\n",
       "266. 9.97054531661051\n",
       "267. 9.94871077138285\n",
       "268. 10.0284690293429\n",
       "269. 10.0969077996369\n",
       "270. 9.95992187330422\n",
       "271. 10.1347692378341\n",
       "272. 10.0500765724713\n",
       "273. 10.0473153423457\n",
       "274. 10.1150276370623\n",
       "275. 9.98093857448123\n",
       "276. 10.0581069386506\n",
       "277. 9.95463590484767\n",
       "278. 10.0022528361927\n",
       "279. 9.95367757228797\n",
       "280. 9.97780056774247\n",
       "281. 10.025087403792\n",
       "282. 9.88151684766981\n",
       "283. 9.83326149129034\n",
       "284. 9.89893546548999\n",
       "285. 9.97370754843771\n",
       "286. 9.89490328683014\n",
       "287. 10.0460305950907\n",
       "288. 10.0186922266116\n",
       "289. 9.92358091869716\n",
       "290. 9.93055071568124\n",
       "291. 9.86800904962347\n",
       "292. 9.9764743259259\n",
       "293. 10.2061869530168\n",
       "294. 10.0993148449003\n",
       "295. 10.0080733693226\n",
       "296. 10.2465880820562\n",
       "297. 10.1856328490401\n",
       "298. 9.96315007653989\n",
       "299. 9.95065062930339\n",
       "300. 10.0327251842504\n",
       "301. 10.0352832768917\n",
       "302. 10.0935268216704\n",
       "303. 9.98371393960061\n",
       "304. 9.95117720702542\n",
       "305. 9.81789789041015\n",
       "306. 10.0043388506633\n",
       "307. 9.94459963986187\n",
       "308. 10.0767268301879\n",
       "309. 10.0077287811745\n",
       "310. 9.9754101683488\n",
       "311. 9.81356975662477\n",
       "312. 10.0726324256424\n",
       "313. 9.94201279482322\n",
       "314. 9.95594175450361\n",
       "315. 10.0079293489694\n",
       "316. 10.00296733616\n",
       "317. 9.9512940845684\n",
       "318. 9.91890933147488\n",
       "319. 10.1191194248396\n",
       "320. 10.0852484741192\n",
       "321. 9.95514671372366\n",
       "322. 10.0534000788044\n",
       "323. 9.90991564986906\n",
       "324. 9.97435134723288\n",
       "325. 10.0991273152407\n",
       "326. 10.06768953111\n",
       "327. 10.0784041811343\n",
       "328. 10.016054571692\n",
       "329. 10.0619516594708\n",
       "330. 10.0715029906596\n",
       "331. 10.0156268884851\n",
       "332. 10.0711830736429\n",
       "333. 10.2296421245624\n",
       "334. 10.0000325152772\n",
       "335. 9.85211579256331\n",
       "336. 9.94225071963473\n",
       "337. 9.98831002203261\n",
       "338. 10.0554877967352\n",
       "339. 9.96478051241781\n",
       "340. 9.94257966732796\n",
       "341. 9.95526121783585\n",
       "342. 10.070232511036\n",
       "343. 10.0214070772511\n",
       "344. 9.99110861088947\n",
       "345. 10.0580770821095\n",
       "346. 9.94017550613054\n",
       "347. 9.91532750878946\n",
       "348. 9.8360881657306\n",
       "349. 10.0365478667592\n",
       "350. 9.95316419530447\n",
       "351. 9.96099001157873\n",
       "352. 10.013612477362\n",
       "353. 10.2085386656084\n",
       "354. 10.2448916496305\n",
       "355. 9.95902355766865\n",
       "356. 10.0537770726567\n",
       "357. 10.0503585798147\n",
       "358. 9.98070709167798\n",
       "359. 10.0088199073428\n",
       "360. 10.031124764412\n",
       "361. 10.0347531567355\n",
       "362. 10.0040354097147\n",
       "363. 9.93168798309861\n",
       "364. 9.90528055815247\n",
       "365. 10.0926368510132\n",
       "366. 10.0084238826259\n",
       "367. 10.0647315960347\n",
       "368. 10.0306443363214\n",
       "369. 9.98691636683354\n",
       "370. 10.0668453137164\n",
       "371. 10.0660139092692\n",
       "372. 10.0294739001704\n",
       "373. 10.038379059703\n",
       "374. 10.0510138744023\n",
       "375. 10.0690054730104\n",
       "376. 10.1745964182357\n",
       "377. 9.92803266503899\n",
       "378. 10.0565907925235\n",
       "379. 10.0724502440623\n",
       "380. 9.88261473585077\n",
       "381. 9.83844502088288\n",
       "382. 9.87306780861709\n",
       "383. 10.0492937074225\n",
       "384. 9.99367245523215\n",
       "385. 9.90956305913822\n",
       "386. 10.0183993635402\n",
       "387. 10.0848793656172\n",
       "388. 10.0721315647427\n",
       "389. 10.1217606618099\n",
       "390. 10.0275627380135\n",
       "391. 10.0282514383145\n",
       "392. 10.054765649581\n",
       "393. 10.1212648919648\n",
       "394. 9.99360118154292\n",
       "395. 9.97946535893538\n",
       "396. 9.94509897993396\n",
       "397. 9.91819629579784\n",
       "398. 9.99594456751696\n",
       "399. 9.90885071469371\n",
       "400. 10.2111013211423\n",
       "401. 10.0508308795942\n",
       "\n",
       "\n"
      ],
      "text/plain": [
       "   [1]  9.987768  9.933889 10.163508 10.208619 10.029516 10.035973 10.096599\n",
       "   [8]  9.942281 10.127997  9.968392  9.958402 10.021536  9.914943 10.075256\n",
       "  [15]  9.772354 10.082951  9.878726  9.997537 10.052930 10.021274 10.063151\n",
       "  [22]  9.783294  9.812430  9.681643  9.984814 10.118866  9.931943  9.952728\n",
       "  [29]  9.946419  9.979452 10.097203  9.963160 10.067597  9.997636  9.770493\n",
       "  [36]  9.990909  9.972897 10.083786 10.068721  9.940138  9.976245  9.834115\n",
       "  [43] 10.099568  9.953374  9.970701  9.936393 10.110019 10.022121  9.960875\n",
       "  [50] 10.010643  9.911555  9.968290 10.006224 10.044387  9.967105 10.068070\n",
       "  [57] 10.162468  9.824850 10.075551 10.138729  9.939562 10.103673  9.981950\n",
       "  [64] 10.081384 10.015012 10.142407  9.961096 10.158884  9.898783  9.858601\n",
       "  [71] 10.092235 10.092813 10.011219 10.011352 10.007314  9.961930 10.078802\n",
       "  [78] 10.106018 10.112267  9.889447 10.050421 10.074121 10.020590 10.056420\n",
       "  [85] 10.012696  9.943795 10.006609 10.018238 10.087041  9.980810 10.029020\n",
       "  [92]  9.994939 10.078923 10.107371 10.004590  9.968388  9.954403 10.045677\n",
       "  [99] 10.051826  9.963788  9.977217 10.047779 10.020562  9.929482 10.003294\n",
       " [106] 10.045387 10.029078 10.029310  9.762697  9.945613 10.024612  9.970587\n",
       " [113] 10.004531 10.139612  9.926442  9.938646  9.854190 10.014555  9.982749\n",
       " [120] 10.036121  9.960163 10.063717 10.048166  9.958025  9.931656  9.930641\n",
       " [127]  9.876075  9.934003 10.051273  9.974106 10.097605 10.066783 10.064465\n",
       " [134]  9.984872  9.824813 10.041723  9.956934  9.963736  9.893697  9.957381\n",
       " [141]  9.933520  9.951383  9.974085 10.030290  9.942269 10.058386 10.127539\n",
       " [148]  9.904055  9.966162  9.995255  9.999038  9.944324  9.906699 10.047948\n",
       " [155]  9.889819 10.004001  9.948161  9.936818  9.971531 10.066200 10.212721\n",
       " [162]  9.995528  9.801857  9.978557  9.904268  9.977304 10.136751 10.040524\n",
       " [169]  9.965368  9.949225 10.045934  9.912929  9.991913 10.077238  9.928269\n",
       " [176] 10.126180  9.821760 10.024551  9.647213  9.967496 10.016202  9.924397\n",
       " [183] 10.105240  9.960285  9.856380 10.105963 10.069891 10.036377 10.082603\n",
       " [190]  9.941354  9.998917  9.837454  9.974460  9.879981 10.000852 10.030543\n",
       " [197]  9.836068 10.035617  9.995739  9.824707  9.952071 10.027445 10.043526\n",
       " [204]  9.953010 10.081079 10.046288  9.835031  9.933083  9.947637 10.069587\n",
       " [211] 10.088785 10.183702 10.095420  9.942679  9.960091  9.928519 10.075086\n",
       " [218] 10.030745  9.908975 10.009885 10.035320 10.011173  9.931205  9.925428\n",
       " [225] 10.053392  9.871333 10.037182 10.114289  9.816072  9.962922  9.958498\n",
       " [232] 10.079965  9.748014  9.896488 10.013833  9.940699  9.943317  9.967790\n",
       " [239] 10.055716 10.024340  9.863267 10.126053 10.143524 10.075375  9.919310\n",
       " [246]  9.823170 10.199750 10.139511  9.913068  9.772903 10.044276 10.060113\n",
       " [253]  9.894065  9.908314  9.960966  9.826324  9.915443  9.977136  9.818431\n",
       " [260]  9.912247  9.894717 10.214620 10.045146 10.061201 10.032861  9.953277\n",
       " [267]  9.909263  9.932489 10.113174  9.999694  9.943830  9.809851 10.004926\n",
       " [274] 10.002303  9.923517 10.039983 10.107428  9.910281  9.932974 10.047438\n",
       " [281]  9.914704  9.934112 10.090475  9.833953  9.859448 10.001382 10.065563\n",
       " [288]  9.869657 10.057218 10.077601  9.864601 10.028687 10.047980 10.062058\n",
       " [295]  9.849826  9.872862 10.011888 10.042177 10.048625  9.999564  9.921003\n",
       " [302] 10.095389  9.983031  9.920752  9.948877  9.955594 10.018296  9.941843\n",
       " [309] 10.020002  9.979307 10.150555 10.186218  9.999241 10.042967  9.910698\n",
       " [316]  9.956743 10.080921  9.876689  9.925747  9.972302 10.068354  9.939596\n",
       " [323]  9.995452  9.920082 10.069486 10.155329  9.984575 10.050390 10.003636\n",
       " [330]  9.983653 10.111314 10.032371 10.058662 10.121810  9.917001 10.035541\n",
       " [337] 10.076421 10.112028  9.774310 10.011995  9.911674 10.070649 10.008025\n",
       " [344] 10.033782  9.957716 10.075437  9.990289 10.017066 10.157082 10.071006\n",
       " [351]  9.908039  9.984596 10.089217  9.925271  9.900094 10.072443  9.975155\n",
       " [358]  9.989732 10.048097 10.030161 10.080901  9.978498 10.029105 10.068451\n",
       " [365]  9.790124 10.119991 10.063979  9.942007 10.101622  9.977676 10.031517\n",
       " [372] 10.006724  9.958547 10.075109 10.084052 10.045890 10.037026  9.936157\n",
       " [379] 10.130158 10.081108 10.027320  9.939105 10.083232 10.042808  9.921849\n",
       " [386]  9.881268 10.004354 10.053833  9.870611 10.093897 10.118522 10.002389\n",
       " [393]  9.990601  9.952917  9.984399  9.907275  9.883877  9.991215  9.863490\n",
       " [400]  9.905340  9.946344  9.906476 10.063407  9.950422 10.170888 10.144969\n",
       " [407] 10.096632  9.945362 10.102780  9.841180 10.026841 10.094000  9.949532\n",
       " [414] 10.038848  9.927258 10.033652  9.965043 10.003617  9.977857 10.038458\n",
       " [421] 10.000028  9.929105  9.922219 10.057914  9.988608  9.925186 10.064713\n",
       " [428]  9.997606 10.212547 10.033641 10.138696 10.044664 10.062891  9.845050\n",
       " [435]  9.926028 10.123262  9.914490  9.975372  9.925077 10.071051 10.071557\n",
       " [442]  9.914432  9.911898  9.975797 10.026081  9.882954 10.138058 10.039851\n",
       " [449] 10.123991  9.959062  9.985225  9.939246 10.041057  9.815406 10.093147\n",
       " [456]  9.965486  9.993852  9.881478 10.189380  9.950064  9.984384  9.946577\n",
       " [463] 10.049479 10.019106 10.111131  9.988947 10.264079 10.084686  9.946205\n",
       " [470] 10.072749  9.944658 10.053561  9.910762  9.965372  9.740037 10.082332\n",
       " [477] 10.027334  9.942979 10.173004 10.035504 10.052547 10.060189 10.055047\n",
       " [484] 10.042529  9.939248  9.994215 10.014146 10.053425  9.889167  9.973796\n",
       " [491] 10.081403 10.144558  9.928678 10.020008 10.065529  9.955890  9.856746\n",
       " [498] 10.053358  9.937211  9.906984  9.996444  9.952030 10.129411  9.982623\n",
       " [505]  9.973250  9.990830 10.141012  9.921771  9.977623 10.038931 10.099387\n",
       " [512]  9.847007  9.927494  9.985705  9.986928  9.978189  9.943556 10.160020\n",
       " [519] 10.059561  9.837278 10.025049  9.938150 10.017342 10.086474  9.961447\n",
       " [526] 10.006314  9.926651  9.822586 10.135674 10.017557 10.087035 10.100247\n",
       " [533] 10.147621 10.014704  9.881707  9.992779 10.027896  9.961518  9.906630\n",
       " [540]  9.979149  9.967216  9.938841  9.921444  9.958369  9.894125 10.047917\n",
       " [547]  9.966822 10.027193  9.986155 10.010741 10.027665  9.913300  9.819342\n",
       " [554] 10.035061  9.826216 10.078669  9.867788  9.892565 10.057272  9.940169\n",
       " [561]  9.858271 10.001518  9.942756  9.887814 10.070508  9.953666  9.961422\n",
       " [568] 10.026892  9.998152 10.097352  9.913708  9.975941  9.907816  9.947164\n",
       " [575]  9.787427  9.966292 10.115369 10.061436 10.119010 10.001944  9.984063\n",
       " [582]  9.907096  9.878315  9.825824 10.151505  9.977672 10.039262  9.956292\n",
       " [589] 10.138600  9.820980 10.058903 10.077029  9.918037 10.052858 10.126840\n",
       " [596] 10.084154  9.959051 10.002313 10.051662  9.979795 10.066334  9.800405\n",
       " [603]  9.993654  9.966956 10.015284  9.882434 10.029209  9.936095  9.899545\n",
       " [610] 10.000411 10.002545  9.947278  9.933812 10.016906  9.899867  9.776897\n",
       " [617]  9.940357  9.959059  9.841880 10.124841 10.017073  9.946241  9.930657\n",
       " [624]  9.809214 10.175209 10.159289  9.901736  9.871215 10.049322 10.028027\n",
       " [631] 10.003529  9.868950 10.020913 10.019914  9.817593 10.128564 10.005083\n",
       " [638] 10.032287  9.802854  9.923734  9.957580 10.049067  9.963883 10.002724\n",
       " [645]  9.955667  9.979984  9.982454 10.012355  9.924500  9.941687 10.059077\n",
       " [652]  9.998322 10.026192 10.149569  9.954644  9.995438 10.107742 10.049172\n",
       " [659] 10.100746  9.996479 10.145586 10.020664  9.970969  9.927447  9.880440\n",
       " [666] 10.057609  9.910054  9.799088  9.873963 10.212958 10.061814 10.076450\n",
       " [673] 10.163286  9.996905 10.181303  9.933681  9.898328 10.044618 10.008125\n",
       " [680]  9.793642 10.179138 10.156633 10.044797 10.108142  9.904022 10.111041\n",
       " [687] 10.202246 10.028536  9.903157 10.073244  9.941040 10.056802  9.757065\n",
       " [694] 10.030478 10.203382  9.976079  9.894026  9.938257  9.903735 10.045763\n",
       " [701] 10.078605 10.112620 10.034917  9.867828 10.051756  9.971545  9.919484\n",
       " [708]  9.994885  9.968186  9.958733  9.892351 10.158294  9.953942  9.934838\n",
       " [715]  9.839353 10.023843 10.178899  9.933002  9.956280 10.130852  9.897776\n",
       " [722]  9.965153 10.070237 10.162782  9.813687 10.052976  9.865326  9.872063\n",
       " [729] 10.035399  9.850742 10.071500  9.980097 10.024206 10.012521  9.958099\n",
       " [736] 10.062631  9.848514  9.993728  9.984131 10.067837 10.107940 10.084395\n",
       " [743]  9.942100  9.935750 10.070452 10.060430 10.002409  9.995093 10.033117\n",
       " [750] 10.000015 10.055807  9.984428  9.938302  9.919326 10.103945  9.871082\n",
       " [757] 10.052572  9.927069 10.102275 10.033240 10.003645 10.113800 10.208552\n",
       " [764]  9.750386  9.976680 10.149271 10.078719 10.133069  9.982243  9.978831\n",
       " [771]  9.833406 10.043647 10.094257  9.820227 10.049254  9.885121  9.977372\n",
       " [778]  9.938255 10.151097  9.947001 10.145482 10.032892  9.943061 10.057509\n",
       " [785] 10.126530 10.111859  9.974479  9.884579 10.140128  9.966131 10.087133\n",
       " [792]  9.932210 10.107294 10.231780 10.103302 10.067521 10.127896 10.047307\n",
       " [799] 10.168606 10.009654  9.961846 10.133737  9.957013 10.141284  9.840224\n",
       " [806]  9.845989  9.940824 10.015695  9.949402 10.017088 10.194174  9.981882\n",
       " [813]  9.981521 10.220375  9.940137 10.064982 10.065449 10.213993  9.988189\n",
       " [820]  9.896033 10.037492  9.953798 10.148767 10.095767  9.995639 10.008167\n",
       " [827] 10.038676  9.960950 10.004542 10.140835  9.902882 10.096159  9.938528\n",
       " [834]  9.981449 10.023981  9.850724 10.034967 10.127156 10.009898 10.068128\n",
       " [841]  9.856266  9.942664  9.936820  9.989008  9.848544 10.177794  9.869953\n",
       " [848] 10.074773 10.048364 10.073769  9.977936 10.054348  9.968614 10.056297\n",
       " [855] 10.083222 10.175487  9.840610 10.040076 10.071649  9.921341 10.048725\n",
       " [862]  9.916134 10.125796 10.033045 10.114241 10.044459 10.084944 10.109473\n",
       " [869]  9.997205  9.881264 10.007439 10.040493 10.014024  9.995066  9.984087\n",
       " [876]  9.988713 10.019421  9.888404 10.065037 10.133356  9.919760 10.090634\n",
       " [883] 10.009710 10.166187 10.202326 10.017409 10.116525  9.963266 10.063159\n",
       " [890]  9.947377 10.080406 10.081340 10.088611 10.143338 10.041349 10.101628\n",
       " [897] 10.037345 10.008465 10.141913 10.006127 10.063980  9.941771 10.013217\n",
       " [904] 10.056016 10.041458  9.873133  9.974923 10.037336  9.949789  9.977091\n",
       " [911]  9.886438  9.970168  9.851289 10.042374 10.055522  9.917374 10.046095\n",
       " [918]  9.982335 10.034279  9.981982  9.893543 10.070579  9.933420  9.967919\n",
       " [925]  9.991287  9.958005  9.831670  9.883816 10.078878 10.016010  9.918835\n",
       " [932] 10.085657 10.011967 10.145618 10.163547  9.732851 10.052477  9.884543\n",
       " [939] 10.203808  9.907100  9.945833  9.919033 10.106446  9.964552 10.005241\n",
       " [946] 10.003995 10.019527  9.953961 10.144595 10.101038 10.080231 10.035520\n",
       " [953]  9.962198  9.975528 10.038876 10.010193  9.909430 10.025345  9.861417\n",
       " [960] 10.007946 10.068247 10.004922  9.917226  9.904813  9.929531 10.071984\n",
       " [967]  9.975809 10.080655  9.979587  9.977556 10.013604 10.121409 10.064370\n",
       " [974] 10.039387 10.077538 10.106828 10.026695  9.985985  9.814071 10.008506\n",
       " [981]  9.849433  9.831321  9.970468 10.031351  9.948737 10.150063  9.771270\n",
       " [988]  9.929787  9.923367 10.015798  9.856083 10.084958 10.090489  9.936748\n",
       " [995]  9.897660  9.972938 10.068076  9.995997 10.093474  9.961341 10.106666\n",
       "[1002]  9.968565  9.852196  9.933198 10.110846 10.049810 10.022767 10.035330\n",
       "[1009] 10.056958 10.020698  9.966127 10.038870  9.960067  9.985802  9.801591\n",
       "[1016]  9.999862 10.043781 10.096247 10.010220 10.050944 10.020678 10.014386\n",
       "[1023]  9.955000  9.861647  9.970099 10.047724 10.138833  9.973708 10.001997\n",
       "[1030] 10.100712 10.071585 10.065303 10.017542 10.018283  9.981785  9.996810\n",
       "[1037]  9.994479 10.009096  9.942638 10.080999  9.988719  9.945112  9.977872\n",
       "[1044]  9.974256  9.963072  9.996079 10.001426  9.908929  9.875825 10.118649\n",
       "[1051]  9.905196  9.947106  9.989550  9.949942  9.792286  9.872575 10.010059\n",
       "[1058] 10.031759 10.043802  9.866794  9.996257 10.192208 10.021392 10.079867\n",
       "[1065]  9.924894 10.146347  9.965125  9.848702 10.164807  9.975808 10.090775\n",
       "[1072] 10.217199 10.210314 10.124895  9.843676  9.961806 10.067637 10.001751\n",
       "[1079]  9.907750  9.996080  9.996694 10.056931  9.924266  9.885241 10.058859\n",
       "[1086] 10.001536  9.900939 10.027313 10.093506 10.052684 10.002457  9.934084\n",
       "[1093]  9.968013 10.107798 10.231016 10.000232 10.036951 10.085097 10.133010\n",
       "[1100]  9.769640 10.041379  9.906444 10.034112 10.010954  9.904582  9.942405\n",
       "[1107]  9.952318  9.878043  9.947752  9.994589  9.979781  9.981687 10.079578\n",
       "[1114] 10.059253 10.109452  9.825493  9.967856 10.076994  9.948231  9.959954\n",
       "[1121] 10.001651 10.002127  9.919987  9.900886  9.935423 10.071381 10.025043\n",
       "[1128]  9.919628  9.985500 10.095655  9.945221  9.982400  9.915562 10.058409\n",
       "[1135]  9.863990 10.119505 10.016461  9.951041 10.098761  9.968799  9.953299\n",
       "[1142] 10.049775 10.047896  9.998647  9.960945  9.910806  9.924473 10.094877\n",
       "[1149] 10.017231 10.116932 10.007478  9.858009 10.039595 10.128687 10.019361\n",
       "[1156]  9.963371 10.074945  9.980236  9.966073  9.870914 10.047317 10.137749\n",
       "[1163]  9.979932 10.163016  9.897343 10.062567  9.951688  9.912970  9.998163\n",
       "[1170] 10.020237  9.929704 10.098332  9.940367 10.040526 10.030361 10.015674\n",
       "[1177] 10.001571 10.043176 10.106542  9.889854  9.911598 10.010972 10.074657\n",
       "[1184]  9.900765 10.078617  9.994462  9.946698 10.135358 10.100605 10.012293\n",
       "[1191] 10.068894 10.041467 10.036938  9.976950  9.953563 10.054560 10.005599\n",
       "[1198] 10.061165 10.041191 10.143222 10.002038 10.188240 10.031909  9.902198\n",
       "[1205]  9.927741 10.001409 10.053524  9.957420  9.960490  9.906142 10.053934\n",
       "[1212] 10.080055 10.081385  9.919636 10.157206 10.055950 10.005983 10.072194\n",
       "[1219]  9.965927  9.942919  9.927894  9.974869 10.104248 10.189728 10.017388\n",
       "[1226]  9.932360  9.960154  9.910847  9.962754 10.085257 10.014985  9.988144\n",
       "[1233]  9.958337 10.110986  9.973347 10.008730  9.997724  9.957478  9.889651\n",
       "[1240] 10.056877 10.142812 10.046521  9.944898  9.806200 10.106643 10.000455\n",
       "[1247] 10.037738 10.008800 10.028724 10.207945  9.886157 10.092126 10.003240\n",
       "[1254]  9.901167  9.976791 10.127208  9.893781  9.890182  9.835139 10.096570\n",
       "[1261]  9.998409  9.894301 10.119975 10.140710 10.001913  9.845964 10.076170\n",
       "[1268]  9.994568  9.739000 10.037582  9.983008  9.980327 10.056797  9.867714\n",
       "[1275]  9.902866 10.060749  9.942308 10.123080 10.099106 10.070647 10.054310\n",
       "[1282] 10.087912 10.161658  9.897642 10.025812 10.113017  9.961699  9.854639\n",
       "[1289] 10.000135  9.875335  9.925081 10.098066 10.120955  9.873415  9.951575\n",
       "[1296]  9.936869 10.004351  9.986108  9.949428  9.941077  9.896391  9.955156\n",
       "[1303]  9.954736 10.060361  9.883833 10.000552  9.934272 10.088766 10.174496\n",
       "[1310]  9.947324  9.961183 10.088618 10.018855 10.039923  9.819653  9.998577\n",
       "[1317]  9.882029  9.856867 10.116786 10.073950  9.937868 10.140869  9.968023\n",
       "[1324]  9.865373  9.851915 10.060835 10.020097 10.007025 10.010571  9.940178\n",
       "[1331]  9.941603  9.970275 10.207412  9.971726 10.119288 10.030458 10.132339\n",
       "[1338] 10.074643 10.120924  9.973690  9.975972  9.992450  9.932820 10.127976\n",
       "[1345]  9.995076 10.060379 10.092946 10.096268 10.053842  9.947206 10.002249\n",
       "[1352] 10.025389  9.910647 10.039566  9.970228  9.917322  9.906025  9.962345\n",
       "[1359]  9.984596  9.953333 10.093265  9.911783  9.983269  9.941572 10.033334\n",
       "[1366]  9.982145  9.849242 10.041270 10.058046  9.906711 10.060065 10.274804\n",
       "[1373]  9.978843 10.159497 10.095213 10.031647  9.856127 10.191300 10.051820\n",
       "[1380] 10.168558 10.164391  9.878419 10.076703  9.992527 10.126084  9.993527\n",
       "[1387] 10.119220  9.965525 10.141902 10.020721  9.963587  9.946157  9.948994\n",
       "[1394] 10.101768  9.977783 10.001596  9.902711  9.961738  9.899185 10.120315\n",
       "[1401] 10.105905 10.104916  9.995655 10.164289 10.029159 10.008071 10.028069\n",
       "[1408] 10.067869 10.132456  9.903234  9.906795 10.034582  9.936753 10.033044\n",
       "[1415]  9.944192 10.072312  9.940573 10.078870  9.998661 10.247442  9.939161\n",
       "[1422] 10.044991  9.967884  9.923012 10.002883  9.971100 10.007506  9.984810\n",
       "[1429]  9.894657  9.991673 10.025975  9.962091  9.992505 10.095070 10.084343\n",
       "[1436] 10.030814 10.024013  9.948161  9.818598  9.917464 10.013740  9.891690\n",
       "[1443]  9.975344  9.904845  9.827246  9.970948 10.138580  9.898146  9.886313\n",
       "[1450]  9.852331 10.051774  9.964895 10.155342  9.923324 10.004280 10.031237\n",
       "[1457] 10.159963 10.180336  9.961543 10.009184  9.862296  9.756783 10.060238\n",
       "[1464] 10.051661 10.103153 10.016455  9.975589 10.096141  9.868016 10.044128\n",
       "[1471]  9.940153  9.961031 10.032547  9.993707  9.951664  9.951582  9.974485\n",
       "[1478] 10.088586 10.022911 10.056063 10.019120 10.013765 10.076488  9.915923\n",
       "[1485] 10.014325  9.967175 10.162914  9.914686  9.934364  9.941199  9.952347\n",
       "[1492]  9.920491 10.009118  9.911652  9.999659  9.901636  9.861167  9.957279\n",
       "[1499]  9.866615 10.016615 10.011525 10.030095 10.041288  9.904860 10.110644\n",
       "[1506]  9.940275 10.093577  9.926661 10.191595 10.194811  9.944364 10.052663\n",
       "[1513] 10.051619  9.894946  9.750057 10.053164 10.066976 10.081914 10.101388\n",
       "[1520]  9.975846  9.911877  9.948348  9.884956  9.756812  9.895723 10.078347\n",
       "[1527]  9.989993 10.062134  9.954737 10.056911 10.126187 10.169038  9.876860\n",
       "[1534]  9.937196  9.902301  9.907676  9.959410 10.043947  9.971819  9.880880\n",
       "[1541]  9.960933 10.022618  9.909841 10.102277  9.929075 10.017056  9.940541\n",
       "[1548]  9.994673  9.953821  9.918684 10.120908  9.847557 10.134487  9.988371\n",
       "[1555]  9.899145  9.842449  9.934657 10.132687  9.987124  9.858556  9.887056\n",
       "[1562] 10.011822 10.073870 10.068169  9.904220 10.062869  9.930299  9.935720\n",
       "[1569] 10.088473  9.997696 10.011455  9.965239 10.080037 10.142733  9.959701\n",
       "[1576] 10.043209 10.200028  9.872683  9.947214 10.007287  9.966073 10.010854\n",
       "[1583]  9.902488 10.053228 10.077982  9.929919 10.030077 10.012434 10.089970\n",
       "[1590]  9.922717  9.866336 10.003474  9.974594 10.094889 10.092017  9.872823\n",
       "[1597] 10.008252 10.133346  9.943827 10.024606  9.982263  9.974536 10.035813\n",
       "[1604] 10.092645  9.998638  9.954106  9.996014 10.055071 10.008621 10.206795\n",
       "[1611]  9.853662 10.038612 10.040518  9.947040 10.073708  9.952064 10.123855\n",
       "[1618]  9.859319  9.976553  9.925081  9.925754  9.916179 10.053036 10.007416\n",
       "[1625]  9.950414  9.964641 10.182712  9.878713 10.003619  9.960776 10.110138\n",
       "[1632] 10.025540 10.004123  9.945009 10.046305 10.120727  9.970640  9.963536\n",
       "[1639] 10.038667 10.009226 10.083677  9.944577  9.759159  9.927740  9.989991\n",
       "[1646]  9.952158  9.966229  9.973382  9.929766  9.850932  9.882128  9.980000\n",
       "[1653] 10.151647 10.153221 10.084338  9.948453 10.085937 10.064016  9.987309\n",
       "[1660]  9.907236  9.840901 10.048202 10.147331  9.927965 10.022625  9.899356\n",
       "[1667] 10.121281 10.067460  9.948100  9.878959 10.122750 10.128491 10.054393\n",
       "[1674]  9.944349  9.865374 10.055027 10.040716  9.869873  9.954396  9.812430\n",
       "[1681]  9.969045  9.946287 10.151140 10.093329  9.890676 10.023421  9.836980\n",
       "[1688] 10.040624  9.991552 10.014324 10.059528 10.167388 10.023311 10.037045\n",
       "[1695] 10.044700 10.048393  9.904557 10.084932  9.988219 10.101604  9.945210\n",
       "[1702] 10.078680 10.218526  9.991170  9.965635 10.136638  9.913890 10.113604\n",
       "[1709]  9.848352 10.004276 10.046142  9.988575 10.084890  9.955324  9.971917\n",
       "[1716]  9.991943 10.034231  9.939805 10.123505 10.184556 10.070058  9.924168\n",
       "[1723]  9.936920  9.906634 10.007550  9.966957 10.030141 10.118760 10.009275\n",
       "[1730] 10.064216 10.075805 10.135664  9.984267  9.995186  9.966538 10.014652\n",
       "[1737] 10.032670  9.996398 10.100468  9.942999  9.917259  9.998359 10.085672\n",
       "[1744] 10.029285 10.083389  9.772290  9.905907  9.900252 10.137228  9.834281\n",
       "[1751] 10.035768  9.951622 10.058059  9.893470  9.978299 10.047294 10.064416\n",
       "[1758] 10.166495  9.999818 10.013541  9.927011 10.143270 10.065399  9.904131\n",
       "[1765]  9.985183 10.066562  9.947256  9.932124 10.082964  9.917430 10.121421\n",
       "[1772]  9.883547  9.963320 10.011613  9.933307  9.836313  9.926201  9.916059\n",
       "[1779]  9.966241  9.888174 10.087976 10.098162  9.941910 10.007814 10.003599\n",
       "[1786] 10.057903 10.117704  9.980161  9.922005  9.903818 10.050353  9.956806\n",
       "[1793] 10.031659  9.959661  9.987098  9.954966  9.927080  9.977761  9.996100\n",
       "[1800]  9.954942 10.085114 10.127203  9.886450 10.044147  9.935367  9.892087\n",
       "[1807] 10.121656 10.035342 10.008023  9.986032 10.016725 10.053599  9.818766\n",
       "[1814] 10.028462 10.153431  9.850169 10.098690  9.918361 10.097539 10.061599\n",
       "[1821]  9.980194  9.946420  9.915808  9.893045  9.958230  9.941319 10.104835\n",
       "[1828] 10.023780 10.174721 10.066556 10.043931 10.039012 10.127088  9.985690\n",
       "[1835] 10.110212 10.181554 10.078042  9.952520 10.060787  9.939410 10.105456\n",
       "[1842]  9.954052 10.039429  9.897978 10.226463  9.947235  9.963126 10.001545\n",
       "[1849]  9.996155  9.921309  9.911728  9.848240 10.111216 10.015876 10.075319\n",
       "[1856] 10.061950 10.115790  9.974383 10.079271 10.082128 10.022291 10.017415\n",
       "[1863]  9.853291  9.925252  9.970545  9.948711 10.028469 10.096908  9.959922\n",
       "[1870] 10.134769 10.050077 10.047315 10.115028  9.980939 10.058107  9.954636\n",
       "[1877] 10.002253  9.953678  9.977801 10.025087  9.881517  9.833261  9.898935\n",
       "[1884]  9.973708  9.894903 10.046031 10.018692  9.923581  9.930551  9.868009\n",
       "[1891]  9.976474 10.206187 10.099315 10.008073 10.246588 10.185633  9.963150\n",
       "[1898]  9.950651 10.032725 10.035283 10.093527  9.983714  9.951177  9.817898\n",
       "[1905] 10.004339  9.944600 10.076727 10.007729  9.975410  9.813570 10.072632\n",
       "[1912]  9.942013  9.955942 10.007929 10.002967  9.951294  9.918909 10.119119\n",
       "[1919] 10.085248  9.955147 10.053400  9.909916  9.974351 10.099127 10.067690\n",
       "[1926] 10.078404 10.016055 10.061952 10.071503 10.015627 10.071183 10.229642\n",
       "[1933] 10.000033  9.852116  9.942251  9.988310 10.055488  9.964781  9.942580\n",
       "[1940]  9.955261 10.070233 10.021407  9.991109 10.058077  9.940176  9.915328\n",
       "[1947]  9.836088 10.036548  9.953164  9.960990 10.013612 10.208539 10.244892\n",
       "[1954]  9.959024 10.053777 10.050359  9.980707 10.008820 10.031125 10.034753\n",
       "[1961] 10.004035  9.931688  9.905281 10.092637 10.008424 10.064732 10.030644\n",
       "[1968]  9.986916 10.066845 10.066014 10.029474 10.038379 10.051014 10.069005\n",
       "[1975] 10.174596  9.928033 10.056591 10.072450  9.882615  9.838445  9.873068\n",
       "[1982] 10.049294  9.993672  9.909563 10.018399 10.084879 10.072132 10.121761\n",
       "[1989] 10.027563 10.028251 10.054766 10.121265  9.993601  9.979465  9.945099\n",
       "[1996]  9.918196  9.995945  9.908851 10.211101 10.050831"
      ]
     },
     "metadata": {},
     "output_type": "display_data"
    }
   ],
   "source": [
    "colMeans(MatNorm)"
   ]
  },
  {
   "cell_type": "markdown",
   "metadata": {},
   "source": [
    "Ahora ¿El siguiente código qué hace?"
   ]
  },
  {
   "cell_type": "code",
   "execution_count": 18,
   "metadata": {
    "scrolled": true
   },
   "outputs": [
    {
     "data": {
      "text/html": [
       "<table>\n",
       "<caption>A matrix: 2000 × 2000 of type dbl</caption>\n",
       "<tbody>\n",
       "\t<tr><td>15.058147429</td><td>-0.19441977</td><td>-0.14921329</td><td> 0.03017660</td><td>-0.12880093</td><td>-0.38219903</td><td> 0.0974215917</td><td> 0.1398167761</td><td>-0.024060211</td><td> 0.383594034</td><td>⋯</td><td> 0.24909428</td><td> 0.287572890</td><td>-0.053235941</td><td> 0.17399056</td><td>-0.077070946</td><td>-0.427411304</td><td>-0.27042901</td><td>-0.084612603</td><td> 0.17085207</td><td> 0.066534229</td></tr>\n",
       "\t<tr><td>-0.194419770</td><td>16.98507417</td><td> 0.37996008</td><td> 0.03787600</td><td> 0.09366181</td><td>-0.36155259</td><td>-0.5492144031</td><td> 0.8535008067</td><td> 0.048054024</td><td>-0.212514774</td><td>⋯</td><td>-0.02791214</td><td>-0.003794508</td><td> 0.195972308</td><td>-0.03849824</td><td>-0.262612378</td><td> 0.339425000</td><td> 0.40566529</td><td>-0.629277349</td><td> 0.46877690</td><td> 0.082677408</td></tr>\n",
       "\t<tr><td>-0.149213292</td><td> 0.37996008</td><td>16.52929894</td><td> 0.39513225</td><td>-0.31784974</td><td>-0.97790999</td><td>-0.2117230908</td><td>-0.4423887034</td><td> 0.374776515</td><td>-0.515362781</td><td>⋯</td><td>-0.28762367</td><td>-0.325746834</td><td>-0.097348413</td><td> 0.42362503</td><td>-0.373032911</td><td> 0.001921996</td><td>-0.37401332</td><td>-0.157423935</td><td> 0.24481647</td><td> 0.106138231</td></tr>\n",
       "\t<tr><td> 0.030176602</td><td> 0.03787600</td><td> 0.39513225</td><td>15.97734708</td><td>-0.22716308</td><td>-0.02774020</td><td> 0.2948642033</td><td>-0.4749116531</td><td> 0.097967244</td><td>-0.044461448</td><td>⋯</td><td> 0.04220801</td><td>-0.134898595</td><td>-0.526977404</td><td>-0.67382067</td><td>-0.799325739</td><td>-0.303829066</td><td>-0.01559198</td><td>-0.271857518</td><td>-0.56288868</td><td>-0.113333569</td></tr>\n",
       "\t<tr><td>-0.128800929</td><td> 0.09366181</td><td>-0.31784974</td><td>-0.22716308</td><td>16.66207029</td><td>-0.10718199</td><td> 0.2310858367</td><td>-0.3051778140</td><td>-0.083711125</td><td> 0.957998953</td><td>⋯</td><td> 0.40929122</td><td>-0.689559664</td><td> 0.302767803</td><td>-0.15570648</td><td> 0.146417674</td><td>-0.144334870</td><td>-0.29558117</td><td> 0.498483493</td><td>-0.32304933</td><td>-0.123965120</td></tr>\n",
       "\t<tr><td>-0.382199027</td><td>-0.36155259</td><td>-0.97790999</td><td>-0.02774020</td><td>-0.10718199</td><td>16.77149845</td><td>-0.0813662082</td><td>-0.1258142860</td><td> 0.598992196</td><td> 0.507581558</td><td>⋯</td><td>-0.23609469</td><td>-0.265308896</td><td>-0.064913029</td><td>-0.39426690</td><td> 0.145993825</td><td> 0.517774962</td><td> 0.07746992</td><td>-0.313136183</td><td>-0.56428551</td><td>-0.079146720</td></tr>\n",
       "\t<tr><td> 0.097421592</td><td>-0.54921440</td><td>-0.21172309</td><td> 0.29486420</td><td> 0.23108584</td><td>-0.08136621</td><td>16.2866328807</td><td>-0.0003871587</td><td> 0.200346612</td><td> 0.107796105</td><td>⋯</td><td> 0.02784169</td><td>-0.182541201</td><td>-0.051383419</td><td>-0.44136225</td><td>-0.255042414</td><td>-0.214311239</td><td> 0.72459259</td><td>-0.301540234</td><td> 0.25685758</td><td> 0.705431484</td></tr>\n",
       "\t<tr><td> 0.139816776</td><td> 0.85350081</td><td>-0.44238870</td><td>-0.47491165</td><td>-0.30517781</td><td>-0.12581429</td><td>-0.0003871587</td><td>16.3041604652</td><td> 0.462593923</td><td> 0.026392520</td><td>⋯</td><td>-0.10549140</td><td> 0.263626839</td><td> 0.562426558</td><td>-0.20970457</td><td> 0.097338644</td><td> 0.044325829</td><td> 0.15061561</td><td>-0.578840314</td><td> 0.16680204</td><td>-0.544979881</td></tr>\n",
       "\t<tr><td>-0.024060211</td><td> 0.04805402</td><td> 0.37477651</td><td> 0.09796724</td><td>-0.08371113</td><td> 0.59899220</td><td> 0.2003466116</td><td> 0.4625939233</td><td>16.502102206</td><td> 0.046198428</td><td>⋯</td><td>-0.23260398</td><td> 0.452809114</td><td>-0.488679864</td><td>-0.38020591</td><td>-0.226386010</td><td> 0.319083445</td><td>-0.02648825</td><td> 0.794252105</td><td> 0.05462260</td><td> 0.330022934</td></tr>\n",
       "\t<tr><td> 0.383594034</td><td>-0.21251477</td><td>-0.51536278</td><td>-0.04446145</td><td> 0.95799895</td><td> 0.50758156</td><td> 0.1077961051</td><td> 0.0263925199</td><td> 0.046198428</td><td>15.726174665</td><td>⋯</td><td> 1.00041955</td><td> 0.400873154</td><td> 0.315452874</td><td> 0.21738179</td><td> 0.238848205</td><td> 0.206973505</td><td>-0.03459260</td><td>-0.512505048</td><td>-0.66165864</td><td> 0.522168946</td></tr>\n",
       "\t<tr><td>-0.538602101</td><td> 0.55226850</td><td> 0.13330407</td><td>-0.11326559</td><td>-0.45825672</td><td>-0.05561191</td><td>-0.4331994800</td><td> 0.3278879421</td><td> 0.032175123</td><td>-0.308264620</td><td>⋯</td><td> 0.08292421</td><td> 0.640649942</td><td> 0.337649752</td><td> 0.57644800</td><td> 0.351256610</td><td> 0.081606779</td><td> 0.24090556</td><td>-0.512409414</td><td> 0.60723550</td><td> 0.097414366</td></tr>\n",
       "\t<tr><td> 0.256677244</td><td> 0.36237740</td><td> 0.05267760</td><td> 0.21614002</td><td> 0.16473748</td><td>-0.20304408</td><td>-0.3426690504</td><td> 0.6084006213</td><td> 0.389753283</td><td>-0.005998371</td><td>⋯</td><td> 0.34806680</td><td>-0.034835533</td><td> 0.267485881</td><td> 0.61045056</td><td>-0.073836436</td><td> 0.679183293</td><td>-0.27818604</td><td>-0.241947879</td><td>-0.54947604</td><td> 0.166444502</td></tr>\n",
       "\t<tr><td>-0.424364916</td><td>-0.40970872</td><td> 0.04514354</td><td> 0.34114849</td><td> 0.73605329</td><td>-0.40723828</td><td> 0.0406178976</td><td>-0.6682606866</td><td> 0.489733365</td><td> 0.029557724</td><td>⋯</td><td> 0.37105867</td><td> 0.095670205</td><td> 0.219694177</td><td>-0.37619206</td><td>-0.628704235</td><td>-0.112055410</td><td> 0.26759486</td><td> 0.238701503</td><td> 0.04715547</td><td>-0.301642759</td></tr>\n",
       "\t<tr><td> 0.120695988</td><td>-0.23938557</td><td> 0.02024959</td><td>-0.08421171</td><td> 0.11846488</td><td>-0.02776193</td><td>-0.0778792410</td><td>-0.1630218408</td><td>-0.077755343</td><td> 0.097914168</td><td>⋯</td><td>-0.38745516</td><td> 0.114114831</td><td> 0.292915234</td><td>-0.15588488</td><td> 0.004167977</td><td>-0.567566666</td><td>-0.53215471</td><td> 0.565644207</td><td> 0.14813301</td><td> 0.288985204</td></tr>\n",
       "\t<tr><td> 0.072877070</td><td>-0.27012561</td><td> 0.40468469</td><td> 0.30412659</td><td>-0.27470231</td><td>-0.35850892</td><td> 1.1426180059</td><td>-0.1952826755</td><td>-0.357220185</td><td>-0.381837747</td><td>⋯</td><td> 0.05162639</td><td>-0.621557585</td><td>-0.338798998</td><td> 0.22329971</td><td>-0.346292006</td><td>-0.303543535</td><td> 0.01939718</td><td>-0.089081798</td><td>-0.46521976</td><td>-0.393619262</td></tr>\n",
       "\t<tr><td> 0.547900740</td><td> 0.44689609</td><td>-0.25069932</td><td>-0.27862135</td><td>-0.36526012</td><td>-0.03868022</td><td> 0.5143525134</td><td>-0.4105887498</td><td> 0.194881170</td><td> 0.413270094</td><td>⋯</td><td> 0.25213130</td><td> 0.084803352</td><td> 0.119980991</td><td>-0.97749934</td><td> 0.002447027</td><td> 0.310290566</td><td>-0.42962294</td><td> 0.056583041</td><td>-0.03551097</td><td> 0.089890885</td></tr>\n",
       "\t<tr><td>-0.483257641</td><td> 0.61136763</td><td> 0.53123001</td><td>-0.04003464</td><td> 0.19131069</td><td> 0.07187980</td><td>-0.2671064377</td><td> 0.5375319464</td><td> 0.717886326</td><td> 0.309568799</td><td>⋯</td><td>-0.16466577</td><td>-0.115269128</td><td> 0.380287407</td><td> 0.16767669</td><td> 0.226994077</td><td>-0.132593757</td><td> 0.96508768</td><td> 0.018040666</td><td>-0.17661151</td><td>-0.980791609</td></tr>\n",
       "\t<tr><td>-0.217805363</td><td> 0.59691866</td><td>-0.25234819</td><td> 0.07285112</td><td>-0.26565603</td><td>-0.31038632</td><td>-0.9467028040</td><td> 0.1247041633</td><td> 0.572402872</td><td>-0.086973775</td><td>⋯</td><td> 0.59653261</td><td>-0.051862360</td><td>-0.051151320</td><td> 0.21356399</td><td>-0.012012371</td><td>-0.534786283</td><td>-1.14492342</td><td>-0.194711711</td><td>-0.14801605</td><td>-0.034875570</td></tr>\n",
       "\t<tr><td> 0.122562358</td><td> 0.02076862</td><td>-1.25814268</td><td>-0.45499901</td><td> 0.72759224</td><td>-0.27672260</td><td> 0.5277989329</td><td> 0.7438328853</td><td> 0.343565594</td><td> 0.089558273</td><td>⋯</td><td> 0.19372107</td><td> 0.363428593</td><td> 0.166350388</td><td>-0.52462517</td><td> 0.280187536</td><td> 0.156282979</td><td> 0.14116288</td><td> 0.337436355</td><td> 0.29645696</td><td> 0.175377576</td></tr>\n",
       "\t<tr><td> 0.126084507</td><td>-0.34629644</td><td>-0.33504407</td><td>-0.40266342</td><td> 0.40439813</td><td>-0.33267110</td><td>-0.3468149464</td><td>-0.1907059524</td><td> 0.176077252</td><td> 0.270014436</td><td>⋯</td><td> 0.17963173</td><td> 0.381711448</td><td> 0.477354755</td><td>-0.08574118</td><td>-0.028339478</td><td> 0.640410640</td><td> 0.24820160</td><td> 0.004741817</td><td>-0.73195503</td><td> 0.290742968</td></tr>\n",
       "\t<tr><td> 0.310296384</td><td> 0.09112200</td><td>-0.41068257</td><td>-0.45376707</td><td>-0.09912368</td><td> 0.10772844</td><td>-0.2748411788</td><td> 0.0196167457</td><td>-0.009542333</td><td> 0.275719003</td><td>⋯</td><td>-0.16661839</td><td> 0.801708059</td><td>-0.008763959</td><td> 0.08204961</td><td> 0.146340950</td><td>-0.727540678</td><td> 0.32438541</td><td>-0.220716274</td><td>-0.24842408</td><td>-0.319906714</td></tr>\n",
       "\t<tr><td>-0.582669172</td><td>-0.29390170</td><td> 0.55111670</td><td> 0.54713693</td><td>-0.02549523</td><td>-0.70292334</td><td>-0.5340167276</td><td> 0.2210804818</td><td>-0.014151669</td><td>-0.011927417</td><td>⋯</td><td>-0.32827678</td><td>-0.076079174</td><td>-0.046405792</td><td> 0.04416411</td><td> 0.085549788</td><td> 0.374495371</td><td> 0.14680710</td><td> 0.059872721</td><td> 0.54833124</td><td>-0.832207377</td></tr>\n",
       "\t<tr><td> 0.494293105</td><td>-0.18722432</td><td>-0.41385835</td><td> 0.41774969</td><td> 0.18211049</td><td> 0.07597585</td><td>-0.3592302589</td><td>-0.5921350126</td><td>-0.485199260</td><td> 0.335535987</td><td>⋯</td><td> 0.16707072</td><td> 0.276194400</td><td>-1.017880098</td><td> 0.40563073</td><td> 0.396776512</td><td> 0.389114799</td><td> 0.86782376</td><td> 0.126845034</td><td> 0.63088166</td><td>-0.195201279</td></tr>\n",
       "\t<tr><td> 0.823515999</td><td> 0.16181495</td><td>-0.13601779</td><td>-0.16523002</td><td> 0.21925590</td><td> 0.13031751</td><td> 0.2225398423</td><td> 0.2483080654</td><td> 0.697614361</td><td>-0.133353369</td><td>⋯</td><td> 0.38118247</td><td> 0.220810706</td><td> 0.098239360</td><td>-0.05180816</td><td>-0.194041856</td><td>-0.033983245</td><td>-0.19474817</td><td> 0.259627351</td><td> 0.04609161</td><td> 0.452581299</td></tr>\n",
       "\t<tr><td> 0.327999111</td><td> 0.06008509</td><td>-0.41840668</td><td> 0.39712803</td><td>-0.30653892</td><td>-0.25691380</td><td> 0.4979239890</td><td>-0.0244482977</td><td>-0.668138413</td><td>-0.378035879</td><td>⋯</td><td>-0.01980930</td><td>-0.585197457</td><td>-0.277134440</td><td> 0.48063652</td><td> 0.264257000</td><td> 0.084598898</td><td>-0.20398952</td><td>-1.046554662</td><td> 0.60062421</td><td>-0.042866344</td></tr>\n",
       "\t<tr><td> 0.099366293</td><td> 0.14236533</td><td> 0.64279422</td><td> 0.44937506</td><td> 0.02387343</td><td> 0.26944750</td><td> 0.2581385314</td><td> 0.2185224093</td><td> 0.072804859</td><td>-0.057018698</td><td>⋯</td><td>-0.36817546</td><td> 0.447468993</td><td> 0.485470258</td><td> 0.02769708</td><td>-0.088139097</td><td>-0.243139609</td><td>-0.11260462</td><td>-0.091251797</td><td>-0.47963749</td><td> 0.122033868</td></tr>\n",
       "\t<tr><td>-0.003232628</td><td> 0.25426720</td><td> 0.43098276</td><td> 0.29086192</td><td>-0.22699680</td><td>-0.04906910</td><td>-0.1419332559</td><td>-0.0257773040</td><td>-0.161561138</td><td> 0.150806686</td><td>⋯</td><td> 0.48541109</td><td>-0.343000090</td><td>-0.211271381</td><td> 0.39888751</td><td>-0.342176634</td><td> 0.121080752</td><td>-0.46987429</td><td> 0.117633886</td><td> 0.23046340</td><td>-0.901898199</td></tr>\n",
       "\t<tr><td> 0.602588975</td><td> 0.33616643</td><td> 0.20703912</td><td> 0.32287357</td><td> 0.64403286</td><td>-0.69165683</td><td> 0.4471993490</td><td>-0.7449143060</td><td>-0.019561944</td><td>-0.296158508</td><td>⋯</td><td> 0.78388570</td><td> 0.367370155</td><td>-0.667776971</td><td>-0.32078272</td><td>-0.270600452</td><td> 0.052457914</td><td>-0.09710388</td><td>-0.431134069</td><td> 0.33746570</td><td> 0.047449625</td></tr>\n",
       "\t<tr><td>-0.815902841</td><td>-0.79883603</td><td> 0.01083047</td><td>-0.35420749</td><td>-0.06572019</td><td> 0.15092615</td><td>-0.3447207105</td><td> 0.2633685871</td><td> 0.142042452</td><td>-0.476468885</td><td>⋯</td><td>-0.37494198</td><td>-0.022746150</td><td>-0.118897329</td><td> 0.41619551</td><td> 0.469892107</td><td>-0.083881388</td><td>-1.08003993</td><td>-0.204403411</td><td>-0.17526713</td><td>-0.405556292</td></tr>\n",
       "\t<tr><td>-0.411650279</td><td>-0.04522575</td><td> 0.08616489</td><td> 0.02552012</td><td> 0.84506146</td><td> 0.10961907</td><td>-0.2909509283</td><td> 0.0109662991</td><td> 0.388665762</td><td> 0.010801789</td><td>⋯</td><td> 0.15623275</td><td> 0.568220976</td><td> 0.732287557</td><td>-0.20434950</td><td>-0.683966131</td><td>-0.045307133</td><td>-0.34576803</td><td>-0.017804713</td><td>-0.69426237</td><td>-0.009569692</td></tr>\n",
       "\t<tr><td>⋮</td><td>⋮</td><td>⋮</td><td>⋮</td><td>⋮</td><td>⋮</td><td>⋮</td><td>⋮</td><td>⋮</td><td>⋮</td><td>⋱</td><td>⋮</td><td>⋮</td><td>⋮</td><td>⋮</td><td>⋮</td><td>⋮</td><td>⋮</td><td>⋮</td><td>⋮</td><td>⋮</td></tr>\n",
       "\t<tr><td>-0.44493947</td><td> 0.337739125</td><td>-0.496025781</td><td>-0.2381304425</td><td>-0.08403145</td><td>-0.001383807</td><td>-0.12060392</td><td> 0.32445142</td><td> 0.08888831</td><td>-0.52945461</td><td>⋯</td><td>-0.21922459</td><td>-0.36533748</td><td> 0.42008823</td><td> 0.04302188</td><td> 9.816722e-05</td><td> 0.425249343</td><td>-0.06760216</td><td>-0.360677477</td><td>-0.03166464</td><td>-0.05308399</td></tr>\n",
       "\t<tr><td> 0.14391551</td><td> 0.185054263</td><td>-0.015861544</td><td>-0.0150874291</td><td>-0.40251969</td><td>-0.472088958</td><td>-0.39202021</td><td> 0.26392266</td><td> 0.10653259</td><td> 0.10609417</td><td>⋯</td><td> 0.01003755</td><td> 0.11234127</td><td>-0.55297495</td><td> 0.30790300</td><td>-2.946217e-01</td><td>-0.305925564</td><td> 0.48232060</td><td>-0.260186465</td><td> 0.10949754</td><td> 0.15097220</td></tr>\n",
       "\t<tr><td> 0.10798266</td><td>-0.179794604</td><td> 0.822612391</td><td>-0.0597212092</td><td> 0.12214342</td><td>-0.055832954</td><td> 0.18134951</td><td> 0.10952462</td><td>-0.21060041</td><td>-0.27209066</td><td>⋯</td><td> 0.31950014</td><td> 0.11316617</td><td> 0.26028733</td><td>-0.34877731</td><td>-3.140853e-01</td><td> 0.657604722</td><td>-0.10789011</td><td> 0.190097005</td><td> 0.03866230</td><td> 0.12337496</td></tr>\n",
       "\t<tr><td> 0.21955233</td><td> 0.485787694</td><td>-0.154946896</td><td> 0.2740797381</td><td>-0.38044173</td><td>-0.212246988</td><td> 0.51553453</td><td>-0.75264211</td><td>-0.49866829</td><td>-0.22751264</td><td>⋯</td><td> 0.54429043</td><td> 0.65907817</td><td> 0.10360933</td><td> 0.07997538</td><td>-1.787568e-02</td><td>-0.407362068</td><td>-0.06467765</td><td>-0.119848721</td><td>-0.34612447</td><td> 0.02333834</td></tr>\n",
       "\t<tr><td>-0.13815083</td><td> 0.306078780</td><td> 0.327768956</td><td>-0.0734176906</td><td> 0.08179970</td><td>-0.132459626</td><td>-0.51275355</td><td> 0.25243910</td><td>-0.03262988</td><td>-0.20795058</td><td>⋯</td><td> 0.44424081</td><td>-0.26143218</td><td>-0.63466311</td><td> 0.52520613</td><td> 2.100174e-01</td><td> 0.583008762</td><td>-0.43378469</td><td> 0.134831064</td><td> 0.31219971</td><td>-0.20170615</td></tr>\n",
       "\t<tr><td>-0.88389224</td><td> 0.416916220</td><td> 0.140568376</td><td> 0.4283889718</td><td> 0.48403210</td><td>-0.135793253</td><td> 0.63568771</td><td> 0.01787508</td><td>-0.29318923</td><td> 0.06630275</td><td>⋯</td><td>-0.06238096</td><td>-0.23202640</td><td>-0.35283877</td><td> 0.17213374</td><td> 2.141908e-01</td><td> 0.131863387</td><td>-0.18190031</td><td> 0.554061873</td><td> 0.32067003</td><td> 0.52101501</td></tr>\n",
       "\t<tr><td> 0.44146320</td><td>-0.307361917</td><td>-0.182543685</td><td>-0.2120222686</td><td> 0.03686416</td><td>-0.315225627</td><td>-0.22574634</td><td> 0.28983113</td><td> 0.20131258</td><td>-0.22397774</td><td>⋯</td><td>-0.65141867</td><td> 0.17601602</td><td>-0.32789391</td><td>-0.08765292</td><td> 7.841275e-02</td><td> 0.028010643</td><td>-0.50423046</td><td> 0.608407156</td><td>-0.11702686</td><td>-0.15049225</td></tr>\n",
       "\t<tr><td> 0.37134419</td><td>-0.159327303</td><td>-0.453383802</td><td>-0.3379559777</td><td> 0.92342956</td><td> 0.057508767</td><td> 0.44649589</td><td>-0.64429950</td><td> 0.32476959</td><td>-0.32125017</td><td>⋯</td><td>-0.41418648</td><td>-0.38176751</td><td> 0.63000659</td><td>-0.09474116</td><td>-3.038548e-01</td><td>-0.285010068</td><td>-0.19208939</td><td> 0.295700865</td><td> 0.38242244</td><td> 0.51577859</td></tr>\n",
       "\t<tr><td>-0.66354144</td><td> 0.229041936</td><td> 0.131189527</td><td>-0.0402378370</td><td> 0.07399966</td><td> 0.833611165</td><td>-0.14572248</td><td> 0.38180776</td><td> 0.43760803</td><td> 0.10587491</td><td>⋯</td><td> 0.28366846</td><td> 0.01971487</td><td> 0.82901258</td><td>-0.52254219</td><td> 1.869989e-02</td><td> 0.617714482</td><td>-0.05526692</td><td>-0.090970499</td><td> 0.10262199</td><td>-0.30942379</td></tr>\n",
       "\t<tr><td>-0.38633627</td><td>-0.059244273</td><td> 0.063225062</td><td> 0.2779182291</td><td> 0.76221925</td><td>-0.308408936</td><td>-0.22577785</td><td>-0.14638451</td><td> 0.29359219</td><td>-0.30633471</td><td>⋯</td><td>-0.47528952</td><td>-0.29631119</td><td>-0.49438103</td><td>-0.48669646</td><td> 1.112023e-01</td><td>-0.043377528</td><td>-0.11631098</td><td> 0.490964398</td><td> 0.38274896</td><td> 0.09475772</td></tr>\n",
       "\t<tr><td>-0.04485153</td><td>-0.054494679</td><td> 0.116111596</td><td> 0.8901258122</td><td> 0.06140298</td><td> 0.539663549</td><td>-0.18705435</td><td> 0.05431556</td><td>-0.18035670</td><td> 0.06588682</td><td>⋯</td><td>-0.61935187</td><td> 0.26679752</td><td>-0.30538955</td><td> 0.34734525</td><td> 6.647076e-02</td><td> 0.701043377</td><td> 0.36632537</td><td>-0.312791310</td><td>-0.52753781</td><td>-0.11192421</td></tr>\n",
       "\t<tr><td> 0.27832885</td><td>-0.051758812</td><td>-0.391859584</td><td> 0.1372164555</td><td>-0.09978513</td><td> 0.116838879</td><td>-0.36198483</td><td>-0.11979281</td><td> 0.73810071</td><td>-0.12966814</td><td>⋯</td><td>-0.32657174</td><td> 0.23669259</td><td> 0.15829233</td><td> 0.65990468</td><td> 4.235457e-02</td><td>-0.060188368</td><td>-0.16653085</td><td> 0.582528949</td><td>-0.12907880</td><td>-0.49701697</td></tr>\n",
       "\t<tr><td> 0.29177114</td><td>-0.083958635</td><td> 0.343678714</td><td> 0.4740639300</td><td> 0.26657417</td><td> 0.943008853</td><td>-0.67963805</td><td> 0.40248423</td><td> 0.66172238</td><td>-0.57268136</td><td>⋯</td><td>-0.19087250</td><td> 0.15389718</td><td> 0.28542209</td><td> 0.28303503</td><td> 3.520469e-01</td><td> 0.014493488</td><td> 0.26843835</td><td> 0.419345016</td><td> 0.15953451</td><td> 0.25125509</td></tr>\n",
       "\t<tr><td> 0.13420975</td><td> 0.467692989</td><td> 0.182428662</td><td>-0.4500687865</td><td> 0.04834400</td><td> 0.200836133</td><td>-0.17216220</td><td>-0.13611798</td><td>-0.21863350</td><td> 0.26200314</td><td>⋯</td><td> 0.65543586</td><td>-0.04384929</td><td>-0.05327727</td><td>-0.02369994</td><td> 3.385840e-02</td><td>-0.545877587</td><td>-0.10281991</td><td> 0.661543509</td><td>-0.23337276</td><td>-0.64649943</td></tr>\n",
       "\t<tr><td> 0.04828591</td><td>-0.773298295</td><td> 0.241853321</td><td>-0.0229882291</td><td>-0.42556616</td><td> 0.408680002</td><td> 0.38511803</td><td>-0.39641273</td><td> 0.43021789</td><td>-0.12672553</td><td>⋯</td><td>-0.46800971</td><td> 0.17011599</td><td> 0.39298295</td><td>-0.18520871</td><td>-3.516723e-01</td><td>-0.151017016</td><td>-0.09040927</td><td>-0.333580463</td><td> 0.20286479</td><td>-0.77014588</td></tr>\n",
       "\t<tr><td>-0.40901923</td><td> 0.203712821</td><td>-0.407263114</td><td> 0.2434001388</td><td>-0.42844521</td><td>-0.068586641</td><td>-0.23571854</td><td>-0.40467070</td><td>-0.26523020</td><td>-0.27843141</td><td>⋯</td><td>-0.70401508</td><td> 0.15283633</td><td>-0.25838352</td><td>-0.31450636</td><td>-1.135555e-01</td><td> 0.120531326</td><td> 0.16320537</td><td> 0.268694479</td><td>-0.42280532</td><td> 0.15969801</td></tr>\n",
       "\t<tr><td> 0.37018023</td><td>-0.249706530</td><td> 0.435202030</td><td> 0.0008959113</td><td> 0.39178285</td><td>-0.057362016</td><td> 0.65648210</td><td> 0.32070110</td><td> 0.01642567</td><td>-0.13124781</td><td>⋯</td><td>-0.17716462</td><td>-0.13368250</td><td> 0.45095385</td><td> 0.10255252</td><td> 2.232938e-02</td><td>-0.597029246</td><td> 0.21505320</td><td> 0.086918780</td><td> 0.11948530</td><td> 0.17366335</td></tr>\n",
       "\t<tr><td>-0.29472483</td><td>-0.042205147</td><td>-0.293792347</td><td> 0.4450002187</td><td>-0.43423196</td><td> 0.136057808</td><td>-0.28054107</td><td>-0.04716717</td><td> 0.47183166</td><td> 0.04080669</td><td>⋯</td><td>-0.10087816</td><td>-0.00222172</td><td> 0.30512452</td><td> 0.02512815</td><td> 3.316021e-01</td><td> 0.255710901</td><td>-0.17397057</td><td>-0.249849681</td><td>-0.58682815</td><td> 0.41923131</td></tr>\n",
       "\t<tr><td> 0.52749555</td><td>-0.339550367</td><td>-0.398637173</td><td> 0.2103116683</td><td>-0.49611993</td><td>-0.563438612</td><td> 0.30725762</td><td>-0.75626079</td><td> 0.30210999</td><td>-0.62044199</td><td>⋯</td><td> 0.50819083</td><td>-0.33357918</td><td> 0.28042075</td><td> 0.09351928</td><td> 3.494203e-02</td><td> 0.235143633</td><td> 0.16189764</td><td>-0.008872187</td><td>-0.23160844</td><td> 0.25966934</td></tr>\n",
       "\t<tr><td>-0.32593532</td><td> 0.502982309</td><td> 0.084703384</td><td> 0.2242247784</td><td>-0.20172669</td><td>-0.289057915</td><td> 0.22312599</td><td> 0.02339461</td><td>-0.43546790</td><td>-0.31853781</td><td>⋯</td><td> 0.17372465</td><td>-0.67226580</td><td>-0.11407581</td><td>-0.12636905</td><td>-1.501481e-01</td><td>-0.459322430</td><td> 0.22917139</td><td>-0.282340462</td><td> 0.11000342</td><td>-0.38212898</td></tr>\n",
       "\t<tr><td> 0.24909428</td><td>-0.027912136</td><td>-0.287623670</td><td> 0.0422080091</td><td> 0.40929122</td><td>-0.236094689</td><td> 0.02784169</td><td>-0.10549140</td><td>-0.23260398</td><td> 1.00041955</td><td>⋯</td><td>15.73778131</td><td>-0.32477828</td><td>-0.12071218</td><td>-0.12449118</td><td> 2.555232e-01</td><td>-0.846960322</td><td>-0.06997144</td><td> 0.362715185</td><td>-0.06341932</td><td> 0.20112332</td></tr>\n",
       "\t<tr><td> 0.28757289</td><td>-0.003794508</td><td>-0.325746834</td><td>-0.1348985945</td><td>-0.68955966</td><td>-0.265308896</td><td>-0.18254120</td><td> 0.26362684</td><td> 0.45280911</td><td> 0.40087315</td><td>⋯</td><td>-0.32477828</td><td>14.65264184</td><td>-0.15348259</td><td> 0.46705285</td><td>-4.947420e-01</td><td>-0.317449793</td><td> 0.11713180</td><td>-0.390035599</td><td> 0.26944891</td><td> 0.24919192</td></tr>\n",
       "\t<tr><td>-0.05323594</td><td> 0.195972308</td><td>-0.097348413</td><td>-0.5269774042</td><td> 0.30276780</td><td>-0.064913029</td><td>-0.05138342</td><td> 0.56242656</td><td>-0.48867986</td><td> 0.31545287</td><td>⋯</td><td>-0.12071218</td><td>-0.15348259</td><td>16.67989925</td><td>-0.22822450</td><td> 3.715867e-01</td><td>-0.131836563</td><td>-0.02310220</td><td> 0.303117164</td><td>-0.65354684</td><td> 0.02234988</td></tr>\n",
       "\t<tr><td> 0.17399056</td><td>-0.038498239</td><td> 0.423625028</td><td>-0.6738206749</td><td>-0.15570648</td><td>-0.394266904</td><td>-0.44136225</td><td>-0.20970457</td><td>-0.38020591</td><td> 0.21738179</td><td>⋯</td><td>-0.12449118</td><td> 0.46705285</td><td>-0.22822450</td><td>15.54120854</td><td>-3.508049e-01</td><td> 0.147514556</td><td> 0.06036031</td><td>-0.025510405</td><td> 0.21950713</td><td> 0.21780240</td></tr>\n",
       "\t<tr><td>-0.07707095</td><td>-0.262612378</td><td>-0.373032911</td><td>-0.7993257386</td><td> 0.14641767</td><td> 0.145993825</td><td>-0.25504241</td><td> 0.09733864</td><td>-0.22638601</td><td> 0.23884821</td><td>⋯</td><td> 0.25552323</td><td>-0.49474197</td><td> 0.37158668</td><td>-0.35080492</td><td> 1.581666e+01</td><td>-0.009440702</td><td> 0.11692961</td><td>-0.050127028</td><td> 0.55417021</td><td> 0.64039926</td></tr>\n",
       "\t<tr><td>-0.42741130</td><td> 0.339425000</td><td> 0.001921996</td><td>-0.3038290660</td><td>-0.14433487</td><td> 0.517774962</td><td>-0.21431124</td><td> 0.04432583</td><td> 0.31908345</td><td> 0.20697351</td><td>⋯</td><td>-0.84696032</td><td>-0.31744979</td><td>-0.13183656</td><td> 0.14751456</td><td>-9.440702e-03</td><td>16.406452357</td><td> 0.60227905</td><td>-0.315143931</td><td>-0.42734306</td><td>-0.11251472</td></tr>\n",
       "\t<tr><td>-0.27042901</td><td> 0.405665289</td><td>-0.374013318</td><td>-0.0155919755</td><td>-0.29558117</td><td> 0.077469917</td><td> 0.72459259</td><td> 0.15061561</td><td>-0.02648825</td><td>-0.03459260</td><td>⋯</td><td>-0.06997144</td><td> 0.11713180</td><td>-0.02310220</td><td> 0.06036031</td><td> 1.169296e-01</td><td> 0.602279048</td><td>15.84260485</td><td> 0.210497741</td><td> 0.08144288</td><td> 0.52849258</td></tr>\n",
       "\t<tr><td>-0.08461260</td><td>-0.629277349</td><td>-0.157423935</td><td>-0.2718575177</td><td> 0.49848349</td><td>-0.313136183</td><td>-0.30154023</td><td>-0.57884031</td><td> 0.79425211</td><td>-0.51250505</td><td>⋯</td><td> 0.36271518</td><td>-0.39003560</td><td> 0.30311716</td><td>-0.02551040</td><td>-5.012703e-02</td><td>-0.315143931</td><td> 0.21049774</td><td>16.527268025</td><td>-0.10765040</td><td>-0.35324865</td></tr>\n",
       "\t<tr><td> 0.17085207</td><td> 0.468776903</td><td> 0.244816473</td><td>-0.5628886778</td><td>-0.32304933</td><td>-0.564285512</td><td> 0.25685758</td><td> 0.16680204</td><td> 0.05462260</td><td>-0.66165864</td><td>⋯</td><td>-0.06341932</td><td> 0.26944891</td><td>-0.65354684</td><td> 0.21950713</td><td> 5.541702e-01</td><td>-0.427343063</td><td> 0.08144288</td><td>-0.107650404</td><td>16.01897231</td><td>-0.26864125</td></tr>\n",
       "\t<tr><td> 0.06653423</td><td> 0.082677408</td><td> 0.106138231</td><td>-0.1133335689</td><td>-0.12396512</td><td>-0.079146720</td><td> 0.70543148</td><td>-0.54497988</td><td> 0.33002293</td><td> 0.52216895</td><td>⋯</td><td> 0.20112332</td><td> 0.24919192</td><td> 0.02234988</td><td> 0.21780240</td><td> 6.403993e-01</td><td>-0.112514720</td><td> 0.52849258</td><td>-0.353248654</td><td>-0.26864125</td><td>16.18291685</td></tr>\n",
       "</tbody>\n",
       "</table>\n"
      ],
      "text/latex": [
       "A matrix: 2000 × 2000 of type dbl\n",
       "\\begin{tabular}{lllllllllllllllllllll}\n",
       "\t 15.058147429 & -0.19441977 & -0.14921329 &  0.03017660 & -0.12880093 & -0.38219903 &  0.0974215917 &  0.1398167761 & -0.024060211 &  0.383594034 & ⋯ &  0.24909428 &  0.287572890 & -0.053235941 &  0.17399056 & -0.077070946 & -0.427411304 & -0.27042901 & -0.084612603 &  0.17085207 &  0.066534229\\\\\n",
       "\t -0.194419770 & 16.98507417 &  0.37996008 &  0.03787600 &  0.09366181 & -0.36155259 & -0.5492144031 &  0.8535008067 &  0.048054024 & -0.212514774 & ⋯ & -0.02791214 & -0.003794508 &  0.195972308 & -0.03849824 & -0.262612378 &  0.339425000 &  0.40566529 & -0.629277349 &  0.46877690 &  0.082677408\\\\\n",
       "\t -0.149213292 &  0.37996008 & 16.52929894 &  0.39513225 & -0.31784974 & -0.97790999 & -0.2117230908 & -0.4423887034 &  0.374776515 & -0.515362781 & ⋯ & -0.28762367 & -0.325746834 & -0.097348413 &  0.42362503 & -0.373032911 &  0.001921996 & -0.37401332 & -0.157423935 &  0.24481647 &  0.106138231\\\\\n",
       "\t  0.030176602 &  0.03787600 &  0.39513225 & 15.97734708 & -0.22716308 & -0.02774020 &  0.2948642033 & -0.4749116531 &  0.097967244 & -0.044461448 & ⋯ &  0.04220801 & -0.134898595 & -0.526977404 & -0.67382067 & -0.799325739 & -0.303829066 & -0.01559198 & -0.271857518 & -0.56288868 & -0.113333569\\\\\n",
       "\t -0.128800929 &  0.09366181 & -0.31784974 & -0.22716308 & 16.66207029 & -0.10718199 &  0.2310858367 & -0.3051778140 & -0.083711125 &  0.957998953 & ⋯ &  0.40929122 & -0.689559664 &  0.302767803 & -0.15570648 &  0.146417674 & -0.144334870 & -0.29558117 &  0.498483493 & -0.32304933 & -0.123965120\\\\\n",
       "\t -0.382199027 & -0.36155259 & -0.97790999 & -0.02774020 & -0.10718199 & 16.77149845 & -0.0813662082 & -0.1258142860 &  0.598992196 &  0.507581558 & ⋯ & -0.23609469 & -0.265308896 & -0.064913029 & -0.39426690 &  0.145993825 &  0.517774962 &  0.07746992 & -0.313136183 & -0.56428551 & -0.079146720\\\\\n",
       "\t  0.097421592 & -0.54921440 & -0.21172309 &  0.29486420 &  0.23108584 & -0.08136621 & 16.2866328807 & -0.0003871587 &  0.200346612 &  0.107796105 & ⋯ &  0.02784169 & -0.182541201 & -0.051383419 & -0.44136225 & -0.255042414 & -0.214311239 &  0.72459259 & -0.301540234 &  0.25685758 &  0.705431484\\\\\n",
       "\t  0.139816776 &  0.85350081 & -0.44238870 & -0.47491165 & -0.30517781 & -0.12581429 & -0.0003871587 & 16.3041604652 &  0.462593923 &  0.026392520 & ⋯ & -0.10549140 &  0.263626839 &  0.562426558 & -0.20970457 &  0.097338644 &  0.044325829 &  0.15061561 & -0.578840314 &  0.16680204 & -0.544979881\\\\\n",
       "\t -0.024060211 &  0.04805402 &  0.37477651 &  0.09796724 & -0.08371113 &  0.59899220 &  0.2003466116 &  0.4625939233 & 16.502102206 &  0.046198428 & ⋯ & -0.23260398 &  0.452809114 & -0.488679864 & -0.38020591 & -0.226386010 &  0.319083445 & -0.02648825 &  0.794252105 &  0.05462260 &  0.330022934\\\\\n",
       "\t  0.383594034 & -0.21251477 & -0.51536278 & -0.04446145 &  0.95799895 &  0.50758156 &  0.1077961051 &  0.0263925199 &  0.046198428 & 15.726174665 & ⋯ &  1.00041955 &  0.400873154 &  0.315452874 &  0.21738179 &  0.238848205 &  0.206973505 & -0.03459260 & -0.512505048 & -0.66165864 &  0.522168946\\\\\n",
       "\t -0.538602101 &  0.55226850 &  0.13330407 & -0.11326559 & -0.45825672 & -0.05561191 & -0.4331994800 &  0.3278879421 &  0.032175123 & -0.308264620 & ⋯ &  0.08292421 &  0.640649942 &  0.337649752 &  0.57644800 &  0.351256610 &  0.081606779 &  0.24090556 & -0.512409414 &  0.60723550 &  0.097414366\\\\\n",
       "\t  0.256677244 &  0.36237740 &  0.05267760 &  0.21614002 &  0.16473748 & -0.20304408 & -0.3426690504 &  0.6084006213 &  0.389753283 & -0.005998371 & ⋯ &  0.34806680 & -0.034835533 &  0.267485881 &  0.61045056 & -0.073836436 &  0.679183293 & -0.27818604 & -0.241947879 & -0.54947604 &  0.166444502\\\\\n",
       "\t -0.424364916 & -0.40970872 &  0.04514354 &  0.34114849 &  0.73605329 & -0.40723828 &  0.0406178976 & -0.6682606866 &  0.489733365 &  0.029557724 & ⋯ &  0.37105867 &  0.095670205 &  0.219694177 & -0.37619206 & -0.628704235 & -0.112055410 &  0.26759486 &  0.238701503 &  0.04715547 & -0.301642759\\\\\n",
       "\t  0.120695988 & -0.23938557 &  0.02024959 & -0.08421171 &  0.11846488 & -0.02776193 & -0.0778792410 & -0.1630218408 & -0.077755343 &  0.097914168 & ⋯ & -0.38745516 &  0.114114831 &  0.292915234 & -0.15588488 &  0.004167977 & -0.567566666 & -0.53215471 &  0.565644207 &  0.14813301 &  0.288985204\\\\\n",
       "\t  0.072877070 & -0.27012561 &  0.40468469 &  0.30412659 & -0.27470231 & -0.35850892 &  1.1426180059 & -0.1952826755 & -0.357220185 & -0.381837747 & ⋯ &  0.05162639 & -0.621557585 & -0.338798998 &  0.22329971 & -0.346292006 & -0.303543535 &  0.01939718 & -0.089081798 & -0.46521976 & -0.393619262\\\\\n",
       "\t  0.547900740 &  0.44689609 & -0.25069932 & -0.27862135 & -0.36526012 & -0.03868022 &  0.5143525134 & -0.4105887498 &  0.194881170 &  0.413270094 & ⋯ &  0.25213130 &  0.084803352 &  0.119980991 & -0.97749934 &  0.002447027 &  0.310290566 & -0.42962294 &  0.056583041 & -0.03551097 &  0.089890885\\\\\n",
       "\t -0.483257641 &  0.61136763 &  0.53123001 & -0.04003464 &  0.19131069 &  0.07187980 & -0.2671064377 &  0.5375319464 &  0.717886326 &  0.309568799 & ⋯ & -0.16466577 & -0.115269128 &  0.380287407 &  0.16767669 &  0.226994077 & -0.132593757 &  0.96508768 &  0.018040666 & -0.17661151 & -0.980791609\\\\\n",
       "\t -0.217805363 &  0.59691866 & -0.25234819 &  0.07285112 & -0.26565603 & -0.31038632 & -0.9467028040 &  0.1247041633 &  0.572402872 & -0.086973775 & ⋯ &  0.59653261 & -0.051862360 & -0.051151320 &  0.21356399 & -0.012012371 & -0.534786283 & -1.14492342 & -0.194711711 & -0.14801605 & -0.034875570\\\\\n",
       "\t  0.122562358 &  0.02076862 & -1.25814268 & -0.45499901 &  0.72759224 & -0.27672260 &  0.5277989329 &  0.7438328853 &  0.343565594 &  0.089558273 & ⋯ &  0.19372107 &  0.363428593 &  0.166350388 & -0.52462517 &  0.280187536 &  0.156282979 &  0.14116288 &  0.337436355 &  0.29645696 &  0.175377576\\\\\n",
       "\t  0.126084507 & -0.34629644 & -0.33504407 & -0.40266342 &  0.40439813 & -0.33267110 & -0.3468149464 & -0.1907059524 &  0.176077252 &  0.270014436 & ⋯ &  0.17963173 &  0.381711448 &  0.477354755 & -0.08574118 & -0.028339478 &  0.640410640 &  0.24820160 &  0.004741817 & -0.73195503 &  0.290742968\\\\\n",
       "\t  0.310296384 &  0.09112200 & -0.41068257 & -0.45376707 & -0.09912368 &  0.10772844 & -0.2748411788 &  0.0196167457 & -0.009542333 &  0.275719003 & ⋯ & -0.16661839 &  0.801708059 & -0.008763959 &  0.08204961 &  0.146340950 & -0.727540678 &  0.32438541 & -0.220716274 & -0.24842408 & -0.319906714\\\\\n",
       "\t -0.582669172 & -0.29390170 &  0.55111670 &  0.54713693 & -0.02549523 & -0.70292334 & -0.5340167276 &  0.2210804818 & -0.014151669 & -0.011927417 & ⋯ & -0.32827678 & -0.076079174 & -0.046405792 &  0.04416411 &  0.085549788 &  0.374495371 &  0.14680710 &  0.059872721 &  0.54833124 & -0.832207377\\\\\n",
       "\t  0.494293105 & -0.18722432 & -0.41385835 &  0.41774969 &  0.18211049 &  0.07597585 & -0.3592302589 & -0.5921350126 & -0.485199260 &  0.335535987 & ⋯ &  0.16707072 &  0.276194400 & -1.017880098 &  0.40563073 &  0.396776512 &  0.389114799 &  0.86782376 &  0.126845034 &  0.63088166 & -0.195201279\\\\\n",
       "\t  0.823515999 &  0.16181495 & -0.13601779 & -0.16523002 &  0.21925590 &  0.13031751 &  0.2225398423 &  0.2483080654 &  0.697614361 & -0.133353369 & ⋯ &  0.38118247 &  0.220810706 &  0.098239360 & -0.05180816 & -0.194041856 & -0.033983245 & -0.19474817 &  0.259627351 &  0.04609161 &  0.452581299\\\\\n",
       "\t  0.327999111 &  0.06008509 & -0.41840668 &  0.39712803 & -0.30653892 & -0.25691380 &  0.4979239890 & -0.0244482977 & -0.668138413 & -0.378035879 & ⋯ & -0.01980930 & -0.585197457 & -0.277134440 &  0.48063652 &  0.264257000 &  0.084598898 & -0.20398952 & -1.046554662 &  0.60062421 & -0.042866344\\\\\n",
       "\t  0.099366293 &  0.14236533 &  0.64279422 &  0.44937506 &  0.02387343 &  0.26944750 &  0.2581385314 &  0.2185224093 &  0.072804859 & -0.057018698 & ⋯ & -0.36817546 &  0.447468993 &  0.485470258 &  0.02769708 & -0.088139097 & -0.243139609 & -0.11260462 & -0.091251797 & -0.47963749 &  0.122033868\\\\\n",
       "\t -0.003232628 &  0.25426720 &  0.43098276 &  0.29086192 & -0.22699680 & -0.04906910 & -0.1419332559 & -0.0257773040 & -0.161561138 &  0.150806686 & ⋯ &  0.48541109 & -0.343000090 & -0.211271381 &  0.39888751 & -0.342176634 &  0.121080752 & -0.46987429 &  0.117633886 &  0.23046340 & -0.901898199\\\\\n",
       "\t  0.602588975 &  0.33616643 &  0.20703912 &  0.32287357 &  0.64403286 & -0.69165683 &  0.4471993490 & -0.7449143060 & -0.019561944 & -0.296158508 & ⋯ &  0.78388570 &  0.367370155 & -0.667776971 & -0.32078272 & -0.270600452 &  0.052457914 & -0.09710388 & -0.431134069 &  0.33746570 &  0.047449625\\\\\n",
       "\t -0.815902841 & -0.79883603 &  0.01083047 & -0.35420749 & -0.06572019 &  0.15092615 & -0.3447207105 &  0.2633685871 &  0.142042452 & -0.476468885 & ⋯ & -0.37494198 & -0.022746150 & -0.118897329 &  0.41619551 &  0.469892107 & -0.083881388 & -1.08003993 & -0.204403411 & -0.17526713 & -0.405556292\\\\\n",
       "\t -0.411650279 & -0.04522575 &  0.08616489 &  0.02552012 &  0.84506146 &  0.10961907 & -0.2909509283 &  0.0109662991 &  0.388665762 &  0.010801789 & ⋯ &  0.15623275 &  0.568220976 &  0.732287557 & -0.20434950 & -0.683966131 & -0.045307133 & -0.34576803 & -0.017804713 & -0.69426237 & -0.009569692\\\\\n",
       "\t ⋮ & ⋮ & ⋮ & ⋮ & ⋮ & ⋮ & ⋮ & ⋮ & ⋮ & ⋮ & ⋱ & ⋮ & ⋮ & ⋮ & ⋮ & ⋮ & ⋮ & ⋮ & ⋮ & ⋮ & ⋮\\\\\n",
       "\t -0.44493947 &  0.337739125 & -0.496025781 & -0.2381304425 & -0.08403145 & -0.001383807 & -0.12060392 &  0.32445142 &  0.08888831 & -0.52945461 & ⋯ & -0.21922459 & -0.36533748 &  0.42008823 &  0.04302188 &  9.816722e-05 &  0.425249343 & -0.06760216 & -0.360677477 & -0.03166464 & -0.05308399\\\\\n",
       "\t  0.14391551 &  0.185054263 & -0.015861544 & -0.0150874291 & -0.40251969 & -0.472088958 & -0.39202021 &  0.26392266 &  0.10653259 &  0.10609417 & ⋯ &  0.01003755 &  0.11234127 & -0.55297495 &  0.30790300 & -2.946217e-01 & -0.305925564 &  0.48232060 & -0.260186465 &  0.10949754 &  0.15097220\\\\\n",
       "\t  0.10798266 & -0.179794604 &  0.822612391 & -0.0597212092 &  0.12214342 & -0.055832954 &  0.18134951 &  0.10952462 & -0.21060041 & -0.27209066 & ⋯ &  0.31950014 &  0.11316617 &  0.26028733 & -0.34877731 & -3.140853e-01 &  0.657604722 & -0.10789011 &  0.190097005 &  0.03866230 &  0.12337496\\\\\n",
       "\t  0.21955233 &  0.485787694 & -0.154946896 &  0.2740797381 & -0.38044173 & -0.212246988 &  0.51553453 & -0.75264211 & -0.49866829 & -0.22751264 & ⋯ &  0.54429043 &  0.65907817 &  0.10360933 &  0.07997538 & -1.787568e-02 & -0.407362068 & -0.06467765 & -0.119848721 & -0.34612447 &  0.02333834\\\\\n",
       "\t -0.13815083 &  0.306078780 &  0.327768956 & -0.0734176906 &  0.08179970 & -0.132459626 & -0.51275355 &  0.25243910 & -0.03262988 & -0.20795058 & ⋯ &  0.44424081 & -0.26143218 & -0.63466311 &  0.52520613 &  2.100174e-01 &  0.583008762 & -0.43378469 &  0.134831064 &  0.31219971 & -0.20170615\\\\\n",
       "\t -0.88389224 &  0.416916220 &  0.140568376 &  0.4283889718 &  0.48403210 & -0.135793253 &  0.63568771 &  0.01787508 & -0.29318923 &  0.06630275 & ⋯ & -0.06238096 & -0.23202640 & -0.35283877 &  0.17213374 &  2.141908e-01 &  0.131863387 & -0.18190031 &  0.554061873 &  0.32067003 &  0.52101501\\\\\n",
       "\t  0.44146320 & -0.307361917 & -0.182543685 & -0.2120222686 &  0.03686416 & -0.315225627 & -0.22574634 &  0.28983113 &  0.20131258 & -0.22397774 & ⋯ & -0.65141867 &  0.17601602 & -0.32789391 & -0.08765292 &  7.841275e-02 &  0.028010643 & -0.50423046 &  0.608407156 & -0.11702686 & -0.15049225\\\\\n",
       "\t  0.37134419 & -0.159327303 & -0.453383802 & -0.3379559777 &  0.92342956 &  0.057508767 &  0.44649589 & -0.64429950 &  0.32476959 & -0.32125017 & ⋯ & -0.41418648 & -0.38176751 &  0.63000659 & -0.09474116 & -3.038548e-01 & -0.285010068 & -0.19208939 &  0.295700865 &  0.38242244 &  0.51577859\\\\\n",
       "\t -0.66354144 &  0.229041936 &  0.131189527 & -0.0402378370 &  0.07399966 &  0.833611165 & -0.14572248 &  0.38180776 &  0.43760803 &  0.10587491 & ⋯ &  0.28366846 &  0.01971487 &  0.82901258 & -0.52254219 &  1.869989e-02 &  0.617714482 & -0.05526692 & -0.090970499 &  0.10262199 & -0.30942379\\\\\n",
       "\t -0.38633627 & -0.059244273 &  0.063225062 &  0.2779182291 &  0.76221925 & -0.308408936 & -0.22577785 & -0.14638451 &  0.29359219 & -0.30633471 & ⋯ & -0.47528952 & -0.29631119 & -0.49438103 & -0.48669646 &  1.112023e-01 & -0.043377528 & -0.11631098 &  0.490964398 &  0.38274896 &  0.09475772\\\\\n",
       "\t -0.04485153 & -0.054494679 &  0.116111596 &  0.8901258122 &  0.06140298 &  0.539663549 & -0.18705435 &  0.05431556 & -0.18035670 &  0.06588682 & ⋯ & -0.61935187 &  0.26679752 & -0.30538955 &  0.34734525 &  6.647076e-02 &  0.701043377 &  0.36632537 & -0.312791310 & -0.52753781 & -0.11192421\\\\\n",
       "\t  0.27832885 & -0.051758812 & -0.391859584 &  0.1372164555 & -0.09978513 &  0.116838879 & -0.36198483 & -0.11979281 &  0.73810071 & -0.12966814 & ⋯ & -0.32657174 &  0.23669259 &  0.15829233 &  0.65990468 &  4.235457e-02 & -0.060188368 & -0.16653085 &  0.582528949 & -0.12907880 & -0.49701697\\\\\n",
       "\t  0.29177114 & -0.083958635 &  0.343678714 &  0.4740639300 &  0.26657417 &  0.943008853 & -0.67963805 &  0.40248423 &  0.66172238 & -0.57268136 & ⋯ & -0.19087250 &  0.15389718 &  0.28542209 &  0.28303503 &  3.520469e-01 &  0.014493488 &  0.26843835 &  0.419345016 &  0.15953451 &  0.25125509\\\\\n",
       "\t  0.13420975 &  0.467692989 &  0.182428662 & -0.4500687865 &  0.04834400 &  0.200836133 & -0.17216220 & -0.13611798 & -0.21863350 &  0.26200314 & ⋯ &  0.65543586 & -0.04384929 & -0.05327727 & -0.02369994 &  3.385840e-02 & -0.545877587 & -0.10281991 &  0.661543509 & -0.23337276 & -0.64649943\\\\\n",
       "\t  0.04828591 & -0.773298295 &  0.241853321 & -0.0229882291 & -0.42556616 &  0.408680002 &  0.38511803 & -0.39641273 &  0.43021789 & -0.12672553 & ⋯ & -0.46800971 &  0.17011599 &  0.39298295 & -0.18520871 & -3.516723e-01 & -0.151017016 & -0.09040927 & -0.333580463 &  0.20286479 & -0.77014588\\\\\n",
       "\t -0.40901923 &  0.203712821 & -0.407263114 &  0.2434001388 & -0.42844521 & -0.068586641 & -0.23571854 & -0.40467070 & -0.26523020 & -0.27843141 & ⋯ & -0.70401508 &  0.15283633 & -0.25838352 & -0.31450636 & -1.135555e-01 &  0.120531326 &  0.16320537 &  0.268694479 & -0.42280532 &  0.15969801\\\\\n",
       "\t  0.37018023 & -0.249706530 &  0.435202030 &  0.0008959113 &  0.39178285 & -0.057362016 &  0.65648210 &  0.32070110 &  0.01642567 & -0.13124781 & ⋯ & -0.17716462 & -0.13368250 &  0.45095385 &  0.10255252 &  2.232938e-02 & -0.597029246 &  0.21505320 &  0.086918780 &  0.11948530 &  0.17366335\\\\\n",
       "\t -0.29472483 & -0.042205147 & -0.293792347 &  0.4450002187 & -0.43423196 &  0.136057808 & -0.28054107 & -0.04716717 &  0.47183166 &  0.04080669 & ⋯ & -0.10087816 & -0.00222172 &  0.30512452 &  0.02512815 &  3.316021e-01 &  0.255710901 & -0.17397057 & -0.249849681 & -0.58682815 &  0.41923131\\\\\n",
       "\t  0.52749555 & -0.339550367 & -0.398637173 &  0.2103116683 & -0.49611993 & -0.563438612 &  0.30725762 & -0.75626079 &  0.30210999 & -0.62044199 & ⋯ &  0.50819083 & -0.33357918 &  0.28042075 &  0.09351928 &  3.494203e-02 &  0.235143633 &  0.16189764 & -0.008872187 & -0.23160844 &  0.25966934\\\\\n",
       "\t -0.32593532 &  0.502982309 &  0.084703384 &  0.2242247784 & -0.20172669 & -0.289057915 &  0.22312599 &  0.02339461 & -0.43546790 & -0.31853781 & ⋯ &  0.17372465 & -0.67226580 & -0.11407581 & -0.12636905 & -1.501481e-01 & -0.459322430 &  0.22917139 & -0.282340462 &  0.11000342 & -0.38212898\\\\\n",
       "\t  0.24909428 & -0.027912136 & -0.287623670 &  0.0422080091 &  0.40929122 & -0.236094689 &  0.02784169 & -0.10549140 & -0.23260398 &  1.00041955 & ⋯ & 15.73778131 & -0.32477828 & -0.12071218 & -0.12449118 &  2.555232e-01 & -0.846960322 & -0.06997144 &  0.362715185 & -0.06341932 &  0.20112332\\\\\n",
       "\t  0.28757289 & -0.003794508 & -0.325746834 & -0.1348985945 & -0.68955966 & -0.265308896 & -0.18254120 &  0.26362684 &  0.45280911 &  0.40087315 & ⋯ & -0.32477828 & 14.65264184 & -0.15348259 &  0.46705285 & -4.947420e-01 & -0.317449793 &  0.11713180 & -0.390035599 &  0.26944891 &  0.24919192\\\\\n",
       "\t -0.05323594 &  0.195972308 & -0.097348413 & -0.5269774042 &  0.30276780 & -0.064913029 & -0.05138342 &  0.56242656 & -0.48867986 &  0.31545287 & ⋯ & -0.12071218 & -0.15348259 & 16.67989925 & -0.22822450 &  3.715867e-01 & -0.131836563 & -0.02310220 &  0.303117164 & -0.65354684 &  0.02234988\\\\\n",
       "\t  0.17399056 & -0.038498239 &  0.423625028 & -0.6738206749 & -0.15570648 & -0.394266904 & -0.44136225 & -0.20970457 & -0.38020591 &  0.21738179 & ⋯ & -0.12449118 &  0.46705285 & -0.22822450 & 15.54120854 & -3.508049e-01 &  0.147514556 &  0.06036031 & -0.025510405 &  0.21950713 &  0.21780240\\\\\n",
       "\t -0.07707095 & -0.262612378 & -0.373032911 & -0.7993257386 &  0.14641767 &  0.145993825 & -0.25504241 &  0.09733864 & -0.22638601 &  0.23884821 & ⋯ &  0.25552323 & -0.49474197 &  0.37158668 & -0.35080492 &  1.581666e+01 & -0.009440702 &  0.11692961 & -0.050127028 &  0.55417021 &  0.64039926\\\\\n",
       "\t -0.42741130 &  0.339425000 &  0.001921996 & -0.3038290660 & -0.14433487 &  0.517774962 & -0.21431124 &  0.04432583 &  0.31908345 &  0.20697351 & ⋯ & -0.84696032 & -0.31744979 & -0.13183656 &  0.14751456 & -9.440702e-03 & 16.406452357 &  0.60227905 & -0.315143931 & -0.42734306 & -0.11251472\\\\\n",
       "\t -0.27042901 &  0.405665289 & -0.374013318 & -0.0155919755 & -0.29558117 &  0.077469917 &  0.72459259 &  0.15061561 & -0.02648825 & -0.03459260 & ⋯ & -0.06997144 &  0.11713180 & -0.02310220 &  0.06036031 &  1.169296e-01 &  0.602279048 & 15.84260485 &  0.210497741 &  0.08144288 &  0.52849258\\\\\n",
       "\t -0.08461260 & -0.629277349 & -0.157423935 & -0.2718575177 &  0.49848349 & -0.313136183 & -0.30154023 & -0.57884031 &  0.79425211 & -0.51250505 & ⋯ &  0.36271518 & -0.39003560 &  0.30311716 & -0.02551040 & -5.012703e-02 & -0.315143931 &  0.21049774 & 16.527268025 & -0.10765040 & -0.35324865\\\\\n",
       "\t  0.17085207 &  0.468776903 &  0.244816473 & -0.5628886778 & -0.32304933 & -0.564285512 &  0.25685758 &  0.16680204 &  0.05462260 & -0.66165864 & ⋯ & -0.06341932 &  0.26944891 & -0.65354684 &  0.21950713 &  5.541702e-01 & -0.427343063 &  0.08144288 & -0.107650404 & 16.01897231 & -0.26864125\\\\\n",
       "\t  0.06653423 &  0.082677408 &  0.106138231 & -0.1133335689 & -0.12396512 & -0.079146720 &  0.70543148 & -0.54497988 &  0.33002293 &  0.52216895 & ⋯ &  0.20112332 &  0.24919192 &  0.02234988 &  0.21780240 &  6.403993e-01 & -0.112514720 &  0.52849258 & -0.353248654 & -0.26864125 & 16.18291685\\\\\n",
       "\\end{tabular}\n"
      ],
      "text/markdown": [
       "\n",
       "A matrix: 2000 × 2000 of type dbl\n",
       "\n",
       "| 15.058147429 | -0.19441977 | -0.14921329 |  0.03017660 | -0.12880093 | -0.38219903 |  0.0974215917 |  0.1398167761 | -0.024060211 |  0.383594034 | ⋯ |  0.24909428 |  0.287572890 | -0.053235941 |  0.17399056 | -0.077070946 | -0.427411304 | -0.27042901 | -0.084612603 |  0.17085207 |  0.066534229 |\n",
       "| -0.194419770 | 16.98507417 |  0.37996008 |  0.03787600 |  0.09366181 | -0.36155259 | -0.5492144031 |  0.8535008067 |  0.048054024 | -0.212514774 | ⋯ | -0.02791214 | -0.003794508 |  0.195972308 | -0.03849824 | -0.262612378 |  0.339425000 |  0.40566529 | -0.629277349 |  0.46877690 |  0.082677408 |\n",
       "| -0.149213292 |  0.37996008 | 16.52929894 |  0.39513225 | -0.31784974 | -0.97790999 | -0.2117230908 | -0.4423887034 |  0.374776515 | -0.515362781 | ⋯ | -0.28762367 | -0.325746834 | -0.097348413 |  0.42362503 | -0.373032911 |  0.001921996 | -0.37401332 | -0.157423935 |  0.24481647 |  0.106138231 |\n",
       "|  0.030176602 |  0.03787600 |  0.39513225 | 15.97734708 | -0.22716308 | -0.02774020 |  0.2948642033 | -0.4749116531 |  0.097967244 | -0.044461448 | ⋯ |  0.04220801 | -0.134898595 | -0.526977404 | -0.67382067 | -0.799325739 | -0.303829066 | -0.01559198 | -0.271857518 | -0.56288868 | -0.113333569 |\n",
       "| -0.128800929 |  0.09366181 | -0.31784974 | -0.22716308 | 16.66207029 | -0.10718199 |  0.2310858367 | -0.3051778140 | -0.083711125 |  0.957998953 | ⋯ |  0.40929122 | -0.689559664 |  0.302767803 | -0.15570648 |  0.146417674 | -0.144334870 | -0.29558117 |  0.498483493 | -0.32304933 | -0.123965120 |\n",
       "| -0.382199027 | -0.36155259 | -0.97790999 | -0.02774020 | -0.10718199 | 16.77149845 | -0.0813662082 | -0.1258142860 |  0.598992196 |  0.507581558 | ⋯ | -0.23609469 | -0.265308896 | -0.064913029 | -0.39426690 |  0.145993825 |  0.517774962 |  0.07746992 | -0.313136183 | -0.56428551 | -0.079146720 |\n",
       "|  0.097421592 | -0.54921440 | -0.21172309 |  0.29486420 |  0.23108584 | -0.08136621 | 16.2866328807 | -0.0003871587 |  0.200346612 |  0.107796105 | ⋯ |  0.02784169 | -0.182541201 | -0.051383419 | -0.44136225 | -0.255042414 | -0.214311239 |  0.72459259 | -0.301540234 |  0.25685758 |  0.705431484 |\n",
       "|  0.139816776 |  0.85350081 | -0.44238870 | -0.47491165 | -0.30517781 | -0.12581429 | -0.0003871587 | 16.3041604652 |  0.462593923 |  0.026392520 | ⋯ | -0.10549140 |  0.263626839 |  0.562426558 | -0.20970457 |  0.097338644 |  0.044325829 |  0.15061561 | -0.578840314 |  0.16680204 | -0.544979881 |\n",
       "| -0.024060211 |  0.04805402 |  0.37477651 |  0.09796724 | -0.08371113 |  0.59899220 |  0.2003466116 |  0.4625939233 | 16.502102206 |  0.046198428 | ⋯ | -0.23260398 |  0.452809114 | -0.488679864 | -0.38020591 | -0.226386010 |  0.319083445 | -0.02648825 |  0.794252105 |  0.05462260 |  0.330022934 |\n",
       "|  0.383594034 | -0.21251477 | -0.51536278 | -0.04446145 |  0.95799895 |  0.50758156 |  0.1077961051 |  0.0263925199 |  0.046198428 | 15.726174665 | ⋯ |  1.00041955 |  0.400873154 |  0.315452874 |  0.21738179 |  0.238848205 |  0.206973505 | -0.03459260 | -0.512505048 | -0.66165864 |  0.522168946 |\n",
       "| -0.538602101 |  0.55226850 |  0.13330407 | -0.11326559 | -0.45825672 | -0.05561191 | -0.4331994800 |  0.3278879421 |  0.032175123 | -0.308264620 | ⋯ |  0.08292421 |  0.640649942 |  0.337649752 |  0.57644800 |  0.351256610 |  0.081606779 |  0.24090556 | -0.512409414 |  0.60723550 |  0.097414366 |\n",
       "|  0.256677244 |  0.36237740 |  0.05267760 |  0.21614002 |  0.16473748 | -0.20304408 | -0.3426690504 |  0.6084006213 |  0.389753283 | -0.005998371 | ⋯ |  0.34806680 | -0.034835533 |  0.267485881 |  0.61045056 | -0.073836436 |  0.679183293 | -0.27818604 | -0.241947879 | -0.54947604 |  0.166444502 |\n",
       "| -0.424364916 | -0.40970872 |  0.04514354 |  0.34114849 |  0.73605329 | -0.40723828 |  0.0406178976 | -0.6682606866 |  0.489733365 |  0.029557724 | ⋯ |  0.37105867 |  0.095670205 |  0.219694177 | -0.37619206 | -0.628704235 | -0.112055410 |  0.26759486 |  0.238701503 |  0.04715547 | -0.301642759 |\n",
       "|  0.120695988 | -0.23938557 |  0.02024959 | -0.08421171 |  0.11846488 | -0.02776193 | -0.0778792410 | -0.1630218408 | -0.077755343 |  0.097914168 | ⋯ | -0.38745516 |  0.114114831 |  0.292915234 | -0.15588488 |  0.004167977 | -0.567566666 | -0.53215471 |  0.565644207 |  0.14813301 |  0.288985204 |\n",
       "|  0.072877070 | -0.27012561 |  0.40468469 |  0.30412659 | -0.27470231 | -0.35850892 |  1.1426180059 | -0.1952826755 | -0.357220185 | -0.381837747 | ⋯ |  0.05162639 | -0.621557585 | -0.338798998 |  0.22329971 | -0.346292006 | -0.303543535 |  0.01939718 | -0.089081798 | -0.46521976 | -0.393619262 |\n",
       "|  0.547900740 |  0.44689609 | -0.25069932 | -0.27862135 | -0.36526012 | -0.03868022 |  0.5143525134 | -0.4105887498 |  0.194881170 |  0.413270094 | ⋯ |  0.25213130 |  0.084803352 |  0.119980991 | -0.97749934 |  0.002447027 |  0.310290566 | -0.42962294 |  0.056583041 | -0.03551097 |  0.089890885 |\n",
       "| -0.483257641 |  0.61136763 |  0.53123001 | -0.04003464 |  0.19131069 |  0.07187980 | -0.2671064377 |  0.5375319464 |  0.717886326 |  0.309568799 | ⋯ | -0.16466577 | -0.115269128 |  0.380287407 |  0.16767669 |  0.226994077 | -0.132593757 |  0.96508768 |  0.018040666 | -0.17661151 | -0.980791609 |\n",
       "| -0.217805363 |  0.59691866 | -0.25234819 |  0.07285112 | -0.26565603 | -0.31038632 | -0.9467028040 |  0.1247041633 |  0.572402872 | -0.086973775 | ⋯ |  0.59653261 | -0.051862360 | -0.051151320 |  0.21356399 | -0.012012371 | -0.534786283 | -1.14492342 | -0.194711711 | -0.14801605 | -0.034875570 |\n",
       "|  0.122562358 |  0.02076862 | -1.25814268 | -0.45499901 |  0.72759224 | -0.27672260 |  0.5277989329 |  0.7438328853 |  0.343565594 |  0.089558273 | ⋯ |  0.19372107 |  0.363428593 |  0.166350388 | -0.52462517 |  0.280187536 |  0.156282979 |  0.14116288 |  0.337436355 |  0.29645696 |  0.175377576 |\n",
       "|  0.126084507 | -0.34629644 | -0.33504407 | -0.40266342 |  0.40439813 | -0.33267110 | -0.3468149464 | -0.1907059524 |  0.176077252 |  0.270014436 | ⋯ |  0.17963173 |  0.381711448 |  0.477354755 | -0.08574118 | -0.028339478 |  0.640410640 |  0.24820160 |  0.004741817 | -0.73195503 |  0.290742968 |\n",
       "|  0.310296384 |  0.09112200 | -0.41068257 | -0.45376707 | -0.09912368 |  0.10772844 | -0.2748411788 |  0.0196167457 | -0.009542333 |  0.275719003 | ⋯ | -0.16661839 |  0.801708059 | -0.008763959 |  0.08204961 |  0.146340950 | -0.727540678 |  0.32438541 | -0.220716274 | -0.24842408 | -0.319906714 |\n",
       "| -0.582669172 | -0.29390170 |  0.55111670 |  0.54713693 | -0.02549523 | -0.70292334 | -0.5340167276 |  0.2210804818 | -0.014151669 | -0.011927417 | ⋯ | -0.32827678 | -0.076079174 | -0.046405792 |  0.04416411 |  0.085549788 |  0.374495371 |  0.14680710 |  0.059872721 |  0.54833124 | -0.832207377 |\n",
       "|  0.494293105 | -0.18722432 | -0.41385835 |  0.41774969 |  0.18211049 |  0.07597585 | -0.3592302589 | -0.5921350126 | -0.485199260 |  0.335535987 | ⋯ |  0.16707072 |  0.276194400 | -1.017880098 |  0.40563073 |  0.396776512 |  0.389114799 |  0.86782376 |  0.126845034 |  0.63088166 | -0.195201279 |\n",
       "|  0.823515999 |  0.16181495 | -0.13601779 | -0.16523002 |  0.21925590 |  0.13031751 |  0.2225398423 |  0.2483080654 |  0.697614361 | -0.133353369 | ⋯ |  0.38118247 |  0.220810706 |  0.098239360 | -0.05180816 | -0.194041856 | -0.033983245 | -0.19474817 |  0.259627351 |  0.04609161 |  0.452581299 |\n",
       "|  0.327999111 |  0.06008509 | -0.41840668 |  0.39712803 | -0.30653892 | -0.25691380 |  0.4979239890 | -0.0244482977 | -0.668138413 | -0.378035879 | ⋯ | -0.01980930 | -0.585197457 | -0.277134440 |  0.48063652 |  0.264257000 |  0.084598898 | -0.20398952 | -1.046554662 |  0.60062421 | -0.042866344 |\n",
       "|  0.099366293 |  0.14236533 |  0.64279422 |  0.44937506 |  0.02387343 |  0.26944750 |  0.2581385314 |  0.2185224093 |  0.072804859 | -0.057018698 | ⋯ | -0.36817546 |  0.447468993 |  0.485470258 |  0.02769708 | -0.088139097 | -0.243139609 | -0.11260462 | -0.091251797 | -0.47963749 |  0.122033868 |\n",
       "| -0.003232628 |  0.25426720 |  0.43098276 |  0.29086192 | -0.22699680 | -0.04906910 | -0.1419332559 | -0.0257773040 | -0.161561138 |  0.150806686 | ⋯ |  0.48541109 | -0.343000090 | -0.211271381 |  0.39888751 | -0.342176634 |  0.121080752 | -0.46987429 |  0.117633886 |  0.23046340 | -0.901898199 |\n",
       "|  0.602588975 |  0.33616643 |  0.20703912 |  0.32287357 |  0.64403286 | -0.69165683 |  0.4471993490 | -0.7449143060 | -0.019561944 | -0.296158508 | ⋯ |  0.78388570 |  0.367370155 | -0.667776971 | -0.32078272 | -0.270600452 |  0.052457914 | -0.09710388 | -0.431134069 |  0.33746570 |  0.047449625 |\n",
       "| -0.815902841 | -0.79883603 |  0.01083047 | -0.35420749 | -0.06572019 |  0.15092615 | -0.3447207105 |  0.2633685871 |  0.142042452 | -0.476468885 | ⋯ | -0.37494198 | -0.022746150 | -0.118897329 |  0.41619551 |  0.469892107 | -0.083881388 | -1.08003993 | -0.204403411 | -0.17526713 | -0.405556292 |\n",
       "| -0.411650279 | -0.04522575 |  0.08616489 |  0.02552012 |  0.84506146 |  0.10961907 | -0.2909509283 |  0.0109662991 |  0.388665762 |  0.010801789 | ⋯ |  0.15623275 |  0.568220976 |  0.732287557 | -0.20434950 | -0.683966131 | -0.045307133 | -0.34576803 | -0.017804713 | -0.69426237 | -0.009569692 |\n",
       "| ⋮ | ⋮ | ⋮ | ⋮ | ⋮ | ⋮ | ⋮ | ⋮ | ⋮ | ⋮ | ⋱ | ⋮ | ⋮ | ⋮ | ⋮ | ⋮ | ⋮ | ⋮ | ⋮ | ⋮ | ⋮ |\n",
       "| -0.44493947 |  0.337739125 | -0.496025781 | -0.2381304425 | -0.08403145 | -0.001383807 | -0.12060392 |  0.32445142 |  0.08888831 | -0.52945461 | ⋯ | -0.21922459 | -0.36533748 |  0.42008823 |  0.04302188 |  9.816722e-05 |  0.425249343 | -0.06760216 | -0.360677477 | -0.03166464 | -0.05308399 |\n",
       "|  0.14391551 |  0.185054263 | -0.015861544 | -0.0150874291 | -0.40251969 | -0.472088958 | -0.39202021 |  0.26392266 |  0.10653259 |  0.10609417 | ⋯ |  0.01003755 |  0.11234127 | -0.55297495 |  0.30790300 | -2.946217e-01 | -0.305925564 |  0.48232060 | -0.260186465 |  0.10949754 |  0.15097220 |\n",
       "|  0.10798266 | -0.179794604 |  0.822612391 | -0.0597212092 |  0.12214342 | -0.055832954 |  0.18134951 |  0.10952462 | -0.21060041 | -0.27209066 | ⋯ |  0.31950014 |  0.11316617 |  0.26028733 | -0.34877731 | -3.140853e-01 |  0.657604722 | -0.10789011 |  0.190097005 |  0.03866230 |  0.12337496 |\n",
       "|  0.21955233 |  0.485787694 | -0.154946896 |  0.2740797381 | -0.38044173 | -0.212246988 |  0.51553453 | -0.75264211 | -0.49866829 | -0.22751264 | ⋯ |  0.54429043 |  0.65907817 |  0.10360933 |  0.07997538 | -1.787568e-02 | -0.407362068 | -0.06467765 | -0.119848721 | -0.34612447 |  0.02333834 |\n",
       "| -0.13815083 |  0.306078780 |  0.327768956 | -0.0734176906 |  0.08179970 | -0.132459626 | -0.51275355 |  0.25243910 | -0.03262988 | -0.20795058 | ⋯ |  0.44424081 | -0.26143218 | -0.63466311 |  0.52520613 |  2.100174e-01 |  0.583008762 | -0.43378469 |  0.134831064 |  0.31219971 | -0.20170615 |\n",
       "| -0.88389224 |  0.416916220 |  0.140568376 |  0.4283889718 |  0.48403210 | -0.135793253 |  0.63568771 |  0.01787508 | -0.29318923 |  0.06630275 | ⋯ | -0.06238096 | -0.23202640 | -0.35283877 |  0.17213374 |  2.141908e-01 |  0.131863387 | -0.18190031 |  0.554061873 |  0.32067003 |  0.52101501 |\n",
       "|  0.44146320 | -0.307361917 | -0.182543685 | -0.2120222686 |  0.03686416 | -0.315225627 | -0.22574634 |  0.28983113 |  0.20131258 | -0.22397774 | ⋯ | -0.65141867 |  0.17601602 | -0.32789391 | -0.08765292 |  7.841275e-02 |  0.028010643 | -0.50423046 |  0.608407156 | -0.11702686 | -0.15049225 |\n",
       "|  0.37134419 | -0.159327303 | -0.453383802 | -0.3379559777 |  0.92342956 |  0.057508767 |  0.44649589 | -0.64429950 |  0.32476959 | -0.32125017 | ⋯ | -0.41418648 | -0.38176751 |  0.63000659 | -0.09474116 | -3.038548e-01 | -0.285010068 | -0.19208939 |  0.295700865 |  0.38242244 |  0.51577859 |\n",
       "| -0.66354144 |  0.229041936 |  0.131189527 | -0.0402378370 |  0.07399966 |  0.833611165 | -0.14572248 |  0.38180776 |  0.43760803 |  0.10587491 | ⋯ |  0.28366846 |  0.01971487 |  0.82901258 | -0.52254219 |  1.869989e-02 |  0.617714482 | -0.05526692 | -0.090970499 |  0.10262199 | -0.30942379 |\n",
       "| -0.38633627 | -0.059244273 |  0.063225062 |  0.2779182291 |  0.76221925 | -0.308408936 | -0.22577785 | -0.14638451 |  0.29359219 | -0.30633471 | ⋯ | -0.47528952 | -0.29631119 | -0.49438103 | -0.48669646 |  1.112023e-01 | -0.043377528 | -0.11631098 |  0.490964398 |  0.38274896 |  0.09475772 |\n",
       "| -0.04485153 | -0.054494679 |  0.116111596 |  0.8901258122 |  0.06140298 |  0.539663549 | -0.18705435 |  0.05431556 | -0.18035670 |  0.06588682 | ⋯ | -0.61935187 |  0.26679752 | -0.30538955 |  0.34734525 |  6.647076e-02 |  0.701043377 |  0.36632537 | -0.312791310 | -0.52753781 | -0.11192421 |\n",
       "|  0.27832885 | -0.051758812 | -0.391859584 |  0.1372164555 | -0.09978513 |  0.116838879 | -0.36198483 | -0.11979281 |  0.73810071 | -0.12966814 | ⋯ | -0.32657174 |  0.23669259 |  0.15829233 |  0.65990468 |  4.235457e-02 | -0.060188368 | -0.16653085 |  0.582528949 | -0.12907880 | -0.49701697 |\n",
       "|  0.29177114 | -0.083958635 |  0.343678714 |  0.4740639300 |  0.26657417 |  0.943008853 | -0.67963805 |  0.40248423 |  0.66172238 | -0.57268136 | ⋯ | -0.19087250 |  0.15389718 |  0.28542209 |  0.28303503 |  3.520469e-01 |  0.014493488 |  0.26843835 |  0.419345016 |  0.15953451 |  0.25125509 |\n",
       "|  0.13420975 |  0.467692989 |  0.182428662 | -0.4500687865 |  0.04834400 |  0.200836133 | -0.17216220 | -0.13611798 | -0.21863350 |  0.26200314 | ⋯ |  0.65543586 | -0.04384929 | -0.05327727 | -0.02369994 |  3.385840e-02 | -0.545877587 | -0.10281991 |  0.661543509 | -0.23337276 | -0.64649943 |\n",
       "|  0.04828591 | -0.773298295 |  0.241853321 | -0.0229882291 | -0.42556616 |  0.408680002 |  0.38511803 | -0.39641273 |  0.43021789 | -0.12672553 | ⋯ | -0.46800971 |  0.17011599 |  0.39298295 | -0.18520871 | -3.516723e-01 | -0.151017016 | -0.09040927 | -0.333580463 |  0.20286479 | -0.77014588 |\n",
       "| -0.40901923 |  0.203712821 | -0.407263114 |  0.2434001388 | -0.42844521 | -0.068586641 | -0.23571854 | -0.40467070 | -0.26523020 | -0.27843141 | ⋯ | -0.70401508 |  0.15283633 | -0.25838352 | -0.31450636 | -1.135555e-01 |  0.120531326 |  0.16320537 |  0.268694479 | -0.42280532 |  0.15969801 |\n",
       "|  0.37018023 | -0.249706530 |  0.435202030 |  0.0008959113 |  0.39178285 | -0.057362016 |  0.65648210 |  0.32070110 |  0.01642567 | -0.13124781 | ⋯ | -0.17716462 | -0.13368250 |  0.45095385 |  0.10255252 |  2.232938e-02 | -0.597029246 |  0.21505320 |  0.086918780 |  0.11948530 |  0.17366335 |\n",
       "| -0.29472483 | -0.042205147 | -0.293792347 |  0.4450002187 | -0.43423196 |  0.136057808 | -0.28054107 | -0.04716717 |  0.47183166 |  0.04080669 | ⋯ | -0.10087816 | -0.00222172 |  0.30512452 |  0.02512815 |  3.316021e-01 |  0.255710901 | -0.17397057 | -0.249849681 | -0.58682815 |  0.41923131 |\n",
       "|  0.52749555 | -0.339550367 | -0.398637173 |  0.2103116683 | -0.49611993 | -0.563438612 |  0.30725762 | -0.75626079 |  0.30210999 | -0.62044199 | ⋯ |  0.50819083 | -0.33357918 |  0.28042075 |  0.09351928 |  3.494203e-02 |  0.235143633 |  0.16189764 | -0.008872187 | -0.23160844 |  0.25966934 |\n",
       "| -0.32593532 |  0.502982309 |  0.084703384 |  0.2242247784 | -0.20172669 | -0.289057915 |  0.22312599 |  0.02339461 | -0.43546790 | -0.31853781 | ⋯ |  0.17372465 | -0.67226580 | -0.11407581 | -0.12636905 | -1.501481e-01 | -0.459322430 |  0.22917139 | -0.282340462 |  0.11000342 | -0.38212898 |\n",
       "|  0.24909428 | -0.027912136 | -0.287623670 |  0.0422080091 |  0.40929122 | -0.236094689 |  0.02784169 | -0.10549140 | -0.23260398 |  1.00041955 | ⋯ | 15.73778131 | -0.32477828 | -0.12071218 | -0.12449118 |  2.555232e-01 | -0.846960322 | -0.06997144 |  0.362715185 | -0.06341932 |  0.20112332 |\n",
       "|  0.28757289 | -0.003794508 | -0.325746834 | -0.1348985945 | -0.68955966 | -0.265308896 | -0.18254120 |  0.26362684 |  0.45280911 |  0.40087315 | ⋯ | -0.32477828 | 14.65264184 | -0.15348259 |  0.46705285 | -4.947420e-01 | -0.317449793 |  0.11713180 | -0.390035599 |  0.26944891 |  0.24919192 |\n",
       "| -0.05323594 |  0.195972308 | -0.097348413 | -0.5269774042 |  0.30276780 | -0.064913029 | -0.05138342 |  0.56242656 | -0.48867986 |  0.31545287 | ⋯ | -0.12071218 | -0.15348259 | 16.67989925 | -0.22822450 |  3.715867e-01 | -0.131836563 | -0.02310220 |  0.303117164 | -0.65354684 |  0.02234988 |\n",
       "|  0.17399056 | -0.038498239 |  0.423625028 | -0.6738206749 | -0.15570648 | -0.394266904 | -0.44136225 | -0.20970457 | -0.38020591 |  0.21738179 | ⋯ | -0.12449118 |  0.46705285 | -0.22822450 | 15.54120854 | -3.508049e-01 |  0.147514556 |  0.06036031 | -0.025510405 |  0.21950713 |  0.21780240 |\n",
       "| -0.07707095 | -0.262612378 | -0.373032911 | -0.7993257386 |  0.14641767 |  0.145993825 | -0.25504241 |  0.09733864 | -0.22638601 |  0.23884821 | ⋯ |  0.25552323 | -0.49474197 |  0.37158668 | -0.35080492 |  1.581666e+01 | -0.009440702 |  0.11692961 | -0.050127028 |  0.55417021 |  0.64039926 |\n",
       "| -0.42741130 |  0.339425000 |  0.001921996 | -0.3038290660 | -0.14433487 |  0.517774962 | -0.21431124 |  0.04432583 |  0.31908345 |  0.20697351 | ⋯ | -0.84696032 | -0.31744979 | -0.13183656 |  0.14751456 | -9.440702e-03 | 16.406452357 |  0.60227905 | -0.315143931 | -0.42734306 | -0.11251472 |\n",
       "| -0.27042901 |  0.405665289 | -0.374013318 | -0.0155919755 | -0.29558117 |  0.077469917 |  0.72459259 |  0.15061561 | -0.02648825 | -0.03459260 | ⋯ | -0.06997144 |  0.11713180 | -0.02310220 |  0.06036031 |  1.169296e-01 |  0.602279048 | 15.84260485 |  0.210497741 |  0.08144288 |  0.52849258 |\n",
       "| -0.08461260 | -0.629277349 | -0.157423935 | -0.2718575177 |  0.49848349 | -0.313136183 | -0.30154023 | -0.57884031 |  0.79425211 | -0.51250505 | ⋯ |  0.36271518 | -0.39003560 |  0.30311716 | -0.02551040 | -5.012703e-02 | -0.315143931 |  0.21049774 | 16.527268025 | -0.10765040 | -0.35324865 |\n",
       "|  0.17085207 |  0.468776903 |  0.244816473 | -0.5628886778 | -0.32304933 | -0.564285512 |  0.25685758 |  0.16680204 |  0.05462260 | -0.66165864 | ⋯ | -0.06341932 |  0.26944891 | -0.65354684 |  0.21950713 |  5.541702e-01 | -0.427343063 |  0.08144288 | -0.107650404 | 16.01897231 | -0.26864125 |\n",
       "|  0.06653423 |  0.082677408 |  0.106138231 | -0.1133335689 | -0.12396512 | -0.079146720 |  0.70543148 | -0.54497988 |  0.33002293 |  0.52216895 | ⋯ |  0.20112332 |  0.24919192 |  0.02234988 |  0.21780240 |  6.403993e-01 | -0.112514720 |  0.52849258 | -0.353248654 | -0.26864125 | 16.18291685 |\n",
       "\n"
      ],
      "text/plain": [
       "      [,1]         [,2]         [,3]         [,4]          [,5]       \n",
       " [1,] 15.058147429 -0.19441977  -0.14921329   0.03017660   -0.12880093\n",
       " [2,] -0.194419770 16.98507417   0.37996008   0.03787600    0.09366181\n",
       " [3,] -0.149213292  0.37996008  16.52929894   0.39513225   -0.31784974\n",
       " [4,]  0.030176602  0.03787600   0.39513225  15.97734708   -0.22716308\n",
       " [5,] -0.128800929  0.09366181  -0.31784974  -0.22716308   16.66207029\n",
       " [6,] -0.382199027 -0.36155259  -0.97790999  -0.02774020   -0.10718199\n",
       " [7,]  0.097421592 -0.54921440  -0.21172309   0.29486420    0.23108584\n",
       " [8,]  0.139816776  0.85350081  -0.44238870  -0.47491165   -0.30517781\n",
       " [9,] -0.024060211  0.04805402   0.37477651   0.09796724   -0.08371113\n",
       "[10,]  0.383594034 -0.21251477  -0.51536278  -0.04446145    0.95799895\n",
       "[11,] -0.538602101  0.55226850   0.13330407  -0.11326559   -0.45825672\n",
       "[12,]  0.256677244  0.36237740   0.05267760   0.21614002    0.16473748\n",
       "[13,] -0.424364916 -0.40970872   0.04514354   0.34114849    0.73605329\n",
       "[14,]  0.120695988 -0.23938557   0.02024959  -0.08421171    0.11846488\n",
       "[15,]  0.072877070 -0.27012561   0.40468469   0.30412659   -0.27470231\n",
       "[16,]  0.547900740  0.44689609  -0.25069932  -0.27862135   -0.36526012\n",
       "[17,] -0.483257641  0.61136763   0.53123001  -0.04003464    0.19131069\n",
       "[18,] -0.217805363  0.59691866  -0.25234819   0.07285112   -0.26565603\n",
       "[19,]  0.122562358  0.02076862  -1.25814268  -0.45499901    0.72759224\n",
       "[20,]  0.126084507 -0.34629644  -0.33504407  -0.40266342    0.40439813\n",
       "[21,]  0.310296384  0.09112200  -0.41068257  -0.45376707   -0.09912368\n",
       "[22,] -0.582669172 -0.29390170   0.55111670   0.54713693   -0.02549523\n",
       "[23,]  0.494293105 -0.18722432  -0.41385835   0.41774969    0.18211049\n",
       "[24,]  0.823515999  0.16181495  -0.13601779  -0.16523002    0.21925590\n",
       "[25,]  0.327999111  0.06008509  -0.41840668   0.39712803   -0.30653892\n",
       "[26,]  0.099366293  0.14236533   0.64279422   0.44937506    0.02387343\n",
       "[27,] -0.003232628  0.25426720   0.43098276   0.29086192   -0.22699680\n",
       "[28,]  0.602588975  0.33616643   0.20703912   0.32287357    0.64403286\n",
       "[29,] -0.815902841 -0.79883603   0.01083047  -0.35420749   -0.06572019\n",
       "[30,] -0.411650279 -0.04522575   0.08616489   0.02552012    0.84506146\n",
       "[31,] ⋮            ⋮            ⋮            ⋮             ⋮          \n",
       "[32,] -0.44493947   0.337739125 -0.496025781 -0.2381304425 -0.08403145\n",
       "[33,]  0.14391551   0.185054263 -0.015861544 -0.0150874291 -0.40251969\n",
       "[34,]  0.10798266  -0.179794604  0.822612391 -0.0597212092  0.12214342\n",
       "[35,]  0.21955233   0.485787694 -0.154946896  0.2740797381 -0.38044173\n",
       "[36,] -0.13815083   0.306078780  0.327768956 -0.0734176906  0.08179970\n",
       "[37,] -0.88389224   0.416916220  0.140568376  0.4283889718  0.48403210\n",
       "[38,]  0.44146320  -0.307361917 -0.182543685 -0.2120222686  0.03686416\n",
       "[39,]  0.37134419  -0.159327303 -0.453383802 -0.3379559777  0.92342956\n",
       "[40,] -0.66354144   0.229041936  0.131189527 -0.0402378370  0.07399966\n",
       "[41,] -0.38633627  -0.059244273  0.063225062  0.2779182291  0.76221925\n",
       "[42,] -0.04485153  -0.054494679  0.116111596  0.8901258122  0.06140298\n",
       "[43,]  0.27832885  -0.051758812 -0.391859584  0.1372164555 -0.09978513\n",
       "[44,]  0.29177114  -0.083958635  0.343678714  0.4740639300  0.26657417\n",
       "[45,]  0.13420975   0.467692989  0.182428662 -0.4500687865  0.04834400\n",
       "[46,]  0.04828591  -0.773298295  0.241853321 -0.0229882291 -0.42556616\n",
       "[47,] -0.40901923   0.203712821 -0.407263114  0.2434001388 -0.42844521\n",
       "[48,]  0.37018023  -0.249706530  0.435202030  0.0008959113  0.39178285\n",
       "[49,] -0.29472483  -0.042205147 -0.293792347  0.4450002187 -0.43423196\n",
       "[50,]  0.52749555  -0.339550367 -0.398637173  0.2103116683 -0.49611993\n",
       "[51,] -0.32593532   0.502982309  0.084703384  0.2242247784 -0.20172669\n",
       "[52,]  0.24909428  -0.027912136 -0.287623670  0.0422080091  0.40929122\n",
       "[53,]  0.28757289  -0.003794508 -0.325746834 -0.1348985945 -0.68955966\n",
       "[54,] -0.05323594   0.195972308 -0.097348413 -0.5269774042  0.30276780\n",
       "[55,]  0.17399056  -0.038498239  0.423625028 -0.6738206749 -0.15570648\n",
       "[56,] -0.07707095  -0.262612378 -0.373032911 -0.7993257386  0.14641767\n",
       "[57,] -0.42741130   0.339425000  0.001921996 -0.3038290660 -0.14433487\n",
       "[58,] -0.27042901   0.405665289 -0.374013318 -0.0155919755 -0.29558117\n",
       "[59,] -0.08461260  -0.629277349 -0.157423935 -0.2718575177  0.49848349\n",
       "[60,]  0.17085207   0.468776903  0.244816473 -0.5628886778 -0.32304933\n",
       "[61,]  0.06653423   0.082677408  0.106138231 -0.1133335689 -0.12396512\n",
       "      [,6]         [,7]          [,8]          [,9]         [,10]        [,11]\n",
       " [1,] -0.38219903   0.0974215917  0.1398167761 -0.024060211  0.383594034 ⋯    \n",
       " [2,] -0.36155259  -0.5492144031  0.8535008067  0.048054024 -0.212514774 ⋯    \n",
       " [3,] -0.97790999  -0.2117230908 -0.4423887034  0.374776515 -0.515362781 ⋯    \n",
       " [4,] -0.02774020   0.2948642033 -0.4749116531  0.097967244 -0.044461448 ⋯    \n",
       " [5,] -0.10718199   0.2310858367 -0.3051778140 -0.083711125  0.957998953 ⋯    \n",
       " [6,] 16.77149845  -0.0813662082 -0.1258142860  0.598992196  0.507581558 ⋯    \n",
       " [7,] -0.08136621  16.2866328807 -0.0003871587  0.200346612  0.107796105 ⋯    \n",
       " [8,] -0.12581429  -0.0003871587 16.3041604652  0.462593923  0.026392520 ⋯    \n",
       " [9,]  0.59899220   0.2003466116  0.4625939233 16.502102206  0.046198428 ⋯    \n",
       "[10,]  0.50758156   0.1077961051  0.0263925199  0.046198428 15.726174665 ⋯    \n",
       "[11,] -0.05561191  -0.4331994800  0.3278879421  0.032175123 -0.308264620 ⋯    \n",
       "[12,] -0.20304408  -0.3426690504  0.6084006213  0.389753283 -0.005998371 ⋯    \n",
       "[13,] -0.40723828   0.0406178976 -0.6682606866  0.489733365  0.029557724 ⋯    \n",
       "[14,] -0.02776193  -0.0778792410 -0.1630218408 -0.077755343  0.097914168 ⋯    \n",
       "[15,] -0.35850892   1.1426180059 -0.1952826755 -0.357220185 -0.381837747 ⋯    \n",
       "[16,] -0.03868022   0.5143525134 -0.4105887498  0.194881170  0.413270094 ⋯    \n",
       "[17,]  0.07187980  -0.2671064377  0.5375319464  0.717886326  0.309568799 ⋯    \n",
       "[18,] -0.31038632  -0.9467028040  0.1247041633  0.572402872 -0.086973775 ⋯    \n",
       "[19,] -0.27672260   0.5277989329  0.7438328853  0.343565594  0.089558273 ⋯    \n",
       "[20,] -0.33267110  -0.3468149464 -0.1907059524  0.176077252  0.270014436 ⋯    \n",
       "[21,]  0.10772844  -0.2748411788  0.0196167457 -0.009542333  0.275719003 ⋯    \n",
       "[22,] -0.70292334  -0.5340167276  0.2210804818 -0.014151669 -0.011927417 ⋯    \n",
       "[23,]  0.07597585  -0.3592302589 -0.5921350126 -0.485199260  0.335535987 ⋯    \n",
       "[24,]  0.13031751   0.2225398423  0.2483080654  0.697614361 -0.133353369 ⋯    \n",
       "[25,] -0.25691380   0.4979239890 -0.0244482977 -0.668138413 -0.378035879 ⋯    \n",
       "[26,]  0.26944750   0.2581385314  0.2185224093  0.072804859 -0.057018698 ⋯    \n",
       "[27,] -0.04906910  -0.1419332559 -0.0257773040 -0.161561138  0.150806686 ⋯    \n",
       "[28,] -0.69165683   0.4471993490 -0.7449143060 -0.019561944 -0.296158508 ⋯    \n",
       "[29,]  0.15092615  -0.3447207105  0.2633685871  0.142042452 -0.476468885 ⋯    \n",
       "[30,]  0.10961907  -0.2909509283  0.0109662991  0.388665762  0.010801789 ⋯    \n",
       "[31,] ⋮            ⋮             ⋮             ⋮            ⋮            ⋱    \n",
       "[32,] -0.001383807 -0.12060392    0.32445142    0.08888831  -0.52945461  ⋯    \n",
       "[33,] -0.472088958 -0.39202021    0.26392266    0.10653259   0.10609417  ⋯    \n",
       "[34,] -0.055832954  0.18134951    0.10952462   -0.21060041  -0.27209066  ⋯    \n",
       "[35,] -0.212246988  0.51553453   -0.75264211   -0.49866829  -0.22751264  ⋯    \n",
       "[36,] -0.132459626 -0.51275355    0.25243910   -0.03262988  -0.20795058  ⋯    \n",
       "[37,] -0.135793253  0.63568771    0.01787508   -0.29318923   0.06630275  ⋯    \n",
       "[38,] -0.315225627 -0.22574634    0.28983113    0.20131258  -0.22397774  ⋯    \n",
       "[39,]  0.057508767  0.44649589   -0.64429950    0.32476959  -0.32125017  ⋯    \n",
       "[40,]  0.833611165 -0.14572248    0.38180776    0.43760803   0.10587491  ⋯    \n",
       "[41,] -0.308408936 -0.22577785   -0.14638451    0.29359219  -0.30633471  ⋯    \n",
       "[42,]  0.539663549 -0.18705435    0.05431556   -0.18035670   0.06588682  ⋯    \n",
       "[43,]  0.116838879 -0.36198483   -0.11979281    0.73810071  -0.12966814  ⋯    \n",
       "[44,]  0.943008853 -0.67963805    0.40248423    0.66172238  -0.57268136  ⋯    \n",
       "[45,]  0.200836133 -0.17216220   -0.13611798   -0.21863350   0.26200314  ⋯    \n",
       "[46,]  0.408680002  0.38511803   -0.39641273    0.43021789  -0.12672553  ⋯    \n",
       "[47,] -0.068586641 -0.23571854   -0.40467070   -0.26523020  -0.27843141  ⋯    \n",
       "[48,] -0.057362016  0.65648210    0.32070110    0.01642567  -0.13124781  ⋯    \n",
       "[49,]  0.136057808 -0.28054107   -0.04716717    0.47183166   0.04080669  ⋯    \n",
       "[50,] -0.563438612  0.30725762   -0.75626079    0.30210999  -0.62044199  ⋯    \n",
       "[51,] -0.289057915  0.22312599    0.02339461   -0.43546790  -0.31853781  ⋯    \n",
       "[52,] -0.236094689  0.02784169   -0.10549140   -0.23260398   1.00041955  ⋯    \n",
       "[53,] -0.265308896 -0.18254120    0.26362684    0.45280911   0.40087315  ⋯    \n",
       "[54,] -0.064913029 -0.05138342    0.56242656   -0.48867986   0.31545287  ⋯    \n",
       "[55,] -0.394266904 -0.44136225   -0.20970457   -0.38020591   0.21738179  ⋯    \n",
       "[56,]  0.145993825 -0.25504241    0.09733864   -0.22638601   0.23884821  ⋯    \n",
       "[57,]  0.517774962 -0.21431124    0.04432583    0.31908345   0.20697351  ⋯    \n",
       "[58,]  0.077469917  0.72459259    0.15061561   -0.02648825  -0.03459260  ⋯    \n",
       "[59,] -0.313136183 -0.30154023   -0.57884031    0.79425211  -0.51250505  ⋯    \n",
       "[60,] -0.564285512  0.25685758    0.16680204    0.05462260  -0.66165864  ⋯    \n",
       "[61,] -0.079146720  0.70543148   -0.54497988    0.33002293   0.52216895  ⋯    \n",
       "      [,12]       [,13]        [,14]        [,15]       [,16]        \n",
       " [1,]  0.24909428  0.287572890 -0.053235941  0.17399056 -0.077070946 \n",
       " [2,] -0.02791214 -0.003794508  0.195972308 -0.03849824 -0.262612378 \n",
       " [3,] -0.28762367 -0.325746834 -0.097348413  0.42362503 -0.373032911 \n",
       " [4,]  0.04220801 -0.134898595 -0.526977404 -0.67382067 -0.799325739 \n",
       " [5,]  0.40929122 -0.689559664  0.302767803 -0.15570648  0.146417674 \n",
       " [6,] -0.23609469 -0.265308896 -0.064913029 -0.39426690  0.145993825 \n",
       " [7,]  0.02784169 -0.182541201 -0.051383419 -0.44136225 -0.255042414 \n",
       " [8,] -0.10549140  0.263626839  0.562426558 -0.20970457  0.097338644 \n",
       " [9,] -0.23260398  0.452809114 -0.488679864 -0.38020591 -0.226386010 \n",
       "[10,]  1.00041955  0.400873154  0.315452874  0.21738179  0.238848205 \n",
       "[11,]  0.08292421  0.640649942  0.337649752  0.57644800  0.351256610 \n",
       "[12,]  0.34806680 -0.034835533  0.267485881  0.61045056 -0.073836436 \n",
       "[13,]  0.37105867  0.095670205  0.219694177 -0.37619206 -0.628704235 \n",
       "[14,] -0.38745516  0.114114831  0.292915234 -0.15588488  0.004167977 \n",
       "[15,]  0.05162639 -0.621557585 -0.338798998  0.22329971 -0.346292006 \n",
       "[16,]  0.25213130  0.084803352  0.119980991 -0.97749934  0.002447027 \n",
       "[17,] -0.16466577 -0.115269128  0.380287407  0.16767669  0.226994077 \n",
       "[18,]  0.59653261 -0.051862360 -0.051151320  0.21356399 -0.012012371 \n",
       "[19,]  0.19372107  0.363428593  0.166350388 -0.52462517  0.280187536 \n",
       "[20,]  0.17963173  0.381711448  0.477354755 -0.08574118 -0.028339478 \n",
       "[21,] -0.16661839  0.801708059 -0.008763959  0.08204961  0.146340950 \n",
       "[22,] -0.32827678 -0.076079174 -0.046405792  0.04416411  0.085549788 \n",
       "[23,]  0.16707072  0.276194400 -1.017880098  0.40563073  0.396776512 \n",
       "[24,]  0.38118247  0.220810706  0.098239360 -0.05180816 -0.194041856 \n",
       "[25,] -0.01980930 -0.585197457 -0.277134440  0.48063652  0.264257000 \n",
       "[26,] -0.36817546  0.447468993  0.485470258  0.02769708 -0.088139097 \n",
       "[27,]  0.48541109 -0.343000090 -0.211271381  0.39888751 -0.342176634 \n",
       "[28,]  0.78388570  0.367370155 -0.667776971 -0.32078272 -0.270600452 \n",
       "[29,] -0.37494198 -0.022746150 -0.118897329  0.41619551  0.469892107 \n",
       "[30,]  0.15623275  0.568220976  0.732287557 -0.20434950 -0.683966131 \n",
       "[31,] ⋮           ⋮            ⋮            ⋮           ⋮            \n",
       "[32,] -0.21922459 -0.36533748   0.42008823   0.04302188  9.816722e-05\n",
       "[33,]  0.01003755  0.11234127  -0.55297495   0.30790300 -2.946217e-01\n",
       "[34,]  0.31950014  0.11316617   0.26028733  -0.34877731 -3.140853e-01\n",
       "[35,]  0.54429043  0.65907817   0.10360933   0.07997538 -1.787568e-02\n",
       "[36,]  0.44424081 -0.26143218  -0.63466311   0.52520613  2.100174e-01\n",
       "[37,] -0.06238096 -0.23202640  -0.35283877   0.17213374  2.141908e-01\n",
       "[38,] -0.65141867  0.17601602  -0.32789391  -0.08765292  7.841275e-02\n",
       "[39,] -0.41418648 -0.38176751   0.63000659  -0.09474116 -3.038548e-01\n",
       "[40,]  0.28366846  0.01971487   0.82901258  -0.52254219  1.869989e-02\n",
       "[41,] -0.47528952 -0.29631119  -0.49438103  -0.48669646  1.112023e-01\n",
       "[42,] -0.61935187  0.26679752  -0.30538955   0.34734525  6.647076e-02\n",
       "[43,] -0.32657174  0.23669259   0.15829233   0.65990468  4.235457e-02\n",
       "[44,] -0.19087250  0.15389718   0.28542209   0.28303503  3.520469e-01\n",
       "[45,]  0.65543586 -0.04384929  -0.05327727  -0.02369994  3.385840e-02\n",
       "[46,] -0.46800971  0.17011599   0.39298295  -0.18520871 -3.516723e-01\n",
       "[47,] -0.70401508  0.15283633  -0.25838352  -0.31450636 -1.135555e-01\n",
       "[48,] -0.17716462 -0.13368250   0.45095385   0.10255252  2.232938e-02\n",
       "[49,] -0.10087816 -0.00222172   0.30512452   0.02512815  3.316021e-01\n",
       "[50,]  0.50819083 -0.33357918   0.28042075   0.09351928  3.494203e-02\n",
       "[51,]  0.17372465 -0.67226580  -0.11407581  -0.12636905 -1.501481e-01\n",
       "[52,] 15.73778131 -0.32477828  -0.12071218  -0.12449118  2.555232e-01\n",
       "[53,] -0.32477828 14.65264184  -0.15348259   0.46705285 -4.947420e-01\n",
       "[54,] -0.12071218 -0.15348259  16.67989925  -0.22822450  3.715867e-01\n",
       "[55,] -0.12449118  0.46705285  -0.22822450  15.54120854 -3.508049e-01\n",
       "[56,]  0.25552323 -0.49474197   0.37158668  -0.35080492  1.581666e+01\n",
       "[57,] -0.84696032 -0.31744979  -0.13183656   0.14751456 -9.440702e-03\n",
       "[58,] -0.06997144  0.11713180  -0.02310220   0.06036031  1.169296e-01\n",
       "[59,]  0.36271518 -0.39003560   0.30311716  -0.02551040 -5.012703e-02\n",
       "[60,] -0.06341932  0.26944891  -0.65354684   0.21950713  5.541702e-01\n",
       "[61,]  0.20112332  0.24919192   0.02234988   0.21780240  6.403993e-01\n",
       "      [,17]        [,18]       [,19]        [,20]       [,21]       \n",
       " [1,] -0.427411304 -0.27042901 -0.084612603  0.17085207  0.066534229\n",
       " [2,]  0.339425000  0.40566529 -0.629277349  0.46877690  0.082677408\n",
       " [3,]  0.001921996 -0.37401332 -0.157423935  0.24481647  0.106138231\n",
       " [4,] -0.303829066 -0.01559198 -0.271857518 -0.56288868 -0.113333569\n",
       " [5,] -0.144334870 -0.29558117  0.498483493 -0.32304933 -0.123965120\n",
       " [6,]  0.517774962  0.07746992 -0.313136183 -0.56428551 -0.079146720\n",
       " [7,] -0.214311239  0.72459259 -0.301540234  0.25685758  0.705431484\n",
       " [8,]  0.044325829  0.15061561 -0.578840314  0.16680204 -0.544979881\n",
       " [9,]  0.319083445 -0.02648825  0.794252105  0.05462260  0.330022934\n",
       "[10,]  0.206973505 -0.03459260 -0.512505048 -0.66165864  0.522168946\n",
       "[11,]  0.081606779  0.24090556 -0.512409414  0.60723550  0.097414366\n",
       "[12,]  0.679183293 -0.27818604 -0.241947879 -0.54947604  0.166444502\n",
       "[13,] -0.112055410  0.26759486  0.238701503  0.04715547 -0.301642759\n",
       "[14,] -0.567566666 -0.53215471  0.565644207  0.14813301  0.288985204\n",
       "[15,] -0.303543535  0.01939718 -0.089081798 -0.46521976 -0.393619262\n",
       "[16,]  0.310290566 -0.42962294  0.056583041 -0.03551097  0.089890885\n",
       "[17,] -0.132593757  0.96508768  0.018040666 -0.17661151 -0.980791609\n",
       "[18,] -0.534786283 -1.14492342 -0.194711711 -0.14801605 -0.034875570\n",
       "[19,]  0.156282979  0.14116288  0.337436355  0.29645696  0.175377576\n",
       "[20,]  0.640410640  0.24820160  0.004741817 -0.73195503  0.290742968\n",
       "[21,] -0.727540678  0.32438541 -0.220716274 -0.24842408 -0.319906714\n",
       "[22,]  0.374495371  0.14680710  0.059872721  0.54833124 -0.832207377\n",
       "[23,]  0.389114799  0.86782376  0.126845034  0.63088166 -0.195201279\n",
       "[24,] -0.033983245 -0.19474817  0.259627351  0.04609161  0.452581299\n",
       "[25,]  0.084598898 -0.20398952 -1.046554662  0.60062421 -0.042866344\n",
       "[26,] -0.243139609 -0.11260462 -0.091251797 -0.47963749  0.122033868\n",
       "[27,]  0.121080752 -0.46987429  0.117633886  0.23046340 -0.901898199\n",
       "[28,]  0.052457914 -0.09710388 -0.431134069  0.33746570  0.047449625\n",
       "[29,] -0.083881388 -1.08003993 -0.204403411 -0.17526713 -0.405556292\n",
       "[30,] -0.045307133 -0.34576803 -0.017804713 -0.69426237 -0.009569692\n",
       "[31,] ⋮            ⋮           ⋮            ⋮           ⋮           \n",
       "[32,]  0.425249343 -0.06760216 -0.360677477 -0.03166464 -0.05308399 \n",
       "[33,] -0.305925564  0.48232060 -0.260186465  0.10949754  0.15097220 \n",
       "[34,]  0.657604722 -0.10789011  0.190097005  0.03866230  0.12337496 \n",
       "[35,] -0.407362068 -0.06467765 -0.119848721 -0.34612447  0.02333834 \n",
       "[36,]  0.583008762 -0.43378469  0.134831064  0.31219971 -0.20170615 \n",
       "[37,]  0.131863387 -0.18190031  0.554061873  0.32067003  0.52101501 \n",
       "[38,]  0.028010643 -0.50423046  0.608407156 -0.11702686 -0.15049225 \n",
       "[39,] -0.285010068 -0.19208939  0.295700865  0.38242244  0.51577859 \n",
       "[40,]  0.617714482 -0.05526692 -0.090970499  0.10262199 -0.30942379 \n",
       "[41,] -0.043377528 -0.11631098  0.490964398  0.38274896  0.09475772 \n",
       "[42,]  0.701043377  0.36632537 -0.312791310 -0.52753781 -0.11192421 \n",
       "[43,] -0.060188368 -0.16653085  0.582528949 -0.12907880 -0.49701697 \n",
       "[44,]  0.014493488  0.26843835  0.419345016  0.15953451  0.25125509 \n",
       "[45,] -0.545877587 -0.10281991  0.661543509 -0.23337276 -0.64649943 \n",
       "[46,] -0.151017016 -0.09040927 -0.333580463  0.20286479 -0.77014588 \n",
       "[47,]  0.120531326  0.16320537  0.268694479 -0.42280532  0.15969801 \n",
       "[48,] -0.597029246  0.21505320  0.086918780  0.11948530  0.17366335 \n",
       "[49,]  0.255710901 -0.17397057 -0.249849681 -0.58682815  0.41923131 \n",
       "[50,]  0.235143633  0.16189764 -0.008872187 -0.23160844  0.25966934 \n",
       "[51,] -0.459322430  0.22917139 -0.282340462  0.11000342 -0.38212898 \n",
       "[52,] -0.846960322 -0.06997144  0.362715185 -0.06341932  0.20112332 \n",
       "[53,] -0.317449793  0.11713180 -0.390035599  0.26944891  0.24919192 \n",
       "[54,] -0.131836563 -0.02310220  0.303117164 -0.65354684  0.02234988 \n",
       "[55,]  0.147514556  0.06036031 -0.025510405  0.21950713  0.21780240 \n",
       "[56,] -0.009440702  0.11692961 -0.050127028  0.55417021  0.64039926 \n",
       "[57,] 16.406452357  0.60227905 -0.315143931 -0.42734306 -0.11251472 \n",
       "[58,]  0.602279048 15.84260485  0.210497741  0.08144288  0.52849258 \n",
       "[59,] -0.315143931  0.21049774 16.527268025 -0.10765040 -0.35324865 \n",
       "[60,] -0.427343063  0.08144288 -0.107650404 16.01897231 -0.26864125 \n",
       "[61,] -0.112514720  0.52849258 -0.353248654 -0.26864125 16.18291685 "
      ]
     },
     "metadata": {},
     "output_type": "display_data"
    }
   ],
   "source": [
    "# Matriz de covarianzas\n",
    "x <- MatNorm - rep(1,n)%*%t(rep(1,n))%*%MatNorm/n\n",
    "t(x)%*%x/n"
   ]
  },
  {
   "cell_type": "markdown",
   "metadata": {},
   "source": [
    "Por supuesto, el mismo cálculo puede ser realizado por funciones ya establecidas en R"
   ]
  },
  {
   "cell_type": "code",
   "execution_count": 19,
   "metadata": {},
   "outputs": [
    {
     "data": {
      "text/html": [
       "<table>\n",
       "<caption>A matrix: 2000 × 2000 of type dbl</caption>\n",
       "<tbody>\n",
       "\t<tr><td>15.065680269</td><td>-0.19451703</td><td>-0.14928794</td><td> 0.03019170</td><td>-0.12886536</td><td>-0.38239022</td><td> 0.0974703269</td><td> 0.1398867195</td><td>-0.024072247</td><td> 0.383785927</td><td>⋯</td><td> 0.24921889</td><td> 0.287716749</td><td>-0.053262572</td><td> 0.17407759</td><td>-0.077109501</td><td>-0.427625116</td><td>-0.27056429</td><td>-0.084654930</td><td> 0.17093754</td><td> 0.066567513</td></tr>\n",
       "\t<tr><td>-0.194517029</td><td>16.99357095</td><td> 0.38015016</td><td> 0.03789495</td><td> 0.09370867</td><td>-0.36173345</td><td>-0.5494891477</td><td> 0.8539277706</td><td> 0.048078063</td><td>-0.212621085</td><td>⋯</td><td>-0.02792610</td><td>-0.003796406</td><td> 0.196070343</td><td>-0.03851750</td><td>-0.262743750</td><td> 0.339594797</td><td> 0.40586822</td><td>-0.629592145</td><td> 0.46901141</td><td> 0.082718768</td></tr>\n",
       "\t<tr><td>-0.149287936</td><td> 0.38015016</td><td>16.53756772</td><td> 0.39532992</td><td>-0.31800875</td><td>-0.97839919</td><td>-0.2118290053</td><td>-0.4426100084</td><td> 0.374963997</td><td>-0.515620591</td><td>⋯</td><td>-0.28776755</td><td>-0.325909789</td><td>-0.097397111</td><td> 0.42383695</td><td>-0.373219521</td><td> 0.001922958</td><td>-0.37420042</td><td>-0.157502687</td><td> 0.24493894</td><td> 0.106191326</td></tr>\n",
       "\t<tr><td> 0.030191698</td><td> 0.03789495</td><td> 0.39532992</td><td>15.98533975</td><td>-0.22727672</td><td>-0.02775407</td><td> 0.2950117092</td><td>-0.4751492278</td><td> 0.098016252</td><td>-0.044483690</td><td>⋯</td><td> 0.04222912</td><td>-0.134966078</td><td>-0.527241025</td><td>-0.67415775</td><td>-0.799725601</td><td>-0.303981056</td><td>-0.01559978</td><td>-0.271993514</td><td>-0.56317026</td><td>-0.113390264</td></tr>\n",
       "\t<tr><td>-0.128865361</td><td> 0.09370867</td><td>-0.31800875</td><td>-0.22727672</td><td>16.67040549</td><td>-0.10723561</td><td> 0.2312014374</td><td>-0.3053304793</td><td>-0.083753002</td><td> 0.958478192</td><td>⋯</td><td> 0.40949597</td><td>-0.689904616</td><td> 0.302919262</td><td>-0.15578437</td><td> 0.146490919</td><td>-0.144407074</td><td>-0.29572903</td><td> 0.498732860</td><td>-0.32321093</td><td>-0.124027134</td></tr>\n",
       "\t<tr><td>-0.382390222</td><td>-0.36173345</td><td>-0.97839919</td><td>-0.02775407</td><td>-0.10723561</td><td>16.77988840</td><td>-0.0814069116</td><td>-0.1258772246</td><td> 0.599291842</td><td> 0.507835476</td><td>⋯</td><td>-0.23621280</td><td>-0.265441617</td><td>-0.064945502</td><td>-0.39446414</td><td> 0.146066858</td><td> 0.518033979</td><td> 0.07750867</td><td>-0.313292829</td><td>-0.56456780</td><td>-0.079186313</td></tr>\n",
       "\t<tr><td> 0.097470327</td><td>-0.54948915</td><td>-0.21182901</td><td> 0.29501171</td><td> 0.23120144</td><td>-0.08140691</td><td>16.2947802708</td><td>-0.0003873523</td><td> 0.200446835</td><td> 0.107850030</td><td>⋯</td><td> 0.02785562</td><td>-0.182632517</td><td>-0.051409124</td><td>-0.44158305</td><td>-0.255169999</td><td>-0.214418448</td><td> 0.72495507</td><td>-0.301691080</td><td> 0.25698607</td><td> 0.705784377</td></tr>\n",
       "\t<tr><td> 0.139886719</td><td> 0.85392777</td><td>-0.44261001</td><td>-0.47514923</td><td>-0.30533048</td><td>-0.12587722</td><td>-0.0003873523</td><td>16.3123166235</td><td> 0.462825336</td><td> 0.026405723</td><td>⋯</td><td>-0.10554417</td><td> 0.263758718</td><td> 0.562707912</td><td>-0.20980948</td><td> 0.097387337</td><td> 0.044348003</td><td> 0.15069096</td><td>-0.579129879</td><td> 0.16688548</td><td>-0.545252507</td></tr>\n",
       "\t<tr><td>-0.024072247</td><td> 0.04807806</td><td> 0.37496400</td><td> 0.09801625</td><td>-0.08375300</td><td> 0.59929184</td><td> 0.2004468350</td><td> 0.4628253360</td><td>16.510357384</td><td> 0.046221539</td><td>⋯</td><td>-0.23272034</td><td> 0.453035632</td><td>-0.488924326</td><td>-0.38039611</td><td>-0.226499259</td><td> 0.319243067</td><td>-0.02650150</td><td> 0.794649430</td><td> 0.05464992</td><td> 0.330188028</td></tr>\n",
       "\t<tr><td> 0.383785927</td><td>-0.21262108</td><td>-0.51562059</td><td>-0.04448369</td><td> 0.95847819</td><td> 0.50783548</td><td> 0.1078500301</td><td> 0.0264057228</td><td> 0.046221539</td><td>15.734041685</td><td>⋯</td><td> 1.00092001</td><td> 0.401073691</td><td> 0.315610680</td><td> 0.21749053</td><td> 0.238967689</td><td> 0.207077044</td><td>-0.03460990</td><td>-0.512761429</td><td>-0.66198963</td><td> 0.522430161</td></tr>\n",
       "\t<tr><td>-0.538871537</td><td> 0.55254477</td><td> 0.13337076</td><td>-0.11332225</td><td>-0.45848597</td><td>-0.05563973</td><td>-0.4334161880</td><td> 0.3280519681</td><td> 0.032191219</td><td>-0.308418829</td><td>⋯</td><td> 0.08296569</td><td> 0.640970427</td><td> 0.337818661</td><td> 0.57673637</td><td> 0.351432326</td><td> 0.081647602</td><td> 0.24102607</td><td>-0.512665747</td><td> 0.60753927</td><td> 0.097463098</td></tr>\n",
       "\t<tr><td> 0.256805647</td><td> 0.36255868</td><td> 0.05270395</td><td> 0.21624814</td><td> 0.16481989</td><td>-0.20314565</td><td>-0.3428404707</td><td> 0.6087049738</td><td> 0.389948257</td><td>-0.006001372</td><td>⋯</td><td> 0.34824093</td><td>-0.034852960</td><td> 0.267619691</td><td> 0.61075594</td><td>-0.073873373</td><td> 0.679523055</td><td>-0.27832520</td><td>-0.242068913</td><td>-0.54975092</td><td> 0.166527766</td></tr>\n",
       "\t<tr><td>-0.424577205</td><td>-0.40991368</td><td> 0.04516612</td><td> 0.34131915</td><td> 0.73642150</td><td>-0.40744200</td><td> 0.0406382167</td><td>-0.6685949841</td><td> 0.489978354</td><td> 0.029572511</td><td>⋯</td><td> 0.37124430</td><td> 0.095718064</td><td> 0.219804079</td><td>-0.37638025</td><td>-0.629018744</td><td>-0.112111465</td><td> 0.26772872</td><td> 0.238820913</td><td> 0.04717905</td><td>-0.301793656</td></tr>\n",
       "\t<tr><td> 0.120756366</td><td>-0.23950533</td><td> 0.02025972</td><td>-0.08425383</td><td> 0.11852414</td><td>-0.02777582</td><td>-0.0779182001</td><td>-0.1631033925</td><td>-0.077794241</td><td> 0.097963150</td><td>⋯</td><td>-0.38764898</td><td> 0.114171917</td><td> 0.293061765</td><td>-0.15596287</td><td> 0.004170062</td><td>-0.567850591</td><td>-0.53242093</td><td> 0.565927171</td><td> 0.14820711</td><td> 0.289129769</td></tr>\n",
       "\t<tr><td> 0.072913527</td><td>-0.27026074</td><td> 0.40488713</td><td> 0.30427873</td><td>-0.27483973</td><td>-0.35868827</td><td> 1.1431896007</td><td>-0.1953803657</td><td>-0.357398884</td><td>-0.382028761</td><td>⋯</td><td> 0.05165222</td><td>-0.621868519</td><td>-0.338968482</td><td> 0.22341142</td><td>-0.346465239</td><td>-0.303695383</td><td> 0.01940688</td><td>-0.089126361</td><td>-0.46545249</td><td>-0.393816170</td></tr>\n",
       "\t<tr><td> 0.548174828</td><td> 0.44711965</td><td>-0.25082474</td><td>-0.27876073</td><td>-0.36544284</td><td>-0.03869957</td><td> 0.5146098183</td><td>-0.4107941469</td><td> 0.194978659</td><td> 0.413476833</td><td>⋯</td><td> 0.25225743</td><td> 0.084845775</td><td> 0.120041011</td><td>-0.97798834</td><td> 0.002448251</td><td> 0.310445789</td><td>-0.42983786</td><td> 0.056611347</td><td>-0.03552874</td><td> 0.089935853</td></tr>\n",
       "\t<tr><td>-0.483499391</td><td> 0.61167347</td><td> 0.53149575</td><td>-0.04005466</td><td> 0.19140640</td><td> 0.07191576</td><td>-0.2672400577</td><td> 0.5378008469</td><td> 0.718245449</td><td> 0.309723661</td><td>⋯</td><td>-0.16474815</td><td>-0.115326791</td><td> 0.380477645</td><td> 0.16776057</td><td> 0.227107631</td><td>-0.132660087</td><td> 0.96557046</td><td> 0.018049691</td><td>-0.17669986</td><td>-0.981282250</td></tr>\n",
       "\t<tr><td>-0.217914320</td><td> 0.59721727</td><td>-0.25247443</td><td> 0.07288756</td><td>-0.26578892</td><td>-0.31054160</td><td>-0.9471763922</td><td> 0.1247665465</td><td> 0.572689216</td><td>-0.087017284</td><td>⋯</td><td> 0.59683103</td><td>-0.051888304</td><td>-0.051176909</td><td> 0.21367082</td><td>-0.012018380</td><td>-0.535053810</td><td>-1.14549617</td><td>-0.194809116</td><td>-0.14809010</td><td>-0.034893016</td></tr>\n",
       "\t<tr><td> 0.122623669</td><td> 0.02077901</td><td>-1.25877206</td><td>-0.45522663</td><td> 0.72795622</td><td>-0.27686103</td><td> 0.5280629643</td><td> 0.7442049878</td><td> 0.343737463</td><td> 0.089603074</td><td>⋯</td><td> 0.19381798</td><td> 0.363610398</td><td> 0.166433605</td><td>-0.52488761</td><td> 0.280327700</td><td> 0.156361159</td><td> 0.14123349</td><td> 0.337605158</td><td> 0.29660526</td><td> 0.175465308</td></tr>\n",
       "\t<tr><td> 0.126147580</td><td>-0.34646967</td><td>-0.33521168</td><td>-0.40286485</td><td> 0.40460043</td><td>-0.33283752</td><td>-0.3469884406</td><td>-0.1908013531</td><td> 0.176165334</td><td> 0.270149510</td><td>⋯</td><td> 0.17972159</td><td> 0.381902399</td><td> 0.477593551</td><td>-0.08578407</td><td>-0.028353655</td><td> 0.640731005</td><td> 0.24832576</td><td> 0.004744189</td><td>-0.73232119</td><td> 0.290888413</td></tr>\n",
       "\t<tr><td> 0.310451609</td><td> 0.09116758</td><td>-0.41088802</td><td>-0.45399407</td><td>-0.09917327</td><td> 0.10778233</td><td>-0.2749786682</td><td> 0.0196265590</td><td>-0.009547107</td><td> 0.275856931</td><td>⋯</td><td>-0.16670174</td><td> 0.802109114</td><td>-0.008768344</td><td> 0.08209066</td><td> 0.146414157</td><td>-0.727904630</td><td> 0.32454768</td><td>-0.220826688</td><td>-0.24854835</td><td>-0.320066748</td></tr>\n",
       "\t<tr><td>-0.582960652</td><td>-0.29404872</td><td> 0.55139239</td><td> 0.54741064</td><td>-0.02550798</td><td>-0.70327498</td><td>-0.5342838696</td><td> 0.2211910773</td><td>-0.014158748</td><td>-0.011933383</td><td>⋯</td><td>-0.32844100</td><td>-0.076117232</td><td>-0.046429006</td><td> 0.04418620</td><td> 0.085592584</td><td> 0.374682712</td><td> 0.14688054</td><td> 0.059902673</td><td> 0.54860554</td><td>-0.832623689</td></tr>\n",
       "\t<tr><td> 0.494540375</td><td>-0.18731798</td><td>-0.41406538</td><td> 0.41795867</td><td> 0.18220159</td><td> 0.07601386</td><td>-0.3594099639</td><td>-0.5924312282</td><td>-0.485441981</td><td> 0.335703838</td><td>⋯</td><td> 0.16715430</td><td> 0.276332566</td><td>-1.018389293</td><td> 0.40583365</td><td> 0.396974999</td><td> 0.389309454</td><td> 0.86825789</td><td> 0.126908489</td><td> 0.63119726</td><td>-0.195298928</td></tr>\n",
       "\t<tr><td> 0.823927963</td><td> 0.16189590</td><td>-0.13608583</td><td>-0.16531268</td><td> 0.21936559</td><td> 0.13038270</td><td> 0.2226511678</td><td> 0.2484322815</td><td> 0.697963342</td><td>-0.133420079</td><td>⋯</td><td> 0.38137315</td><td> 0.220921167</td><td> 0.098288504</td><td>-0.05183408</td><td>-0.194138926</td><td>-0.034000245</td><td>-0.19484560</td><td> 0.259757229</td><td> 0.04611466</td><td> 0.452807703</td></tr>\n",
       "\t<tr><td> 0.328163193</td><td> 0.06011514</td><td>-0.41861599</td><td> 0.39732670</td><td>-0.30669227</td><td>-0.25704232</td><td> 0.4981730756</td><td>-0.0244605280</td><td>-0.668472650</td><td>-0.378224992</td><td>⋯</td><td>-0.01981921</td><td>-0.585490202</td><td>-0.277273077</td><td> 0.48087696</td><td> 0.264389195</td><td> 0.084641219</td><td>-0.20409157</td><td>-1.047078201</td><td> 0.60092467</td><td>-0.042887788</td></tr>\n",
       "\t<tr><td> 0.099416001</td><td> 0.14243655</td><td> 0.64311578</td><td> 0.44959986</td><td> 0.02388538</td><td> 0.26958229</td><td> 0.2582676653</td><td> 0.2186317252</td><td> 0.072841279</td><td>-0.057047222</td><td>⋯</td><td>-0.36835964</td><td> 0.447692840</td><td> 0.485713114</td><td> 0.02771094</td><td>-0.088183189</td><td>-0.243261240</td><td>-0.11266095</td><td>-0.091297446</td><td>-0.47987743</td><td> 0.122094916</td></tr>\n",
       "\t<tr><td>-0.003234245</td><td> 0.25439439</td><td> 0.43119836</td><td> 0.29100742</td><td>-0.22711035</td><td>-0.04909364</td><td>-0.1420042580</td><td>-0.0257901991</td><td>-0.161641959</td><td> 0.150882127</td><td>⋯</td><td> 0.48565392</td><td>-0.343171675</td><td>-0.211377070</td><td> 0.39908705</td><td>-0.342347808</td><td> 0.121141323</td><td>-0.47010935</td><td> 0.117692732</td><td> 0.23057869</td><td>-0.902349373</td></tr>\n",
       "\t<tr><td> 0.602890421</td><td> 0.33633460</td><td> 0.20714269</td><td> 0.32303509</td><td> 0.64435503</td><td>-0.69200284</td><td> 0.4474230605</td><td>-0.7452869495</td><td>-0.019571729</td><td>-0.296306661</td><td>⋯</td><td> 0.78427784</td><td> 0.367553932</td><td>-0.668111026</td><td>-0.32094319</td><td>-0.270735820</td><td> 0.052484156</td><td>-0.09715246</td><td>-0.431349743</td><td> 0.33763452</td><td> 0.047473362</td></tr>\n",
       "\t<tr><td>-0.816310996</td><td>-0.79923564</td><td> 0.01083588</td><td>-0.35438468</td><td>-0.06575306</td><td> 0.15100165</td><td>-0.3448931571</td><td> 0.2635003372</td><td> 0.142113509</td><td>-0.476707238</td><td>⋯</td><td>-0.37512955</td><td>-0.022757529</td><td>-0.118956808</td><td> 0.41640371</td><td> 0.470127171</td><td>-0.083923350</td><td>-1.08058022</td><td>-0.204505664</td><td>-0.17535481</td><td>-0.405759171</td></tr>\n",
       "\t<tr><td>-0.411856207</td><td>-0.04524837</td><td> 0.08620800</td><td> 0.02553288</td><td> 0.84548420</td><td> 0.10967391</td><td>-0.2910964765</td><td> 0.0109717849</td><td> 0.388860192</td><td> 0.010807192</td><td>⋯</td><td> 0.15631091</td><td> 0.568505228</td><td> 0.732653884</td><td>-0.20445173</td><td>-0.684308285</td><td>-0.045329798</td><td>-0.34594100</td><td>-0.017813620</td><td>-0.69460967</td><td>-0.009574479</td></tr>\n",
       "\t<tr><td>⋮</td><td>⋮</td><td>⋮</td><td>⋮</td><td>⋮</td><td>⋮</td><td>⋮</td><td>⋮</td><td>⋮</td><td>⋮</td><td>⋱</td><td>⋮</td><td>⋮</td><td>⋮</td><td>⋮</td><td>⋮</td><td>⋮</td><td>⋮</td><td>⋮</td><td>⋮</td><td>⋮</td></tr>\n",
       "\t<tr><td>-0.44516205</td><td> 0.337908079</td><td>-0.496273918</td><td>-0.2382495673</td><td>-0.08407348</td><td>-0.001384499</td><td>-0.12066425</td><td> 0.32461373</td><td> 0.08893277</td><td>-0.52971947</td><td>⋯</td><td>-0.21933426</td><td>-0.365520245</td><td> 0.42029838</td><td> 0.04304340</td><td> 9.821633e-05</td><td> 0.425462074</td><td>-0.06763597</td><td>-0.360857906</td><td>-0.03168048</td><td>-0.05311054</td></tr>\n",
       "\t<tr><td> 0.14398751</td><td> 0.185146836</td><td>-0.015869478</td><td>-0.0150949766</td><td>-0.40272105</td><td>-0.472325120</td><td>-0.39221631</td><td> 0.26405469</td><td> 0.10658588</td><td> 0.10614725</td><td>⋯</td><td> 0.01004257</td><td> 0.112397472</td><td>-0.55325158</td><td> 0.30805703</td><td>-2.947690e-01</td><td>-0.306078604</td><td> 0.48256189</td><td>-0.260316624</td><td> 0.10955232</td><td> 0.15104773</td></tr>\n",
       "\t<tr><td> 0.10803667</td><td>-0.179884546</td><td> 0.823023903</td><td>-0.0597510848</td><td> 0.12220453</td><td>-0.055860884</td><td> 0.18144023</td><td> 0.10957941</td><td>-0.21070577</td><td>-0.27222677</td><td>⋯</td><td> 0.31965997</td><td> 0.113222779</td><td> 0.26041754</td><td>-0.34895179</td><td>-3.142424e-01</td><td> 0.657933689</td><td>-0.10794408</td><td> 0.190192101</td><td> 0.03868164</td><td> 0.12343667</td></tr>\n",
       "\t<tr><td> 0.21966216</td><td> 0.486030710</td><td>-0.155024408</td><td> 0.2742168465</td><td>-0.38063205</td><td>-0.212353164</td><td> 0.51579243</td><td>-0.75301862</td><td>-0.49891775</td><td>-0.22762645</td><td>⋯</td><td> 0.54456271</td><td> 0.659407877</td><td> 0.10366116</td><td> 0.08001538</td><td>-1.788462e-02</td><td>-0.407565851</td><td>-0.06471001</td><td>-0.119908675</td><td>-0.34629762</td><td> 0.02335002</td></tr>\n",
       "\t<tr><td>-0.13821994</td><td> 0.306231896</td><td> 0.327932923</td><td>-0.0734544179</td><td> 0.08184062</td><td>-0.132525889</td><td>-0.51301005</td><td> 0.25256538</td><td>-0.03264621</td><td>-0.20805461</td><td>⋯</td><td> 0.44446304</td><td>-0.261562966</td><td>-0.63498060</td><td> 0.52546886</td><td> 2.101225e-01</td><td> 0.583300413</td><td>-0.43400169</td><td> 0.134898514</td><td> 0.31235589</td><td>-0.20180705</td></tr>\n",
       "\t<tr><td>-0.88433441</td><td> 0.417124782</td><td> 0.140638695</td><td> 0.4286032735</td><td> 0.48427423</td><td>-0.135861184</td><td> 0.63600571</td><td> 0.01788403</td><td>-0.29333590</td><td> 0.06633592</td><td>⋯</td><td>-0.06241216</td><td>-0.232142467</td><td>-0.35301528</td><td> 0.17221985</td><td> 2.142979e-01</td><td> 0.131929352</td><td>-0.18199130</td><td> 0.554339042</td><td> 0.32083045</td><td> 0.52127565</td></tr>\n",
       "\t<tr><td> 0.44168404</td><td>-0.307515675</td><td>-0.182635003</td><td>-0.2121283327</td><td> 0.03688261</td><td>-0.315383319</td><td>-0.22585927</td><td> 0.28997612</td><td> 0.20141329</td><td>-0.22408978</td><td>⋯</td><td>-0.65174454</td><td> 0.176104069</td><td>-0.32805794</td><td>-0.08769677</td><td> 7.845197e-02</td><td> 0.028024655</td><td>-0.50448270</td><td> 0.608711512</td><td>-0.11708541</td><td>-0.15056754</td></tr>\n",
       "\t<tr><td> 0.37152995</td><td>-0.159407006</td><td>-0.453610608</td><td>-0.3381250403</td><td> 0.92389151</td><td> 0.057537535</td><td> 0.44671925</td><td>-0.64462181</td><td> 0.32493206</td><td>-0.32141087</td><td>⋯</td><td>-0.41439368</td><td>-0.381958493</td><td> 0.63032175</td><td>-0.09478855</td><td>-3.040068e-01</td><td>-0.285152644</td><td>-0.19218548</td><td> 0.295848790</td><td> 0.38261375</td><td> 0.51603660</td></tr>\n",
       "\t<tr><td>-0.66387338</td><td> 0.229156515</td><td> 0.131255154</td><td>-0.0402579660</td><td> 0.07403668</td><td> 0.834028179</td><td>-0.14579537</td><td> 0.38199876</td><td> 0.43782694</td><td> 0.10592787</td><td>⋯</td><td> 0.28381036</td><td> 0.019724729</td><td> 0.82942729</td><td>-0.52280360</td><td> 1.870925e-02</td><td> 0.618023494</td><td>-0.05529457</td><td>-0.091016007</td><td> 0.10267333</td><td>-0.30957858</td></tr>\n",
       "\t<tr><td>-0.38652954</td><td>-0.059273910</td><td> 0.063256691</td><td> 0.2780572577</td><td> 0.76260055</td><td>-0.308563218</td><td>-0.22589079</td><td>-0.14645774</td><td> 0.29373906</td><td>-0.30648795</td><td>⋯</td><td>-0.47552729</td><td>-0.296459415</td><td>-0.49462834</td><td>-0.48693993</td><td> 1.112580e-01</td><td>-0.043399228</td><td>-0.11636916</td><td> 0.491210003</td><td> 0.38294043</td><td> 0.09480513</td></tr>\n",
       "\t<tr><td>-0.04487396</td><td>-0.054521940</td><td> 0.116169680</td><td> 0.8905710977</td><td> 0.06143369</td><td> 0.539933516</td><td>-0.18714793</td><td> 0.05434273</td><td>-0.18044692</td><td> 0.06591978</td><td>⋯</td><td>-0.61966170</td><td> 0.266930984</td><td>-0.30554232</td><td> 0.34751901</td><td> 6.650401e-02</td><td> 0.701394074</td><td> 0.36650862</td><td>-0.312947784</td><td>-0.52780171</td><td>-0.11198020</td></tr>\n",
       "\t<tr><td> 0.27846809</td><td>-0.051784704</td><td>-0.392055611</td><td> 0.1372850981</td><td>-0.09983504</td><td> 0.116897327</td><td>-0.36216592</td><td>-0.11985273</td><td> 0.73846994</td><td>-0.12973300</td><td>⋯</td><td>-0.32673511</td><td> 0.236810995</td><td> 0.15837152</td><td> 0.66023480</td><td> 4.237575e-02</td><td>-0.060218477</td><td>-0.16661416</td><td> 0.582820359</td><td>-0.12914337</td><td>-0.49726560</td></tr>\n",
       "\t<tr><td> 0.29191710</td><td>-0.084000636</td><td> 0.343850639</td><td> 0.4743010806</td><td> 0.26670752</td><td> 0.943480593</td><td>-0.67997804</td><td> 0.40268557</td><td> 0.66205340</td><td>-0.57296784</td><td>⋯</td><td>-0.19096798</td><td> 0.153974167</td><td> 0.28556488</td><td> 0.28317662</td><td> 3.522230e-01</td><td> 0.014500738</td><td> 0.26857263</td><td> 0.419554794</td><td> 0.15961432</td><td> 0.25138078</td></tr>\n",
       "\t<tr><td> 0.13427688</td><td> 0.467926953</td><td> 0.182519922</td><td>-0.4502939335</td><td> 0.04836819</td><td> 0.200936602</td><td>-0.17224833</td><td>-0.13618607</td><td>-0.21874287</td><td> 0.26213420</td><td>⋯</td><td> 0.65576374</td><td>-0.043871223</td><td>-0.05330392</td><td>-0.02371180</td><td> 3.387534e-02</td><td>-0.546150663</td><td>-0.10287134</td><td> 0.661874446</td><td>-0.23348950</td><td>-0.64682284</td></tr>\n",
       "\t<tr><td> 0.04831007</td><td>-0.773685137</td><td> 0.241974308</td><td>-0.0229997289</td><td>-0.42577905</td><td> 0.408884444</td><td> 0.38531069</td><td>-0.39661103</td><td> 0.43043310</td><td>-0.12678893</td><td>⋯</td><td>-0.46824383</td><td> 0.170201087</td><td> 0.39317954</td><td>-0.18530136</td><td>-3.518482e-01</td><td>-0.151092562</td><td>-0.09045450</td><td>-0.333747337</td><td> 0.20296627</td><td>-0.77053114</td></tr>\n",
       "\t<tr><td>-0.40922385</td><td> 0.203814729</td><td>-0.407466847</td><td> 0.2435218998</td><td>-0.42865954</td><td>-0.068620951</td><td>-0.23583646</td><td>-0.40487314</td><td>-0.26536288</td><td>-0.27857070</td><td>⋯</td><td>-0.70436727</td><td> 0.152912788</td><td>-0.25851278</td><td>-0.31466369</td><td>-1.136123e-01</td><td> 0.120591622</td><td> 0.16328702</td><td> 0.268828894</td><td>-0.42301683</td><td> 0.15977790</td></tr>\n",
       "\t<tr><td> 0.37036542</td><td>-0.249831446</td><td> 0.435419739</td><td> 0.0008963595</td><td> 0.39197884</td><td>-0.057390711</td><td> 0.65681051</td><td> 0.32086153</td><td> 0.01643389</td><td>-0.13131347</td><td>⋯</td><td>-0.17725325</td><td>-0.133749377</td><td> 0.45117944</td><td> 0.10260382</td><td> 2.234055e-02</td><td>-0.597327909</td><td> 0.21516078</td><td> 0.086962261</td><td> 0.11954507</td><td> 0.17375023</td></tr>\n",
       "\t<tr><td>-0.29487227</td><td>-0.042226260</td><td>-0.293939317</td><td> 0.4452228301</td><td>-0.43444919</td><td> 0.136125871</td><td>-0.28068141</td><td>-0.04719077</td><td> 0.47206769</td><td> 0.04082711</td><td>⋯</td><td>-0.10092863</td><td>-0.002222831</td><td> 0.30527716</td><td> 0.02514072</td><td> 3.317680e-01</td><td> 0.255838820</td><td>-0.17405760</td><td>-0.249974668</td><td>-0.58712171</td><td> 0.41944103</td></tr>\n",
       "\t<tr><td> 0.52775943</td><td>-0.339720227</td><td>-0.398836591</td><td> 0.2104168768</td><td>-0.49636811</td><td>-0.563720472</td><td> 0.30741133</td><td>-0.75663911</td><td> 0.30226112</td><td>-0.62075237</td><td>⋯</td><td> 0.50844505</td><td>-0.333746051</td><td> 0.28056103</td><td> 0.09356606</td><td> 3.495951e-02</td><td> 0.235261264</td><td> 0.16197863</td><td>-0.008876626</td><td>-0.23172431</td><td> 0.25979924</td></tr>\n",
       "\t<tr><td>-0.32609837</td><td> 0.503233926</td><td> 0.084745757</td><td> 0.2243369469</td><td>-0.20182761</td><td>-0.289202517</td><td> 0.22323761</td><td> 0.02340631</td><td>-0.43568574</td><td>-0.31869716</td><td>⋯</td><td> 0.17381155</td><td>-0.672602104</td><td>-0.11413288</td><td>-0.12643226</td><td>-1.502232e-01</td><td>-0.459552206</td><td> 0.22928603</td><td>-0.282481703</td><td> 0.11005845</td><td>-0.38232014</td></tr>\n",
       "\t<tr><td> 0.24921889</td><td>-0.027926099</td><td>-0.287767554</td><td> 0.0422291237</td><td> 0.40949597</td><td>-0.236212796</td><td> 0.02785562</td><td>-0.10554417</td><td>-0.23272034</td><td> 1.00092001</td><td>⋯</td><td>15.74565413</td><td>-0.324940754</td><td>-0.12077257</td><td>-0.12455345</td><td> 2.556511e-01</td><td>-0.847384014</td><td>-0.07000644</td><td> 0.362896633</td><td>-0.06345105</td><td> 0.20122393</td></tr>\n",
       "\t<tr><td> 0.28771675</td><td>-0.003796406</td><td>-0.325909789</td><td>-0.1349660776</td><td>-0.68990462</td><td>-0.265441617</td><td>-0.18263252</td><td> 0.26375872</td><td> 0.45303563</td><td> 0.40107369</td><td>⋯</td><td>-0.32494075</td><td>14.659971829</td><td>-0.15355937</td><td> 0.46728649</td><td>-4.949895e-01</td><td>-0.317608597</td><td> 0.11719040</td><td>-0.390230714</td><td> 0.26958370</td><td> 0.24931658</td></tr>\n",
       "\t<tr><td>-0.05326257</td><td> 0.196070343</td><td>-0.097397111</td><td>-0.5272410247</td><td> 0.30291926</td><td>-0.064945502</td><td>-0.05140912</td><td> 0.56270791</td><td>-0.48892433</td><td> 0.31561068</td><td>⋯</td><td>-0.12077257</td><td>-0.153559374</td><td>16.68824337</td><td>-0.22833867</td><td> 3.717726e-01</td><td>-0.131902514</td><td>-0.02311375</td><td> 0.303268798</td><td>-0.65387378</td><td> 0.02236106</td></tr>\n",
       "\t<tr><td> 0.17407759</td><td>-0.038517498</td><td> 0.423836946</td><td>-0.6741577538</td><td>-0.15578437</td><td>-0.394464136</td><td>-0.44158305</td><td>-0.20980948</td><td>-0.38039611</td><td> 0.21749053</td><td>⋯</td><td>-0.12455345</td><td> 0.467286488</td><td>-0.22833867</td><td>15.54898303</td><td>-3.509804e-01</td><td> 0.147588350</td><td> 0.06039050</td><td>-0.025523166</td><td> 0.21961694</td><td> 0.21791136</td></tr>\n",
       "\t<tr><td>-0.07710950</td><td>-0.262743750</td><td>-0.373219521</td><td>-0.7997256014</td><td> 0.14649092</td><td> 0.146066858</td><td>-0.25517000</td><td> 0.09738734</td><td>-0.22649926</td><td> 0.23896769</td><td>⋯</td><td> 0.25565105</td><td>-0.494989463</td><td> 0.37177256</td><td>-0.35098041</td><td> 1.582457e+01</td><td>-0.009445425</td><td> 0.11698810</td><td>-0.050152104</td><td> 0.55444743</td><td> 0.64071962</td></tr>\n",
       "\t<tr><td>-0.42762512</td><td> 0.339594797</td><td> 0.001922958</td><td>-0.3039810565</td><td>-0.14440707</td><td> 0.518033979</td><td>-0.21441845</td><td> 0.04434800</td><td> 0.31924307</td><td> 0.20707704</td><td>⋯</td><td>-0.84738401</td><td>-0.317608597</td><td>-0.13190251</td><td> 0.14758835</td><td>-9.445425e-03</td><td>16.414659687</td><td> 0.60258034</td><td>-0.315301581</td><td>-0.42755684</td><td>-0.11257101</td></tr>\n",
       "\t<tr><td>-0.27056429</td><td> 0.405868223</td><td>-0.374200419</td><td>-0.0155997754</td><td>-0.29572903</td><td> 0.077508671</td><td> 0.72495507</td><td> 0.15069096</td><td>-0.02650150</td><td>-0.03460990</td><td>⋯</td><td>-0.07000644</td><td> 0.117190398</td><td>-0.02311375</td><td> 0.06039050</td><td> 1.169881e-01</td><td> 0.602580338</td><td>15.85053011</td><td> 0.210603042</td><td> 0.08148362</td><td> 0.52875696</td></tr>\n",
       "\t<tr><td>-0.08465493</td><td>-0.629592145</td><td>-0.157502687</td><td>-0.2719935144</td><td> 0.49873286</td><td>-0.313292829</td><td>-0.30169108</td><td>-0.57912988</td><td> 0.79464943</td><td>-0.51276143</td><td>⋯</td><td> 0.36289663</td><td>-0.390230714</td><td> 0.30326880</td><td>-0.02552317</td><td>-5.015210e-02</td><td>-0.315301581</td><td> 0.21060304</td><td>16.535535793</td><td>-0.10770426</td><td>-0.35342537</td></tr>\n",
       "\t<tr><td> 0.17093754</td><td> 0.469011408</td><td> 0.244938942</td><td>-0.5631702629</td><td>-0.32321093</td><td>-0.564567796</td><td> 0.25698607</td><td> 0.16688548</td><td> 0.05464992</td><td>-0.66198963</td><td>⋯</td><td>-0.06345105</td><td> 0.269583704</td><td>-0.65387378</td><td> 0.21961694</td><td> 5.544474e-01</td><td>-0.427556842</td><td> 0.08148362</td><td>-0.107704256</td><td>16.02698580</td><td>-0.26877564</td></tr>\n",
       "\t<tr><td> 0.06656751</td><td> 0.082718768</td><td> 0.106191326</td><td>-0.1133902641</td><td>-0.12402713</td><td>-0.079186313</td><td> 0.70578438</td><td>-0.54525251</td><td> 0.33018803</td><td> 0.52243016</td><td>⋯</td><td> 0.20122393</td><td> 0.249316580</td><td> 0.02236106</td><td> 0.21791136</td><td> 6.407196e-01</td><td>-0.112571006</td><td> 0.52875696</td><td>-0.353425367</td><td>-0.26877564</td><td>16.19101235</td></tr>\n",
       "</tbody>\n",
       "</table>\n"
      ],
      "text/latex": [
       "A matrix: 2000 × 2000 of type dbl\n",
       "\\begin{tabular}{lllllllllllllllllllll}\n",
       "\t 15.065680269 & -0.19451703 & -0.14928794 &  0.03019170 & -0.12886536 & -0.38239022 &  0.0974703269 &  0.1398867195 & -0.024072247 &  0.383785927 & ⋯ &  0.24921889 &  0.287716749 & -0.053262572 &  0.17407759 & -0.077109501 & -0.427625116 & -0.27056429 & -0.084654930 &  0.17093754 &  0.066567513\\\\\n",
       "\t -0.194517029 & 16.99357095 &  0.38015016 &  0.03789495 &  0.09370867 & -0.36173345 & -0.5494891477 &  0.8539277706 &  0.048078063 & -0.212621085 & ⋯ & -0.02792610 & -0.003796406 &  0.196070343 & -0.03851750 & -0.262743750 &  0.339594797 &  0.40586822 & -0.629592145 &  0.46901141 &  0.082718768\\\\\n",
       "\t -0.149287936 &  0.38015016 & 16.53756772 &  0.39532992 & -0.31800875 & -0.97839919 & -0.2118290053 & -0.4426100084 &  0.374963997 & -0.515620591 & ⋯ & -0.28776755 & -0.325909789 & -0.097397111 &  0.42383695 & -0.373219521 &  0.001922958 & -0.37420042 & -0.157502687 &  0.24493894 &  0.106191326\\\\\n",
       "\t  0.030191698 &  0.03789495 &  0.39532992 & 15.98533975 & -0.22727672 & -0.02775407 &  0.2950117092 & -0.4751492278 &  0.098016252 & -0.044483690 & ⋯ &  0.04222912 & -0.134966078 & -0.527241025 & -0.67415775 & -0.799725601 & -0.303981056 & -0.01559978 & -0.271993514 & -0.56317026 & -0.113390264\\\\\n",
       "\t -0.128865361 &  0.09370867 & -0.31800875 & -0.22727672 & 16.67040549 & -0.10723561 &  0.2312014374 & -0.3053304793 & -0.083753002 &  0.958478192 & ⋯ &  0.40949597 & -0.689904616 &  0.302919262 & -0.15578437 &  0.146490919 & -0.144407074 & -0.29572903 &  0.498732860 & -0.32321093 & -0.124027134\\\\\n",
       "\t -0.382390222 & -0.36173345 & -0.97839919 & -0.02775407 & -0.10723561 & 16.77988840 & -0.0814069116 & -0.1258772246 &  0.599291842 &  0.507835476 & ⋯ & -0.23621280 & -0.265441617 & -0.064945502 & -0.39446414 &  0.146066858 &  0.518033979 &  0.07750867 & -0.313292829 & -0.56456780 & -0.079186313\\\\\n",
       "\t  0.097470327 & -0.54948915 & -0.21182901 &  0.29501171 &  0.23120144 & -0.08140691 & 16.2947802708 & -0.0003873523 &  0.200446835 &  0.107850030 & ⋯ &  0.02785562 & -0.182632517 & -0.051409124 & -0.44158305 & -0.255169999 & -0.214418448 &  0.72495507 & -0.301691080 &  0.25698607 &  0.705784377\\\\\n",
       "\t  0.139886719 &  0.85392777 & -0.44261001 & -0.47514923 & -0.30533048 & -0.12587722 & -0.0003873523 & 16.3123166235 &  0.462825336 &  0.026405723 & ⋯ & -0.10554417 &  0.263758718 &  0.562707912 & -0.20980948 &  0.097387337 &  0.044348003 &  0.15069096 & -0.579129879 &  0.16688548 & -0.545252507\\\\\n",
       "\t -0.024072247 &  0.04807806 &  0.37496400 &  0.09801625 & -0.08375300 &  0.59929184 &  0.2004468350 &  0.4628253360 & 16.510357384 &  0.046221539 & ⋯ & -0.23272034 &  0.453035632 & -0.488924326 & -0.38039611 & -0.226499259 &  0.319243067 & -0.02650150 &  0.794649430 &  0.05464992 &  0.330188028\\\\\n",
       "\t  0.383785927 & -0.21262108 & -0.51562059 & -0.04448369 &  0.95847819 &  0.50783548 &  0.1078500301 &  0.0264057228 &  0.046221539 & 15.734041685 & ⋯ &  1.00092001 &  0.401073691 &  0.315610680 &  0.21749053 &  0.238967689 &  0.207077044 & -0.03460990 & -0.512761429 & -0.66198963 &  0.522430161\\\\\n",
       "\t -0.538871537 &  0.55254477 &  0.13337076 & -0.11332225 & -0.45848597 & -0.05563973 & -0.4334161880 &  0.3280519681 &  0.032191219 & -0.308418829 & ⋯ &  0.08296569 &  0.640970427 &  0.337818661 &  0.57673637 &  0.351432326 &  0.081647602 &  0.24102607 & -0.512665747 &  0.60753927 &  0.097463098\\\\\n",
       "\t  0.256805647 &  0.36255868 &  0.05270395 &  0.21624814 &  0.16481989 & -0.20314565 & -0.3428404707 &  0.6087049738 &  0.389948257 & -0.006001372 & ⋯ &  0.34824093 & -0.034852960 &  0.267619691 &  0.61075594 & -0.073873373 &  0.679523055 & -0.27832520 & -0.242068913 & -0.54975092 &  0.166527766\\\\\n",
       "\t -0.424577205 & -0.40991368 &  0.04516612 &  0.34131915 &  0.73642150 & -0.40744200 &  0.0406382167 & -0.6685949841 &  0.489978354 &  0.029572511 & ⋯ &  0.37124430 &  0.095718064 &  0.219804079 & -0.37638025 & -0.629018744 & -0.112111465 &  0.26772872 &  0.238820913 &  0.04717905 & -0.301793656\\\\\n",
       "\t  0.120756366 & -0.23950533 &  0.02025972 & -0.08425383 &  0.11852414 & -0.02777582 & -0.0779182001 & -0.1631033925 & -0.077794241 &  0.097963150 & ⋯ & -0.38764898 &  0.114171917 &  0.293061765 & -0.15596287 &  0.004170062 & -0.567850591 & -0.53242093 &  0.565927171 &  0.14820711 &  0.289129769\\\\\n",
       "\t  0.072913527 & -0.27026074 &  0.40488713 &  0.30427873 & -0.27483973 & -0.35868827 &  1.1431896007 & -0.1953803657 & -0.357398884 & -0.382028761 & ⋯ &  0.05165222 & -0.621868519 & -0.338968482 &  0.22341142 & -0.346465239 & -0.303695383 &  0.01940688 & -0.089126361 & -0.46545249 & -0.393816170\\\\\n",
       "\t  0.548174828 &  0.44711965 & -0.25082474 & -0.27876073 & -0.36544284 & -0.03869957 &  0.5146098183 & -0.4107941469 &  0.194978659 &  0.413476833 & ⋯ &  0.25225743 &  0.084845775 &  0.120041011 & -0.97798834 &  0.002448251 &  0.310445789 & -0.42983786 &  0.056611347 & -0.03552874 &  0.089935853\\\\\n",
       "\t -0.483499391 &  0.61167347 &  0.53149575 & -0.04005466 &  0.19140640 &  0.07191576 & -0.2672400577 &  0.5378008469 &  0.718245449 &  0.309723661 & ⋯ & -0.16474815 & -0.115326791 &  0.380477645 &  0.16776057 &  0.227107631 & -0.132660087 &  0.96557046 &  0.018049691 & -0.17669986 & -0.981282250\\\\\n",
       "\t -0.217914320 &  0.59721727 & -0.25247443 &  0.07288756 & -0.26578892 & -0.31054160 & -0.9471763922 &  0.1247665465 &  0.572689216 & -0.087017284 & ⋯ &  0.59683103 & -0.051888304 & -0.051176909 &  0.21367082 & -0.012018380 & -0.535053810 & -1.14549617 & -0.194809116 & -0.14809010 & -0.034893016\\\\\n",
       "\t  0.122623669 &  0.02077901 & -1.25877206 & -0.45522663 &  0.72795622 & -0.27686103 &  0.5280629643 &  0.7442049878 &  0.343737463 &  0.089603074 & ⋯ &  0.19381798 &  0.363610398 &  0.166433605 & -0.52488761 &  0.280327700 &  0.156361159 &  0.14123349 &  0.337605158 &  0.29660526 &  0.175465308\\\\\n",
       "\t  0.126147580 & -0.34646967 & -0.33521168 & -0.40286485 &  0.40460043 & -0.33283752 & -0.3469884406 & -0.1908013531 &  0.176165334 &  0.270149510 & ⋯ &  0.17972159 &  0.381902399 &  0.477593551 & -0.08578407 & -0.028353655 &  0.640731005 &  0.24832576 &  0.004744189 & -0.73232119 &  0.290888413\\\\\n",
       "\t  0.310451609 &  0.09116758 & -0.41088802 & -0.45399407 & -0.09917327 &  0.10778233 & -0.2749786682 &  0.0196265590 & -0.009547107 &  0.275856931 & ⋯ & -0.16670174 &  0.802109114 & -0.008768344 &  0.08209066 &  0.146414157 & -0.727904630 &  0.32454768 & -0.220826688 & -0.24854835 & -0.320066748\\\\\n",
       "\t -0.582960652 & -0.29404872 &  0.55139239 &  0.54741064 & -0.02550798 & -0.70327498 & -0.5342838696 &  0.2211910773 & -0.014158748 & -0.011933383 & ⋯ & -0.32844100 & -0.076117232 & -0.046429006 &  0.04418620 &  0.085592584 &  0.374682712 &  0.14688054 &  0.059902673 &  0.54860554 & -0.832623689\\\\\n",
       "\t  0.494540375 & -0.18731798 & -0.41406538 &  0.41795867 &  0.18220159 &  0.07601386 & -0.3594099639 & -0.5924312282 & -0.485441981 &  0.335703838 & ⋯ &  0.16715430 &  0.276332566 & -1.018389293 &  0.40583365 &  0.396974999 &  0.389309454 &  0.86825789 &  0.126908489 &  0.63119726 & -0.195298928\\\\\n",
       "\t  0.823927963 &  0.16189590 & -0.13608583 & -0.16531268 &  0.21936559 &  0.13038270 &  0.2226511678 &  0.2484322815 &  0.697963342 & -0.133420079 & ⋯ &  0.38137315 &  0.220921167 &  0.098288504 & -0.05183408 & -0.194138926 & -0.034000245 & -0.19484560 &  0.259757229 &  0.04611466 &  0.452807703\\\\\n",
       "\t  0.328163193 &  0.06011514 & -0.41861599 &  0.39732670 & -0.30669227 & -0.25704232 &  0.4981730756 & -0.0244605280 & -0.668472650 & -0.378224992 & ⋯ & -0.01981921 & -0.585490202 & -0.277273077 &  0.48087696 &  0.264389195 &  0.084641219 & -0.20409157 & -1.047078201 &  0.60092467 & -0.042887788\\\\\n",
       "\t  0.099416001 &  0.14243655 &  0.64311578 &  0.44959986 &  0.02388538 &  0.26958229 &  0.2582676653 &  0.2186317252 &  0.072841279 & -0.057047222 & ⋯ & -0.36835964 &  0.447692840 &  0.485713114 &  0.02771094 & -0.088183189 & -0.243261240 & -0.11266095 & -0.091297446 & -0.47987743 &  0.122094916\\\\\n",
       "\t -0.003234245 &  0.25439439 &  0.43119836 &  0.29100742 & -0.22711035 & -0.04909364 & -0.1420042580 & -0.0257901991 & -0.161641959 &  0.150882127 & ⋯ &  0.48565392 & -0.343171675 & -0.211377070 &  0.39908705 & -0.342347808 &  0.121141323 & -0.47010935 &  0.117692732 &  0.23057869 & -0.902349373\\\\\n",
       "\t  0.602890421 &  0.33633460 &  0.20714269 &  0.32303509 &  0.64435503 & -0.69200284 &  0.4474230605 & -0.7452869495 & -0.019571729 & -0.296306661 & ⋯ &  0.78427784 &  0.367553932 & -0.668111026 & -0.32094319 & -0.270735820 &  0.052484156 & -0.09715246 & -0.431349743 &  0.33763452 &  0.047473362\\\\\n",
       "\t -0.816310996 & -0.79923564 &  0.01083588 & -0.35438468 & -0.06575306 &  0.15100165 & -0.3448931571 &  0.2635003372 &  0.142113509 & -0.476707238 & ⋯ & -0.37512955 & -0.022757529 & -0.118956808 &  0.41640371 &  0.470127171 & -0.083923350 & -1.08058022 & -0.204505664 & -0.17535481 & -0.405759171\\\\\n",
       "\t -0.411856207 & -0.04524837 &  0.08620800 &  0.02553288 &  0.84548420 &  0.10967391 & -0.2910964765 &  0.0109717849 &  0.388860192 &  0.010807192 & ⋯ &  0.15631091 &  0.568505228 &  0.732653884 & -0.20445173 & -0.684308285 & -0.045329798 & -0.34594100 & -0.017813620 & -0.69460967 & -0.009574479\\\\\n",
       "\t ⋮ & ⋮ & ⋮ & ⋮ & ⋮ & ⋮ & ⋮ & ⋮ & ⋮ & ⋮ & ⋱ & ⋮ & ⋮ & ⋮ & ⋮ & ⋮ & ⋮ & ⋮ & ⋮ & ⋮ & ⋮\\\\\n",
       "\t -0.44516205 &  0.337908079 & -0.496273918 & -0.2382495673 & -0.08407348 & -0.001384499 & -0.12066425 &  0.32461373 &  0.08893277 & -0.52971947 & ⋯ & -0.21933426 & -0.365520245 &  0.42029838 &  0.04304340 &  9.821633e-05 &  0.425462074 & -0.06763597 & -0.360857906 & -0.03168048 & -0.05311054\\\\\n",
       "\t  0.14398751 &  0.185146836 & -0.015869478 & -0.0150949766 & -0.40272105 & -0.472325120 & -0.39221631 &  0.26405469 &  0.10658588 &  0.10614725 & ⋯ &  0.01004257 &  0.112397472 & -0.55325158 &  0.30805703 & -2.947690e-01 & -0.306078604 &  0.48256189 & -0.260316624 &  0.10955232 &  0.15104773\\\\\n",
       "\t  0.10803667 & -0.179884546 &  0.823023903 & -0.0597510848 &  0.12220453 & -0.055860884 &  0.18144023 &  0.10957941 & -0.21070577 & -0.27222677 & ⋯ &  0.31965997 &  0.113222779 &  0.26041754 & -0.34895179 & -3.142424e-01 &  0.657933689 & -0.10794408 &  0.190192101 &  0.03868164 &  0.12343667\\\\\n",
       "\t  0.21966216 &  0.486030710 & -0.155024408 &  0.2742168465 & -0.38063205 & -0.212353164 &  0.51579243 & -0.75301862 & -0.49891775 & -0.22762645 & ⋯ &  0.54456271 &  0.659407877 &  0.10366116 &  0.08001538 & -1.788462e-02 & -0.407565851 & -0.06471001 & -0.119908675 & -0.34629762 &  0.02335002\\\\\n",
       "\t -0.13821994 &  0.306231896 &  0.327932923 & -0.0734544179 &  0.08184062 & -0.132525889 & -0.51301005 &  0.25256538 & -0.03264621 & -0.20805461 & ⋯ &  0.44446304 & -0.261562966 & -0.63498060 &  0.52546886 &  2.101225e-01 &  0.583300413 & -0.43400169 &  0.134898514 &  0.31235589 & -0.20180705\\\\\n",
       "\t -0.88433441 &  0.417124782 &  0.140638695 &  0.4286032735 &  0.48427423 & -0.135861184 &  0.63600571 &  0.01788403 & -0.29333590 &  0.06633592 & ⋯ & -0.06241216 & -0.232142467 & -0.35301528 &  0.17221985 &  2.142979e-01 &  0.131929352 & -0.18199130 &  0.554339042 &  0.32083045 &  0.52127565\\\\\n",
       "\t  0.44168404 & -0.307515675 & -0.182635003 & -0.2121283327 &  0.03688261 & -0.315383319 & -0.22585927 &  0.28997612 &  0.20141329 & -0.22408978 & ⋯ & -0.65174454 &  0.176104069 & -0.32805794 & -0.08769677 &  7.845197e-02 &  0.028024655 & -0.50448270 &  0.608711512 & -0.11708541 & -0.15056754\\\\\n",
       "\t  0.37152995 & -0.159407006 & -0.453610608 & -0.3381250403 &  0.92389151 &  0.057537535 &  0.44671925 & -0.64462181 &  0.32493206 & -0.32141087 & ⋯ & -0.41439368 & -0.381958493 &  0.63032175 & -0.09478855 & -3.040068e-01 & -0.285152644 & -0.19218548 &  0.295848790 &  0.38261375 &  0.51603660\\\\\n",
       "\t -0.66387338 &  0.229156515 &  0.131255154 & -0.0402579660 &  0.07403668 &  0.834028179 & -0.14579537 &  0.38199876 &  0.43782694 &  0.10592787 & ⋯ &  0.28381036 &  0.019724729 &  0.82942729 & -0.52280360 &  1.870925e-02 &  0.618023494 & -0.05529457 & -0.091016007 &  0.10267333 & -0.30957858\\\\\n",
       "\t -0.38652954 & -0.059273910 &  0.063256691 &  0.2780572577 &  0.76260055 & -0.308563218 & -0.22589079 & -0.14645774 &  0.29373906 & -0.30648795 & ⋯ & -0.47552729 & -0.296459415 & -0.49462834 & -0.48693993 &  1.112580e-01 & -0.043399228 & -0.11636916 &  0.491210003 &  0.38294043 &  0.09480513\\\\\n",
       "\t -0.04487396 & -0.054521940 &  0.116169680 &  0.8905710977 &  0.06143369 &  0.539933516 & -0.18714793 &  0.05434273 & -0.18044692 &  0.06591978 & ⋯ & -0.61966170 &  0.266930984 & -0.30554232 &  0.34751901 &  6.650401e-02 &  0.701394074 &  0.36650862 & -0.312947784 & -0.52780171 & -0.11198020\\\\\n",
       "\t  0.27846809 & -0.051784704 & -0.392055611 &  0.1372850981 & -0.09983504 &  0.116897327 & -0.36216592 & -0.11985273 &  0.73846994 & -0.12973300 & ⋯ & -0.32673511 &  0.236810995 &  0.15837152 &  0.66023480 &  4.237575e-02 & -0.060218477 & -0.16661416 &  0.582820359 & -0.12914337 & -0.49726560\\\\\n",
       "\t  0.29191710 & -0.084000636 &  0.343850639 &  0.4743010806 &  0.26670752 &  0.943480593 & -0.67997804 &  0.40268557 &  0.66205340 & -0.57296784 & ⋯ & -0.19096798 &  0.153974167 &  0.28556488 &  0.28317662 &  3.522230e-01 &  0.014500738 &  0.26857263 &  0.419554794 &  0.15961432 &  0.25138078\\\\\n",
       "\t  0.13427688 &  0.467926953 &  0.182519922 & -0.4502939335 &  0.04836819 &  0.200936602 & -0.17224833 & -0.13618607 & -0.21874287 &  0.26213420 & ⋯ &  0.65576374 & -0.043871223 & -0.05330392 & -0.02371180 &  3.387534e-02 & -0.546150663 & -0.10287134 &  0.661874446 & -0.23348950 & -0.64682284\\\\\n",
       "\t  0.04831007 & -0.773685137 &  0.241974308 & -0.0229997289 & -0.42577905 &  0.408884444 &  0.38531069 & -0.39661103 &  0.43043310 & -0.12678893 & ⋯ & -0.46824383 &  0.170201087 &  0.39317954 & -0.18530136 & -3.518482e-01 & -0.151092562 & -0.09045450 & -0.333747337 &  0.20296627 & -0.77053114\\\\\n",
       "\t -0.40922385 &  0.203814729 & -0.407466847 &  0.2435218998 & -0.42865954 & -0.068620951 & -0.23583646 & -0.40487314 & -0.26536288 & -0.27857070 & ⋯ & -0.70436727 &  0.152912788 & -0.25851278 & -0.31466369 & -1.136123e-01 &  0.120591622 &  0.16328702 &  0.268828894 & -0.42301683 &  0.15977790\\\\\n",
       "\t  0.37036542 & -0.249831446 &  0.435419739 &  0.0008963595 &  0.39197884 & -0.057390711 &  0.65681051 &  0.32086153 &  0.01643389 & -0.13131347 & ⋯ & -0.17725325 & -0.133749377 &  0.45117944 &  0.10260382 &  2.234055e-02 & -0.597327909 &  0.21516078 &  0.086962261 &  0.11954507 &  0.17375023\\\\\n",
       "\t -0.29487227 & -0.042226260 & -0.293939317 &  0.4452228301 & -0.43444919 &  0.136125871 & -0.28068141 & -0.04719077 &  0.47206769 &  0.04082711 & ⋯ & -0.10092863 & -0.002222831 &  0.30527716 &  0.02514072 &  3.317680e-01 &  0.255838820 & -0.17405760 & -0.249974668 & -0.58712171 &  0.41944103\\\\\n",
       "\t  0.52775943 & -0.339720227 & -0.398836591 &  0.2104168768 & -0.49636811 & -0.563720472 &  0.30741133 & -0.75663911 &  0.30226112 & -0.62075237 & ⋯ &  0.50844505 & -0.333746051 &  0.28056103 &  0.09356606 &  3.495951e-02 &  0.235261264 &  0.16197863 & -0.008876626 & -0.23172431 &  0.25979924\\\\\n",
       "\t -0.32609837 &  0.503233926 &  0.084745757 &  0.2243369469 & -0.20182761 & -0.289202517 &  0.22323761 &  0.02340631 & -0.43568574 & -0.31869716 & ⋯ &  0.17381155 & -0.672602104 & -0.11413288 & -0.12643226 & -1.502232e-01 & -0.459552206 &  0.22928603 & -0.282481703 &  0.11005845 & -0.38232014\\\\\n",
       "\t  0.24921889 & -0.027926099 & -0.287767554 &  0.0422291237 &  0.40949597 & -0.236212796 &  0.02785562 & -0.10554417 & -0.23272034 &  1.00092001 & ⋯ & 15.74565413 & -0.324940754 & -0.12077257 & -0.12455345 &  2.556511e-01 & -0.847384014 & -0.07000644 &  0.362896633 & -0.06345105 &  0.20122393\\\\\n",
       "\t  0.28771675 & -0.003796406 & -0.325909789 & -0.1349660776 & -0.68990462 & -0.265441617 & -0.18263252 &  0.26375872 &  0.45303563 &  0.40107369 & ⋯ & -0.32494075 & 14.659971829 & -0.15355937 &  0.46728649 & -4.949895e-01 & -0.317608597 &  0.11719040 & -0.390230714 &  0.26958370 &  0.24931658\\\\\n",
       "\t -0.05326257 &  0.196070343 & -0.097397111 & -0.5272410247 &  0.30291926 & -0.064945502 & -0.05140912 &  0.56270791 & -0.48892433 &  0.31561068 & ⋯ & -0.12077257 & -0.153559374 & 16.68824337 & -0.22833867 &  3.717726e-01 & -0.131902514 & -0.02311375 &  0.303268798 & -0.65387378 &  0.02236106\\\\\n",
       "\t  0.17407759 & -0.038517498 &  0.423836946 & -0.6741577538 & -0.15578437 & -0.394464136 & -0.44158305 & -0.20980948 & -0.38039611 &  0.21749053 & ⋯ & -0.12455345 &  0.467286488 & -0.22833867 & 15.54898303 & -3.509804e-01 &  0.147588350 &  0.06039050 & -0.025523166 &  0.21961694 &  0.21791136\\\\\n",
       "\t -0.07710950 & -0.262743750 & -0.373219521 & -0.7997256014 &  0.14649092 &  0.146066858 & -0.25517000 &  0.09738734 & -0.22649926 &  0.23896769 & ⋯ &  0.25565105 & -0.494989463 &  0.37177256 & -0.35098041 &  1.582457e+01 & -0.009445425 &  0.11698810 & -0.050152104 &  0.55444743 &  0.64071962\\\\\n",
       "\t -0.42762512 &  0.339594797 &  0.001922958 & -0.3039810565 & -0.14440707 &  0.518033979 & -0.21441845 &  0.04434800 &  0.31924307 &  0.20707704 & ⋯ & -0.84738401 & -0.317608597 & -0.13190251 &  0.14758835 & -9.445425e-03 & 16.414659687 &  0.60258034 & -0.315301581 & -0.42755684 & -0.11257101\\\\\n",
       "\t -0.27056429 &  0.405868223 & -0.374200419 & -0.0155997754 & -0.29572903 &  0.077508671 &  0.72495507 &  0.15069096 & -0.02650150 & -0.03460990 & ⋯ & -0.07000644 &  0.117190398 & -0.02311375 &  0.06039050 &  1.169881e-01 &  0.602580338 & 15.85053011 &  0.210603042 &  0.08148362 &  0.52875696\\\\\n",
       "\t -0.08465493 & -0.629592145 & -0.157502687 & -0.2719935144 &  0.49873286 & -0.313292829 & -0.30169108 & -0.57912988 &  0.79464943 & -0.51276143 & ⋯ &  0.36289663 & -0.390230714 &  0.30326880 & -0.02552317 & -5.015210e-02 & -0.315301581 &  0.21060304 & 16.535535793 & -0.10770426 & -0.35342537\\\\\n",
       "\t  0.17093754 &  0.469011408 &  0.244938942 & -0.5631702629 & -0.32321093 & -0.564567796 &  0.25698607 &  0.16688548 &  0.05464992 & -0.66198963 & ⋯ & -0.06345105 &  0.269583704 & -0.65387378 &  0.21961694 &  5.544474e-01 & -0.427556842 &  0.08148362 & -0.107704256 & 16.02698580 & -0.26877564\\\\\n",
       "\t  0.06656751 &  0.082718768 &  0.106191326 & -0.1133902641 & -0.12402713 & -0.079186313 &  0.70578438 & -0.54525251 &  0.33018803 &  0.52243016 & ⋯ &  0.20122393 &  0.249316580 &  0.02236106 &  0.21791136 &  6.407196e-01 & -0.112571006 &  0.52875696 & -0.353425367 & -0.26877564 & 16.19101235\\\\\n",
       "\\end{tabular}\n"
      ],
      "text/markdown": [
       "\n",
       "A matrix: 2000 × 2000 of type dbl\n",
       "\n",
       "| 15.065680269 | -0.19451703 | -0.14928794 |  0.03019170 | -0.12886536 | -0.38239022 |  0.0974703269 |  0.1398867195 | -0.024072247 |  0.383785927 | ⋯ |  0.24921889 |  0.287716749 | -0.053262572 |  0.17407759 | -0.077109501 | -0.427625116 | -0.27056429 | -0.084654930 |  0.17093754 |  0.066567513 |\n",
       "| -0.194517029 | 16.99357095 |  0.38015016 |  0.03789495 |  0.09370867 | -0.36173345 | -0.5494891477 |  0.8539277706 |  0.048078063 | -0.212621085 | ⋯ | -0.02792610 | -0.003796406 |  0.196070343 | -0.03851750 | -0.262743750 |  0.339594797 |  0.40586822 | -0.629592145 |  0.46901141 |  0.082718768 |\n",
       "| -0.149287936 |  0.38015016 | 16.53756772 |  0.39532992 | -0.31800875 | -0.97839919 | -0.2118290053 | -0.4426100084 |  0.374963997 | -0.515620591 | ⋯ | -0.28776755 | -0.325909789 | -0.097397111 |  0.42383695 | -0.373219521 |  0.001922958 | -0.37420042 | -0.157502687 |  0.24493894 |  0.106191326 |\n",
       "|  0.030191698 |  0.03789495 |  0.39532992 | 15.98533975 | -0.22727672 | -0.02775407 |  0.2950117092 | -0.4751492278 |  0.098016252 | -0.044483690 | ⋯ |  0.04222912 | -0.134966078 | -0.527241025 | -0.67415775 | -0.799725601 | -0.303981056 | -0.01559978 | -0.271993514 | -0.56317026 | -0.113390264 |\n",
       "| -0.128865361 |  0.09370867 | -0.31800875 | -0.22727672 | 16.67040549 | -0.10723561 |  0.2312014374 | -0.3053304793 | -0.083753002 |  0.958478192 | ⋯ |  0.40949597 | -0.689904616 |  0.302919262 | -0.15578437 |  0.146490919 | -0.144407074 | -0.29572903 |  0.498732860 | -0.32321093 | -0.124027134 |\n",
       "| -0.382390222 | -0.36173345 | -0.97839919 | -0.02775407 | -0.10723561 | 16.77988840 | -0.0814069116 | -0.1258772246 |  0.599291842 |  0.507835476 | ⋯ | -0.23621280 | -0.265441617 | -0.064945502 | -0.39446414 |  0.146066858 |  0.518033979 |  0.07750867 | -0.313292829 | -0.56456780 | -0.079186313 |\n",
       "|  0.097470327 | -0.54948915 | -0.21182901 |  0.29501171 |  0.23120144 | -0.08140691 | 16.2947802708 | -0.0003873523 |  0.200446835 |  0.107850030 | ⋯ |  0.02785562 | -0.182632517 | -0.051409124 | -0.44158305 | -0.255169999 | -0.214418448 |  0.72495507 | -0.301691080 |  0.25698607 |  0.705784377 |\n",
       "|  0.139886719 |  0.85392777 | -0.44261001 | -0.47514923 | -0.30533048 | -0.12587722 | -0.0003873523 | 16.3123166235 |  0.462825336 |  0.026405723 | ⋯ | -0.10554417 |  0.263758718 |  0.562707912 | -0.20980948 |  0.097387337 |  0.044348003 |  0.15069096 | -0.579129879 |  0.16688548 | -0.545252507 |\n",
       "| -0.024072247 |  0.04807806 |  0.37496400 |  0.09801625 | -0.08375300 |  0.59929184 |  0.2004468350 |  0.4628253360 | 16.510357384 |  0.046221539 | ⋯ | -0.23272034 |  0.453035632 | -0.488924326 | -0.38039611 | -0.226499259 |  0.319243067 | -0.02650150 |  0.794649430 |  0.05464992 |  0.330188028 |\n",
       "|  0.383785927 | -0.21262108 | -0.51562059 | -0.04448369 |  0.95847819 |  0.50783548 |  0.1078500301 |  0.0264057228 |  0.046221539 | 15.734041685 | ⋯ |  1.00092001 |  0.401073691 |  0.315610680 |  0.21749053 |  0.238967689 |  0.207077044 | -0.03460990 | -0.512761429 | -0.66198963 |  0.522430161 |\n",
       "| -0.538871537 |  0.55254477 |  0.13337076 | -0.11332225 | -0.45848597 | -0.05563973 | -0.4334161880 |  0.3280519681 |  0.032191219 | -0.308418829 | ⋯ |  0.08296569 |  0.640970427 |  0.337818661 |  0.57673637 |  0.351432326 |  0.081647602 |  0.24102607 | -0.512665747 |  0.60753927 |  0.097463098 |\n",
       "|  0.256805647 |  0.36255868 |  0.05270395 |  0.21624814 |  0.16481989 | -0.20314565 | -0.3428404707 |  0.6087049738 |  0.389948257 | -0.006001372 | ⋯ |  0.34824093 | -0.034852960 |  0.267619691 |  0.61075594 | -0.073873373 |  0.679523055 | -0.27832520 | -0.242068913 | -0.54975092 |  0.166527766 |\n",
       "| -0.424577205 | -0.40991368 |  0.04516612 |  0.34131915 |  0.73642150 | -0.40744200 |  0.0406382167 | -0.6685949841 |  0.489978354 |  0.029572511 | ⋯ |  0.37124430 |  0.095718064 |  0.219804079 | -0.37638025 | -0.629018744 | -0.112111465 |  0.26772872 |  0.238820913 |  0.04717905 | -0.301793656 |\n",
       "|  0.120756366 | -0.23950533 |  0.02025972 | -0.08425383 |  0.11852414 | -0.02777582 | -0.0779182001 | -0.1631033925 | -0.077794241 |  0.097963150 | ⋯ | -0.38764898 |  0.114171917 |  0.293061765 | -0.15596287 |  0.004170062 | -0.567850591 | -0.53242093 |  0.565927171 |  0.14820711 |  0.289129769 |\n",
       "|  0.072913527 | -0.27026074 |  0.40488713 |  0.30427873 | -0.27483973 | -0.35868827 |  1.1431896007 | -0.1953803657 | -0.357398884 | -0.382028761 | ⋯ |  0.05165222 | -0.621868519 | -0.338968482 |  0.22341142 | -0.346465239 | -0.303695383 |  0.01940688 | -0.089126361 | -0.46545249 | -0.393816170 |\n",
       "|  0.548174828 |  0.44711965 | -0.25082474 | -0.27876073 | -0.36544284 | -0.03869957 |  0.5146098183 | -0.4107941469 |  0.194978659 |  0.413476833 | ⋯ |  0.25225743 |  0.084845775 |  0.120041011 | -0.97798834 |  0.002448251 |  0.310445789 | -0.42983786 |  0.056611347 | -0.03552874 |  0.089935853 |\n",
       "| -0.483499391 |  0.61167347 |  0.53149575 | -0.04005466 |  0.19140640 |  0.07191576 | -0.2672400577 |  0.5378008469 |  0.718245449 |  0.309723661 | ⋯ | -0.16474815 | -0.115326791 |  0.380477645 |  0.16776057 |  0.227107631 | -0.132660087 |  0.96557046 |  0.018049691 | -0.17669986 | -0.981282250 |\n",
       "| -0.217914320 |  0.59721727 | -0.25247443 |  0.07288756 | -0.26578892 | -0.31054160 | -0.9471763922 |  0.1247665465 |  0.572689216 | -0.087017284 | ⋯ |  0.59683103 | -0.051888304 | -0.051176909 |  0.21367082 | -0.012018380 | -0.535053810 | -1.14549617 | -0.194809116 | -0.14809010 | -0.034893016 |\n",
       "|  0.122623669 |  0.02077901 | -1.25877206 | -0.45522663 |  0.72795622 | -0.27686103 |  0.5280629643 |  0.7442049878 |  0.343737463 |  0.089603074 | ⋯ |  0.19381798 |  0.363610398 |  0.166433605 | -0.52488761 |  0.280327700 |  0.156361159 |  0.14123349 |  0.337605158 |  0.29660526 |  0.175465308 |\n",
       "|  0.126147580 | -0.34646967 | -0.33521168 | -0.40286485 |  0.40460043 | -0.33283752 | -0.3469884406 | -0.1908013531 |  0.176165334 |  0.270149510 | ⋯ |  0.17972159 |  0.381902399 |  0.477593551 | -0.08578407 | -0.028353655 |  0.640731005 |  0.24832576 |  0.004744189 | -0.73232119 |  0.290888413 |\n",
       "|  0.310451609 |  0.09116758 | -0.41088802 | -0.45399407 | -0.09917327 |  0.10778233 | -0.2749786682 |  0.0196265590 | -0.009547107 |  0.275856931 | ⋯ | -0.16670174 |  0.802109114 | -0.008768344 |  0.08209066 |  0.146414157 | -0.727904630 |  0.32454768 | -0.220826688 | -0.24854835 | -0.320066748 |\n",
       "| -0.582960652 | -0.29404872 |  0.55139239 |  0.54741064 | -0.02550798 | -0.70327498 | -0.5342838696 |  0.2211910773 | -0.014158748 | -0.011933383 | ⋯ | -0.32844100 | -0.076117232 | -0.046429006 |  0.04418620 |  0.085592584 |  0.374682712 |  0.14688054 |  0.059902673 |  0.54860554 | -0.832623689 |\n",
       "|  0.494540375 | -0.18731798 | -0.41406538 |  0.41795867 |  0.18220159 |  0.07601386 | -0.3594099639 | -0.5924312282 | -0.485441981 |  0.335703838 | ⋯ |  0.16715430 |  0.276332566 | -1.018389293 |  0.40583365 |  0.396974999 |  0.389309454 |  0.86825789 |  0.126908489 |  0.63119726 | -0.195298928 |\n",
       "|  0.823927963 |  0.16189590 | -0.13608583 | -0.16531268 |  0.21936559 |  0.13038270 |  0.2226511678 |  0.2484322815 |  0.697963342 | -0.133420079 | ⋯ |  0.38137315 |  0.220921167 |  0.098288504 | -0.05183408 | -0.194138926 | -0.034000245 | -0.19484560 |  0.259757229 |  0.04611466 |  0.452807703 |\n",
       "|  0.328163193 |  0.06011514 | -0.41861599 |  0.39732670 | -0.30669227 | -0.25704232 |  0.4981730756 | -0.0244605280 | -0.668472650 | -0.378224992 | ⋯ | -0.01981921 | -0.585490202 | -0.277273077 |  0.48087696 |  0.264389195 |  0.084641219 | -0.20409157 | -1.047078201 |  0.60092467 | -0.042887788 |\n",
       "|  0.099416001 |  0.14243655 |  0.64311578 |  0.44959986 |  0.02388538 |  0.26958229 |  0.2582676653 |  0.2186317252 |  0.072841279 | -0.057047222 | ⋯ | -0.36835964 |  0.447692840 |  0.485713114 |  0.02771094 | -0.088183189 | -0.243261240 | -0.11266095 | -0.091297446 | -0.47987743 |  0.122094916 |\n",
       "| -0.003234245 |  0.25439439 |  0.43119836 |  0.29100742 | -0.22711035 | -0.04909364 | -0.1420042580 | -0.0257901991 | -0.161641959 |  0.150882127 | ⋯ |  0.48565392 | -0.343171675 | -0.211377070 |  0.39908705 | -0.342347808 |  0.121141323 | -0.47010935 |  0.117692732 |  0.23057869 | -0.902349373 |\n",
       "|  0.602890421 |  0.33633460 |  0.20714269 |  0.32303509 |  0.64435503 | -0.69200284 |  0.4474230605 | -0.7452869495 | -0.019571729 | -0.296306661 | ⋯ |  0.78427784 |  0.367553932 | -0.668111026 | -0.32094319 | -0.270735820 |  0.052484156 | -0.09715246 | -0.431349743 |  0.33763452 |  0.047473362 |\n",
       "| -0.816310996 | -0.79923564 |  0.01083588 | -0.35438468 | -0.06575306 |  0.15100165 | -0.3448931571 |  0.2635003372 |  0.142113509 | -0.476707238 | ⋯ | -0.37512955 | -0.022757529 | -0.118956808 |  0.41640371 |  0.470127171 | -0.083923350 | -1.08058022 | -0.204505664 | -0.17535481 | -0.405759171 |\n",
       "| -0.411856207 | -0.04524837 |  0.08620800 |  0.02553288 |  0.84548420 |  0.10967391 | -0.2910964765 |  0.0109717849 |  0.388860192 |  0.010807192 | ⋯ |  0.15631091 |  0.568505228 |  0.732653884 | -0.20445173 | -0.684308285 | -0.045329798 | -0.34594100 | -0.017813620 | -0.69460967 | -0.009574479 |\n",
       "| ⋮ | ⋮ | ⋮ | ⋮ | ⋮ | ⋮ | ⋮ | ⋮ | ⋮ | ⋮ | ⋱ | ⋮ | ⋮ | ⋮ | ⋮ | ⋮ | ⋮ | ⋮ | ⋮ | ⋮ | ⋮ |\n",
       "| -0.44516205 |  0.337908079 | -0.496273918 | -0.2382495673 | -0.08407348 | -0.001384499 | -0.12066425 |  0.32461373 |  0.08893277 | -0.52971947 | ⋯ | -0.21933426 | -0.365520245 |  0.42029838 |  0.04304340 |  9.821633e-05 |  0.425462074 | -0.06763597 | -0.360857906 | -0.03168048 | -0.05311054 |\n",
       "|  0.14398751 |  0.185146836 | -0.015869478 | -0.0150949766 | -0.40272105 | -0.472325120 | -0.39221631 |  0.26405469 |  0.10658588 |  0.10614725 | ⋯ |  0.01004257 |  0.112397472 | -0.55325158 |  0.30805703 | -2.947690e-01 | -0.306078604 |  0.48256189 | -0.260316624 |  0.10955232 |  0.15104773 |\n",
       "|  0.10803667 | -0.179884546 |  0.823023903 | -0.0597510848 |  0.12220453 | -0.055860884 |  0.18144023 |  0.10957941 | -0.21070577 | -0.27222677 | ⋯ |  0.31965997 |  0.113222779 |  0.26041754 | -0.34895179 | -3.142424e-01 |  0.657933689 | -0.10794408 |  0.190192101 |  0.03868164 |  0.12343667 |\n",
       "|  0.21966216 |  0.486030710 | -0.155024408 |  0.2742168465 | -0.38063205 | -0.212353164 |  0.51579243 | -0.75301862 | -0.49891775 | -0.22762645 | ⋯ |  0.54456271 |  0.659407877 |  0.10366116 |  0.08001538 | -1.788462e-02 | -0.407565851 | -0.06471001 | -0.119908675 | -0.34629762 |  0.02335002 |\n",
       "| -0.13821994 |  0.306231896 |  0.327932923 | -0.0734544179 |  0.08184062 | -0.132525889 | -0.51301005 |  0.25256538 | -0.03264621 | -0.20805461 | ⋯ |  0.44446304 | -0.261562966 | -0.63498060 |  0.52546886 |  2.101225e-01 |  0.583300413 | -0.43400169 |  0.134898514 |  0.31235589 | -0.20180705 |\n",
       "| -0.88433441 |  0.417124782 |  0.140638695 |  0.4286032735 |  0.48427423 | -0.135861184 |  0.63600571 |  0.01788403 | -0.29333590 |  0.06633592 | ⋯ | -0.06241216 | -0.232142467 | -0.35301528 |  0.17221985 |  2.142979e-01 |  0.131929352 | -0.18199130 |  0.554339042 |  0.32083045 |  0.52127565 |\n",
       "|  0.44168404 | -0.307515675 | -0.182635003 | -0.2121283327 |  0.03688261 | -0.315383319 | -0.22585927 |  0.28997612 |  0.20141329 | -0.22408978 | ⋯ | -0.65174454 |  0.176104069 | -0.32805794 | -0.08769677 |  7.845197e-02 |  0.028024655 | -0.50448270 |  0.608711512 | -0.11708541 | -0.15056754 |\n",
       "|  0.37152995 | -0.159407006 | -0.453610608 | -0.3381250403 |  0.92389151 |  0.057537535 |  0.44671925 | -0.64462181 |  0.32493206 | -0.32141087 | ⋯ | -0.41439368 | -0.381958493 |  0.63032175 | -0.09478855 | -3.040068e-01 | -0.285152644 | -0.19218548 |  0.295848790 |  0.38261375 |  0.51603660 |\n",
       "| -0.66387338 |  0.229156515 |  0.131255154 | -0.0402579660 |  0.07403668 |  0.834028179 | -0.14579537 |  0.38199876 |  0.43782694 |  0.10592787 | ⋯ |  0.28381036 |  0.019724729 |  0.82942729 | -0.52280360 |  1.870925e-02 |  0.618023494 | -0.05529457 | -0.091016007 |  0.10267333 | -0.30957858 |\n",
       "| -0.38652954 | -0.059273910 |  0.063256691 |  0.2780572577 |  0.76260055 | -0.308563218 | -0.22589079 | -0.14645774 |  0.29373906 | -0.30648795 | ⋯ | -0.47552729 | -0.296459415 | -0.49462834 | -0.48693993 |  1.112580e-01 | -0.043399228 | -0.11636916 |  0.491210003 |  0.38294043 |  0.09480513 |\n",
       "| -0.04487396 | -0.054521940 |  0.116169680 |  0.8905710977 |  0.06143369 |  0.539933516 | -0.18714793 |  0.05434273 | -0.18044692 |  0.06591978 | ⋯ | -0.61966170 |  0.266930984 | -0.30554232 |  0.34751901 |  6.650401e-02 |  0.701394074 |  0.36650862 | -0.312947784 | -0.52780171 | -0.11198020 |\n",
       "|  0.27846809 | -0.051784704 | -0.392055611 |  0.1372850981 | -0.09983504 |  0.116897327 | -0.36216592 | -0.11985273 |  0.73846994 | -0.12973300 | ⋯ | -0.32673511 |  0.236810995 |  0.15837152 |  0.66023480 |  4.237575e-02 | -0.060218477 | -0.16661416 |  0.582820359 | -0.12914337 | -0.49726560 |\n",
       "|  0.29191710 | -0.084000636 |  0.343850639 |  0.4743010806 |  0.26670752 |  0.943480593 | -0.67997804 |  0.40268557 |  0.66205340 | -0.57296784 | ⋯ | -0.19096798 |  0.153974167 |  0.28556488 |  0.28317662 |  3.522230e-01 |  0.014500738 |  0.26857263 |  0.419554794 |  0.15961432 |  0.25138078 |\n",
       "|  0.13427688 |  0.467926953 |  0.182519922 | -0.4502939335 |  0.04836819 |  0.200936602 | -0.17224833 | -0.13618607 | -0.21874287 |  0.26213420 | ⋯ |  0.65576374 | -0.043871223 | -0.05330392 | -0.02371180 |  3.387534e-02 | -0.546150663 | -0.10287134 |  0.661874446 | -0.23348950 | -0.64682284 |\n",
       "|  0.04831007 | -0.773685137 |  0.241974308 | -0.0229997289 | -0.42577905 |  0.408884444 |  0.38531069 | -0.39661103 |  0.43043310 | -0.12678893 | ⋯ | -0.46824383 |  0.170201087 |  0.39317954 | -0.18530136 | -3.518482e-01 | -0.151092562 | -0.09045450 | -0.333747337 |  0.20296627 | -0.77053114 |\n",
       "| -0.40922385 |  0.203814729 | -0.407466847 |  0.2435218998 | -0.42865954 | -0.068620951 | -0.23583646 | -0.40487314 | -0.26536288 | -0.27857070 | ⋯ | -0.70436727 |  0.152912788 | -0.25851278 | -0.31466369 | -1.136123e-01 |  0.120591622 |  0.16328702 |  0.268828894 | -0.42301683 |  0.15977790 |\n",
       "|  0.37036542 | -0.249831446 |  0.435419739 |  0.0008963595 |  0.39197884 | -0.057390711 |  0.65681051 |  0.32086153 |  0.01643389 | -0.13131347 | ⋯ | -0.17725325 | -0.133749377 |  0.45117944 |  0.10260382 |  2.234055e-02 | -0.597327909 |  0.21516078 |  0.086962261 |  0.11954507 |  0.17375023 |\n",
       "| -0.29487227 | -0.042226260 | -0.293939317 |  0.4452228301 | -0.43444919 |  0.136125871 | -0.28068141 | -0.04719077 |  0.47206769 |  0.04082711 | ⋯ | -0.10092863 | -0.002222831 |  0.30527716 |  0.02514072 |  3.317680e-01 |  0.255838820 | -0.17405760 | -0.249974668 | -0.58712171 |  0.41944103 |\n",
       "|  0.52775943 | -0.339720227 | -0.398836591 |  0.2104168768 | -0.49636811 | -0.563720472 |  0.30741133 | -0.75663911 |  0.30226112 | -0.62075237 | ⋯ |  0.50844505 | -0.333746051 |  0.28056103 |  0.09356606 |  3.495951e-02 |  0.235261264 |  0.16197863 | -0.008876626 | -0.23172431 |  0.25979924 |\n",
       "| -0.32609837 |  0.503233926 |  0.084745757 |  0.2243369469 | -0.20182761 | -0.289202517 |  0.22323761 |  0.02340631 | -0.43568574 | -0.31869716 | ⋯ |  0.17381155 | -0.672602104 | -0.11413288 | -0.12643226 | -1.502232e-01 | -0.459552206 |  0.22928603 | -0.282481703 |  0.11005845 | -0.38232014 |\n",
       "|  0.24921889 | -0.027926099 | -0.287767554 |  0.0422291237 |  0.40949597 | -0.236212796 |  0.02785562 | -0.10554417 | -0.23272034 |  1.00092001 | ⋯ | 15.74565413 | -0.324940754 | -0.12077257 | -0.12455345 |  2.556511e-01 | -0.847384014 | -0.07000644 |  0.362896633 | -0.06345105 |  0.20122393 |\n",
       "|  0.28771675 | -0.003796406 | -0.325909789 | -0.1349660776 | -0.68990462 | -0.265441617 | -0.18263252 |  0.26375872 |  0.45303563 |  0.40107369 | ⋯ | -0.32494075 | 14.659971829 | -0.15355937 |  0.46728649 | -4.949895e-01 | -0.317608597 |  0.11719040 | -0.390230714 |  0.26958370 |  0.24931658 |\n",
       "| -0.05326257 |  0.196070343 | -0.097397111 | -0.5272410247 |  0.30291926 | -0.064945502 | -0.05140912 |  0.56270791 | -0.48892433 |  0.31561068 | ⋯ | -0.12077257 | -0.153559374 | 16.68824337 | -0.22833867 |  3.717726e-01 | -0.131902514 | -0.02311375 |  0.303268798 | -0.65387378 |  0.02236106 |\n",
       "|  0.17407759 | -0.038517498 |  0.423836946 | -0.6741577538 | -0.15578437 | -0.394464136 | -0.44158305 | -0.20980948 | -0.38039611 |  0.21749053 | ⋯ | -0.12455345 |  0.467286488 | -0.22833867 | 15.54898303 | -3.509804e-01 |  0.147588350 |  0.06039050 | -0.025523166 |  0.21961694 |  0.21791136 |\n",
       "| -0.07710950 | -0.262743750 | -0.373219521 | -0.7997256014 |  0.14649092 |  0.146066858 | -0.25517000 |  0.09738734 | -0.22649926 |  0.23896769 | ⋯ |  0.25565105 | -0.494989463 |  0.37177256 | -0.35098041 |  1.582457e+01 | -0.009445425 |  0.11698810 | -0.050152104 |  0.55444743 |  0.64071962 |\n",
       "| -0.42762512 |  0.339594797 |  0.001922958 | -0.3039810565 | -0.14440707 |  0.518033979 | -0.21441845 |  0.04434800 |  0.31924307 |  0.20707704 | ⋯ | -0.84738401 | -0.317608597 | -0.13190251 |  0.14758835 | -9.445425e-03 | 16.414659687 |  0.60258034 | -0.315301581 | -0.42755684 | -0.11257101 |\n",
       "| -0.27056429 |  0.405868223 | -0.374200419 | -0.0155997754 | -0.29572903 |  0.077508671 |  0.72495507 |  0.15069096 | -0.02650150 | -0.03460990 | ⋯ | -0.07000644 |  0.117190398 | -0.02311375 |  0.06039050 |  1.169881e-01 |  0.602580338 | 15.85053011 |  0.210603042 |  0.08148362 |  0.52875696 |\n",
       "| -0.08465493 | -0.629592145 | -0.157502687 | -0.2719935144 |  0.49873286 | -0.313292829 | -0.30169108 | -0.57912988 |  0.79464943 | -0.51276143 | ⋯ |  0.36289663 | -0.390230714 |  0.30326880 | -0.02552317 | -5.015210e-02 | -0.315301581 |  0.21060304 | 16.535535793 | -0.10770426 | -0.35342537 |\n",
       "|  0.17093754 |  0.469011408 |  0.244938942 | -0.5631702629 | -0.32321093 | -0.564567796 |  0.25698607 |  0.16688548 |  0.05464992 | -0.66198963 | ⋯ | -0.06345105 |  0.269583704 | -0.65387378 |  0.21961694 |  5.544474e-01 | -0.427556842 |  0.08148362 | -0.107704256 | 16.02698580 | -0.26877564 |\n",
       "|  0.06656751 |  0.082718768 |  0.106191326 | -0.1133902641 | -0.12402713 | -0.079186313 |  0.70578438 | -0.54525251 |  0.33018803 |  0.52243016 | ⋯ |  0.20122393 |  0.249316580 |  0.02236106 |  0.21791136 |  6.407196e-01 | -0.112571006 |  0.52875696 | -0.353425367 | -0.26877564 | 16.19101235 |\n",
       "\n"
      ],
      "text/plain": [
       "      [,1]         [,2]         [,3]         [,4]          [,5]       \n",
       " [1,] 15.065680269 -0.19451703  -0.14928794   0.03019170   -0.12886536\n",
       " [2,] -0.194517029 16.99357095   0.38015016   0.03789495    0.09370867\n",
       " [3,] -0.149287936  0.38015016  16.53756772   0.39532992   -0.31800875\n",
       " [4,]  0.030191698  0.03789495   0.39532992  15.98533975   -0.22727672\n",
       " [5,] -0.128865361  0.09370867  -0.31800875  -0.22727672   16.67040549\n",
       " [6,] -0.382390222 -0.36173345  -0.97839919  -0.02775407   -0.10723561\n",
       " [7,]  0.097470327 -0.54948915  -0.21182901   0.29501171    0.23120144\n",
       " [8,]  0.139886719  0.85392777  -0.44261001  -0.47514923   -0.30533048\n",
       " [9,] -0.024072247  0.04807806   0.37496400   0.09801625   -0.08375300\n",
       "[10,]  0.383785927 -0.21262108  -0.51562059  -0.04448369    0.95847819\n",
       "[11,] -0.538871537  0.55254477   0.13337076  -0.11332225   -0.45848597\n",
       "[12,]  0.256805647  0.36255868   0.05270395   0.21624814    0.16481989\n",
       "[13,] -0.424577205 -0.40991368   0.04516612   0.34131915    0.73642150\n",
       "[14,]  0.120756366 -0.23950533   0.02025972  -0.08425383    0.11852414\n",
       "[15,]  0.072913527 -0.27026074   0.40488713   0.30427873   -0.27483973\n",
       "[16,]  0.548174828  0.44711965  -0.25082474  -0.27876073   -0.36544284\n",
       "[17,] -0.483499391  0.61167347   0.53149575  -0.04005466    0.19140640\n",
       "[18,] -0.217914320  0.59721727  -0.25247443   0.07288756   -0.26578892\n",
       "[19,]  0.122623669  0.02077901  -1.25877206  -0.45522663    0.72795622\n",
       "[20,]  0.126147580 -0.34646967  -0.33521168  -0.40286485    0.40460043\n",
       "[21,]  0.310451609  0.09116758  -0.41088802  -0.45399407   -0.09917327\n",
       "[22,] -0.582960652 -0.29404872   0.55139239   0.54741064   -0.02550798\n",
       "[23,]  0.494540375 -0.18731798  -0.41406538   0.41795867    0.18220159\n",
       "[24,]  0.823927963  0.16189590  -0.13608583  -0.16531268    0.21936559\n",
       "[25,]  0.328163193  0.06011514  -0.41861599   0.39732670   -0.30669227\n",
       "[26,]  0.099416001  0.14243655   0.64311578   0.44959986    0.02388538\n",
       "[27,] -0.003234245  0.25439439   0.43119836   0.29100742   -0.22711035\n",
       "[28,]  0.602890421  0.33633460   0.20714269   0.32303509    0.64435503\n",
       "[29,] -0.816310996 -0.79923564   0.01083588  -0.35438468   -0.06575306\n",
       "[30,] -0.411856207 -0.04524837   0.08620800   0.02553288    0.84548420\n",
       "[31,] ⋮            ⋮            ⋮            ⋮             ⋮          \n",
       "[32,] -0.44516205   0.337908079 -0.496273918 -0.2382495673 -0.08407348\n",
       "[33,]  0.14398751   0.185146836 -0.015869478 -0.0150949766 -0.40272105\n",
       "[34,]  0.10803667  -0.179884546  0.823023903 -0.0597510848  0.12220453\n",
       "[35,]  0.21966216   0.486030710 -0.155024408  0.2742168465 -0.38063205\n",
       "[36,] -0.13821994   0.306231896  0.327932923 -0.0734544179  0.08184062\n",
       "[37,] -0.88433441   0.417124782  0.140638695  0.4286032735  0.48427423\n",
       "[38,]  0.44168404  -0.307515675 -0.182635003 -0.2121283327  0.03688261\n",
       "[39,]  0.37152995  -0.159407006 -0.453610608 -0.3381250403  0.92389151\n",
       "[40,] -0.66387338   0.229156515  0.131255154 -0.0402579660  0.07403668\n",
       "[41,] -0.38652954  -0.059273910  0.063256691  0.2780572577  0.76260055\n",
       "[42,] -0.04487396  -0.054521940  0.116169680  0.8905710977  0.06143369\n",
       "[43,]  0.27846809  -0.051784704 -0.392055611  0.1372850981 -0.09983504\n",
       "[44,]  0.29191710  -0.084000636  0.343850639  0.4743010806  0.26670752\n",
       "[45,]  0.13427688   0.467926953  0.182519922 -0.4502939335  0.04836819\n",
       "[46,]  0.04831007  -0.773685137  0.241974308 -0.0229997289 -0.42577905\n",
       "[47,] -0.40922385   0.203814729 -0.407466847  0.2435218998 -0.42865954\n",
       "[48,]  0.37036542  -0.249831446  0.435419739  0.0008963595  0.39197884\n",
       "[49,] -0.29487227  -0.042226260 -0.293939317  0.4452228301 -0.43444919\n",
       "[50,]  0.52775943  -0.339720227 -0.398836591  0.2104168768 -0.49636811\n",
       "[51,] -0.32609837   0.503233926  0.084745757  0.2243369469 -0.20182761\n",
       "[52,]  0.24921889  -0.027926099 -0.287767554  0.0422291237  0.40949597\n",
       "[53,]  0.28771675  -0.003796406 -0.325909789 -0.1349660776 -0.68990462\n",
       "[54,] -0.05326257   0.196070343 -0.097397111 -0.5272410247  0.30291926\n",
       "[55,]  0.17407759  -0.038517498  0.423836946 -0.6741577538 -0.15578437\n",
       "[56,] -0.07710950  -0.262743750 -0.373219521 -0.7997256014  0.14649092\n",
       "[57,] -0.42762512   0.339594797  0.001922958 -0.3039810565 -0.14440707\n",
       "[58,] -0.27056429   0.405868223 -0.374200419 -0.0155997754 -0.29572903\n",
       "[59,] -0.08465493  -0.629592145 -0.157502687 -0.2719935144  0.49873286\n",
       "[60,]  0.17093754   0.469011408  0.244938942 -0.5631702629 -0.32321093\n",
       "[61,]  0.06656751   0.082718768  0.106191326 -0.1133902641 -0.12402713\n",
       "      [,6]         [,7]          [,8]          [,9]         [,10]        [,11]\n",
       " [1,] -0.38239022   0.0974703269  0.1398867195 -0.024072247  0.383785927 ⋯    \n",
       " [2,] -0.36173345  -0.5494891477  0.8539277706  0.048078063 -0.212621085 ⋯    \n",
       " [3,] -0.97839919  -0.2118290053 -0.4426100084  0.374963997 -0.515620591 ⋯    \n",
       " [4,] -0.02775407   0.2950117092 -0.4751492278  0.098016252 -0.044483690 ⋯    \n",
       " [5,] -0.10723561   0.2312014374 -0.3053304793 -0.083753002  0.958478192 ⋯    \n",
       " [6,] 16.77988840  -0.0814069116 -0.1258772246  0.599291842  0.507835476 ⋯    \n",
       " [7,] -0.08140691  16.2947802708 -0.0003873523  0.200446835  0.107850030 ⋯    \n",
       " [8,] -0.12587722  -0.0003873523 16.3123166235  0.462825336  0.026405723 ⋯    \n",
       " [9,]  0.59929184   0.2004468350  0.4628253360 16.510357384  0.046221539 ⋯    \n",
       "[10,]  0.50783548   0.1078500301  0.0264057228  0.046221539 15.734041685 ⋯    \n",
       "[11,] -0.05563973  -0.4334161880  0.3280519681  0.032191219 -0.308418829 ⋯    \n",
       "[12,] -0.20314565  -0.3428404707  0.6087049738  0.389948257 -0.006001372 ⋯    \n",
       "[13,] -0.40744200   0.0406382167 -0.6685949841  0.489978354  0.029572511 ⋯    \n",
       "[14,] -0.02777582  -0.0779182001 -0.1631033925 -0.077794241  0.097963150 ⋯    \n",
       "[15,] -0.35868827   1.1431896007 -0.1953803657 -0.357398884 -0.382028761 ⋯    \n",
       "[16,] -0.03869957   0.5146098183 -0.4107941469  0.194978659  0.413476833 ⋯    \n",
       "[17,]  0.07191576  -0.2672400577  0.5378008469  0.718245449  0.309723661 ⋯    \n",
       "[18,] -0.31054160  -0.9471763922  0.1247665465  0.572689216 -0.087017284 ⋯    \n",
       "[19,] -0.27686103   0.5280629643  0.7442049878  0.343737463  0.089603074 ⋯    \n",
       "[20,] -0.33283752  -0.3469884406 -0.1908013531  0.176165334  0.270149510 ⋯    \n",
       "[21,]  0.10778233  -0.2749786682  0.0196265590 -0.009547107  0.275856931 ⋯    \n",
       "[22,] -0.70327498  -0.5342838696  0.2211910773 -0.014158748 -0.011933383 ⋯    \n",
       "[23,]  0.07601386  -0.3594099639 -0.5924312282 -0.485441981  0.335703838 ⋯    \n",
       "[24,]  0.13038270   0.2226511678  0.2484322815  0.697963342 -0.133420079 ⋯    \n",
       "[25,] -0.25704232   0.4981730756 -0.0244605280 -0.668472650 -0.378224992 ⋯    \n",
       "[26,]  0.26958229   0.2582676653  0.2186317252  0.072841279 -0.057047222 ⋯    \n",
       "[27,] -0.04909364  -0.1420042580 -0.0257901991 -0.161641959  0.150882127 ⋯    \n",
       "[28,] -0.69200284   0.4474230605 -0.7452869495 -0.019571729 -0.296306661 ⋯    \n",
       "[29,]  0.15100165  -0.3448931571  0.2635003372  0.142113509 -0.476707238 ⋯    \n",
       "[30,]  0.10967391  -0.2910964765  0.0109717849  0.388860192  0.010807192 ⋯    \n",
       "[31,] ⋮            ⋮             ⋮             ⋮            ⋮            ⋱    \n",
       "[32,] -0.001384499 -0.12066425    0.32461373    0.08893277  -0.52971947  ⋯    \n",
       "[33,] -0.472325120 -0.39221631    0.26405469    0.10658588   0.10614725  ⋯    \n",
       "[34,] -0.055860884  0.18144023    0.10957941   -0.21070577  -0.27222677  ⋯    \n",
       "[35,] -0.212353164  0.51579243   -0.75301862   -0.49891775  -0.22762645  ⋯    \n",
       "[36,] -0.132525889 -0.51301005    0.25256538   -0.03264621  -0.20805461  ⋯    \n",
       "[37,] -0.135861184  0.63600571    0.01788403   -0.29333590   0.06633592  ⋯    \n",
       "[38,] -0.315383319 -0.22585927    0.28997612    0.20141329  -0.22408978  ⋯    \n",
       "[39,]  0.057537535  0.44671925   -0.64462181    0.32493206  -0.32141087  ⋯    \n",
       "[40,]  0.834028179 -0.14579537    0.38199876    0.43782694   0.10592787  ⋯    \n",
       "[41,] -0.308563218 -0.22589079   -0.14645774    0.29373906  -0.30648795  ⋯    \n",
       "[42,]  0.539933516 -0.18714793    0.05434273   -0.18044692   0.06591978  ⋯    \n",
       "[43,]  0.116897327 -0.36216592   -0.11985273    0.73846994  -0.12973300  ⋯    \n",
       "[44,]  0.943480593 -0.67997804    0.40268557    0.66205340  -0.57296784  ⋯    \n",
       "[45,]  0.200936602 -0.17224833   -0.13618607   -0.21874287   0.26213420  ⋯    \n",
       "[46,]  0.408884444  0.38531069   -0.39661103    0.43043310  -0.12678893  ⋯    \n",
       "[47,] -0.068620951 -0.23583646   -0.40487314   -0.26536288  -0.27857070  ⋯    \n",
       "[48,] -0.057390711  0.65681051    0.32086153    0.01643389  -0.13131347  ⋯    \n",
       "[49,]  0.136125871 -0.28068141   -0.04719077    0.47206769   0.04082711  ⋯    \n",
       "[50,] -0.563720472  0.30741133   -0.75663911    0.30226112  -0.62075237  ⋯    \n",
       "[51,] -0.289202517  0.22323761    0.02340631   -0.43568574  -0.31869716  ⋯    \n",
       "[52,] -0.236212796  0.02785562   -0.10554417   -0.23272034   1.00092001  ⋯    \n",
       "[53,] -0.265441617 -0.18263252    0.26375872    0.45303563   0.40107369  ⋯    \n",
       "[54,] -0.064945502 -0.05140912    0.56270791   -0.48892433   0.31561068  ⋯    \n",
       "[55,] -0.394464136 -0.44158305   -0.20980948   -0.38039611   0.21749053  ⋯    \n",
       "[56,]  0.146066858 -0.25517000    0.09738734   -0.22649926   0.23896769  ⋯    \n",
       "[57,]  0.518033979 -0.21441845    0.04434800    0.31924307   0.20707704  ⋯    \n",
       "[58,]  0.077508671  0.72495507    0.15069096   -0.02650150  -0.03460990  ⋯    \n",
       "[59,] -0.313292829 -0.30169108   -0.57912988    0.79464943  -0.51276143  ⋯    \n",
       "[60,] -0.564567796  0.25698607    0.16688548    0.05464992  -0.66198963  ⋯    \n",
       "[61,] -0.079186313  0.70578438   -0.54525251    0.33018803   0.52243016  ⋯    \n",
       "      [,12]       [,13]        [,14]        [,15]       [,16]        \n",
       " [1,]  0.24921889  0.287716749 -0.053262572  0.17407759 -0.077109501 \n",
       " [2,] -0.02792610 -0.003796406  0.196070343 -0.03851750 -0.262743750 \n",
       " [3,] -0.28776755 -0.325909789 -0.097397111  0.42383695 -0.373219521 \n",
       " [4,]  0.04222912 -0.134966078 -0.527241025 -0.67415775 -0.799725601 \n",
       " [5,]  0.40949597 -0.689904616  0.302919262 -0.15578437  0.146490919 \n",
       " [6,] -0.23621280 -0.265441617 -0.064945502 -0.39446414  0.146066858 \n",
       " [7,]  0.02785562 -0.182632517 -0.051409124 -0.44158305 -0.255169999 \n",
       " [8,] -0.10554417  0.263758718  0.562707912 -0.20980948  0.097387337 \n",
       " [9,] -0.23272034  0.453035632 -0.488924326 -0.38039611 -0.226499259 \n",
       "[10,]  1.00092001  0.401073691  0.315610680  0.21749053  0.238967689 \n",
       "[11,]  0.08296569  0.640970427  0.337818661  0.57673637  0.351432326 \n",
       "[12,]  0.34824093 -0.034852960  0.267619691  0.61075594 -0.073873373 \n",
       "[13,]  0.37124430  0.095718064  0.219804079 -0.37638025 -0.629018744 \n",
       "[14,] -0.38764898  0.114171917  0.293061765 -0.15596287  0.004170062 \n",
       "[15,]  0.05165222 -0.621868519 -0.338968482  0.22341142 -0.346465239 \n",
       "[16,]  0.25225743  0.084845775  0.120041011 -0.97798834  0.002448251 \n",
       "[17,] -0.16474815 -0.115326791  0.380477645  0.16776057  0.227107631 \n",
       "[18,]  0.59683103 -0.051888304 -0.051176909  0.21367082 -0.012018380 \n",
       "[19,]  0.19381798  0.363610398  0.166433605 -0.52488761  0.280327700 \n",
       "[20,]  0.17972159  0.381902399  0.477593551 -0.08578407 -0.028353655 \n",
       "[21,] -0.16670174  0.802109114 -0.008768344  0.08209066  0.146414157 \n",
       "[22,] -0.32844100 -0.076117232 -0.046429006  0.04418620  0.085592584 \n",
       "[23,]  0.16715430  0.276332566 -1.018389293  0.40583365  0.396974999 \n",
       "[24,]  0.38137315  0.220921167  0.098288504 -0.05183408 -0.194138926 \n",
       "[25,] -0.01981921 -0.585490202 -0.277273077  0.48087696  0.264389195 \n",
       "[26,] -0.36835964  0.447692840  0.485713114  0.02771094 -0.088183189 \n",
       "[27,]  0.48565392 -0.343171675 -0.211377070  0.39908705 -0.342347808 \n",
       "[28,]  0.78427784  0.367553932 -0.668111026 -0.32094319 -0.270735820 \n",
       "[29,] -0.37512955 -0.022757529 -0.118956808  0.41640371  0.470127171 \n",
       "[30,]  0.15631091  0.568505228  0.732653884 -0.20445173 -0.684308285 \n",
       "[31,] ⋮           ⋮            ⋮            ⋮           ⋮            \n",
       "[32,] -0.21933426 -0.365520245  0.42029838   0.04304340  9.821633e-05\n",
       "[33,]  0.01004257  0.112397472 -0.55325158   0.30805703 -2.947690e-01\n",
       "[34,]  0.31965997  0.113222779  0.26041754  -0.34895179 -3.142424e-01\n",
       "[35,]  0.54456271  0.659407877  0.10366116   0.08001538 -1.788462e-02\n",
       "[36,]  0.44446304 -0.261562966 -0.63498060   0.52546886  2.101225e-01\n",
       "[37,] -0.06241216 -0.232142467 -0.35301528   0.17221985  2.142979e-01\n",
       "[38,] -0.65174454  0.176104069 -0.32805794  -0.08769677  7.845197e-02\n",
       "[39,] -0.41439368 -0.381958493  0.63032175  -0.09478855 -3.040068e-01\n",
       "[40,]  0.28381036  0.019724729  0.82942729  -0.52280360  1.870925e-02\n",
       "[41,] -0.47552729 -0.296459415 -0.49462834  -0.48693993  1.112580e-01\n",
       "[42,] -0.61966170  0.266930984 -0.30554232   0.34751901  6.650401e-02\n",
       "[43,] -0.32673511  0.236810995  0.15837152   0.66023480  4.237575e-02\n",
       "[44,] -0.19096798  0.153974167  0.28556488   0.28317662  3.522230e-01\n",
       "[45,]  0.65576374 -0.043871223 -0.05330392  -0.02371180  3.387534e-02\n",
       "[46,] -0.46824383  0.170201087  0.39317954  -0.18530136 -3.518482e-01\n",
       "[47,] -0.70436727  0.152912788 -0.25851278  -0.31466369 -1.136123e-01\n",
       "[48,] -0.17725325 -0.133749377  0.45117944   0.10260382  2.234055e-02\n",
       "[49,] -0.10092863 -0.002222831  0.30527716   0.02514072  3.317680e-01\n",
       "[50,]  0.50844505 -0.333746051  0.28056103   0.09356606  3.495951e-02\n",
       "[51,]  0.17381155 -0.672602104 -0.11413288  -0.12643226 -1.502232e-01\n",
       "[52,] 15.74565413 -0.324940754 -0.12077257  -0.12455345  2.556511e-01\n",
       "[53,] -0.32494075 14.659971829 -0.15355937   0.46728649 -4.949895e-01\n",
       "[54,] -0.12077257 -0.153559374 16.68824337  -0.22833867  3.717726e-01\n",
       "[55,] -0.12455345  0.467286488 -0.22833867  15.54898303 -3.509804e-01\n",
       "[56,]  0.25565105 -0.494989463  0.37177256  -0.35098041  1.582457e+01\n",
       "[57,] -0.84738401 -0.317608597 -0.13190251   0.14758835 -9.445425e-03\n",
       "[58,] -0.07000644  0.117190398 -0.02311375   0.06039050  1.169881e-01\n",
       "[59,]  0.36289663 -0.390230714  0.30326880  -0.02552317 -5.015210e-02\n",
       "[60,] -0.06345105  0.269583704 -0.65387378   0.21961694  5.544474e-01\n",
       "[61,]  0.20122393  0.249316580  0.02236106   0.21791136  6.407196e-01\n",
       "      [,17]        [,18]       [,19]        [,20]       [,21]       \n",
       " [1,] -0.427625116 -0.27056429 -0.084654930  0.17093754  0.066567513\n",
       " [2,]  0.339594797  0.40586822 -0.629592145  0.46901141  0.082718768\n",
       " [3,]  0.001922958 -0.37420042 -0.157502687  0.24493894  0.106191326\n",
       " [4,] -0.303981056 -0.01559978 -0.271993514 -0.56317026 -0.113390264\n",
       " [5,] -0.144407074 -0.29572903  0.498732860 -0.32321093 -0.124027134\n",
       " [6,]  0.518033979  0.07750867 -0.313292829 -0.56456780 -0.079186313\n",
       " [7,] -0.214418448  0.72495507 -0.301691080  0.25698607  0.705784377\n",
       " [8,]  0.044348003  0.15069096 -0.579129879  0.16688548 -0.545252507\n",
       " [9,]  0.319243067 -0.02650150  0.794649430  0.05464992  0.330188028\n",
       "[10,]  0.207077044 -0.03460990 -0.512761429 -0.66198963  0.522430161\n",
       "[11,]  0.081647602  0.24102607 -0.512665747  0.60753927  0.097463098\n",
       "[12,]  0.679523055 -0.27832520 -0.242068913 -0.54975092  0.166527766\n",
       "[13,] -0.112111465  0.26772872  0.238820913  0.04717905 -0.301793656\n",
       "[14,] -0.567850591 -0.53242093  0.565927171  0.14820711  0.289129769\n",
       "[15,] -0.303695383  0.01940688 -0.089126361 -0.46545249 -0.393816170\n",
       "[16,]  0.310445789 -0.42983786  0.056611347 -0.03552874  0.089935853\n",
       "[17,] -0.132660087  0.96557046  0.018049691 -0.17669986 -0.981282250\n",
       "[18,] -0.535053810 -1.14549617 -0.194809116 -0.14809010 -0.034893016\n",
       "[19,]  0.156361159  0.14123349  0.337605158  0.29660526  0.175465308\n",
       "[20,]  0.640731005  0.24832576  0.004744189 -0.73232119  0.290888413\n",
       "[21,] -0.727904630  0.32454768 -0.220826688 -0.24854835 -0.320066748\n",
       "[22,]  0.374682712  0.14688054  0.059902673  0.54860554 -0.832623689\n",
       "[23,]  0.389309454  0.86825789  0.126908489  0.63119726 -0.195298928\n",
       "[24,] -0.034000245 -0.19484560  0.259757229  0.04611466  0.452807703\n",
       "[25,]  0.084641219 -0.20409157 -1.047078201  0.60092467 -0.042887788\n",
       "[26,] -0.243261240 -0.11266095 -0.091297446 -0.47987743  0.122094916\n",
       "[27,]  0.121141323 -0.47010935  0.117692732  0.23057869 -0.902349373\n",
       "[28,]  0.052484156 -0.09715246 -0.431349743  0.33763452  0.047473362\n",
       "[29,] -0.083923350 -1.08058022 -0.204505664 -0.17535481 -0.405759171\n",
       "[30,] -0.045329798 -0.34594100 -0.017813620 -0.69460967 -0.009574479\n",
       "[31,] ⋮            ⋮           ⋮            ⋮           ⋮           \n",
       "[32,]  0.425462074 -0.06763597 -0.360857906 -0.03168048 -0.05311054 \n",
       "[33,] -0.306078604  0.48256189 -0.260316624  0.10955232  0.15104773 \n",
       "[34,]  0.657933689 -0.10794408  0.190192101  0.03868164  0.12343667 \n",
       "[35,] -0.407565851 -0.06471001 -0.119908675 -0.34629762  0.02335002 \n",
       "[36,]  0.583300413 -0.43400169  0.134898514  0.31235589 -0.20180705 \n",
       "[37,]  0.131929352 -0.18199130  0.554339042  0.32083045  0.52127565 \n",
       "[38,]  0.028024655 -0.50448270  0.608711512 -0.11708541 -0.15056754 \n",
       "[39,] -0.285152644 -0.19218548  0.295848790  0.38261375  0.51603660 \n",
       "[40,]  0.618023494 -0.05529457 -0.091016007  0.10267333 -0.30957858 \n",
       "[41,] -0.043399228 -0.11636916  0.491210003  0.38294043  0.09480513 \n",
       "[42,]  0.701394074  0.36650862 -0.312947784 -0.52780171 -0.11198020 \n",
       "[43,] -0.060218477 -0.16661416  0.582820359 -0.12914337 -0.49726560 \n",
       "[44,]  0.014500738  0.26857263  0.419554794  0.15961432  0.25138078 \n",
       "[45,] -0.546150663 -0.10287134  0.661874446 -0.23348950 -0.64682284 \n",
       "[46,] -0.151092562 -0.09045450 -0.333747337  0.20296627 -0.77053114 \n",
       "[47,]  0.120591622  0.16328702  0.268828894 -0.42301683  0.15977790 \n",
       "[48,] -0.597327909  0.21516078  0.086962261  0.11954507  0.17375023 \n",
       "[49,]  0.255838820 -0.17405760 -0.249974668 -0.58712171  0.41944103 \n",
       "[50,]  0.235261264  0.16197863 -0.008876626 -0.23172431  0.25979924 \n",
       "[51,] -0.459552206  0.22928603 -0.282481703  0.11005845 -0.38232014 \n",
       "[52,] -0.847384014 -0.07000644  0.362896633 -0.06345105  0.20122393 \n",
       "[53,] -0.317608597  0.11719040 -0.390230714  0.26958370  0.24931658 \n",
       "[54,] -0.131902514 -0.02311375  0.303268798 -0.65387378  0.02236106 \n",
       "[55,]  0.147588350  0.06039050 -0.025523166  0.21961694  0.21791136 \n",
       "[56,] -0.009445425  0.11698810 -0.050152104  0.55444743  0.64071962 \n",
       "[57,] 16.414659687  0.60258034 -0.315301581 -0.42755684 -0.11257101 \n",
       "[58,]  0.602580338 15.85053011  0.210603042  0.08148362  0.52875696 \n",
       "[59,] -0.315301581  0.21060304 16.535535793 -0.10770426 -0.35342537 \n",
       "[60,] -0.427556842  0.08148362 -0.107704256 16.02698580 -0.26877564 \n",
       "[61,] -0.112571006  0.52875696 -0.353425367 -0.26877564 16.19101235 "
      ]
     },
     "metadata": {},
     "output_type": "display_data"
    }
   ],
   "source": [
    "cov(MatNorm)"
   ]
  },
  {
   "cell_type": "markdown",
   "metadata": {},
   "source": [
    "Otras funciones auxiliares muy útiles son `sum()` y `diag()` que respectivamente calculan la suma de las entradas de un vector, y devuelve un vector con la diagonal de la matriz de su argumento:"
   ]
  },
  {
   "cell_type": "code",
   "execution_count": 20,
   "metadata": {},
   "outputs": [
    {
     "data": {
      "text/html": [
       "15.989499536916"
      ],
      "text/latex": [
       "15.989499536916"
      ],
      "text/markdown": [
       "15.989499536916"
      ],
      "text/plain": [
       "[1] 15.9895"
      ]
     },
     "metadata": {},
     "output_type": "display_data"
    }
   ],
   "source": [
    "sum(diag(t(x)%*%x/n))/n"
   ]
  },
  {
   "cell_type": "markdown",
   "metadata": {},
   "source": [
    "El comando `diag()` también puede ser utilizado para generar matrices diagonales. Esto ocurre cuando su argumento no es una matriz, si no un número:"
   ]
  },
  {
   "cell_type": "code",
   "execution_count": 21,
   "metadata": {},
   "outputs": [
    {
     "data": {
      "text/html": [
       "<table>\n",
       "<caption>A matrix: 4 × 4 of type dbl</caption>\n",
       "<tbody>\n",
       "\t<tr><td>1</td><td>0</td><td>0</td><td>0</td></tr>\n",
       "\t<tr><td>0</td><td>1</td><td>0</td><td>0</td></tr>\n",
       "\t<tr><td>0</td><td>0</td><td>1</td><td>0</td></tr>\n",
       "\t<tr><td>0</td><td>0</td><td>0</td><td>1</td></tr>\n",
       "</tbody>\n",
       "</table>\n"
      ],
      "text/latex": [
       "A matrix: 4 × 4 of type dbl\n",
       "\\begin{tabular}{llll}\n",
       "\t 1 & 0 & 0 & 0\\\\\n",
       "\t 0 & 1 & 0 & 0\\\\\n",
       "\t 0 & 0 & 1 & 0\\\\\n",
       "\t 0 & 0 & 0 & 1\\\\\n",
       "\\end{tabular}\n"
      ],
      "text/markdown": [
       "\n",
       "A matrix: 4 × 4 of type dbl\n",
       "\n",
       "| 1 | 0 | 0 | 0 |\n",
       "| 0 | 1 | 0 | 0 |\n",
       "| 0 | 0 | 1 | 0 |\n",
       "| 0 | 0 | 0 | 1 |\n",
       "\n"
      ],
      "text/plain": [
       "     [,1] [,2] [,3] [,4]\n",
       "[1,] 1    0    0    0   \n",
       "[2,] 0    1    0    0   \n",
       "[3,] 0    0    1    0   \n",
       "[4,] 0    0    0    1   "
      ]
     },
     "metadata": {},
     "output_type": "display_data"
    }
   ],
   "source": [
    "diag(1, 4)"
   ]
  },
  {
   "cell_type": "markdown",
   "metadata": {},
   "source": [
    "## Operaciones con dataframes\n",
    "\n",
    "### Análisis exploratorio\n",
    "Considere el siguiente dataframe cargable por defecto en R"
   ]
  },
  {
   "cell_type": "code",
   "execution_count": 22,
   "metadata": {},
   "outputs": [
    {
     "data": {
      "text/html": [
       "<table>\n",
       "<caption>A data.frame: 15 × 2</caption>\n",
       "<thead>\n",
       "\t<tr><th scope=col>height</th><th scope=col>weight</th></tr>\n",
       "\t<tr><th scope=col>&lt;dbl&gt;</th><th scope=col>&lt;dbl&gt;</th></tr>\n",
       "</thead>\n",
       "<tbody>\n",
       "\t<tr><td>58</td><td>115</td></tr>\n",
       "\t<tr><td>59</td><td>117</td></tr>\n",
       "\t<tr><td>60</td><td>120</td></tr>\n",
       "\t<tr><td>61</td><td>123</td></tr>\n",
       "\t<tr><td>62</td><td>126</td></tr>\n",
       "\t<tr><td>63</td><td>129</td></tr>\n",
       "\t<tr><td>64</td><td>132</td></tr>\n",
       "\t<tr><td>65</td><td>135</td></tr>\n",
       "\t<tr><td>66</td><td>139</td></tr>\n",
       "\t<tr><td>67</td><td>142</td></tr>\n",
       "\t<tr><td>68</td><td>146</td></tr>\n",
       "\t<tr><td>69</td><td>150</td></tr>\n",
       "\t<tr><td>70</td><td>154</td></tr>\n",
       "\t<tr><td>71</td><td>159</td></tr>\n",
       "\t<tr><td>72</td><td>164</td></tr>\n",
       "</tbody>\n",
       "</table>\n"
      ],
      "text/latex": [
       "A data.frame: 15 × 2\n",
       "\\begin{tabular}{ll}\n",
       " height & weight\\\\\n",
       " <dbl> & <dbl>\\\\\n",
       "\\hline\n",
       "\t 58 & 115\\\\\n",
       "\t 59 & 117\\\\\n",
       "\t 60 & 120\\\\\n",
       "\t 61 & 123\\\\\n",
       "\t 62 & 126\\\\\n",
       "\t 63 & 129\\\\\n",
       "\t 64 & 132\\\\\n",
       "\t 65 & 135\\\\\n",
       "\t 66 & 139\\\\\n",
       "\t 67 & 142\\\\\n",
       "\t 68 & 146\\\\\n",
       "\t 69 & 150\\\\\n",
       "\t 70 & 154\\\\\n",
       "\t 71 & 159\\\\\n",
       "\t 72 & 164\\\\\n",
       "\\end{tabular}\n"
      ],
      "text/markdown": [
       "\n",
       "A data.frame: 15 × 2\n",
       "\n",
       "| height &lt;dbl&gt; | weight &lt;dbl&gt; |\n",
       "|---|---|\n",
       "| 58 | 115 |\n",
       "| 59 | 117 |\n",
       "| 60 | 120 |\n",
       "| 61 | 123 |\n",
       "| 62 | 126 |\n",
       "| 63 | 129 |\n",
       "| 64 | 132 |\n",
       "| 65 | 135 |\n",
       "| 66 | 139 |\n",
       "| 67 | 142 |\n",
       "| 68 | 146 |\n",
       "| 69 | 150 |\n",
       "| 70 | 154 |\n",
       "| 71 | 159 |\n",
       "| 72 | 164 |\n",
       "\n"
      ],
      "text/plain": [
       "   height weight\n",
       "1  58     115   \n",
       "2  59     117   \n",
       "3  60     120   \n",
       "4  61     123   \n",
       "5  62     126   \n",
       "6  63     129   \n",
       "7  64     132   \n",
       "8  65     135   \n",
       "9  66     139   \n",
       "10 67     142   \n",
       "11 68     146   \n",
       "12 69     150   \n",
       "13 70     154   \n",
       "14 71     159   \n",
       "15 72     164   "
      ]
     },
     "metadata": {},
     "output_type": "display_data"
    }
   ],
   "source": [
    "women # Dataframe que viene por defecto en R"
   ]
  },
  {
   "cell_type": "markdown",
   "metadata": {},
   "source": [
    "No es común el desplegar completamente un dataframe, si no que para tener una idea del contenido del dataframe podemos hacer algo de lo siguiente:\n",
    "\n",
    "Desplegar sólo las primeras entradas con el comando `head()`"
   ]
  },
  {
   "cell_type": "code",
   "execution_count": 23,
   "metadata": {},
   "outputs": [
    {
     "data": {
      "text/html": [
       "<table>\n",
       "<caption>A data.frame: 6 × 2</caption>\n",
       "<thead>\n",
       "\t<tr><th></th><th scope=col>height</th><th scope=col>weight</th></tr>\n",
       "\t<tr><th></th><th scope=col>&lt;dbl&gt;</th><th scope=col>&lt;dbl&gt;</th></tr>\n",
       "</thead>\n",
       "<tbody>\n",
       "\t<tr><th scope=row>1</th><td>58</td><td>115</td></tr>\n",
       "\t<tr><th scope=row>2</th><td>59</td><td>117</td></tr>\n",
       "\t<tr><th scope=row>3</th><td>60</td><td>120</td></tr>\n",
       "\t<tr><th scope=row>4</th><td>61</td><td>123</td></tr>\n",
       "\t<tr><th scope=row>5</th><td>62</td><td>126</td></tr>\n",
       "\t<tr><th scope=row>6</th><td>63</td><td>129</td></tr>\n",
       "</tbody>\n",
       "</table>\n"
      ],
      "text/latex": [
       "A data.frame: 6 × 2\n",
       "\\begin{tabular}{r|ll}\n",
       "  & height & weight\\\\\n",
       "  & <dbl> & <dbl>\\\\\n",
       "\\hline\n",
       "\t1 & 58 & 115\\\\\n",
       "\t2 & 59 & 117\\\\\n",
       "\t3 & 60 & 120\\\\\n",
       "\t4 & 61 & 123\\\\\n",
       "\t5 & 62 & 126\\\\\n",
       "\t6 & 63 & 129\\\\\n",
       "\\end{tabular}\n"
      ],
      "text/markdown": [
       "\n",
       "A data.frame: 6 × 2\n",
       "\n",
       "| <!--/--> | height &lt;dbl&gt; | weight &lt;dbl&gt; |\n",
       "|---|---|---|\n",
       "| 1 | 58 | 115 |\n",
       "| 2 | 59 | 117 |\n",
       "| 3 | 60 | 120 |\n",
       "| 4 | 61 | 123 |\n",
       "| 5 | 62 | 126 |\n",
       "| 6 | 63 | 129 |\n",
       "\n"
      ],
      "text/plain": [
       "  height weight\n",
       "1 58     115   \n",
       "2 59     117   \n",
       "3 60     120   \n",
       "4 61     123   \n",
       "5 62     126   \n",
       "6 63     129   "
      ]
     },
     "metadata": {},
     "output_type": "display_data"
    }
   ],
   "source": [
    "head(women)"
   ]
  },
  {
   "cell_type": "markdown",
   "metadata": {},
   "source": [
    "Utilizar `summary()` para recibir información estadística directa del contenido"
   ]
  },
  {
   "cell_type": "code",
   "execution_count": 24,
   "metadata": {},
   "outputs": [
    {
     "data": {
      "text/plain": [
       "     height         weight     \n",
       " Min.   :58.0   Min.   :115.0  \n",
       " 1st Qu.:61.5   1st Qu.:124.5  \n",
       " Median :65.0   Median :135.0  \n",
       " Mean   :65.0   Mean   :136.7  \n",
       " 3rd Qu.:68.5   3rd Qu.:148.0  \n",
       " Max.   :72.0   Max.   :164.0  "
      ]
     },
     "metadata": {},
     "output_type": "display_data"
    }
   ],
   "source": [
    "summary(women)"
   ]
  },
  {
   "cell_type": "markdown",
   "metadata": {},
   "source": [
    "Podemos averiguar el tamaño de nuestra data mediante las funciones `nrow()` y `ncol()` que averigua el número de filas (usualmente observaciones) y el número de columnas (usualmente variables, factores, features, etc.) respectivamente:"
   ]
  },
  {
   "cell_type": "code",
   "execution_count": 25,
   "metadata": {},
   "outputs": [
    {
     "data": {
      "text/html": [
       "15"
      ],
      "text/latex": [
       "15"
      ],
      "text/markdown": [
       "15"
      ],
      "text/plain": [
       "[1] 15"
      ]
     },
     "metadata": {},
     "output_type": "display_data"
    },
    {
     "data": {
      "text/html": [
       "2"
      ],
      "text/latex": [
       "2"
      ],
      "text/markdown": [
       "2"
      ],
      "text/plain": [
       "[1] 2"
      ]
     },
     "metadata": {},
     "output_type": "display_data"
    }
   ],
   "source": [
    "nrow(women)\n",
    "ncol(women)"
   ]
  },
  {
   "cell_type": "markdown",
   "metadata": {},
   "source": [
    "... O utilizar directamente el comando `dim()`"
   ]
  },
  {
   "cell_type": "code",
   "execution_count": 26,
   "metadata": {},
   "outputs": [
    {
     "data": {
      "text/html": [
       "<style>\n",
       ".list-inline {list-style: none; margin:0; padding: 0}\n",
       ".list-inline>li {display: inline-block}\n",
       ".list-inline>li:not(:last-child)::after {content: \"\\00b7\"; padding: 0 .5ex}\n",
       "</style>\n",
       "<ol class=list-inline><li>15</li><li>2</li></ol>\n"
      ],
      "text/latex": [
       "\\begin{enumerate*}\n",
       "\\item 15\n",
       "\\item 2\n",
       "\\end{enumerate*}\n"
      ],
      "text/markdown": [
       "1. 15\n",
       "2. 2\n",
       "\n",
       "\n"
      ],
      "text/plain": [
       "[1] 15  2"
      ]
     },
     "metadata": {},
     "output_type": "display_data"
    }
   ],
   "source": [
    "dim(women)"
   ]
  },
  {
   "cell_type": "markdown",
   "metadata": {},
   "source": [
    "Similar a la mayoría de otros objetos en R, podemos utilizar también el comando `str()` para obtener un resumen de la **estrutura** del objeto:"
   ]
  },
  {
   "cell_type": "code",
   "execution_count": 27,
   "metadata": {},
   "outputs": [
    {
     "name": "stdout",
     "output_type": "stream",
     "text": [
      "'data.frame':\t15 obs. of  2 variables:\n",
      " $ height: num  58 59 60 61 62 63 64 65 66 67 ...\n",
      " $ weight: num  115 117 120 123 126 129 132 135 139 142 ...\n"
     ]
    }
   ],
   "source": [
    "str(women)"
   ]
  },
  {
   "cell_type": "markdown",
   "metadata": {},
   "source": [
    "### Extrayendo data de un dataframe\n",
    "Las columnas (variables) en un dataframe pueden ser accedidos, como visto anteriormente, con el operador `$`"
   ]
  },
  {
   "cell_type": "code",
   "execution_count": 28,
   "metadata": {},
   "outputs": [
    {
     "data": {
      "text/html": [
       "<style>\n",
       ".list-inline {list-style: none; margin:0; padding: 0}\n",
       ".list-inline>li {display: inline-block}\n",
       ".list-inline>li:not(:last-child)::after {content: \"\\00b7\"; padding: 0 .5ex}\n",
       "</style>\n",
       "<ol class=list-inline><li>115</li><li>117</li><li>120</li><li>123</li><li>126</li><li>129</li><li>132</li><li>135</li><li>139</li><li>142</li><li>146</li><li>150</li><li>154</li><li>159</li><li>164</li></ol>\n"
      ],
      "text/latex": [
       "\\begin{enumerate*}\n",
       "\\item 115\n",
       "\\item 117\n",
       "\\item 120\n",
       "\\item 123\n",
       "\\item 126\n",
       "\\item 129\n",
       "\\item 132\n",
       "\\item 135\n",
       "\\item 139\n",
       "\\item 142\n",
       "\\item 146\n",
       "\\item 150\n",
       "\\item 154\n",
       "\\item 159\n",
       "\\item 164\n",
       "\\end{enumerate*}\n"
      ],
      "text/markdown": [
       "1. 115\n",
       "2. 117\n",
       "3. 120\n",
       "4. 123\n",
       "5. 126\n",
       "6. 129\n",
       "7. 132\n",
       "8. 135\n",
       "9. 139\n",
       "10. 142\n",
       "11. 146\n",
       "12. 150\n",
       "13. 154\n",
       "14. 159\n",
       "15. 164\n",
       "\n",
       "\n"
      ],
      "text/plain": [
       " [1] 115 117 120 123 126 129 132 135 139 142 146 150 154 159 164"
      ]
     },
     "metadata": {},
     "output_type": "display_data"
    }
   ],
   "source": [
    "women$weight"
   ]
  },
  {
   "cell_type": "markdown",
   "metadata": {},
   "source": [
    "También podemos filtrar fácilmente acorde a una condición. Considere la condición:"
   ]
  },
  {
   "cell_type": "code",
   "execution_count": 29,
   "metadata": {},
   "outputs": [
    {
     "data": {
      "text/html": [
       "<style>\n",
       ".list-inline {list-style: none; margin:0; padding: 0}\n",
       ".list-inline>li {display: inline-block}\n",
       ".list-inline>li:not(:last-child)::after {content: \"\\00b7\"; padding: 0 .5ex}\n",
       "</style>\n",
       "<ol class=list-inline><li>FALSE</li><li>FALSE</li><li>FALSE</li><li>FALSE</li><li>FALSE</li><li>FALSE</li><li>FALSE</li><li>FALSE</li><li>FALSE</li><li>TRUE</li><li>TRUE</li><li>TRUE</li><li>TRUE</li><li>TRUE</li><li>TRUE</li></ol>\n"
      ],
      "text/latex": [
       "\\begin{enumerate*}\n",
       "\\item FALSE\n",
       "\\item FALSE\n",
       "\\item FALSE\n",
       "\\item FALSE\n",
       "\\item FALSE\n",
       "\\item FALSE\n",
       "\\item FALSE\n",
       "\\item FALSE\n",
       "\\item FALSE\n",
       "\\item TRUE\n",
       "\\item TRUE\n",
       "\\item TRUE\n",
       "\\item TRUE\n",
       "\\item TRUE\n",
       "\\item TRUE\n",
       "\\end{enumerate*}\n"
      ],
      "text/markdown": [
       "1. FALSE\n",
       "2. FALSE\n",
       "3. FALSE\n",
       "4. FALSE\n",
       "5. FALSE\n",
       "6. FALSE\n",
       "7. FALSE\n",
       "8. FALSE\n",
       "9. FALSE\n",
       "10. TRUE\n",
       "11. TRUE\n",
       "12. TRUE\n",
       "13. TRUE\n",
       "14. TRUE\n",
       "15. TRUE\n",
       "\n",
       "\n"
      ],
      "text/plain": [
       " [1] FALSE FALSE FALSE FALSE FALSE FALSE FALSE FALSE FALSE  TRUE  TRUE  TRUE\n",
       "[13]  TRUE  TRUE  TRUE"
      ]
     },
     "metadata": {},
     "output_type": "display_data"
    }
   ],
   "source": [
    "women$weight > 140"
   ]
  },
  {
   "cell_type": "markdown",
   "metadata": {},
   "source": [
    "Donde podemos ver que sólo algunas entradas cumplen el criterio, y por ende, podemos filtrar otra variable respecto a esa condición:"
   ]
  },
  {
   "cell_type": "code",
   "execution_count": 30,
   "metadata": {},
   "outputs": [
    {
     "data": {
      "text/html": [
       "<style>\n",
       ".list-inline {list-style: none; margin:0; padding: 0}\n",
       ".list-inline>li {display: inline-block}\n",
       ".list-inline>li:not(:last-child)::after {content: \"\\00b7\"; padding: 0 .5ex}\n",
       "</style>\n",
       "<ol class=list-inline><li>67</li><li>68</li><li>69</li><li>70</li><li>71</li><li>72</li></ol>\n"
      ],
      "text/latex": [
       "\\begin{enumerate*}\n",
       "\\item 67\n",
       "\\item 68\n",
       "\\item 69\n",
       "\\item 70\n",
       "\\item 71\n",
       "\\item 72\n",
       "\\end{enumerate*}\n"
      ],
      "text/markdown": [
       "1. 67\n",
       "2. 68\n",
       "3. 69\n",
       "4. 70\n",
       "5. 71\n",
       "6. 72\n",
       "\n",
       "\n"
      ],
      "text/plain": [
       "[1] 67 68 69 70 71 72"
      ]
     },
     "metadata": {},
     "output_type": "display_data"
    }
   ],
   "source": [
    "women$height[women$weight > 140]"
   ]
  },
  {
   "cell_type": "markdown",
   "metadata": {},
   "source": [
    "Las anteriores son las alturas de las mujeres con peso mayor a 140. A veces quisieramos poder tomar muestras aleatorias de nuestra data. Considere la siguiente:"
   ]
  },
  {
   "cell_type": "code",
   "execution_count": 31,
   "metadata": {},
   "outputs": [
    {
     "name": "stdout",
     "output_type": "stream",
     "text": [
      "'data.frame':\t32 obs. of  11 variables:\n",
      " $ mpg : num  21 21 22.8 21.4 18.7 18.1 14.3 24.4 22.8 19.2 ...\n",
      " $ cyl : num  6 6 4 6 8 6 8 4 4 6 ...\n",
      " $ disp: num  160 160 108 258 360 ...\n",
      " $ hp  : num  110 110 93 110 175 105 245 62 95 123 ...\n",
      " $ drat: num  3.9 3.9 3.85 3.08 3.15 2.76 3.21 3.69 3.92 3.92 ...\n",
      " $ wt  : num  2.62 2.88 2.32 3.21 3.44 ...\n",
      " $ qsec: num  16.5 17 18.6 19.4 17 ...\n",
      " $ vs  : num  0 0 1 1 0 1 0 1 1 1 ...\n",
      " $ am  : num  1 1 1 0 0 0 0 0 0 0 ...\n",
      " $ gear: num  4 4 4 3 3 3 3 4 4 4 ...\n",
      " $ carb: num  4 4 1 1 2 1 4 2 2 4 ...\n"
     ]
    }
   ],
   "source": [
    "str(mtcars) # Por defecto en R-base"
   ]
  },
  {
   "cell_type": "code",
   "execution_count": 32,
   "metadata": {},
   "outputs": [],
   "source": [
    "?sample"
   ]
  },
  {
   "cell_type": "code",
   "execution_count": 37,
   "metadata": {},
   "outputs": [],
   "source": [
    "IDmuestra <- sample(1:32, size = 10, replace = FALSE)  # Muestra aleatoria simple"
   ]
  },
  {
   "cell_type": "code",
   "execution_count": 38,
   "metadata": {},
   "outputs": [
    {
     "data": {
      "text/html": [
       "<style>\n",
       ".list-inline {list-style: none; margin:0; padding: 0}\n",
       ".list-inline>li {display: inline-block}\n",
       ".list-inline>li:not(:last-child)::after {content: \"\\00b7\"; padding: 0 .5ex}\n",
       "</style>\n",
       "<ol class=list-inline><li>26</li><li>12</li><li>20</li><li>9</li><li>14</li><li>22</li><li>6</li><li>8</li><li>28</li><li>3</li></ol>\n"
      ],
      "text/latex": [
       "\\begin{enumerate*}\n",
       "\\item 26\n",
       "\\item 12\n",
       "\\item 20\n",
       "\\item 9\n",
       "\\item 14\n",
       "\\item 22\n",
       "\\item 6\n",
       "\\item 8\n",
       "\\item 28\n",
       "\\item 3\n",
       "\\end{enumerate*}\n"
      ],
      "text/markdown": [
       "1. 26\n",
       "2. 12\n",
       "3. 20\n",
       "4. 9\n",
       "5. 14\n",
       "6. 22\n",
       "7. 6\n",
       "8. 8\n",
       "9. 28\n",
       "10. 3\n",
       "\n",
       "\n"
      ],
      "text/plain": [
       " [1] 26 12 20  9 14 22  6  8 28  3"
      ]
     },
     "metadata": {},
     "output_type": "display_data"
    }
   ],
   "source": [
    "IDmuestra"
   ]
  },
  {
   "cell_type": "code",
   "execution_count": 39,
   "metadata": {},
   "outputs": [
    {
     "data": {
      "text/html": [
       "<table>\n",
       "<caption>A data.frame: 10 × 11</caption>\n",
       "<thead>\n",
       "\t<tr><th></th><th scope=col>mpg</th><th scope=col>cyl</th><th scope=col>disp</th><th scope=col>hp</th><th scope=col>drat</th><th scope=col>wt</th><th scope=col>qsec</th><th scope=col>vs</th><th scope=col>am</th><th scope=col>gear</th><th scope=col>carb</th></tr>\n",
       "\t<tr><th></th><th scope=col>&lt;dbl&gt;</th><th scope=col>&lt;dbl&gt;</th><th scope=col>&lt;dbl&gt;</th><th scope=col>&lt;dbl&gt;</th><th scope=col>&lt;dbl&gt;</th><th scope=col>&lt;dbl&gt;</th><th scope=col>&lt;dbl&gt;</th><th scope=col>&lt;dbl&gt;</th><th scope=col>&lt;dbl&gt;</th><th scope=col>&lt;dbl&gt;</th><th scope=col>&lt;dbl&gt;</th></tr>\n",
       "</thead>\n",
       "<tbody>\n",
       "\t<tr><th scope=row>Fiat X1-9</th><td>27.3</td><td>4</td><td> 79.0</td><td> 66</td><td>4.08</td><td>1.935</td><td>18.90</td><td>1</td><td>1</td><td>4</td><td>1</td></tr>\n",
       "\t<tr><th scope=row>Merc 450SE</th><td>16.4</td><td>8</td><td>275.8</td><td>180</td><td>3.07</td><td>4.070</td><td>17.40</td><td>0</td><td>0</td><td>3</td><td>3</td></tr>\n",
       "\t<tr><th scope=row>Toyota Corolla</th><td>33.9</td><td>4</td><td> 71.1</td><td> 65</td><td>4.22</td><td>1.835</td><td>19.90</td><td>1</td><td>1</td><td>4</td><td>1</td></tr>\n",
       "\t<tr><th scope=row>Merc 230</th><td>22.8</td><td>4</td><td>140.8</td><td> 95</td><td>3.92</td><td>3.150</td><td>22.90</td><td>1</td><td>0</td><td>4</td><td>2</td></tr>\n",
       "\t<tr><th scope=row>Merc 450SLC</th><td>15.2</td><td>8</td><td>275.8</td><td>180</td><td>3.07</td><td>3.780</td><td>18.00</td><td>0</td><td>0</td><td>3</td><td>3</td></tr>\n",
       "\t<tr><th scope=row>Dodge Challenger</th><td>15.5</td><td>8</td><td>318.0</td><td>150</td><td>2.76</td><td>3.520</td><td>16.87</td><td>0</td><td>0</td><td>3</td><td>2</td></tr>\n",
       "\t<tr><th scope=row>Valiant</th><td>18.1</td><td>6</td><td>225.0</td><td>105</td><td>2.76</td><td>3.460</td><td>20.22</td><td>1</td><td>0</td><td>3</td><td>1</td></tr>\n",
       "\t<tr><th scope=row>Merc 240D</th><td>24.4</td><td>4</td><td>146.7</td><td> 62</td><td>3.69</td><td>3.190</td><td>20.00</td><td>1</td><td>0</td><td>4</td><td>2</td></tr>\n",
       "\t<tr><th scope=row>Lotus Europa</th><td>30.4</td><td>4</td><td> 95.1</td><td>113</td><td>3.77</td><td>1.513</td><td>16.90</td><td>1</td><td>1</td><td>5</td><td>2</td></tr>\n",
       "\t<tr><th scope=row>Datsun 710</th><td>22.8</td><td>4</td><td>108.0</td><td> 93</td><td>3.85</td><td>2.320</td><td>18.61</td><td>1</td><td>1</td><td>4</td><td>1</td></tr>\n",
       "</tbody>\n",
       "</table>\n"
      ],
      "text/latex": [
       "A data.frame: 10 × 11\n",
       "\\begin{tabular}{r|lllllllllll}\n",
       "  & mpg & cyl & disp & hp & drat & wt & qsec & vs & am & gear & carb\\\\\n",
       "  & <dbl> & <dbl> & <dbl> & <dbl> & <dbl> & <dbl> & <dbl> & <dbl> & <dbl> & <dbl> & <dbl>\\\\\n",
       "\\hline\n",
       "\tFiat X1-9 & 27.3 & 4 &  79.0 &  66 & 4.08 & 1.935 & 18.90 & 1 & 1 & 4 & 1\\\\\n",
       "\tMerc 450SE & 16.4 & 8 & 275.8 & 180 & 3.07 & 4.070 & 17.40 & 0 & 0 & 3 & 3\\\\\n",
       "\tToyota Corolla & 33.9 & 4 &  71.1 &  65 & 4.22 & 1.835 & 19.90 & 1 & 1 & 4 & 1\\\\\n",
       "\tMerc 230 & 22.8 & 4 & 140.8 &  95 & 3.92 & 3.150 & 22.90 & 1 & 0 & 4 & 2\\\\\n",
       "\tMerc 450SLC & 15.2 & 8 & 275.8 & 180 & 3.07 & 3.780 & 18.00 & 0 & 0 & 3 & 3\\\\\n",
       "\tDodge Challenger & 15.5 & 8 & 318.0 & 150 & 2.76 & 3.520 & 16.87 & 0 & 0 & 3 & 2\\\\\n",
       "\tValiant & 18.1 & 6 & 225.0 & 105 & 2.76 & 3.460 & 20.22 & 1 & 0 & 3 & 1\\\\\n",
       "\tMerc 240D & 24.4 & 4 & 146.7 &  62 & 3.69 & 3.190 & 20.00 & 1 & 0 & 4 & 2\\\\\n",
       "\tLotus Europa & 30.4 & 4 &  95.1 & 113 & 3.77 & 1.513 & 16.90 & 1 & 1 & 5 & 2\\\\\n",
       "\tDatsun 710 & 22.8 & 4 & 108.0 &  93 & 3.85 & 2.320 & 18.61 & 1 & 1 & 4 & 1\\\\\n",
       "\\end{tabular}\n"
      ],
      "text/markdown": [
       "\n",
       "A data.frame: 10 × 11\n",
       "\n",
       "| <!--/--> | mpg &lt;dbl&gt; | cyl &lt;dbl&gt; | disp &lt;dbl&gt; | hp &lt;dbl&gt; | drat &lt;dbl&gt; | wt &lt;dbl&gt; | qsec &lt;dbl&gt; | vs &lt;dbl&gt; | am &lt;dbl&gt; | gear &lt;dbl&gt; | carb &lt;dbl&gt; |\n",
       "|---|---|---|---|---|---|---|---|---|---|---|---|\n",
       "| Fiat X1-9 | 27.3 | 4 |  79.0 |  66 | 4.08 | 1.935 | 18.90 | 1 | 1 | 4 | 1 |\n",
       "| Merc 450SE | 16.4 | 8 | 275.8 | 180 | 3.07 | 4.070 | 17.40 | 0 | 0 | 3 | 3 |\n",
       "| Toyota Corolla | 33.9 | 4 |  71.1 |  65 | 4.22 | 1.835 | 19.90 | 1 | 1 | 4 | 1 |\n",
       "| Merc 230 | 22.8 | 4 | 140.8 |  95 | 3.92 | 3.150 | 22.90 | 1 | 0 | 4 | 2 |\n",
       "| Merc 450SLC | 15.2 | 8 | 275.8 | 180 | 3.07 | 3.780 | 18.00 | 0 | 0 | 3 | 3 |\n",
       "| Dodge Challenger | 15.5 | 8 | 318.0 | 150 | 2.76 | 3.520 | 16.87 | 0 | 0 | 3 | 2 |\n",
       "| Valiant | 18.1 | 6 | 225.0 | 105 | 2.76 | 3.460 | 20.22 | 1 | 0 | 3 | 1 |\n",
       "| Merc 240D | 24.4 | 4 | 146.7 |  62 | 3.69 | 3.190 | 20.00 | 1 | 0 | 4 | 2 |\n",
       "| Lotus Europa | 30.4 | 4 |  95.1 | 113 | 3.77 | 1.513 | 16.90 | 1 | 1 | 5 | 2 |\n",
       "| Datsun 710 | 22.8 | 4 | 108.0 |  93 | 3.85 | 2.320 | 18.61 | 1 | 1 | 4 | 1 |\n",
       "\n"
      ],
      "text/plain": [
       "                 mpg  cyl disp  hp  drat wt    qsec  vs am gear carb\n",
       "Fiat X1-9        27.3 4    79.0  66 4.08 1.935 18.90 1  1  4    1   \n",
       "Merc 450SE       16.4 8   275.8 180 3.07 4.070 17.40 0  0  3    3   \n",
       "Toyota Corolla   33.9 4    71.1  65 4.22 1.835 19.90 1  1  4    1   \n",
       "Merc 230         22.8 4   140.8  95 3.92 3.150 22.90 1  0  4    2   \n",
       "Merc 450SLC      15.2 8   275.8 180 3.07 3.780 18.00 0  0  3    3   \n",
       "Dodge Challenger 15.5 8   318.0 150 2.76 3.520 16.87 0  0  3    2   \n",
       "Valiant          18.1 6   225.0 105 2.76 3.460 20.22 1  0  3    1   \n",
       "Merc 240D        24.4 4   146.7  62 3.69 3.190 20.00 1  0  4    2   \n",
       "Lotus Europa     30.4 4    95.1 113 3.77 1.513 16.90 1  1  5    2   \n",
       "Datsun 710       22.8 4   108.0  93 3.85 2.320 18.61 1  1  4    1   "
      ]
     },
     "metadata": {},
     "output_type": "display_data"
    }
   ],
   "source": [
    "mtcars[IDmuestra,] # Es una muestra distinta cada vez"
   ]
  },
  {
   "cell_type": "markdown",
   "metadata": {},
   "source": [
    "Por último, hablemos sobre algo similar a los **administradores de contexto** en Python. Considere lo siguiente"
   ]
  },
  {
   "cell_type": "code",
   "execution_count": 40,
   "metadata": {},
   "outputs": [
    {
     "data": {
      "text/html": [
       "<style>\n",
       ".list-inline {list-style: none; margin:0; padding: 0}\n",
       ".list-inline>li {display: inline-block}\n",
       ".list-inline>li:not(:last-child)::after {content: \"\\00b7\"; padding: 0 .5ex}\n",
       "</style>\n",
       "<ol class=list-inline><li>24.0347609113768</li><li>23.6308743803928</li><li>23.4356335379337</li><li>23.2403890768545</li><li>23.0454460908922</li><li>22.8510712501395</li><li>22.6574972681195</li><li>22.4649268233448</li><li>22.4349384419614</li><li>22.2400977660053</li><li>22.1989781349805</li><li>22.150882360996</li><li>22.0964544786232</li><li>22.1757532187947</li><li>22.2421522003538</li></ol>\n"
      ],
      "text/latex": [
       "\\begin{enumerate*}\n",
       "\\item 24.0347609113768\n",
       "\\item 23.6308743803928\n",
       "\\item 23.4356335379337\n",
       "\\item 23.2403890768545\n",
       "\\item 23.0454460908922\n",
       "\\item 22.8510712501395\n",
       "\\item 22.6574972681195\n",
       "\\item 22.4649268233448\n",
       "\\item 22.4349384419614\n",
       "\\item 22.2400977660053\n",
       "\\item 22.1989781349805\n",
       "\\item 22.150882360996\n",
       "\\item 22.0964544786232\n",
       "\\item 22.1757532187947\n",
       "\\item 22.2421522003538\n",
       "\\end{enumerate*}\n"
      ],
      "text/markdown": [
       "1. 24.0347609113768\n",
       "2. 23.6308743803928\n",
       "3. 23.4356335379337\n",
       "4. 23.2403890768545\n",
       "5. 23.0454460908922\n",
       "6. 22.8510712501395\n",
       "7. 22.6574972681195\n",
       "8. 22.4649268233448\n",
       "9. 22.4349384419614\n",
       "10. 22.2400977660053\n",
       "11. 22.1989781349805\n",
       "12. 22.150882360996\n",
       "13. 22.0964544786232\n",
       "14. 22.1757532187947\n",
       "15. 22.2421522003538\n",
       "\n",
       "\n"
      ],
      "text/plain": [
       " [1] 24.03476 23.63087 23.43563 23.24039 23.04545 22.85107 22.65750 22.46493\n",
       " [9] 22.43494 22.24010 22.19898 22.15088 22.09645 22.17575 22.24215"
      ]
     },
     "metadata": {},
     "output_type": "display_data"
    }
   ],
   "source": [
    "MBI <- with(women, (weight*0.453592)/(height*0.0254)^2) # Indices de masa corporal\n",
    "MBI"
   ]
  },
  {
   "cell_type": "code",
   "execution_count": 42,
   "metadata": {},
   "outputs": [
    {
     "data": {
      "image/png": "[encoded data removed]",
      "text/plain": [
       "plot without title"
      ]
     },
     "metadata": {
      "image/png": {
       "height": 420,
       "width": 420
      },
      "text/plain": {
       "height": 420,
       "width": 420
      }
     },
     "output_type": "display_data"
    }
   ],
   "source": [
    "plot(MBI)"
   ]
  },
  {
   "cell_type": "code",
   "execution_count": 43,
   "metadata": {},
   "outputs": [
    {
     "data": {
      "image/png": "[encoded data removed]",
      "text/plain": [
       "Plot with title “Histogram of MBI”"
      ]
     },
     "metadata": {
      "image/png": {
       "height": 420,
       "width": 420
      },
      "text/plain": {
       "height": 420,
       "width": 420
      }
     },
     "output_type": "display_data"
    }
   ],
   "source": [
    "hist(MBI)"
   ]
  },
  {
   "cell_type": "code",
   "execution_count": 44,
   "metadata": {},
   "outputs": [
    {
     "data": {
      "image/png": "[encoded data removed]",
      "text/plain": [
       "plot without title"
      ]
     },
     "metadata": {
      "image/png": {
       "height": 420,
       "width": 420
      },
      "text/plain": {
       "height": 420,
       "width": 420
      }
     },
     "output_type": "display_data"
    }
   ],
   "source": [
    "plot(mtcars)"
   ]
  },
  {
   "cell_type": "code",
   "execution_count": 45,
   "metadata": {},
   "outputs": [
    {
     "data": {
      "image/png": "[encoded data removed]",
      "text/plain": [
       "plot without title"
      ]
     },
     "metadata": {
      "image/png": {
       "height": 420,
       "width": 420
      },
      "text/plain": {
       "height": 420,
       "width": 420
      }
     },
     "output_type": "display_data"
    }
   ],
   "source": [
    "plot(women)"
   ]
  },
  {
   "cell_type": "markdown",
   "metadata": {},
   "source": [
    "### Creando dataframes"
   ]
  },
  {
   "cell_type": "code",
   "execution_count": 53,
   "metadata": {},
   "outputs": [],
   "source": [
    "genero <- c(\"M\", \"M\", \"F\", \"F\", \"F\")\n",
    "peso <- c(73, 68, 52, 69, 64)"
   ]
  },
  {
   "cell_type": "code",
   "execution_count": 54,
   "metadata": {},
   "outputs": [
    {
     "data": {
      "text/html": [
       "<table>\n",
       "<caption>A data.frame: 5 × 2</caption>\n",
       "<thead>\n",
       "\t<tr><th scope=col>Genero</th><th scope=col>Peso</th></tr>\n",
       "\t<tr><th scope=col>&lt;chr&gt;</th><th scope=col>&lt;dbl&gt;</th></tr>\n",
       "</thead>\n",
       "<tbody>\n",
       "\t<tr><td>M</td><td>73</td></tr>\n",
       "\t<tr><td>M</td><td>68</td></tr>\n",
       "\t<tr><td>F</td><td>52</td></tr>\n",
       "\t<tr><td>F</td><td>69</td></tr>\n",
       "\t<tr><td>F</td><td>64</td></tr>\n",
       "</tbody>\n",
       "</table>\n"
      ],
      "text/latex": [
       "A data.frame: 5 × 2\n",
       "\\begin{tabular}{ll}\n",
       " Genero & Peso\\\\\n",
       " <chr> & <dbl>\\\\\n",
       "\\hline\n",
       "\t M & 73\\\\\n",
       "\t M & 68\\\\\n",
       "\t F & 52\\\\\n",
       "\t F & 69\\\\\n",
       "\t F & 64\\\\\n",
       "\\end{tabular}\n"
      ],
      "text/markdown": [
       "\n",
       "A data.frame: 5 × 2\n",
       "\n",
       "| Genero &lt;chr&gt; | Peso &lt;dbl&gt; |\n",
       "|---|---|\n",
       "| M | 73 |\n",
       "| M | 68 |\n",
       "| F | 52 |\n",
       "| F | 69 |\n",
       "| F | 64 |\n",
       "\n"
      ],
      "text/plain": [
       "  Genero Peso\n",
       "1 M      73  \n",
       "2 M      68  \n",
       "3 F      52  \n",
       "4 F      69  \n",
       "5 F      64  "
      ]
     },
     "metadata": {},
     "output_type": "display_data"
    }
   ],
   "source": [
    "Estudio <- data.frame(Genero = genero, Peso = peso)\n",
    "Estudio "
   ]
  },
  {
   "cell_type": "code",
   "execution_count": 49,
   "metadata": {},
   "outputs": [],
   "source": [
    "?data.frame"
   ]
  },
  {
   "cell_type": "markdown",
   "metadata": {},
   "source": [
    "### Listas\n",
    "\n",
    "Los dataframes son un tipo especial de otro tipo de datos llamado **lista**. Las listas son colecciones de otros objetos de R, cualquiera sea su tipo, organizadas de manera que cada elemento de la colección puede ser accedida mediante el nombre de dicha variable:"
   ]
  },
  {
   "cell_type": "code",
   "execution_count": 50,
   "metadata": {},
   "outputs": [
    {
     "data": {
      "text/html": [
       "<dl>\n",
       "\t<dt>$data1</dt>\n",
       "\t\t<dd><style>\n",
       ".list-inline {list-style: none; margin:0; padding: 0}\n",
       ".list-inline>li {display: inline-block}\n",
       ".list-inline>li:not(:last-child)::after {content: \"\\00b7\"; padding: 0 .5ex}\n",
       "</style>\n",
       "<ol class=list-inline><li>3</li><li>2</li><li>3</li></ol>\n",
       "</dd>\n",
       "\t<dt>$data2</dt>\n",
       "\t\t<dd><style>\n",
       ".list-inline {list-style: none; margin:0; padding: 0}\n",
       ".list-inline>li {display: inline-block}\n",
       ".list-inline>li:not(:last-child)::after {content: \"\\00b7\"; padding: 0 .5ex}\n",
       "</style>\n",
       "<ol class=list-inline><li>7</li><li>7</li></ol>\n",
       "</dd>\n",
       "\t<dt>$data3</dt>\n",
       "\t\t<dd><table>\n",
       "<caption>A data.frame: 15 × 2</caption>\n",
       "<thead>\n",
       "\t<tr><th scope=col>height</th><th scope=col>weight</th></tr>\n",
       "\t<tr><th scope=col>&lt;dbl&gt;</th><th scope=col>&lt;dbl&gt;</th></tr>\n",
       "</thead>\n",
       "<tbody>\n",
       "\t<tr><td>58</td><td>115</td></tr>\n",
       "\t<tr><td>59</td><td>117</td></tr>\n",
       "\t<tr><td>60</td><td>120</td></tr>\n",
       "\t<tr><td>61</td><td>123</td></tr>\n",
       "\t<tr><td>62</td><td>126</td></tr>\n",
       "\t<tr><td>63</td><td>129</td></tr>\n",
       "\t<tr><td>64</td><td>132</td></tr>\n",
       "\t<tr><td>65</td><td>135</td></tr>\n",
       "\t<tr><td>66</td><td>139</td></tr>\n",
       "\t<tr><td>67</td><td>142</td></tr>\n",
       "\t<tr><td>68</td><td>146</td></tr>\n",
       "\t<tr><td>69</td><td>150</td></tr>\n",
       "\t<tr><td>70</td><td>154</td></tr>\n",
       "\t<tr><td>71</td><td>159</td></tr>\n",
       "\t<tr><td>72</td><td>164</td></tr>\n",
       "</tbody>\n",
       "</table>\n",
       "</dd>\n",
       "</dl>\n"
      ],
      "text/latex": [
       "\\begin{description}\n",
       "\\item[\\$data1] \\begin{enumerate*}\n",
       "\\item 3\n",
       "\\item 2\n",
       "\\item 3\n",
       "\\end{enumerate*}\n",
       "\n",
       "\\item[\\$data2] \\begin{enumerate*}\n",
       "\\item 7\n",
       "\\item 7\n",
       "\\end{enumerate*}\n",
       "\n",
       "\\item[\\$data3] A data.frame: 15 × 2\n",
       "\\begin{tabular}{ll}\n",
       " height & weight\\\\\n",
       " <dbl> & <dbl>\\\\\n",
       "\\hline\n",
       "\t 58 & 115\\\\\n",
       "\t 59 & 117\\\\\n",
       "\t 60 & 120\\\\\n",
       "\t 61 & 123\\\\\n",
       "\t 62 & 126\\\\\n",
       "\t 63 & 129\\\\\n",
       "\t 64 & 132\\\\\n",
       "\t 65 & 135\\\\\n",
       "\t 66 & 139\\\\\n",
       "\t 67 & 142\\\\\n",
       "\t 68 & 146\\\\\n",
       "\t 69 & 150\\\\\n",
       "\t 70 & 154\\\\\n",
       "\t 71 & 159\\\\\n",
       "\t 72 & 164\\\\\n",
       "\\end{tabular}\n",
       "\n",
       "\\end{description}\n"
      ],
      "text/markdown": [
       "$data1\n",
       ":   1. 3\n",
       "2. 2\n",
       "3. 3\n",
       "\n",
       "\n",
       "\n",
       "$data2\n",
       ":   1. 7\n",
       "2. 7\n",
       "\n",
       "\n",
       "\n",
       "$data3\n",
       ":   \n",
       "A data.frame: 15 × 2\n",
       "\n",
       "| height &lt;dbl&gt; | weight &lt;dbl&gt; |\n",
       "|---|---|\n",
       "| 58 | 115 |\n",
       "| 59 | 117 |\n",
       "| 60 | 120 |\n",
       "| 61 | 123 |\n",
       "| 62 | 126 |\n",
       "| 63 | 129 |\n",
       "| 64 | 132 |\n",
       "| 65 | 135 |\n",
       "| 66 | 139 |\n",
       "| 67 | 142 |\n",
       "| 68 | 146 |\n",
       "| 69 | 150 |\n",
       "| 70 | 154 |\n",
       "| 71 | 159 |\n",
       "| 72 | 164 |\n",
       "\n",
       "\n",
       "\n",
       "\n"
      ],
      "text/plain": [
       "$data1\n",
       "[1] 3 2 3\n",
       "\n",
       "$data2\n",
       "[1] 7 7\n",
       "\n",
       "$data3\n",
       "   height weight\n",
       "1      58    115\n",
       "2      59    117\n",
       "3      60    120\n",
       "4      61    123\n",
       "5      62    126\n",
       "6      63    129\n",
       "7      64    132\n",
       "8      65    135\n",
       "9      66    139\n",
       "10     67    142\n",
       "11     68    146\n",
       "12     69    150\n",
       "13     70    154\n",
       "14     71    159\n",
       "15     72    164\n"
      ]
     },
     "metadata": {},
     "output_type": "display_data"
    }
   ],
   "source": [
    "x <-c(3, 2, 3)\n",
    "y <-c(7, 7)\n",
    "z <-list(data1 = x, data2 = y, data3 = women)\n",
    "z"
   ]
  },
  {
   "cell_type": "code",
   "execution_count": 56,
   "metadata": {},
   "outputs": [
    {
     "data": {
      "text/html": [
       "<style>\n",
       ".list-inline {list-style: none; margin:0; padding: 0}\n",
       ".list-inline>li {display: inline-block}\n",
       ".list-inline>li:not(:last-child)::after {content: \"\\00b7\"; padding: 0 .5ex}\n",
       "</style>\n",
       "<ol class=list-inline><li>58</li><li>59</li><li>60</li><li>61</li><li>62</li><li>63</li><li>64</li><li>65</li><li>66</li><li>67</li><li>68</li><li>69</li><li>70</li><li>71</li><li>72</li></ol>\n"
      ],
      "text/latex": [
       "\\begin{enumerate*}\n",
       "\\item 58\n",
       "\\item 59\n",
       "\\item 60\n",
       "\\item 61\n",
       "\\item 62\n",
       "\\item 63\n",
       "\\item 64\n",
       "\\item 65\n",
       "\\item 66\n",
       "\\item 67\n",
       "\\item 68\n",
       "\\item 69\n",
       "\\item 70\n",
       "\\item 71\n",
       "\\item 72\n",
       "\\end{enumerate*}\n"
      ],
      "text/markdown": [
       "1. 58\n",
       "2. 59\n",
       "3. 60\n",
       "4. 61\n",
       "5. 62\n",
       "6. 63\n",
       "7. 64\n",
       "8. 65\n",
       "9. 66\n",
       "10. 67\n",
       "11. 68\n",
       "12. 69\n",
       "13. 70\n",
       "14. 71\n",
       "15. 72\n",
       "\n",
       "\n"
      ],
      "text/plain": [
       " [1] 58 59 60 61 62 63 64 65 66 67 68 69 70 71 72"
      ]
     },
     "metadata": {},
     "output_type": "display_data"
    }
   ],
   "source": [
    "z$data3$height"
   ]
  },
  {
   "cell_type": "markdown",
   "metadata": {},
   "source": [
    "Como ven, es posible tener dataframes como elementos de una lista. En general, de hecho, se pueden tener listas de listas. Esto sirve para organizar muchas veces salidas complejas de funciones que calculen muchas cosas, por ejemplo, la regresión lineal:"
   ]
  },
  {
   "cell_type": "code",
   "execution_count": 57,
   "metadata": {},
   "outputs": [
    {
     "data": {
      "text/html": [
       "<table>\n",
       "<caption>A data.frame: 6 × 11</caption>\n",
       "<thead>\n",
       "\t<tr><th></th><th scope=col>mpg</th><th scope=col>cyl</th><th scope=col>disp</th><th scope=col>hp</th><th scope=col>drat</th><th scope=col>wt</th><th scope=col>qsec</th><th scope=col>vs</th><th scope=col>am</th><th scope=col>gear</th><th scope=col>carb</th></tr>\n",
       "\t<tr><th></th><th scope=col>&lt;dbl&gt;</th><th scope=col>&lt;dbl&gt;</th><th scope=col>&lt;dbl&gt;</th><th scope=col>&lt;dbl&gt;</th><th scope=col>&lt;dbl&gt;</th><th scope=col>&lt;dbl&gt;</th><th scope=col>&lt;dbl&gt;</th><th scope=col>&lt;dbl&gt;</th><th scope=col>&lt;dbl&gt;</th><th scope=col>&lt;dbl&gt;</th><th scope=col>&lt;dbl&gt;</th></tr>\n",
       "</thead>\n",
       "<tbody>\n",
       "\t<tr><th scope=row>Mazda RX4</th><td>21.0</td><td>6</td><td>160</td><td>110</td><td>3.90</td><td>2.620</td><td>16.46</td><td>0</td><td>1</td><td>4</td><td>4</td></tr>\n",
       "\t<tr><th scope=row>Mazda RX4 Wag</th><td>21.0</td><td>6</td><td>160</td><td>110</td><td>3.90</td><td>2.875</td><td>17.02</td><td>0</td><td>1</td><td>4</td><td>4</td></tr>\n",
       "\t<tr><th scope=row>Datsun 710</th><td>22.8</td><td>4</td><td>108</td><td> 93</td><td>3.85</td><td>2.320</td><td>18.61</td><td>1</td><td>1</td><td>4</td><td>1</td></tr>\n",
       "\t<tr><th scope=row>Hornet 4 Drive</th><td>21.4</td><td>6</td><td>258</td><td>110</td><td>3.08</td><td>3.215</td><td>19.44</td><td>1</td><td>0</td><td>3</td><td>1</td></tr>\n",
       "\t<tr><th scope=row>Hornet Sportabout</th><td>18.7</td><td>8</td><td>360</td><td>175</td><td>3.15</td><td>3.440</td><td>17.02</td><td>0</td><td>0</td><td>3</td><td>2</td></tr>\n",
       "\t<tr><th scope=row>Valiant</th><td>18.1</td><td>6</td><td>225</td><td>105</td><td>2.76</td><td>3.460</td><td>20.22</td><td>1</td><td>0</td><td>3</td><td>1</td></tr>\n",
       "</tbody>\n",
       "</table>\n"
      ],
      "text/latex": [
       "A data.frame: 6 × 11\n",
       "\\begin{tabular}{r|lllllllllll}\n",
       "  & mpg & cyl & disp & hp & drat & wt & qsec & vs & am & gear & carb\\\\\n",
       "  & <dbl> & <dbl> & <dbl> & <dbl> & <dbl> & <dbl> & <dbl> & <dbl> & <dbl> & <dbl> & <dbl>\\\\\n",
       "\\hline\n",
       "\tMazda RX4 & 21.0 & 6 & 160 & 110 & 3.90 & 2.620 & 16.46 & 0 & 1 & 4 & 4\\\\\n",
       "\tMazda RX4 Wag & 21.0 & 6 & 160 & 110 & 3.90 & 2.875 & 17.02 & 0 & 1 & 4 & 4\\\\\n",
       "\tDatsun 710 & 22.8 & 4 & 108 &  93 & 3.85 & 2.320 & 18.61 & 1 & 1 & 4 & 1\\\\\n",
       "\tHornet 4 Drive & 21.4 & 6 & 258 & 110 & 3.08 & 3.215 & 19.44 & 1 & 0 & 3 & 1\\\\\n",
       "\tHornet Sportabout & 18.7 & 8 & 360 & 175 & 3.15 & 3.440 & 17.02 & 0 & 0 & 3 & 2\\\\\n",
       "\tValiant & 18.1 & 6 & 225 & 105 & 2.76 & 3.460 & 20.22 & 1 & 0 & 3 & 1\\\\\n",
       "\\end{tabular}\n"
      ],
      "text/markdown": [
       "\n",
       "A data.frame: 6 × 11\n",
       "\n",
       "| <!--/--> | mpg &lt;dbl&gt; | cyl &lt;dbl&gt; | disp &lt;dbl&gt; | hp &lt;dbl&gt; | drat &lt;dbl&gt; | wt &lt;dbl&gt; | qsec &lt;dbl&gt; | vs &lt;dbl&gt; | am &lt;dbl&gt; | gear &lt;dbl&gt; | carb &lt;dbl&gt; |\n",
       "|---|---|---|---|---|---|---|---|---|---|---|---|\n",
       "| Mazda RX4 | 21.0 | 6 | 160 | 110 | 3.90 | 2.620 | 16.46 | 0 | 1 | 4 | 4 |\n",
       "| Mazda RX4 Wag | 21.0 | 6 | 160 | 110 | 3.90 | 2.875 | 17.02 | 0 | 1 | 4 | 4 |\n",
       "| Datsun 710 | 22.8 | 4 | 108 |  93 | 3.85 | 2.320 | 18.61 | 1 | 1 | 4 | 1 |\n",
       "| Hornet 4 Drive | 21.4 | 6 | 258 | 110 | 3.08 | 3.215 | 19.44 | 1 | 0 | 3 | 1 |\n",
       "| Hornet Sportabout | 18.7 | 8 | 360 | 175 | 3.15 | 3.440 | 17.02 | 0 | 0 | 3 | 2 |\n",
       "| Valiant | 18.1 | 6 | 225 | 105 | 2.76 | 3.460 | 20.22 | 1 | 0 | 3 | 1 |\n",
       "\n"
      ],
      "text/plain": [
       "                  mpg  cyl disp hp  drat wt    qsec  vs am gear carb\n",
       "Mazda RX4         21.0 6   160  110 3.90 2.620 16.46 0  1  4    4   \n",
       "Mazda RX4 Wag     21.0 6   160  110 3.90 2.875 17.02 0  1  4    4   \n",
       "Datsun 710        22.8 4   108   93 3.85 2.320 18.61 1  1  4    1   \n",
       "Hornet 4 Drive    21.4 6   258  110 3.08 3.215 19.44 1  0  3    1   \n",
       "Hornet Sportabout 18.7 8   360  175 3.15 3.440 17.02 0  0  3    2   \n",
       "Valiant           18.1 6   225  105 2.76 3.460 20.22 1  0  3    1   "
      ]
     },
     "metadata": {},
     "output_type": "display_data"
    }
   ],
   "source": [
    "head(mtcars)"
   ]
  },
  {
   "cell_type": "code",
   "execution_count": 58,
   "metadata": {},
   "outputs": [
    {
     "data": {
      "image/png": "[encoded data removed]",
      "text/plain": [
       "plot without title"
      ]
     },
     "metadata": {
      "image/png": {
       "height": 420,
       "width": 420
      },
      "text/plain": {
       "height": 420,
       "width": 420
      }
     },
     "output_type": "display_data"
    }
   ],
   "source": [
    "plot(mtcars)"
   ]
  },
  {
   "cell_type": "code",
   "execution_count": 59,
   "metadata": {},
   "outputs": [
    {
     "data": {
      "image/png": "[encoded data removed]",
      "text/plain": [
       "plot without title"
      ]
     },
     "metadata": {
      "image/png": {
       "height": 420,
       "width": 420
      },
      "text/plain": {
       "height": 420,
       "width": 420
      }
     },
     "output_type": "display_data"
    }
   ],
   "source": [
    "plot(mtcars$wt, mtcars$disp)"
   ]
  },
  {
   "cell_type": "code",
   "execution_count": 3,
   "metadata": {},
   "outputs": [],
   "source": [
    "#model <- lm(mtcars$disp ~ mtcars$wt + mtcars$hp)\n",
    "model <- lm(mtcars$disp ~ mtcars$wt)"
   ]
  },
  {
   "cell_type": "code",
   "execution_count": 4,
   "metadata": {},
   "outputs": [
    {
     "data": {
      "text/plain": [
       "\n",
       "Call:\n",
       "lm(formula = mtcars$disp ~ mtcars$wt)\n",
       "\n",
       "Residuals:\n",
       "   Min     1Q Median     3Q    Max \n",
       "-88.18 -33.62 -10.05  35.15 125.59 \n",
       "\n",
       "Coefficients:\n",
       "            Estimate Std. Error t value Pr(>|t|)    \n",
       "(Intercept)  -131.15      35.72  -3.672 0.000933 ***\n",
       "mtcars$wt     112.48      10.64  10.576 1.22e-11 ***\n",
       "---\n",
       "Signif. codes:  0 ‘***’ 0.001 ‘**’ 0.01 ‘*’ 0.05 ‘.’ 0.1 ‘ ’ 1\n",
       "\n",
       "Residual standard error: 57.94 on 30 degrees of freedom\n",
       "Multiple R-squared:  0.7885,\tAdjusted R-squared:  0.7815 \n",
       "F-statistic: 111.8 on 1 and 30 DF,  p-value: 1.222e-11\n"
      ]
     },
     "metadata": {},
     "output_type": "display_data"
    }
   ],
   "source": [
    "summary(model)"
   ]
  },
  {
   "cell_type": "code",
   "execution_count": 5,
   "metadata": {},
   "outputs": [
    {
     "name": "stdout",
     "output_type": "stream",
     "text": [
      "List of 12\n",
      " $ coefficients : Named num [1:2] -131 112\n",
      "  ..- attr(*, \"names\")= chr [1:2] \"(Intercept)\" \"mtcars$wt\"\n",
      " $ residuals    : Named num [1:32] -3.54 -32.23 -21.8 27.53 104.22 ...\n",
      "  ..- attr(*, \"names\")= chr [1:32] \"1\" \"2\" \"3\" \"4\" ...\n",
      " $ effects      : Named num [1:32] -1305.2 612.8 -16.8 27.6 103 ...\n",
      "  ..- attr(*, \"names\")= chr [1:32] \"(Intercept)\" \"mtcars$wt\" \"\" \"\" ...\n",
      " $ rank         : int 2\n",
      " $ fitted.values: Named num [1:32] 164 192 130 230 256 ...\n",
      "  ..- attr(*, \"names\")= chr [1:32] \"1\" \"2\" \"3\" \"4\" ...\n",
      " $ assign       : int [1:2] 0 1\n",
      " $ qr           :List of 5\n",
      "  ..$ qr   : num [1:32, 1:2] -5.657 0.177 0.177 0.177 0.177 ...\n",
      "  .. ..- attr(*, \"dimnames\")=List of 2\n",
      "  .. .. ..$ : chr [1:32] \"1\" \"2\" \"3\" \"4\" ...\n",
      "  .. .. ..$ : chr [1:2] \"(Intercept)\" \"mtcars$wt\"\n",
      "  .. ..- attr(*, \"assign\")= int [1:2] 0 1\n",
      "  ..$ qraux: num [1:2] 1.18 1.05\n",
      "  ..$ pivot: int [1:2] 1 2\n",
      "  ..$ tol  : num 1e-07\n",
      "  ..$ rank : int 2\n",
      "  ..- attr(*, \"class\")= chr \"qr\"\n",
      " $ df.residual  : int 30\n",
      " $ xlevels      : Named list()\n",
      " $ call         : language lm(formula = mtcars$disp ~ mtcars$wt)\n",
      " $ terms        :Classes 'terms', 'formula'  language mtcars$disp ~ mtcars$wt\n",
      "  .. ..- attr(*, \"variables\")= language list(mtcars$disp, mtcars$wt)\n",
      "  .. ..- attr(*, \"factors\")= int [1:2, 1] 0 1\n",
      "  .. .. ..- attr(*, \"dimnames\")=List of 2\n",
      "  .. .. .. ..$ : chr [1:2] \"mtcars$disp\" \"mtcars$wt\"\n",
      "  .. .. .. ..$ : chr \"mtcars$wt\"\n",
      "  .. ..- attr(*, \"term.labels\")= chr \"mtcars$wt\"\n",
      "  .. ..- attr(*, \"order\")= int 1\n",
      "  .. ..- attr(*, \"intercept\")= int 1\n",
      "  .. ..- attr(*, \"response\")= int 1\n",
      "  .. ..- attr(*, \".Environment\")=<environment: R_GlobalEnv> \n",
      "  .. ..- attr(*, \"predvars\")= language list(mtcars$disp, mtcars$wt)\n",
      "  .. ..- attr(*, \"dataClasses\")= Named chr [1:2] \"numeric\" \"numeric\"\n",
      "  .. .. ..- attr(*, \"names\")= chr [1:2] \"mtcars$disp\" \"mtcars$wt\"\n",
      " $ model        :'data.frame':\t32 obs. of  2 variables:\n",
      "  ..$ mtcars$disp: num [1:32] 160 160 108 258 360 ...\n",
      "  ..$ mtcars$wt  : num [1:32] 2.62 2.88 2.32 3.21 3.44 ...\n",
      "  ..- attr(*, \"terms\")=Classes 'terms', 'formula'  language mtcars$disp ~ mtcars$wt\n",
      "  .. .. ..- attr(*, \"variables\")= language list(mtcars$disp, mtcars$wt)\n",
      "  .. .. ..- attr(*, \"factors\")= int [1:2, 1] 0 1\n",
      "  .. .. .. ..- attr(*, \"dimnames\")=List of 2\n",
      "  .. .. .. .. ..$ : chr [1:2] \"mtcars$disp\" \"mtcars$wt\"\n",
      "  .. .. .. .. ..$ : chr \"mtcars$wt\"\n",
      "  .. .. ..- attr(*, \"term.labels\")= chr \"mtcars$wt\"\n",
      "  .. .. ..- attr(*, \"order\")= int 1\n",
      "  .. .. ..- attr(*, \"intercept\")= int 1\n",
      "  .. .. ..- attr(*, \"response\")= int 1\n",
      "  .. .. ..- attr(*, \".Environment\")=<environment: R_GlobalEnv> \n",
      "  .. .. ..- attr(*, \"predvars\")= language list(mtcars$disp, mtcars$wt)\n",
      "  .. .. ..- attr(*, \"dataClasses\")= Named chr [1:2] \"numeric\" \"numeric\"\n",
      "  .. .. .. ..- attr(*, \"names\")= chr [1:2] \"mtcars$disp\" \"mtcars$wt\"\n",
      " - attr(*, \"class\")= chr \"lm\"\n"
     ]
    }
   ],
   "source": [
    "str(model)"
   ]
  },
  {
   "cell_type": "code",
   "execution_count": 6,
   "metadata": {},
   "outputs": [
    {
     "data": {
      "text/html": [
       "<style>\n",
       ".dl-inline {width: auto; margin:0; padding: 0}\n",
       ".dl-inline>dt, .dl-inline>dd {float: none; width: auto; display: inline-block}\n",
       ".dl-inline>dt::after {content: \":\\0020\"; padding-right: .5ex}\n",
       ".dl-inline>dt:not(:first-of-type) {padding-left: .5ex}\n",
       "</style><dl class=dl-inline><dt>(Intercept)</dt><dd>-131.148415758433</dd><dt>mtcars$wt</dt><dd>112.478138397213</dd></dl>\n"
      ],
      "text/latex": [
       "\\begin{description*}\n",
       "\\item[(Intercept)] -131.148415758433\n",
       "\\item[mtcars\\textbackslash{}\\$wt] 112.478138397213\n",
       "\\end{description*}\n"
      ],
      "text/markdown": [
       "(Intercept)\n",
       ":   -131.148415758433mtcars$wt\n",
       ":   112.478138397213\n",
       "\n"
      ],
      "text/plain": [
       "(Intercept)   mtcars$wt \n",
       "  -131.1484    112.4781 "
      ]
     },
     "metadata": {},
     "output_type": "display_data"
    }
   ],
   "source": [
    "model$coefficients"
   ]
  },
  {
   "cell_type": "code",
   "execution_count": 7,
   "metadata": {},
   "outputs": [
    {
     "data": {
      "image/png": "[encoded data removed]",
      "text/plain": [
       "plot without title"
      ]
     },
     "metadata": {
      "image/png": {
       "height": 420,
       "width": 420
      },
      "text/plain": {
       "height": 420,
       "width": 420
      }
     },
     "output_type": "display_data"
    }
   ],
   "source": [
    "plot(mtcars$wt, mtcars$disp)\n",
    "abline(model$coefficients)"
   ]
  },
  {
   "cell_type": "code",
   "execution_count": 8,
   "metadata": {},
   "outputs": [
    {
     "data": {
      "text/html": [
       "<style>\n",
       ".dl-inline {width: auto; margin:0; padding: 0}\n",
       ".dl-inline>dt, .dl-inline>dd {float: none; width: auto; display: inline-block}\n",
       ".dl-inline>dt::after {content: \":\\0020\"; padding-right: .5ex}\n",
       ".dl-inline>dt:not(:first-of-type) {padding-left: .5ex}\n",
       "</style><dl class=dl-inline><dt>1</dt><dd>-3.54430684226465</dd><dt>2</dt><dd>-32.2262321335539</dd><dt>3</dt><dd>-21.8008653231009</dd><dt>4</dt><dd>27.5312008113937</dd><dt>5</dt><dd>104.223619672021</dd><dt>6</dt><dd>-33.0259430959234</dd><dt>7</dt><dd>89.6014616803832</dd><dt>8</dt><dd>-80.956845728676</dd><dt>9</dt><dd>-82.3577201927874</dd><dt>10</dt><dd>-88.1763803279791</dd><dt>11</dt><dd>-88.1763803279791</dd><dt>12</dt><dd>-50.8376075182232</dd><dt>13</dt><dd>-12.5950404631708</dd><dt>14</dt><dd>-18.2189473830314</dd><dt>15</dt><dd>12.6381891730659</dd><dt>16</dt><dd>-18.9330069080492</dd><dt>17</dt><dd>-30.0472339746693</dd><dt>18</dt><dd>-37.6034887154354</dd><dt>19</dt><dd>25.1962222469341</dd><dt>20</dt><dd>-4.14896820045274</dd><dt>21</dt><dd>-26.0101953906967</dd><dt>22</dt><dd>53.2253686002438</dd><dt>23</dt><dd>48.7860103640069</dd><dt>24</dt><dd>49.2323643131358</dd><dt>25</dt><dd>98.6699736211497</dd><dt>26</dt><dd>-7.49678204017402</dd><dt>27</dt><dd>10.7451995883974</dd><dt>28</dt><dd>56.0689923634498</dd><dt>29</dt><dd>125.592717039268</dd><dt>30</dt><dd>-35.4160276018466</dd><dt>31</dt><dd>30.6014616803832</dd><dt>32</dt><dd>-60.5408089858187</dd></dl>\n"
      ],
      "text/latex": [
       "\\begin{description*}\n",
       "\\item[1] -3.54430684226465\n",
       "\\item[2] -32.2262321335539\n",
       "\\item[3] -21.8008653231009\n",
       "\\item[4] 27.5312008113937\n",
       "\\item[5] 104.223619672021\n",
       "\\item[6] -33.0259430959234\n",
       "\\item[7] 89.6014616803832\n",
       "\\item[8] -80.956845728676\n",
       "\\item[9] -82.3577201927874\n",
       "\\item[10] -88.1763803279791\n",
       "\\item[11] -88.1763803279791\n",
       "\\item[12] -50.8376075182232\n",
       "\\item[13] -12.5950404631708\n",
       "\\item[14] -18.2189473830314\n",
       "\\item[15] 12.6381891730659\n",
       "\\item[16] -18.9330069080492\n",
       "\\item[17] -30.0472339746693\n",
       "\\item[18] -37.6034887154354\n",
       "\\item[19] 25.1962222469341\n",
       "\\item[20] -4.14896820045274\n",
       "\\item[21] -26.0101953906967\n",
       "\\item[22] 53.2253686002438\n",
       "\\item[23] 48.7860103640069\n",
       "\\item[24] 49.2323643131358\n",
       "\\item[25] 98.6699736211497\n",
       "\\item[26] -7.49678204017402\n",
       "\\item[27] 10.7451995883974\n",
       "\\item[28] 56.0689923634498\n",
       "\\item[29] 125.592717039268\n",
       "\\item[30] -35.4160276018466\n",
       "\\item[31] 30.6014616803832\n",
       "\\item[32] -60.5408089858187\n",
       "\\end{description*}\n"
      ],
      "text/markdown": [
       "1\n",
       ":   -3.544306842264652\n",
       ":   -32.22623213355393\n",
       ":   -21.80086532310094\n",
       ":   27.53120081139375\n",
       ":   104.2236196720216\n",
       ":   -33.02594309592347\n",
       ":   89.60146168038328\n",
       ":   -80.9568457286769\n",
       ":   -82.357720192787410\n",
       ":   -88.176380327979111\n",
       ":   -88.176380327979112\n",
       ":   -50.837607518223213\n",
       ":   -12.595040463170814\n",
       ":   -18.218947383031415\n",
       ":   12.638189173065916\n",
       ":   -18.933006908049217\n",
       ":   -30.047233974669318\n",
       ":   -37.603488715435419\n",
       ":   25.196222246934120\n",
       ":   -4.1489682004527421\n",
       ":   -26.010195390696722\n",
       ":   53.225368600243823\n",
       ":   48.786010364006924\n",
       ":   49.232364313135825\n",
       ":   98.669973621149726\n",
       ":   -7.4967820401740227\n",
       ":   10.745199588397428\n",
       ":   56.068992363449829\n",
       ":   125.59271703926830\n",
       ":   -35.416027601846631\n",
       ":   30.601461680383232\n",
       ":   -60.5408089858187\n",
       "\n"
      ],
      "text/plain": [
       "         1          2          3          4          5          6          7 \n",
       " -3.544307 -32.226232 -21.800865  27.531201 104.223620 -33.025943  89.601462 \n",
       "         8          9         10         11         12         13         14 \n",
       "-80.956846 -82.357720 -88.176380 -88.176380 -50.837608 -12.595040 -18.218947 \n",
       "        15         16         17         18         19         20         21 \n",
       " 12.638189 -18.933007 -30.047234 -37.603489  25.196222  -4.148968 -26.010195 \n",
       "        22         23         24         25         26         27         28 \n",
       " 53.225369  48.786010  49.232364  98.669974  -7.496782  10.745200  56.068992 \n",
       "        29         30         31         32 \n",
       "125.592717 -35.416028  30.601462 -60.540809 "
      ]
     },
     "metadata": {},
     "output_type": "display_data"
    }
   ],
   "source": [
    "model$residuals"
   ]
  },
  {
   "cell_type": "markdown",
   "metadata": {},
   "source": [
    "Al igual que los dataframes, las listas pueden ser argumentos de la función `summary()`, para obtener información general fácil"
   ]
  },
  {
   "cell_type": "code",
   "execution_count": 9,
   "metadata": {},
   "outputs": [
    {
     "data": {
      "text/plain": [
       "\n",
       "Call:\n",
       "lm(formula = mtcars$disp ~ mtcars$wt)\n",
       "\n",
       "Residuals:\n",
       "   Min     1Q Median     3Q    Max \n",
       "-88.18 -33.62 -10.05  35.15 125.59 \n",
       "\n",
       "Coefficients:\n",
       "            Estimate Std. Error t value Pr(>|t|)    \n",
       "(Intercept)  -131.15      35.72  -3.672 0.000933 ***\n",
       "mtcars$wt     112.48      10.64  10.576 1.22e-11 ***\n",
       "---\n",
       "Signif. codes:  0 ‘***’ 0.001 ‘**’ 0.01 ‘*’ 0.05 ‘.’ 0.1 ‘ ’ 1\n",
       "\n",
       "Residual standard error: 57.94 on 30 degrees of freedom\n",
       "Multiple R-squared:  0.7885,\tAdjusted R-squared:  0.7815 \n",
       "F-statistic: 111.8 on 1 and 30 DF,  p-value: 1.222e-11\n"
      ]
     },
     "metadata": {},
     "output_type": "display_data"
    }
   ],
   "source": [
    "summary(model)"
   ]
  },
  {
   "cell_type": "markdown",
   "metadata": {},
   "source": [
    "Vemos que tanto el $R^2$ es relativamente bajo como los errores en los estimadores son altos (especialmente el del intercepto). Eso, junto con análisis posibles en los residuales, nos puede dar indicio de que estamos utilizamos un modelo equivocado. Probando ahora sin intercepto:"
   ]
  },
  {
   "cell_type": "code",
   "execution_count": 10,
   "metadata": {},
   "outputs": [
    {
     "data": {
      "text/plain": [
       "\n",
       "Call:\n",
       "lm(formula = mtcars$disp ~ mtcars$wt - 1)\n",
       "\n",
       "Residuals:\n",
       "   Min     1Q Median     3Q    Max \n",
       "-95.66 -66.18 -32.22  47.82 113.04 \n",
       "\n",
       "Coefficients:\n",
       "          Estimate Std. Error t value Pr(>|t|)    \n",
       "mtcars$wt   75.066      3.612   20.78   <2e-16 ***\n",
       "---\n",
       "Signif. codes:  0 ‘***’ 0.001 ‘**’ 0.01 ‘*’ 0.05 ‘.’ 0.1 ‘ ’ 1\n",
       "\n",
       "Residual standard error: 68.62 on 31 degrees of freedom\n",
       "Multiple R-squared:  0.933,\tAdjusted R-squared:  0.9309 \n",
       "F-statistic: 431.9 on 1 and 31 DF,  p-value: < 2.2e-16\n"
      ]
     },
     "metadata": {},
     "output_type": "display_data"
    }
   ],
   "source": [
    "model2 <- lm(mtcars$disp ~ mtcars$wt - 1)\n",
    "summary(model2)"
   ]
  },
  {
   "cell_type": "markdown",
   "metadata": {},
   "source": [
    "### Operaciones con listas"
   ]
  },
  {
   "cell_type": "code",
   "execution_count": 16,
   "metadata": {},
   "outputs": [
    {
     "data": {
      "text/html": [
       "<dl>\n",
       "\t<dt>$data1</dt>\n",
       "\t\t<dd><style>\n",
       ".list-inline {list-style: none; margin:0; padding: 0}\n",
       ".list-inline>li {display: inline-block}\n",
       ".list-inline>li:not(:last-child)::after {content: \"\\00b7\"; padding: 0 .5ex}\n",
       "</style>\n",
       "<ol class=list-inline><li>3</li><li>2</li><li>3</li></ol>\n",
       "</dd>\n",
       "\t<dt>$data2</dt>\n",
       "\t\t<dd><style>\n",
       ".list-inline {list-style: none; margin:0; padding: 0}\n",
       ".list-inline>li {display: inline-block}\n",
       ".list-inline>li:not(:last-child)::after {content: \"\\00b7\"; padding: 0 .5ex}\n",
       "</style>\n",
       "<ol class=list-inline><li>7</li><li>7</li></ol>\n",
       "</dd>\n",
       "</dl>\n"
      ],
      "text/latex": [
       "\\begin{description}\n",
       "\\item[\\$data1] \\begin{enumerate*}\n",
       "\\item 3\n",
       "\\item 2\n",
       "\\item 3\n",
       "\\end{enumerate*}\n",
       "\n",
       "\\item[\\$data2] \\begin{enumerate*}\n",
       "\\item 7\n",
       "\\item 7\n",
       "\\end{enumerate*}\n",
       "\n",
       "\\end{description}\n"
      ],
      "text/markdown": [
       "$data1\n",
       ":   1. 3\n",
       "2. 2\n",
       "3. 3\n",
       "\n",
       "\n",
       "\n",
       "$data2\n",
       ":   1. 7\n",
       "2. 7\n",
       "\n",
       "\n",
       "\n",
       "\n",
       "\n"
      ],
      "text/plain": [
       "$data1\n",
       "[1] 3 2 3\n",
       "\n",
       "$data2\n",
       "[1] 7 7\n"
      ]
     },
     "metadata": {},
     "output_type": "display_data"
    }
   ],
   "source": [
    "x <-c(3, 2, 3)\n",
    "y <-c(7, 7)\n",
    "z <-list(data1 = x, data2 = y)\n",
    "z"
   ]
  },
  {
   "cell_type": "markdown",
   "metadata": {},
   "source": [
    "La función `lapply`, que significa **list apply**, aplica una función específica a cada miembro de una lista, y retorna otra lista con los resultados:"
   ]
  },
  {
   "cell_type": "code",
   "execution_count": 17,
   "metadata": {
    "scrolled": true
   },
   "outputs": [
    {
     "data": {
      "text/html": [
       "<dl>\n",
       "\t<dt>$data1</dt>\n",
       "\t\t<dd>2.66666666666667</dd>\n",
       "\t<dt>$data2</dt>\n",
       "\t\t<dd>7</dd>\n",
       "</dl>\n"
      ],
      "text/latex": [
       "\\begin{description}\n",
       "\\item[\\$data1] 2.66666666666667\n",
       "\\item[\\$data2] 7\n",
       "\\end{description}\n"
      ],
      "text/markdown": [
       "$data1\n",
       ":   2.66666666666667\n",
       "$data2\n",
       ":   7\n",
       "\n",
       "\n"
      ],
      "text/plain": [
       "$data1\n",
       "[1] 2.666667\n",
       "\n",
       "$data2\n",
       "[1] 7\n"
      ]
     },
     "metadata": {},
     "output_type": "display_data"
    },
    {
     "data": {
      "text/html": [
       "'list'"
      ],
      "text/latex": [
       "'list'"
      ],
      "text/markdown": [
       "'list'"
      ],
      "text/plain": [
       "[1] \"list\""
      ]
     },
     "metadata": {},
     "output_type": "display_data"
    }
   ],
   "source": [
    "lapply(z, mean)\n",
    "mode(lapply(z, mean))"
   ]
  },
  {
   "cell_type": "markdown",
   "metadata": {},
   "source": [
    "En contraste, tenemos la función `vapply`, **vector apply**, que realmente toma también una lista como argumento, y le aplica una función a cada miembro, pero esta vez retornando un vector. El último argumento (en este caso 1) le indica a R qué forma esperar del resultado de la función aplicada, para fines de hacer shaping al resultado."
   ]
  },
  {
   "cell_type": "code",
   "execution_count": 20,
   "metadata": {},
   "outputs": [
    {
     "data": {
      "text/html": [
       "<style>\n",
       ".dl-inline {width: auto; margin:0; padding: 0}\n",
       ".dl-inline>dt, .dl-inline>dd {float: none; width: auto; display: inline-block}\n",
       ".dl-inline>dt::after {content: \":\\0020\"; padding-right: .5ex}\n",
       ".dl-inline>dt:not(:first-of-type) {padding-left: .5ex}\n",
       "</style><dl class=dl-inline><dt>data1</dt><dd>2.66666666666667</dd><dt>data2</dt><dd>7</dd></dl>\n"
      ],
      "text/latex": [
       "\\begin{description*}\n",
       "\\item[data1] 2.66666666666667\n",
       "\\item[data2] 7\n",
       "\\end{description*}\n"
      ],
      "text/markdown": [
       "data1\n",
       ":   2.66666666666667data2\n",
       ":   7\n",
       "\n"
      ],
      "text/plain": [
       "   data1    data2 \n",
       "2.666667 7.000000 "
      ]
     },
     "metadata": {},
     "output_type": "display_data"
    },
    {
     "data": {
      "text/html": [
       "'numeric'"
      ],
      "text/latex": [
       "'numeric'"
      ],
      "text/markdown": [
       "'numeric'"
      ],
      "text/plain": [
       "[1] \"numeric\""
      ]
     },
     "metadata": {},
     "output_type": "display_data"
    }
   ],
   "source": [
    "vapply(z, mean, 1)\n",
    "mode(vapply(z, mean,1))"
   ]
  },
  {
   "cell_type": "code",
   "execution_count": 21,
   "metadata": {},
   "outputs": [],
   "source": [
    "?vapply"
   ]
  }
 ],
 "metadata": {
  "kernelspec": {
   "display_name": "R",
   "language": "R",
   "name": "ir"
  },
  "language_info": {
   "codemirror_mode": "r",
   "file_extension": ".r",
   "mimetype": "text/x-r-source",
   "name": "R",
   "pygments_lexer": "r",
   "version": "4.0.2"
  }
 },
 "nbformat": 4,
 "nbformat_minor": 4
}
