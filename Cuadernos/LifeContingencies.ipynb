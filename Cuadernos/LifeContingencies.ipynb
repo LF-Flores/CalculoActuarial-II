{
 "cells": [
  {
   "cell_type": "markdown",
   "metadata": {},
   "source": [
    "# Paquete: LifeContingencies\n",
    "\n",
    "El paquete `lifecontingencies` tiene muchas funciones relacionadas con cálculo actuarial general, y un enfoque en introducir una estrutura de datos conveniente para el manejo de tablas de vida como las vistas en clases teóricas.\n",
    "\n",
    "## Funciones básicas\n",
    "\n",
    "Tenemos una función que relaciona directamente los factores de de descuento, $d$, con los intereses efectivos, $i$ según la siguiente equivalencia:\n",
    "$$\n",
    "(1+i)^t = (1-d)^{-t}\n",
    "$$\n",
    "Cargamos la librería:"
   ]
  },
  {
   "cell_type": "code",
   "execution_count": 1,
   "metadata": {},
   "outputs": [
    {
     "name": "stderr",
     "output_type": "stream",
     "text": [
      "Package:  lifecontingencies\n",
      "Authors:  Giorgio Alfredo Spedicato [aut, cre]\n",
      "    (<https://orcid.org/0000-0002-0315-8888>),\n",
      "  Christophe Dutang [ctb] (<https://orcid.org/0000-0001-6732-1501>),\n",
      "  Reinhold Kainhofer [ctb] (<https://orcid.org/0000-0002-7895-1311>),\n",
      "  Kevin J Owens [ctb],\n",
      "  Ernesto Schirmacher [ctb],\n",
      "  Gian Paolo Clemente [ctb] (<https://orcid.org/0000-0001-6795-4595>),\n",
      "  Ivan Williams [ctb]\n",
      "Version:  1.3.6\n",
      "Date:     2019-03-05 23:50:03 UTC\n",
      "BugReport: http://github.com/spedygiorgio/lifecontingencies/issues\n",
      "\n",
      "\n"
     ]
    }
   ],
   "source": [
    "# install.package(\"lifecontingencies\")\n",
    "library(\"lifecontingencies\")"
   ]
  },
  {
   "cell_type": "markdown",
   "metadata": {},
   "source": [
    "Pasaremos de un interés efectivo (en la unidad de tiempo que sea), $i = 0.03$, hacia un factor de descuento, $d$, en las mismas unidades:"
   ]
  },
  {
   "cell_type": "code",
   "execution_count": 2,
   "metadata": {},
   "outputs": [
    {
     "data": {
      "text/html": [
       "0.029126213592233"
      ],
      "text/latex": [
       "0.029126213592233"
      ],
      "text/markdown": [
       "0.029126213592233"
      ],
      "text/plain": [
       "[1] 0.02912621"
      ]
     },
     "metadata": {},
     "output_type": "display_data"
    }
   ],
   "source": [
    "interest2Discount(0.03)"
   ]
  },
  {
   "cell_type": "markdown",
   "metadata": {},
   "source": [
    "Podemos también calcularlo de vuelta:"
   ]
  },
  {
   "cell_type": "code",
   "execution_count": 3,
   "metadata": {},
   "outputs": [
    {
     "data": {
      "text/html": [
       "0.03"
      ],
      "text/latex": [
       "0.03"
      ],
      "text/markdown": [
       "0.03"
      ],
      "text/plain": [
       "[1] 0.03"
      ]
     },
     "metadata": {},
     "output_type": "display_data"
    }
   ],
   "source": [
    "discount2Interest(interest2Discount(0.03))"
   ]
  },
  {
   "cell_type": "markdown",
   "metadata": {},
   "source": [
    "Podemos también transformar un interés convertible (según algún periodo de tiempo) hacia uno efectivo, en la misma unidad de tiempo. Es decir, bajo la relación:\n",
    "$$\n",
    "(1 + i)^t = \\left(1 + \\frac{i^{(k)}}{k} \\right)^t\n",
    "$$"
   ]
  },
  {
   "cell_type": "code",
   "execution_count": 4,
   "metadata": {},
   "outputs": [
    {
     "data": {
      "text/html": [
       "0.103812890625"
      ],
      "text/latex": [
       "0.103812890625"
      ],
      "text/markdown": [
       "0.103812890625"
      ],
      "text/plain": [
       "[1] 0.1038129"
      ]
     },
     "metadata": {},
     "output_type": "display_data"
    }
   ],
   "source": [
    "convertible2Effective(i=0.10, k=4)"
   ]
  },
  {
   "cell_type": "markdown",
   "metadata": {},
   "source": [
    "## Valores presentes y tasa interna de retorno\n",
    "\n",
    "Considere el siguiente flujo de dinero en los siguientes tiempo:"
   ]
  },
  {
   "cell_type": "code",
   "execution_count": 5,
   "metadata": {},
   "outputs": [],
   "source": [
    "capitales <- c(-1000,200,500,700)\n",
    "tiempos <- c(0,1,2,5)"
   ]
  },
  {
   "cell_type": "markdown",
   "metadata": {},
   "source": [
    "Podemos calcular el valor presente de ese flujo de dinero mediante la siguiente función"
   ]
  },
  {
   "cell_type": "code",
   "execution_count": 6,
   "metadata": {},
   "outputs": [
    {
     "data": {
      "text/html": [
       "269.298860917345"
      ],
      "text/latex": [
       "269.298860917345"
      ],
      "text/markdown": [
       "269.298860917345"
      ],
      "text/plain": [
       "[1] 269.2989"
      ]
     },
     "metadata": {},
     "output_type": "display_data"
    }
   ],
   "source": [
    "presentValue(cashFlows=capitales, timeIds=tiempos, interestRates=0.03)"
   ]
  },
  {
   "cell_type": "markdown",
   "metadata": {},
   "source": [
    "Podemos también considerar tasas de intereses variables a lo largo del lapso que cubre el flujo:"
   ]
  },
  {
   "cell_type": "code",
   "execution_count": 7,
   "metadata": {},
   "outputs": [
    {
     "data": {
      "text/html": [
       "215.844702467347"
      ],
      "text/latex": [
       "215.844702467347"
      ],
      "text/markdown": [
       "215.844702467347"
      ],
      "text/plain": [
       "[1] 215.8447"
      ]
     },
     "metadata": {},
     "output_type": "display_data"
    }
   ],
   "source": [
    "intereses <- c(0.04, 0.02, 0.03, 0.05)\n",
    "presentValue(cashFlows=capitales, timeIds=tiempos, interestRates=intereses)"
   ]
  },
  {
   "cell_type": "markdown",
   "metadata": {},
   "source": [
    "Esto es sumamente útil cuando los vectores `capitales` y `tiempos` sean considerados continuos (muchos valores en tiempos pequeños respecto a la longitud del lapso) y el interés se estime de variar acorde a una función $i(t)$, representado en `intereses`. \n",
    "\n",
    "Además. Se sabe que en la realidad los valores del flujo de dinero pueden no ser siempre seguros y tener cierto riesgo asociado y modelado aquí por una probabilidad de obtenerlo o no obtenerlo. Esto es posible también:"
   ]
  },
  {
   "cell_type": "code",
   "execution_count": 8,
   "metadata": {},
   "outputs": [
    {
     "data": {
      "text/html": [
       "102.174341402791"
      ],
      "text/latex": [
       "102.174341402791"
      ],
      "text/markdown": [
       "102.174341402791"
      ],
      "text/plain": [
       "[1] 102.1743"
      ]
     },
     "metadata": {},
     "output_type": "display_data"
    }
   ],
   "source": [
    "probabilidades <- c(1,0.7,1,0.9)\n",
    "presentValue(cashFlows=capitales, timeIds=tiempos, \n",
    "             interestRates=intereses, probabilities=probabilidades)"
   ]
  },
  {
   "cell_type": "markdown",
   "metadata": {},
   "source": [
    "En este caso el vector `probabilidades` puede contener una distribución de probabilidad. Por ejemplo:"
   ]
  },
  {
   "cell_type": "code",
   "execution_count": 9,
   "metadata": {},
   "outputs": [
    {
     "data": {
      "text/html": [
       "<style>\n",
       ".list-inline {list-style: none; margin:0; padding: 0}\n",
       ".list-inline>li {display: inline-block}\n",
       ".list-inline>li:not(:last-child)::after {content: \"\\00b7\"; padding: 0 .5ex}\n",
       "</style>\n",
       "<ol class=list-inline><li>0.348237790904497</li><li>0.815714243538871</li><li>0.664590366082464</li><li>0.802848092321224</li></ol>\n"
      ],
      "text/latex": [
       "\\begin{enumerate*}\n",
       "\\item 0.348237790904497\n",
       "\\item 0.815714243538871\n",
       "\\item 0.664590366082464\n",
       "\\item 0.802848092321224\n",
       "\\end{enumerate*}\n"
      ],
      "text/markdown": [
       "1. 0.348237790904497\n",
       "2. 0.815714243538871\n",
       "3. 0.664590366082464\n",
       "4. 0.802848092321224\n",
       "\n",
       "\n"
      ],
      "text/plain": [
       "[1] 0.3482378 0.8157142 0.6645904 0.8028481"
      ]
     },
     "metadata": {},
     "output_type": "display_data"
    },
    {
     "data": {
      "text/html": [
       "565.263000199442"
      ],
      "text/latex": [
       "565.263000199442"
      ],
      "text/markdown": [
       "565.263000199442"
      ],
      "text/plain": [
       "[1] 565.263"
      ]
     },
     "metadata": {},
     "output_type": "display_data"
    }
   ],
   "source": [
    "probabilidades <- pnorm(rnorm(4))\n",
    "probabilidades\n",
    "presentValue(cashFlows=capitales, timeIds=tiempos, \n",
    "             interestRates=intereses, probabilities=probabilidades)"
   ]
  },
  {
   "cell_type": "markdown",
   "metadata": {},
   "source": [
    "La tasa interna de retorno (IRR) es la tasa de interés que resulta en un valor presente de exactamente cero, manteniendo fijas las demás variables (los valores del flujo, la probabilidad, etc)"
   ]
  },
  {
   "cell_type": "code",
   "execution_count": 10,
   "metadata": {},
   "outputs": [
    {
     "data": {
      "text/html": [
       "0.110509104715224"
      ],
      "text/latex": [
       "0.110509104715224"
      ],
      "text/markdown": [
       "0.110509104715224"
      ],
      "text/plain": [
       "[1] 0.1105091"
      ]
     },
     "metadata": {},
     "output_type": "display_data"
    }
   ],
   "source": [
    "# Nos creamos una función igual al VP al cuadrado por motivos de optimización\n",
    "getIRR <- function(p) (presentValue(cashFlows=capitales,\n",
    "                                    timeIds=tiempos, interestRates=p))^2\n",
    "nlm(f=getIRR, p=0.1)$estimate"
   ]
  },
  {
   "cell_type": "code",
   "execution_count": 11,
   "metadata": {},
   "outputs": [
    {
     "name": "stdout",
     "output_type": "stream",
     "text": [
      "List of 5\n",
      " $ minimum   : num 1.9e-06\n",
      " $ estimate  : num 0.111\n",
      " $ gradient  : num 0.00704\n",
      " $ code      : int 2\n",
      " $ iterations: int 4\n"
     ]
    }
   ],
   "source": [
    "str(nlm(f=getIRR, p=0.1))"
   ]
  },
  {
   "cell_type": "code",
   "execution_count": 12,
   "metadata": {
    "collapsed": true,
    "jupyter": {
     "outputs_hidden": true
    }
   },
   "outputs": [
    {
     "data": {
      "text/html": [
       "\n",
       "<table width=\"100%\" summary=\"page for nlm {stats}\"><tr><td>nlm {stats}</td><td style=\"text-align: right;\">R Documentation</td></tr></table>\n",
       "\n",
       "<h2>Non-Linear Minimization</h2>\n",
       "\n",
       "<h3>Description</h3>\n",
       "\n",
       "<p>This function carries out a minimization of the function <code>f</code>\n",
       "using a Newton-type algorithm.  See the references for details.\n",
       "</p>\n",
       "\n",
       "\n",
       "<h3>Usage</h3>\n",
       "\n",
       "<pre>\n",
       "nlm(f, p, ..., hessian = FALSE, typsize = rep(1, length(p)),\n",
       "    fscale = 1, print.level = 0, ndigit = 12, gradtol = 1e-6,\n",
       "    stepmax = max(1000 * sqrt(sum((p/typsize)^2)), 1000),\n",
       "    steptol = 1e-6, iterlim = 100, check.analyticals = TRUE)\n",
       "</pre>\n",
       "\n",
       "\n",
       "<h3>Arguments</h3>\n",
       "\n",
       "<table summary=\"R argblock\">\n",
       "<tr valign=\"top\"><td><code>f</code></td>\n",
       "<td>\n",
       "<p>the function to be minimized, returning a single numeric\n",
       "value.  This should be a function with first argument a vector of\n",
       "the length of <code>p</code> followed by any other arguments specified by\n",
       "the <code>...</code> argument.\n",
       "</p>\n",
       "<p>If the function value has an attribute called <code>gradient</code> or\n",
       "both <code>gradient</code> and <code>hessian</code> attributes, these will be\n",
       "used in the calculation of updated parameter values.  Otherwise,\n",
       "numerical derivatives are used. <code>deriv</code> returns a\n",
       "function with suitable <code>gradient</code> attribute and optionally a\n",
       "<code>hessian</code> attribute.</p>\n",
       "</td></tr>\n",
       "<tr valign=\"top\"><td><code>p</code></td>\n",
       "<td>\n",
       "<p>starting parameter values for the minimization.</p>\n",
       "</td></tr>\n",
       "<tr valign=\"top\"><td><code>...</code></td>\n",
       "<td>\n",
       "<p>additional arguments to be passed to <code>f</code>.</p>\n",
       "</td></tr>\n",
       "<tr valign=\"top\"><td><code>hessian</code></td>\n",
       "<td>\n",
       "<p>if <code>TRUE</code>, the hessian of <code>f</code>\n",
       "at the minimum is returned.</p>\n",
       "</td></tr>\n",
       "<tr valign=\"top\"><td><code>typsize</code></td>\n",
       "<td>\n",
       "<p>an estimate of the size of each parameter\n",
       "at the minimum.</p>\n",
       "</td></tr>\n",
       "<tr valign=\"top\"><td><code>fscale</code></td>\n",
       "<td>\n",
       "<p>an estimate of the size of <code>f</code> at the minimum.</p>\n",
       "</td></tr>\n",
       "<tr valign=\"top\"><td><code>print.level</code></td>\n",
       "<td>\n",
       "<p>this argument determines the level of printing\n",
       "which is done during the minimization process.  The default\n",
       "value of <code>0</code> means that no printing occurs, a value of <code>1</code>\n",
       "means that initial and final details are printed and a value\n",
       "of 2 means that full tracing information is printed.</p>\n",
       "</td></tr>\n",
       "<tr valign=\"top\"><td><code>ndigit</code></td>\n",
       "<td>\n",
       "<p>the number of significant digits in the function <code>f</code>.</p>\n",
       "</td></tr>\n",
       "<tr valign=\"top\"><td><code>gradtol</code></td>\n",
       "<td>\n",
       "<p>a positive scalar giving the tolerance at which the\n",
       "scaled gradient is considered close enough to zero to\n",
       "terminate the algorithm.  The scaled gradient is a\n",
       "measure of the relative change in <code>f</code> in each direction\n",
       "<code>p[i]</code> divided by the relative change in <code>p[i]</code>.</p>\n",
       "</td></tr>\n",
       "<tr valign=\"top\"><td><code>stepmax</code></td>\n",
       "<td>\n",
       "<p>a positive scalar which gives the maximum allowable\n",
       "scaled step length.  <code>stepmax</code> is used to prevent steps which\n",
       "would cause the optimization function to overflow, to prevent the\n",
       "algorithm from leaving the area of interest in parameter space, or to\n",
       "detect divergence in the algorithm. <code>stepmax</code> would be chosen\n",
       "small enough to prevent the first two of these occurrences, but should\n",
       "be larger than any anticipated reasonable step.</p>\n",
       "</td></tr>\n",
       "<tr valign=\"top\"><td><code>steptol</code></td>\n",
       "<td>\n",
       "<p>A positive scalar providing the minimum allowable\n",
       "relative step length.</p>\n",
       "</td></tr>\n",
       "<tr valign=\"top\"><td><code>iterlim</code></td>\n",
       "<td>\n",
       "<p>a positive integer specifying the maximum number of\n",
       "iterations to be performed before the program is terminated.</p>\n",
       "</td></tr>\n",
       "<tr valign=\"top\"><td><code>check.analyticals</code></td>\n",
       "<td>\n",
       "<p>a logical scalar specifying whether the\n",
       "analytic gradients and Hessians, if they are supplied, should be\n",
       "checked against numerical derivatives at the initial parameter\n",
       "values. This can help detect incorrectly formulated gradients or\n",
       "Hessians.</p>\n",
       "</td></tr>\n",
       "</table>\n",
       "\n",
       "\n",
       "<h3>Details</h3>\n",
       "\n",
       "<p>Note that arguments after <code>...</code> must be matched exactly.\n",
       "</p>\n",
       "<p>If a gradient or hessian is supplied but evaluates to the wrong mode\n",
       "or length, it will be ignored if <code>check.analyticals = TRUE</code> (the\n",
       "default) with a warning.  The hessian is not even checked unless the\n",
       "gradient is present and passes the sanity checks.\n",
       "</p>\n",
       "<p>The C code for the &ldquo;perturbed&rdquo; cholesky, <code>choldc()</code> has\n",
       "had a bug in all <span style=\"font-family: Courier New, Courier; color: #666666;\"><b>R</b></span> versions before 3.4.1.\n",
       "</p>\n",
       "<p>From the three methods available in the original source, we always use\n",
       "method &ldquo;1&rdquo; which is line search.\n",
       "</p>\n",
       "<p>The functions supplied should always return finite (including not\n",
       "<code>NA</code> and not <code>NaN</code>) values: for the function value itself\n",
       "non-finite values are replaced by the maximum positive value with a warning.\n",
       "</p>\n",
       "\n",
       "\n",
       "<h3>Value</h3>\n",
       "\n",
       "<p>A list containing the following components:\n",
       "</p>\n",
       "<table summary=\"R valueblock\">\n",
       "<tr valign=\"top\"><td><code>minimum</code></td>\n",
       "<td>\n",
       "<p>the value of the estimated minimum of <code>f</code>.</p>\n",
       "</td></tr>\n",
       "<tr valign=\"top\"><td><code>estimate</code></td>\n",
       "<td>\n",
       "<p>the point at which the minimum value of\n",
       "<code>f</code> is obtained.</p>\n",
       "</td></tr>\n",
       "<tr valign=\"top\"><td><code>gradient</code></td>\n",
       "<td>\n",
       "<p>the gradient at the estimated minimum of <code>f</code>.</p>\n",
       "</td></tr>\n",
       "<tr valign=\"top\"><td><code>hessian</code></td>\n",
       "<td>\n",
       "<p>the hessian at the estimated minimum of <code>f</code> (if\n",
       "requested).</p>\n",
       "</td></tr>\n",
       "<tr valign=\"top\"><td><code>code</code></td>\n",
       "<td>\n",
       "<p>an integer indicating why the optimization process terminated.\n",
       "</p>\n",
       "\n",
       "<dl>\n",
       "<dt>1:</dt><dd><p>relative gradient is close to zero, current iterate is\n",
       "probably solution.</p>\n",
       "</dd>\n",
       "<dt>2:</dt><dd><p>successive iterates within tolerance, current iterate\n",
       "is probably solution.</p>\n",
       "</dd>\n",
       "<dt>3:</dt><dd><p>last global step failed to locate a point lower than\n",
       "<code>estimate</code>.  Either <code>estimate</code> is an approximate local\n",
       "minimum of the function or <code>steptol</code> is too small.</p>\n",
       "</dd>\n",
       "<dt>4:</dt><dd><p>iteration limit exceeded.</p>\n",
       "</dd>\n",
       "<dt>5:</dt><dd><p>maximum step size <code>stepmax</code> exceeded five consecutive\n",
       "times.  Either the function is unbounded below,\n",
       "becomes asymptotic to a finite value from above in\n",
       "some direction or <code>stepmax</code> is too small.</p>\n",
       "</dd>\n",
       "</dl>\n",
       "\n",
       "</td></tr>\n",
       "<tr valign=\"top\"><td><code>iterations</code></td>\n",
       "<td>\n",
       "<p>the number of iterations performed.</p>\n",
       "</td></tr>\n",
       "</table>\n",
       "\n",
       "\n",
       "<h3>Source</h3>\n",
       "\n",
       "<p>The current code is by Saikat DebRoy and the R Core team, using a C\n",
       "translation of Fortran code by Richard H. Jones.\n",
       "</p>\n",
       "\n",
       "\n",
       "<h3>References</h3>\n",
       "\n",
       "<p>Dennis, J. E. and Schnabel, R. B. (1983).\n",
       "<em>Numerical Methods for Unconstrained Optimization and Nonlinear\n",
       "Equations</em>.\n",
       "Prentice-Hall, Englewood Cliffs, NJ.\n",
       "</p>\n",
       "<p>Schnabel, R. B., Koontz, J. E. and Weiss, B. E. (1985).\n",
       "A modular system of algorithms for unconstrained minimization.\n",
       "<em>ACM Transactions on Mathematical Software</em>, <b>11</b>, 419&ndash;440.\n",
       "doi: <a href=\"https://doi.org/10.1145/6187.6192\">10.1145/6187.6192</a>.\n",
       "</p>\n",
       "\n",
       "\n",
       "<h3>See Also</h3>\n",
       "\n",
       "<p><code>optim</code> and <code>nlminb</code>.\n",
       "</p>\n",
       "<p><code>constrOptim</code> for constrained optimization,\n",
       "<code>optimize</code> for one-dimensional\n",
       "minimization and <code>uniroot</code> for root finding.\n",
       "<code>deriv</code> to calculate analytical derivatives.\n",
       "</p>\n",
       "<p>For nonlinear regression, <code>nls</code> may be better.\n",
       "</p>\n",
       "\n",
       "\n",
       "<h3>Examples</h3>\n",
       "\n",
       "<pre>\n",
       "f &lt;- function(x) sum((x-1:length(x))^2)\n",
       "nlm(f, c(10,10))\n",
       "nlm(f, c(10,10), print.level = 2)\n",
       "utils::str(nlm(f, c(5), hessian = TRUE))\n",
       "\n",
       "f &lt;- function(x, a) sum((x-a)^2)\n",
       "nlm(f, c(10,10), a = c(3,5))\n",
       "f &lt;- function(x, a)\n",
       "{\n",
       "    res &lt;- sum((x-a)^2)\n",
       "    attr(res, \"gradient\") &lt;- 2*(x-a)\n",
       "    res\n",
       "}\n",
       "nlm(f, c(10,10), a = c(3,5))\n",
       "\n",
       "## more examples, including the use of derivatives.\n",
       "## Not run: demo(nlm)\n",
       "</pre>\n",
       "\n",
       "<hr /><div style=\"text-align: center;\">[Package <em>stats</em> version 4.0.2 ]</div>"
      ],
      "text/latex": [
       "\\inputencoding{utf8}\n",
       "\\HeaderA{nlm}{Non-Linear Minimization}{nlm}\n",
       "\\keyword{optimization}{nlm}\n",
       "\\keyword{nonlinear}{nlm}\n",
       "\\keyword{optimize}{nlm}\n",
       "%\n",
       "\\begin{Description}\\relax\n",
       "This function carries out a minimization of the function \\code{f}\n",
       "using a Newton-type algorithm.  See the references for details.\n",
       "\\end{Description}\n",
       "%\n",
       "\\begin{Usage}\n",
       "\\begin{verbatim}\n",
       "nlm(f, p, ..., hessian = FALSE, typsize = rep(1, length(p)),\n",
       "    fscale = 1, print.level = 0, ndigit = 12, gradtol = 1e-6,\n",
       "    stepmax = max(1000 * sqrt(sum((p/typsize)^2)), 1000),\n",
       "    steptol = 1e-6, iterlim = 100, check.analyticals = TRUE)\n",
       "\\end{verbatim}\n",
       "\\end{Usage}\n",
       "%\n",
       "\\begin{Arguments}\n",
       "\\begin{ldescription}\n",
       "\\item[\\code{f}] the function to be minimized, returning a single numeric\n",
       "value.  This should be a function with first argument a vector of\n",
       "the length of \\code{p} followed by any other arguments specified by\n",
       "the \\code{...} argument.\n",
       "\n",
       "If the function value has an attribute called \\code{gradient} or\n",
       "both \\code{gradient} and \\code{hessian} attributes, these will be\n",
       "used in the calculation of updated parameter values.  Otherwise,\n",
       "numerical derivatives are used. \\code{\\LinkA{deriv}{deriv}} returns a\n",
       "function with suitable \\code{gradient} attribute and optionally a\n",
       "\\code{hessian} attribute.\n",
       "\\item[\\code{p}] starting parameter values for the minimization.\n",
       "\\item[\\code{...}] additional arguments to be passed to \\code{f}.\n",
       "\\item[\\code{hessian}] if \\code{TRUE}, the hessian of \\code{f}\n",
       "at the minimum is returned.\n",
       "\\item[\\code{typsize}] an estimate of the size of each parameter\n",
       "at the minimum.\n",
       "\\item[\\code{fscale}] an estimate of the size of \\code{f} at the minimum.\n",
       "\\item[\\code{print.level}] this argument determines the level of printing\n",
       "which is done during the minimization process.  The default\n",
       "value of \\code{0} means that no printing occurs, a value of \\code{1}\n",
       "means that initial and final details are printed and a value\n",
       "of 2 means that full tracing information is printed.\n",
       "\\item[\\code{ndigit}] the number of significant digits in the function \\code{f}.\n",
       "\\item[\\code{gradtol}] a positive scalar giving the tolerance at which the\n",
       "scaled gradient is considered close enough to zero to\n",
       "terminate the algorithm.  The scaled gradient is a\n",
       "measure of the relative change in \\code{f} in each direction\n",
       "\\code{p[i]} divided by the relative change in \\code{p[i]}.\n",
       "\\item[\\code{stepmax}] a positive scalar which gives the maximum allowable\n",
       "scaled step length.  \\code{stepmax} is used to prevent steps which\n",
       "would cause the optimization function to overflow, to prevent the\n",
       "algorithm from leaving the area of interest in parameter space, or to\n",
       "detect divergence in the algorithm. \\code{stepmax} would be chosen\n",
       "small enough to prevent the first two of these occurrences, but should\n",
       "be larger than any anticipated reasonable step.\n",
       "\\item[\\code{steptol}] A positive scalar providing the minimum allowable\n",
       "relative step length.\n",
       "\\item[\\code{iterlim}] a positive integer specifying the maximum number of\n",
       "iterations to be performed before the program is terminated.\n",
       "\\item[\\code{check.analyticals}] a logical scalar specifying whether the\n",
       "analytic gradients and Hessians, if they are supplied, should be\n",
       "checked against numerical derivatives at the initial parameter\n",
       "values. This can help detect incorrectly formulated gradients or\n",
       "Hessians.\n",
       "\\end{ldescription}\n",
       "\\end{Arguments}\n",
       "%\n",
       "\\begin{Details}\\relax\n",
       "Note that arguments after \\code{...} must be matched exactly.\n",
       "\n",
       "If a gradient or hessian is supplied but evaluates to the wrong mode\n",
       "or length, it will be ignored if \\code{check.analyticals = TRUE} (the\n",
       "default) with a warning.  The hessian is not even checked unless the\n",
       "gradient is present and passes the sanity checks.\n",
       "\n",
       "The C code for the ``perturbed'' cholesky, \\code{choldc()} has\n",
       "had a bug in all \\R{} versions before 3.4.1.\n",
       "\n",
       "From the three methods available in the original source, we always use\n",
       "method ``1'' which is line search.\n",
       "\n",
       "The functions supplied should always return finite (including not\n",
       "\\code{NA} and not \\code{NaN}) values: for the function value itself\n",
       "non-finite values are replaced by the maximum positive value with a warning.\n",
       "\\end{Details}\n",
       "%\n",
       "\\begin{Value}\n",
       "A list containing the following components:\n",
       "\\begin{ldescription}\n",
       "\\item[\\code{minimum}] the value of the estimated minimum of \\code{f}.\n",
       "\\item[\\code{estimate}] the point at which the minimum value of\n",
       "\\code{f} is obtained.\n",
       "\\item[\\code{gradient}] the gradient at the estimated minimum of \\code{f}.\n",
       "\\item[\\code{hessian}] the hessian at the estimated minimum of \\code{f} (if\n",
       "requested).\n",
       "\\item[\\code{code}] an integer indicating why the optimization process terminated.\n",
       "\\begin{description}\n",
       "\n",
       "\\item[1:] relative gradient is close to zero, current iterate is\n",
       "probably solution.\n",
       "\\item[2:] successive iterates within tolerance, current iterate\n",
       "is probably solution.\n",
       "\\item[3:] last global step failed to locate a point lower than\n",
       "\\code{estimate}.  Either \\code{estimate} is an approximate local\n",
       "minimum of the function or \\code{steptol} is too small.\n",
       "\\item[4:] iteration limit exceeded.\n",
       "\\item[5:] maximum step size \\code{stepmax} exceeded five consecutive\n",
       "times.  Either the function is unbounded below,\n",
       "becomes asymptotic to a finite value from above in\n",
       "some direction or \\code{stepmax} is too small.\n",
       "\n",
       "\\end{description}\n",
       "\n",
       "\n",
       "\\item[\\code{iterations}] the number of iterations performed.\n",
       "\\end{ldescription}\n",
       "\\end{Value}\n",
       "%\n",
       "\\begin{Source}\\relax\n",
       "The current code is by Saikat DebRoy and the R Core team, using a C\n",
       "translation of Fortran code by Richard H. Jones.\n",
       "\\end{Source}\n",
       "%\n",
       "\\begin{References}\\relax\n",
       "Dennis, J. E. and Schnabel, R. B. (1983).\n",
       "\\emph{Numerical Methods for Unconstrained Optimization and Nonlinear\n",
       "Equations}.\n",
       "Prentice-Hall, Englewood Cliffs, NJ.\n",
       "\n",
       "Schnabel, R. B., Koontz, J. E. and Weiss, B. E. (1985).\n",
       "A modular system of algorithms for unconstrained minimization.\n",
       "\\emph{ACM Transactions on Mathematical Software}, \\bold{11}, 419--440.\n",
       "doi:\\nobreakspace{}\\Rhref{https://doi.org/10.1145/6187.6192}{10.1145\\slash{}6187.6192}.\n",
       "\\end{References}\n",
       "%\n",
       "\\begin{SeeAlso}\\relax\n",
       "\\code{\\LinkA{optim}{optim}} and \\code{\\LinkA{nlminb}{nlminb}}.\n",
       "\n",
       "\\code{\\LinkA{constrOptim}{constrOptim}} for constrained optimization,\n",
       "\\code{\\LinkA{optimize}{optimize}} for one-dimensional\n",
       "minimization and \\code{\\LinkA{uniroot}{uniroot}} for root finding.\n",
       "\\code{\\LinkA{deriv}{deriv}} to calculate analytical derivatives.\n",
       "\n",
       "For nonlinear regression, \\code{\\LinkA{nls}{nls}} may be better.\n",
       "\\end{SeeAlso}\n",
       "%\n",
       "\\begin{Examples}\n",
       "\\begin{ExampleCode}\n",
       "f <- function(x) sum((x-1:length(x))^2)\n",
       "nlm(f, c(10,10))\n",
       "nlm(f, c(10,10), print.level = 2)\n",
       "utils::str(nlm(f, c(5), hessian = TRUE))\n",
       "\n",
       "f <- function(x, a) sum((x-a)^2)\n",
       "nlm(f, c(10,10), a = c(3,5))\n",
       "f <- function(x, a)\n",
       "{\n",
       "    res <- sum((x-a)^2)\n",
       "    attr(res, \"gradient\") <- 2*(x-a)\n",
       "    res\n",
       "}\n",
       "nlm(f, c(10,10), a = c(3,5))\n",
       "\n",
       "## more examples, including the use of derivatives.\n",
       "## Not run: demo(nlm)\n",
       "\\end{ExampleCode}\n",
       "\\end{Examples}"
      ],
      "text/plain": [
       "nlm                   package:stats                    R Documentation\n",
       "\n",
       "_\bN_\bo_\bn-_\bL_\bi_\bn_\be_\ba_\br _\bM_\bi_\bn_\bi_\bm_\bi_\bz_\ba_\bt_\bi_\bo_\bn\n",
       "\n",
       "_\bD_\be_\bs_\bc_\br_\bi_\bp_\bt_\bi_\bo_\bn:\n",
       "\n",
       "     This function carries out a minimization of the function ‘f’ using\n",
       "     a Newton-type algorithm.  See the references for details.\n",
       "\n",
       "_\bU_\bs_\ba_\bg_\be:\n",
       "\n",
       "     nlm(f, p, ..., hessian = FALSE, typsize = rep(1, length(p)),\n",
       "         fscale = 1, print.level = 0, ndigit = 12, gradtol = 1e-6,\n",
       "         stepmax = max(1000 * sqrt(sum((p/typsize)^2)), 1000),\n",
       "         steptol = 1e-6, iterlim = 100, check.analyticals = TRUE)\n",
       "     \n",
       "_\bA_\br_\bg_\bu_\bm_\be_\bn_\bt_\bs:\n",
       "\n",
       "       f: the function to be minimized, returning a single numeric\n",
       "          value.  This should be a function with first argument a\n",
       "          vector of the length of ‘p’ followed by any other arguments\n",
       "          specified by the ‘...’ argument.\n",
       "\n",
       "          If the function value has an attribute called ‘gradient’ or\n",
       "          both ‘gradient’ and ‘hessian’ attributes, these will be used\n",
       "          in the calculation of updated parameter values.  Otherwise,\n",
       "          numerical derivatives are used. ‘deriv’ returns a function\n",
       "          with suitable ‘gradient’ attribute and optionally a ‘hessian’\n",
       "          attribute.\n",
       "\n",
       "       p: starting parameter values for the minimization.\n",
       "\n",
       "     ...: additional arguments to be passed to ‘f’.\n",
       "\n",
       " hessian: if ‘TRUE’, the hessian of ‘f’ at the minimum is returned.\n",
       "\n",
       " typsize: an estimate of the size of each parameter at the minimum.\n",
       "\n",
       "  fscale: an estimate of the size of ‘f’ at the minimum.\n",
       "\n",
       "print.level: this argument determines the level of printing which is\n",
       "          done during the minimization process.  The default value of\n",
       "          ‘0’ means that no printing occurs, a value of ‘1’ means that\n",
       "          initial and final details are printed and a value of 2 means\n",
       "          that full tracing information is printed.\n",
       "\n",
       "  ndigit: the number of significant digits in the function ‘f’.\n",
       "\n",
       " gradtol: a positive scalar giving the tolerance at which the scaled\n",
       "          gradient is considered close enough to zero to terminate the\n",
       "          algorithm.  The scaled gradient is a measure of the relative\n",
       "          change in ‘f’ in each direction ‘p[i]’ divided by the\n",
       "          relative change in ‘p[i]’.\n",
       "\n",
       " stepmax: a positive scalar which gives the maximum allowable scaled\n",
       "          step length.  ‘stepmax’ is used to prevent steps which would\n",
       "          cause the optimization function to overflow, to prevent the\n",
       "          algorithm from leaving the area of interest in parameter\n",
       "          space, or to detect divergence in the algorithm. ‘stepmax’\n",
       "          would be chosen small enough to prevent the first two of\n",
       "          these occurrences, but should be larger than any anticipated\n",
       "          reasonable step.\n",
       "\n",
       " steptol: A positive scalar providing the minimum allowable relative\n",
       "          step length.\n",
       "\n",
       " iterlim: a positive integer specifying the maximum number of\n",
       "          iterations to be performed before the program is terminated.\n",
       "\n",
       "check.analyticals: a logical scalar specifying whether the analytic\n",
       "          gradients and Hessians, if they are supplied, should be\n",
       "          checked against numerical derivatives at the initial\n",
       "          parameter values. This can help detect incorrectly formulated\n",
       "          gradients or Hessians.\n",
       "\n",
       "_\bD_\be_\bt_\ba_\bi_\bl_\bs:\n",
       "\n",
       "     Note that arguments after ‘...’ must be matched exactly.\n",
       "\n",
       "     If a gradient or hessian is supplied but evaluates to the wrong\n",
       "     mode or length, it will be ignored if ‘check.analyticals = TRUE’\n",
       "     (the default) with a warning.  The hessian is not even checked\n",
       "     unless the gradient is present and passes the sanity checks.\n",
       "\n",
       "     The C code for the “perturbed” cholesky, ‘choldc()’ has had a bug\n",
       "     in all R versions before 3.4.1.\n",
       "\n",
       "     From the three methods available in the original source, we always\n",
       "     use method “1” which is line search.\n",
       "\n",
       "     The functions supplied should always return finite (including not\n",
       "     ‘NA’ and not ‘NaN’) values: for the function value itself\n",
       "     non-finite values are replaced by the maximum positive value with\n",
       "     a warning.\n",
       "\n",
       "_\bV_\ba_\bl_\bu_\be:\n",
       "\n",
       "     A list containing the following components:\n",
       "\n",
       " minimum: the value of the estimated minimum of ‘f’.\n",
       "\n",
       "estimate: the point at which the minimum value of ‘f’ is obtained.\n",
       "\n",
       "gradient: the gradient at the estimated minimum of ‘f’.\n",
       "\n",
       " hessian: the hessian at the estimated minimum of ‘f’ (if requested).\n",
       "\n",
       "    code: an integer indicating why the optimization process\n",
       "          terminated.\n",
       "\n",
       "          1: relative gradient is close to zero, current iterate is\n",
       "              probably solution.\n",
       "\n",
       "          2: successive iterates within tolerance, current iterate is\n",
       "              probably solution.\n",
       "\n",
       "          3: last global step failed to locate a point lower than\n",
       "              ‘estimate’.  Either ‘estimate’ is an approximate local\n",
       "              minimum of the function or ‘steptol’ is too small.\n",
       "\n",
       "          4: iteration limit exceeded.\n",
       "\n",
       "          5: maximum step size ‘stepmax’ exceeded five consecutive\n",
       "              times.  Either the function is unbounded below, becomes\n",
       "              asymptotic to a finite value from above in some direction\n",
       "              or ‘stepmax’ is too small.\n",
       "\n",
       "iterations: the number of iterations performed.\n",
       "\n",
       "_\bS_\bo_\bu_\br_\bc_\be:\n",
       "\n",
       "     The current code is by Saikat DebRoy and the R Core team, using a\n",
       "     C translation of Fortran code by Richard H. Jones.\n",
       "\n",
       "_\bR_\be_\bf_\be_\br_\be_\bn_\bc_\be_\bs:\n",
       "\n",
       "     Dennis, J. E. and Schnabel, R. B. (1983).  _Numerical Methods for\n",
       "     Unconstrained Optimization and Nonlinear Equations_.\n",
       "     Prentice-Hall, Englewood Cliffs, NJ.\n",
       "\n",
       "     Schnabel, R. B., Koontz, J. E. and Weiss, B. E. (1985).  A modular\n",
       "     system of algorithms for unconstrained minimization.  _ACM\n",
       "     Transactions on Mathematical Software_, *11*, 419-440.  doi:\n",
       "     10.1145/6187.6192 (URL: https://doi.org/10.1145/6187.6192).\n",
       "\n",
       "_\bS_\be_\be _\bA_\bl_\bs_\bo:\n",
       "\n",
       "     ‘optim’ and ‘nlminb’.\n",
       "\n",
       "     ‘constrOptim’ for constrained optimization, ‘optimize’ for\n",
       "     one-dimensional minimization and ‘uniroot’ for root finding.\n",
       "     ‘deriv’ to calculate analytical derivatives.\n",
       "\n",
       "     For nonlinear regression, ‘nls’ may be better.\n",
       "\n",
       "_\bE_\bx_\ba_\bm_\bp_\bl_\be_\bs:\n",
       "\n",
       "     f <- function(x) sum((x-1:length(x))^2)\n",
       "     nlm(f, c(10,10))\n",
       "     nlm(f, c(10,10), print.level = 2)\n",
       "     utils::str(nlm(f, c(5), hessian = TRUE))\n",
       "     \n",
       "     f <- function(x, a) sum((x-a)^2)\n",
       "     nlm(f, c(10,10), a = c(3,5))\n",
       "     f <- function(x, a)\n",
       "     {\n",
       "         res <- sum((x-a)^2)\n",
       "         attr(res, \"gradient\") <- 2*(x-a)\n",
       "         res\n",
       "     }\n",
       "     nlm(f, c(10,10), a = c(3,5))\n",
       "     \n",
       "     ## more examples, including the use of derivatives.\n",
       "     ## Not run: demo(nlm)\n",
       "     "
      ]
     },
     "metadata": {},
     "output_type": "display_data"
    }
   ],
   "source": [
    "?nlm"
   ]
  },
  {
   "cell_type": "markdown",
   "metadata": {},
   "source": [
    "## Anualidades y valores acumulados futuros\n",
    "\n",
    "Considere una anualidad de 5 pagos con montos de Lps. 1200 y un interés efectivo de $i=0.03$"
   ]
  },
  {
   "cell_type": "code",
   "execution_count": 19,
   "metadata": {},
   "outputs": [
    {
     "data": {
      "text/html": [
       "5495.64862463344"
      ],
      "text/latex": [
       "5495.64862463344"
      ],
      "text/markdown": [
       "5495.64862463344"
      ],
      "text/plain": [
       "[1] 5495.649"
      ]
     },
     "metadata": {},
     "output_type": "display_data"
    }
   ],
   "source": [
    "1200 * annuity(i=0.03, n=5)"
   ]
  },
  {
   "cell_type": "markdown",
   "metadata": {},
   "source": [
    "Podemos también saber su valor acumulado:"
   ]
  },
  {
   "cell_type": "code",
   "execution_count": 20,
   "metadata": {},
   "outputs": [
    {
     "data": {
      "text/html": [
       "6370.962972"
      ],
      "text/latex": [
       "6370.962972"
      ],
      "text/markdown": [
       "6370.962972"
      ],
      "text/plain": [
       "[1] 6370.963"
      ]
     },
     "metadata": {},
     "output_type": "display_data"
    }
   ],
   "source": [
    "1200 * accumulatedValue(i=0.03, n=5)"
   ]
  },
  {
   "cell_type": "markdown",
   "metadata": {},
   "source": [
    "Es posible que los pagos de la anualidad se hagan en 5 periodos (digamos, años) como en este ejemplo, pero se paguen con cierta frecuencia $k$ a lo largo de ese año (pagos de $ \\frac{1200}{k}$ cada uno)"
   ]
  },
  {
   "cell_type": "code",
   "execution_count": 21,
   "metadata": {},
   "outputs": [
    {
     "data": {
      "text/html": [
       "5570.81050738042"
      ],
      "text/latex": [
       "5570.81050738042"
      ],
      "text/markdown": [
       "5570.81050738042"
      ],
      "text/plain": [
       "[1] 5570.811"
      ]
     },
     "metadata": {},
     "output_type": "display_data"
    }
   ],
   "source": [
    "1200 * annuity(i=0.03, n=5, k=12)"
   ]
  },
  {
   "cell_type": "markdown",
   "metadata": {},
   "source": [
    "Para el caso en que la anualidad no se vence, y por ende es una perpetuidad, podemos calcularlo así"
   ]
  },
  {
   "cell_type": "code",
   "execution_count": 22,
   "metadata": {},
   "outputs": [
    {
     "data": {
      "text/html": [
       "40000"
      ],
      "text/latex": [
       "40000"
      ],
      "text/markdown": [
       "40000"
      ],
      "text/plain": [
       "[1] 40000"
      ]
     },
     "metadata": {},
     "output_type": "display_data"
    }
   ],
   "source": [
    "1200 * annuity(i=0.03, n=Inf)"
   ]
  },
  {
   "cell_type": "markdown",
   "metadata": {},
   "source": [
    "... Aunque esto pudo ser igual fácilmente calculado mediante:"
   ]
  },
  {
   "cell_type": "code",
   "execution_count": 23,
   "metadata": {},
   "outputs": [
    {
     "data": {
      "text/html": [
       "40000"
      ],
      "text/latex": [
       "40000"
      ],
      "text/markdown": [
       "40000"
      ],
      "text/plain": [
       "[1] 40000"
      ]
     },
     "metadata": {},
     "output_type": "display_data"
    }
   ],
   "source": [
    "1200/0.03"
   ]
  },
  {
   "cell_type": "markdown",
   "metadata": {},
   "source": [
    "Pero la idea es centralizar todos los cálculos en una sola función que pueda dinámica y automáticamente responder a diversas situaciones.\n",
    "\n",
    "Por último. El cálculo de la función `annuity` es, por defecto, asumiendo que la anualidad es de pagos vencidos. Para obtener pagos anticipados se puede utilizar el argumento `type`"
   ]
  },
  {
   "cell_type": "code",
   "execution_count": 24,
   "metadata": {},
   "outputs": [
    {
     "data": {
      "text/html": [
       "5660.51808337244"
      ],
      "text/latex": [
       "5660.51808337244"
      ],
      "text/markdown": [
       "5660.51808337244"
      ],
      "text/plain": [
       "[1] 5660.518"
      ]
     },
     "metadata": {},
     "output_type": "display_data"
    }
   ],
   "source": [
    "1200 * annuity(i=0.03, n=5, type=\"advance\")"
   ]
  },
  {
   "cell_type": "markdown",
   "metadata": {},
   "source": [
    "## Tablas de vida"
   ]
  },
  {
   "cell_type": "code",
   "execution_count": 25,
   "metadata": {},
   "outputs": [],
   "source": [
    "x_example <- seq(from=0,to=9, by=1)\n",
    "lx_example <- c(1000,950,850,700,680,600,550,400,200,50)\n",
    "exampleLt <- new(\"lifetable\", x=x_example, lx=lx_example, name=\"example lifetable\")"
   ]
  },
  {
   "cell_type": "code",
   "execution_count": 26,
   "metadata": {},
   "outputs": [
    {
     "name": "stdout",
     "output_type": "stream",
     "text": [
      "Formal class 'lifetable' [package \"lifecontingencies\"] with 3 slots\n",
      "  ..@ x   : num [1:10] 0 1 2 3 4 5 6 7 8 9\n",
      "  ..@ lx  : num [1:10] 1000 950 850 700 680 600 550 400 200 50\n",
      "  ..@ name: chr \"example lifetable\"\n"
     ]
    }
   ],
   "source": [
    "str(exampleLt)"
   ]
  },
  {
   "cell_type": "code",
   "execution_count": 27,
   "metadata": {},
   "outputs": [
    {
     "data": {
      "text/plain": [
       "Life table example lifetable \n",
       "\n",
       "  x   lx        px       ex\n",
       "1 0 1000 0.9500000 4.980000\n",
       "2 1  950 0.8947368 4.242105\n",
       "3 2  850 0.8235294 3.741176\n",
       "4 3  700 0.9714286 3.542857\n",
       "5 4  680 0.8823529 2.647059\n",
       "6 5  600 0.9166667 2.000000\n",
       "7 6  550 0.7272727 1.181818\n",
       "8 7  400 0.5000000 0.625000\n",
       "9 8  200 0.2500000 0.250000\n"
      ]
     },
     "metadata": {},
     "output_type": "display_data"
    }
   ],
   "source": [
    "exampleLt"
   ]
  },
  {
   "cell_type": "markdown",
   "metadata": {},
   "source": [
    "El paquete `lifecontingencies` provee ya algunos ejemplos de datos de tasas de natalidad y mortalidad. Por ejemplo consideremos:"
   ]
  },
  {
   "cell_type": "code",
   "execution_count": 28,
   "metadata": {},
   "outputs": [],
   "source": [
    "data(\"demoUsa\")"
   ]
  },
  {
   "cell_type": "code",
   "execution_count": 29,
   "metadata": {},
   "outputs": [
    {
     "data": {
      "text/html": [
       "<table>\n",
       "<caption>A data.frame: 6 × 7</caption>\n",
       "<thead>\n",
       "\t<tr><th></th><th scope=col>age</th><th scope=col>USSS2007M</th><th scope=col>USSS2007F</th><th scope=col>USSS2000M</th><th scope=col>USSS2000F</th><th scope=col>USSS1990M</th><th scope=col>USSS1990F</th></tr>\n",
       "\t<tr><th></th><th scope=col>&lt;int&gt;</th><th scope=col>&lt;dbl&gt;</th><th scope=col>&lt;dbl&gt;</th><th scope=col>&lt;dbl&gt;</th><th scope=col>&lt;dbl&gt;</th><th scope=col>&lt;dbl&gt;</th><th scope=col>&lt;dbl&gt;</th></tr>\n",
       "</thead>\n",
       "<tbody>\n",
       "\t<tr><th scope=row>1</th><td>0</td><td>100000</td><td>100000</td><td>100000</td><td>100000</td><td>100000</td><td>100000</td></tr>\n",
       "\t<tr><th scope=row>2</th><td>1</td><td> 99262</td><td> 99390</td><td> 99241</td><td> 99377</td><td> 98972</td><td> 99185</td></tr>\n",
       "\t<tr><th scope=row>3</th><td>2</td><td> 99213</td><td> 99347</td><td> 99187</td><td> 99332</td><td> 98896</td><td> 99120</td></tr>\n",
       "\t<tr><th scope=row>4</th><td>3</td><td> 99182</td><td> 99322</td><td> 99150</td><td> 99302</td><td> 98844</td><td> 99083</td></tr>\n",
       "\t<tr><th scope=row>5</th><td>4</td><td> 99158</td><td> 99303</td><td> 99122</td><td> 99283</td><td> 98804</td><td> 99053</td></tr>\n",
       "\t<tr><th scope=row>6</th><td>5</td><td> 99138</td><td> 99288</td><td> 99100</td><td> 99264</td><td> 98771</td><td> 99028</td></tr>\n",
       "</tbody>\n",
       "</table>\n"
      ],
      "text/latex": [
       "A data.frame: 6 × 7\n",
       "\\begin{tabular}{r|lllllll}\n",
       "  & age & USSS2007M & USSS2007F & USSS2000M & USSS2000F & USSS1990M & USSS1990F\\\\\n",
       "  & <int> & <dbl> & <dbl> & <dbl> & <dbl> & <dbl> & <dbl>\\\\\n",
       "\\hline\n",
       "\t1 & 0 & 100000 & 100000 & 100000 & 100000 & 100000 & 100000\\\\\n",
       "\t2 & 1 &  99262 &  99390 &  99241 &  99377 &  98972 &  99185\\\\\n",
       "\t3 & 2 &  99213 &  99347 &  99187 &  99332 &  98896 &  99120\\\\\n",
       "\t4 & 3 &  99182 &  99322 &  99150 &  99302 &  98844 &  99083\\\\\n",
       "\t5 & 4 &  99158 &  99303 &  99122 &  99283 &  98804 &  99053\\\\\n",
       "\t6 & 5 &  99138 &  99288 &  99100 &  99264 &  98771 &  99028\\\\\n",
       "\\end{tabular}\n"
      ],
      "text/markdown": [
       "\n",
       "A data.frame: 6 × 7\n",
       "\n",
       "| <!--/--> | age &lt;int&gt; | USSS2007M &lt;dbl&gt; | USSS2007F &lt;dbl&gt; | USSS2000M &lt;dbl&gt; | USSS2000F &lt;dbl&gt; | USSS1990M &lt;dbl&gt; | USSS1990F &lt;dbl&gt; |\n",
       "|---|---|---|---|---|---|---|---|\n",
       "| 1 | 0 | 100000 | 100000 | 100000 | 100000 | 100000 | 100000 |\n",
       "| 2 | 1 |  99262 |  99390 |  99241 |  99377 |  98972 |  99185 |\n",
       "| 3 | 2 |  99213 |  99347 |  99187 |  99332 |  98896 |  99120 |\n",
       "| 4 | 3 |  99182 |  99322 |  99150 |  99302 |  98844 |  99083 |\n",
       "| 5 | 4 |  99158 |  99303 |  99122 |  99283 |  98804 |  99053 |\n",
       "| 6 | 5 |  99138 |  99288 |  99100 |  99264 |  98771 |  99028 |\n",
       "\n"
      ],
      "text/plain": [
       "  age USSS2007M USSS2007F USSS2000M USSS2000F USSS1990M USSS1990F\n",
       "1 0   100000    100000    100000    100000    100000    100000   \n",
       "2 1    99262     99390     99241     99377     98972     99185   \n",
       "3 2    99213     99347     99187     99332     98896     99120   \n",
       "4 3    99182     99322     99150     99302     98844     99083   \n",
       "5 4    99158     99303     99122     99283     98804     99053   \n",
       "6 5    99138     99288     99100     99264     98771     99028   "
      ]
     },
     "metadata": {},
     "output_type": "display_data"
    }
   ],
   "source": [
    "head(demoUsa)"
   ]
  },
  {
   "cell_type": "code",
   "execution_count": 30,
   "metadata": {},
   "outputs": [],
   "source": [
    "usaMale07 <- demoUsa[,c(\"age\", \"USSS2007M\")]\n",
    "usaMale00 <- demoUsa[,c(\"age\", \"USSS2000M\")]"
   ]
  },
  {
   "cell_type": "markdown",
   "metadata": {},
   "source": [
    "Renombramos por estética"
   ]
  },
  {
   "cell_type": "code",
   "execution_count": 32,
   "metadata": {},
   "outputs": [],
   "source": [
    "names(usaMale07) <- c(\"x\",\"lx\")\n",
    "names(usaMale00) <- c(\"x\",\"lx\")"
   ]
  },
  {
   "cell_type": "code",
   "execution_count": 33,
   "metadata": {},
   "outputs": [
    {
     "data": {
      "text/html": [
       "<table>\n",
       "<caption>A data.frame: 6 × 2</caption>\n",
       "<thead>\n",
       "\t<tr><th></th><th scope=col>x</th><th scope=col>lx</th></tr>\n",
       "\t<tr><th></th><th scope=col>&lt;int&gt;</th><th scope=col>&lt;dbl&gt;</th></tr>\n",
       "</thead>\n",
       "<tbody>\n",
       "\t<tr><th scope=row>1</th><td>0</td><td>100000</td></tr>\n",
       "\t<tr><th scope=row>2</th><td>1</td><td> 99262</td></tr>\n",
       "\t<tr><th scope=row>3</th><td>2</td><td> 99213</td></tr>\n",
       "\t<tr><th scope=row>4</th><td>3</td><td> 99182</td></tr>\n",
       "\t<tr><th scope=row>5</th><td>4</td><td> 99158</td></tr>\n",
       "\t<tr><th scope=row>6</th><td>5</td><td> 99138</td></tr>\n",
       "</tbody>\n",
       "</table>\n"
      ],
      "text/latex": [
       "A data.frame: 6 × 2\n",
       "\\begin{tabular}{r|ll}\n",
       "  & x & lx\\\\\n",
       "  & <int> & <dbl>\\\\\n",
       "\\hline\n",
       "\t1 & 0 & 100000\\\\\n",
       "\t2 & 1 &  99262\\\\\n",
       "\t3 & 2 &  99213\\\\\n",
       "\t4 & 3 &  99182\\\\\n",
       "\t5 & 4 &  99158\\\\\n",
       "\t6 & 5 &  99138\\\\\n",
       "\\end{tabular}\n"
      ],
      "text/markdown": [
       "\n",
       "A data.frame: 6 × 2\n",
       "\n",
       "| <!--/--> | x &lt;int&gt; | lx &lt;dbl&gt; |\n",
       "|---|---|---|\n",
       "| 1 | 0 | 100000 |\n",
       "| 2 | 1 |  99262 |\n",
       "| 3 | 2 |  99213 |\n",
       "| 4 | 3 |  99182 |\n",
       "| 5 | 4 |  99158 |\n",
       "| 6 | 5 |  99138 |\n",
       "\n"
      ],
      "text/plain": [
       "  x lx    \n",
       "1 0 100000\n",
       "2 1  99262\n",
       "3 2  99213\n",
       "4 3  99182\n",
       "5 4  99158\n",
       "6 5  99138"
      ]
     },
     "metadata": {},
     "output_type": "display_data"
    }
   ],
   "source": [
    "head(usaMale07)"
   ]
  },
  {
   "cell_type": "code",
   "execution_count": 34,
   "metadata": {},
   "outputs": [
    {
     "data": {
      "text/plain": [
       "Life table COERCED \n",
       "\n",
       "      x     lx        px        ex\n",
       "1     0 100000 0.9926200 74.881620\n",
       "2     1  99262 0.9995064 74.438355\n",
       "3     2  99213 0.9996875 73.475119\n",
       "4     3  99182 0.9997580 72.498084\n",
       "5     4  99158 0.9997983 71.515632\n",
       "6     5  99138 0.9998184 70.530059\n",
       "7     6  99120 0.9998386 69.542867\n",
       "8     7  99104 0.9998486 68.554095\n",
       "9     8  99089 0.9998587 67.564472\n",
       "10    9  99075 0.9998991 66.574020\n",
       "11   10  99065 0.9999092 65.580740\n",
       "12   11  99056 0.9999091 64.586698\n",
       "13   12  99047 0.9998486 63.592567\n",
       "14   13  99032 0.9997476 62.602199\n",
       "15   14  99007 0.9996061 61.618007\n",
       "16   15  98968 0.9994342 60.642288\n",
       "17   16  98912 0.9992822 59.676622\n",
       "18   17  98841 0.9991198 58.719489\n",
       "19   18  98754 0.9989874 57.771219\n",
       "20   19  98654 0.9988546 56.829779\n",
       "21   20  98541 0.9987112 55.894947\n",
       "22   21  98414 0.9985876 54.967078\n",
       "23   22  98275 0.9985042 54.044823\n",
       "24   23  98128 0.9984918 53.125785\n",
       "25   24  97980 0.9985099 52.206032\n",
       "26   25  97834 0.9985588 51.283940\n",
       "27   26  97693 0.9985874 50.357958\n",
       "28   27  97555 0.9986059 49.429194\n",
       "29   28  97419 0.9986142 48.498199\n",
       "30   29  97284 0.9985918 47.565499\n",
       "31   30  97147 0.9985795 46.632577\n",
       "32   31  97009 0.9985465 45.698915\n",
       "33   32  96868 0.9985134 44.765433\n",
       "34   33  96724 0.9984699 43.832079\n",
       "35   34  96576 0.9984158 42.899250\n",
       "36   35  96423 0.9983510 41.967321\n",
       "37   36  96264 0.9982548 41.036639\n",
       "38   37  96096 0.9981581 40.108381\n",
       "39   38  95919 0.9980192 39.182393\n",
       "40   39  95729 0.9978690 38.260161\n",
       "41   40  95525 0.9976760 37.341869\n",
       "42   41  95303 0.9974712 36.428853\n",
       "43   42  95062 0.9972439 35.521207\n",
       "44   43  94800 0.9970148 34.619378\n",
       "45   44  94517 0.9967413 33.723034\n",
       "46   45  94209 0.9964547 32.833286\n",
       "47   46  93875 0.9961438 31.950104\n",
       "48   47  93513 0.9957974 31.073787\n",
       "49   48  93120 0.9953930 30.204929\n",
       "50   49  92691 0.9949618 29.344726\n",
       "51   50  92224 0.9944917 28.493321\n",
       "52   51  91716 0.9939923 27.651140\n",
       "53   52  91165 0.9934953 26.818264\n",
       "54   53  90572 0.9930221 25.993850\n",
       "55   54  89940 0.9925506 25.176507\n",
       "56   55  89270 0.9920242 24.365464\n",
       "57   56  88558 0.9914406 23.561361\n",
       "58   57  87800 0.9908314 22.764772\n",
       "59   58  86995 0.9901489 21.975424\n",
       "60   59  86138 0.9894239 21.194061\n",
       "61   60  85227 0.9885834 20.420606\n",
       "62   61  84254 0.9876920 19.656432\n",
       "63   62  83217 0.9867094 18.901378\n",
       "64   63  82111 0.9856779 18.155972\n",
       "65   64  80935 0.9845432 17.419781\n",
       "66   65  79684 0.9832714 16.693263\n",
       "67   66  78351 0.9818509 15.977269\n",
       "68   67  76929 0.9802675 15.272602\n",
       "69   68  75411 0.9785310 14.580035\n",
       "70   69  73792 0.9766099 13.899921\n",
       "71   70  72066 0.9744262 13.232828\n",
       "72   71  70223 0.9719608 12.580123\n",
       "73   72  68254 0.9693351 11.943036\n",
       "74   73  66161 0.9665362 11.320854\n",
       "75   74  63947 0.9634854 10.712809\n",
       "76   75  61612 0.9599916 10.118808\n",
       "77   76  59147 0.9560079  9.540518\n",
       "78   77  56545 0.9516491  8.979538\n",
       "79   78  53811 0.9468510  8.435766\n",
       "80   79  50951 0.9415713  7.909285\n",
       "81   80  47974 0.9355484  7.400092\n",
       "82   81  44882 0.9287242  6.909897\n",
       "83   82  41683 0.9212629  6.440203\n",
       "84   83  38401 0.9130752  5.990625\n",
       "85   84  35063 0.9040584  5.560933\n",
       "86   85  31699 0.8940661  5.151077\n",
       "87   86  28341 0.8829611  4.761406\n",
       "88   87  25024 0.8705643  4.392543\n",
       "89   88  21785 0.8570117  4.045628\n",
       "90   89  18670 0.8420996  3.720621\n",
       "91   90  15722 0.8259763  3.418267\n",
       "92   91  12986 0.8086401  3.138457\n",
       "93   92  10501 0.7901152  2.881154\n",
       "94   93   8297 0.7705195  2.646499\n",
       "95   94   6393 0.7498827  2.434694\n",
       "96   95   4794 0.7292449  2.246767\n",
       "97   96   3496 0.7090961  2.080950\n",
       "98   97   2479 0.6901977  1.934651\n",
       "99   98   1711 0.6715371  1.803039\n",
       "100  99   1149 0.6562228  1.684943\n",
       "101 100    754 0.6379310  1.567639\n",
       "102 101    481 0.6195426  1.457380\n",
       "103 102    298 0.6006711  1.352349\n",
       "104 103    179 0.5810056  1.251397\n",
       "105 104    104 0.5576923  1.153846\n",
       "106 105     58 0.5344828  1.068966\n",
       "107 106     31 0.5161290  1.000000\n",
       "108 107     16 0.5000000  0.937500\n",
       "109 108      8 0.5000000  0.875000\n",
       "110 109      4 0.5000000  0.750000\n",
       "111 110      2 0.5000000  0.500000\n"
      ]
     },
     "metadata": {},
     "output_type": "display_data"
    }
   ],
   "source": [
    "tabla <- as(usaMale07,\"lifetable\")\n",
    "tabla"
   ]
  },
  {
   "cell_type": "code",
   "execution_count": 35,
   "metadata": {},
   "outputs": [
    {
     "data": {
      "text/html": [
       "111"
      ],
      "text/latex": [
       "111"
      ],
      "text/markdown": [
       "111"
      ],
      "text/plain": [
       "[1] 111"
      ]
     },
     "metadata": {},
     "output_type": "display_data"
    }
   ],
   "source": [
    "getOmega(tabla)"
   ]
  },
  {
   "cell_type": "code",
   "execution_count": 36,
   "metadata": {},
   "outputs": [],
   "source": [
    "exampleAct <- new(\"actuarialtable\",x=tabla@x, lx=tabla@lx, \n",
    "                  interest=0.03, name=\"Tabla Actuarial\")"
   ]
  },
  {
   "cell_type": "code",
   "execution_count": 37,
   "metadata": {},
   "outputs": [
    {
     "name": "stdout",
     "output_type": "stream",
     "text": [
      "Actuarial table  Tabla Actuarial interest rate  3 % \n",
      "\n",
      "      x     lx           Dx           Nx           Cx           Mx           Rx\n",
      "1     0 100000 1.000000e+05 3.000556e+06 716.50485437 1.260516e+04 7.864341e+05\n",
      "2     1  99262 9.637087e+04 2.900556e+06  46.18719955 1.188865e+04 7.738290e+05\n",
      "3     2  99213 9.351777e+04 2.804185e+06  28.36939144 1.184247e+04 7.619403e+05\n",
      "4     3  99182 9.076558e+04 2.710668e+06  21.32368915 1.181410e+04 7.500979e+05\n",
      "5     4  99158 8.810060e+04 2.619902e+06  17.25217569 1.179277e+04 7.382838e+05\n",
      "6     5  99138 8.551731e+04 2.531801e+06  15.07471662 1.177552e+04 7.264910e+05\n",
      "7     6  99120 8.301144e+04 2.446284e+06  13.00946418 1.176045e+04 7.147155e+05\n",
      "8     7  99104 8.058062e+04 2.363273e+06  11.84113851 1.174744e+04 7.029550e+05\n",
      "9     8  99089 7.822177e+04 2.282692e+06  10.72983425 1.173560e+04 6.912076e+05\n",
      "10    9  99075 7.593274e+04 2.204470e+06   7.44093915 1.172487e+04 6.794720e+05\n",
      "11   10  99065 7.371366e+04 2.128538e+06   6.50179149 1.171742e+04 6.677471e+05\n",
      "12   11  99056 7.156016e+04 2.054824e+06   6.31241892 1.171092e+04 6.560297e+05\n",
      "13   12  99047 6.946957e+04 1.983264e+06  10.21427010 1.170461e+04 6.443188e+05\n",
      "14   13  99032 6.743597e+04 1.913794e+06  16.52794515 1.169440e+04 6.326142e+05\n",
      "15   14  99007 6.545529e+04 1.846358e+06  25.03261595 1.167787e+04 6.209198e+05\n",
      "16   15  98968 6.352379e+04 1.780903e+06  34.89734860 1.165284e+04 6.092419e+05\n",
      "17   16  98912 6.163869e+04 1.717379e+06  42.95616765 1.161794e+04 5.975891e+05\n",
      "18   17  98841 5.980043e+04 1.655740e+06  51.10333086 1.157498e+04 5.859711e+05\n",
      "19   18  98754 5.800757e+04 1.595940e+06  57.02860268 1.152388e+04 5.743961e+05\n",
      "20   19  98654 5.626100e+04 1.537932e+06  62.56536022 1.146685e+04 5.628723e+05\n",
      "21   20  98541 5.455976e+04 1.481671e+06  68.26875804 1.140428e+04 5.514054e+05\n",
      "22   21  98414 5.290237e+04 1.427112e+06  72.54305762 1.133602e+04 5.400011e+05\n",
      "23   22  98275 5.128899e+04 1.374209e+06  74.48368702 1.126347e+04 5.286651e+05\n",
      "24   23  98128 4.972065e+04 1.322920e+06  72.80619298 1.118899e+04 5.174016e+05\n",
      "25   24  97980 4.819967e+04 1.273200e+06  69.73041311 1.111618e+04 5.062127e+05\n",
      "26   25  97834 4.672606e+04 1.225000e+06  65.38095657 1.104645e+04 4.950965e+05\n",
      "27   26  97693 4.529973e+04 1.178274e+06  62.12608970 1.098107e+04 4.840500e+05\n",
      "28   27  97555 4.391819e+04 1.132974e+06  59.44243843 1.091895e+04 4.730689e+05\n",
      "29   28  97419 4.257958e+04 1.089056e+06  57.28675891 1.085950e+04 4.621500e+05\n",
      "30   29  97284 4.128211e+04 1.046476e+06  56.44218605 1.080222e+04 4.512905e+05\n",
      "31   30  97147 4.002328e+04 1.005194e+06  55.19822603 1.074577e+04 4.404883e+05\n",
      "32   31  97009 3.880235e+04 9.651710e+05  54.75552181 1.069058e+04 4.297425e+05\n",
      "33   32  96868 3.761743e+04 9.263687e+05  54.29177953 1.063582e+04 4.190519e+05\n",
      "34   33  96724 3.646749e+04 8.887512e+05  54.17464516 1.058153e+04 4.084161e+05\n",
      "35   34  96576 3.535115e+04 8.522837e+05  54.37365986 1.052735e+04 3.978346e+05\n",
      "36   35  96423 3.426713e+04 8.169326e+05  54.86015558 1.047298e+04 3.873072e+05\n",
      "37   36  96264 3.321420e+04 7.826655e+05  56.27713341 1.041812e+04 3.768343e+05\n",
      "38   37  96096 3.219052e+04 7.494513e+05  57.56502897 1.036184e+04 3.664161e+05\n",
      "39   38  95919 3.119537e+04 7.172607e+05  59.99317374 1.030428e+04 3.560543e+05\n",
      "40   39  95729 3.022677e+04 6.860654e+05  62.53759552 1.024428e+04 3.457500e+05\n",
      "41   40  95525 2.928384e+04 6.558386e+05  66.07341617 1.018175e+04 3.355057e+05\n",
      "42   41  95303 2.836484e+04 6.265548e+05  69.63917299 1.011567e+04 3.253240e+05\n",
      "43   42  95062 2.746904e+04 5.981899e+05  73.50224922 1.004603e+04 3.152083e+05\n",
      "44   43  94800 2.659547e+04 5.707209e+05  77.08121444 9.972532e+03 3.051623e+05\n",
      "45   44  94517 2.574376e+04 5.441254e+05  81.44709612 9.895451e+03 2.951897e+05\n",
      "46   45  94209 2.491250e+04 5.183816e+05  85.75000033 9.814004e+03 2.852943e+05\n",
      "47   46  93875 2.410114e+04 4.934691e+05  90.23167292 9.728254e+03 2.754803e+05\n",
      "48   47  93513 2.330893e+04 4.693680e+05  95.10552877 9.638022e+03 2.657520e+05\n",
      "49   48  93120 2.253493e+04 4.460591e+05 100.79367535 9.542917e+03 2.561140e+05\n",
      "50   49  92691 2.177778e+04 4.235241e+05 106.52600626 9.442123e+03 2.465711e+05\n",
      "51   50  92224 2.103695e+04 4.017464e+05 112.50329761 9.335597e+03 2.371290e+05\n",
      "52   51  91716 2.031172e+04 3.807094e+05 118.47205294 9.223094e+03 2.277934e+05\n",
      "53   52  91165 1.960164e+04 3.603977e+05 123.78892286 9.104622e+03 2.185703e+05\n",
      "54   53  90572 1.890693e+04 3.407960e+05 128.08755751 8.980833e+03 2.094657e+05\n",
      "55   54  89940 1.822816e+04 3.218891e+05 131.83400444 8.852745e+03 2.004848e+05\n",
      "56   55  89270 1.756541e+04 3.036610e+05 136.01769477 8.720911e+03 1.916321e+05\n",
      "57   56  88558 1.691777e+04 2.860956e+05 140.58772313 8.584894e+03 1.829112e+05\n",
      "58   57  87800 1.628444e+04 2.691778e+05 144.95621733 8.444306e+03 1.743263e+05\n",
      "59   58  86995 1.566518e+04 2.528933e+05 149.82509589 8.299350e+03 1.658820e+05\n",
      "60   59  86138 1.505908e+04 2.372282e+05 154.62684500 8.149525e+03 1.575826e+05\n",
      "61   60  85227 1.446584e+04 2.221691e+05 160.34009377 7.994898e+03 1.494331e+05\n",
      "62   61  84254 1.388417e+04 2.077032e+05 165.90933580 7.834558e+03 1.414382e+05\n",
      "63   62  83217 1.331386e+04 1.938191e+05 171.79478274 7.668648e+03 1.336036e+05\n",
      "64   63  82111 1.275429e+04 1.805052e+05 177.34744685 7.496854e+03 1.259350e+05\n",
      "65   64  80935 1.220546e+04 1.677509e+05 183.16298132 7.319506e+03 1.184381e+05\n",
      "66   65  79684 1.166679e+04 1.555455e+05 189.48433804 7.136343e+03 1.111186e+05\n",
      "67   66  78351 1.113750e+04 1.438787e+05 196.24813632 6.946859e+03 1.039823e+05\n",
      "68   67  76929 1.061686e+04 1.327412e+05 203.39510258 6.750611e+03 9.703542e+04\n",
      "69   68  75411 1.010423e+04 1.221243e+05 210.60968768 6.547216e+03 9.028481e+04\n",
      "70   69  73792 9.599327e+03 1.120201e+05 217.98924239 6.336606e+03 8.373760e+04\n",
      "71   70  72066 9.101746e+03 1.024208e+05 225.98644024 6.118617e+03 7.740099e+04\n",
      "72   71  70223 8.610660e+03 9.331901e+04 234.40428008 5.892630e+03 7.128238e+04\n",
      "73   72  68254 8.125459e+03 8.470835e+04 241.90888786 5.658226e+03 6.538975e+04\n",
      "74   73  66161 7.646887e+03 7.658289e+04 248.44083965 5.416317e+03 5.973152e+04\n",
      "75   74  63947 7.175721e+03 6.893601e+04 254.38706931 5.167876e+03 5.431520e+04\n",
      "76   75  61612 6.712332e+03 6.176029e+04 260.72810372 4.913489e+03 4.914733e+04\n",
      "77   76  59147 6.256099e+03 5.504795e+04 267.20279087 4.652761e+03 4.423384e+04\n",
      "78   77  56545 5.806680e+03 4.879185e+04 272.58062515 4.385558e+03 3.958108e+04\n",
      "79   78  53811 5.364973e+03 4.298517e+04 276.83773124 4.112978e+03 3.519552e+04\n",
      "80   79  50951 4.931874e+03 3.762020e+04 279.76981665 3.836140e+03 3.108254e+04\n",
      "81   80  47974 4.508457e+03 3.268833e+04 282.11376967 3.556370e+03 2.724640e+04\n",
      "82   81  44882 4.095029e+03 2.817987e+04 283.37518343 3.274256e+03 2.369003e+04\n",
      "83   82  41683 3.692381e+03 2.408484e+04 282.25973287 2.990881e+03 2.041577e+04\n",
      "84   83  38401 3.302576e+03 2.039246e+04 278.71443186 2.708621e+03 1.742489e+04\n",
      "85   84  35063 2.927670e+03 1.708988e+04 272.70423798 2.429907e+03 1.471627e+04\n",
      "86   85  31699 2.569694e+03 1.416221e+04 264.28917007 2.157203e+03 1.228636e+04\n",
      "87   86  28341 2.230560e+03 1.159252e+04 253.45853609 1.892914e+03 1.012916e+04\n",
      "88   87  25024 1.912133e+03 9.361959e+03 240.28971038 1.639455e+03 8.236249e+03\n",
      "89   88  21785 1.616150e+03 7.449825e+03 224.35980415 1.399165e+03 6.596794e+03\n",
      "90   89  18670 1.344718e+03 5.833675e+03 206.14711236 1.174805e+03 5.197629e+03\n",
      "91   90  15722 1.099405e+03 4.488956e+03 185.74992406 9.686583e+02 4.022823e+03\n",
      "92   91  12986 8.816332e+02 3.389552e+03 163.79540726 7.829084e+02 3.054165e+03\n",
      "93   92  10501 6.921592e+02 2.507918e+03 141.04240105 6.191130e+02 2.271256e+03\n",
      "94   93   8297 5.309568e+02 1.815759e+03 118.29539037 4.780706e+02 1.652143e+03\n",
      "95   94   6393 3.971967e+02 1.284802e+03  96.45219528 3.597752e+02 1.174073e+03\n",
      "96   95   4794 2.891756e+02 8.876058e+02  76.01531872 2.633230e+02 8.142975e+02\n",
      "97   96   3496 2.047377e+02 5.984302e+02  57.82426970 1.873077e+02 5.509744e+02\n",
      "98   97   2479 1.409502e+02 3.936925e+02  42.39485936 1.294834e+02 3.636667e+02\n",
      "99   98   1711 9.445001e+01 2.527423e+02  30.11972968 8.708858e+01 2.341833e+02\n",
      "100  99   1149 6.157930e+01 1.582923e+02  20.55297174 5.696885e+01 1.470947e+02\n",
      "101 100    754 3.923276e+01 9.671298e+01  13.79122843 3.641588e+01 9.012586e+01\n",
      "102 101    481 2.429883e+01 5.748022e+01   8.97540738 2.262465e+01 5.370998e+01\n",
      "103 102    298 1.461569e+01 3.318139e+01   5.66647291 1.364924e+01 3.108533e+01\n",
      "104 103    179 8.523518e+00 1.856570e+01   3.46728782 7.982770e+00 1.743609e+01\n",
      "105 104    104 4.807972e+00 1.004218e+01   2.06466330 4.515482e+00 9.453317e+00\n",
      "106 105     58 2.603271e+00 5.234209e+00   1.17657047 2.450818e+00 4.937835e+00\n",
      "107 106     31 1.350877e+00 2.630938e+00   0.63461191 1.274248e+00 2.487017e+00\n",
      "108 107     16 6.769194e-01 1.280061e+00   0.32860163 6.396360e-01 1.212769e+00\n",
      "109 108      8 3.286016e-01 6.031413e-01   0.15951536 3.110344e-01 5.731327e-01\n",
      "110 109      4 1.595154e-01 2.745396e-01   0.07743464 1.515191e-01 2.620983e-01\n",
      "111 110      2 7.743464e-02 1.150243e-01   0.03758963 7.408442e-02 1.105792e-01\n",
      "112 111      1 3.758963e-02 3.758963e-02   0.03649479 3.649479e-02 3.649479e-02\n",
      "\n"
     ]
    }
   ],
   "source": [
    "print(exampleAct)"
   ]
  }
 ],
 "metadata": {
  "kernelspec": {
   "display_name": "R",
   "language": "R",
   "name": "ir"
  },
  "language_info": {
   "codemirror_mode": "r",
   "file_extension": ".r",
   "mimetype": "text/x-r-source",
   "name": "R",
   "pygments_lexer": "r",
   "version": "4.0.2"
  }
 },
 "nbformat": 4,
 "nbformat_minor": 4
}
