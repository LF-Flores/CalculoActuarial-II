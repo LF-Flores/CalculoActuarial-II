{
 "cells": [
  {
   "cell_type": "markdown",
   "metadata": {},
   "source": [
    "# Manejando las estructuras de datos en R\n",
    "\n",
    "R es un lenguaje diseñado en torno al paradigma de la **programación funcional**, lo que quiere decir que las funciones se tratan a un mismo nivel con las variables. \n",
    "\n",
    "Además, R tiene algunos aspectos de **programación orientada a objetos** (aunque levemente diferente a C++ o Java) resumido ahora como POO. Esto quiere decir que cualquier ente dentro del lenguaje R va a ser un **objeto** (instancia de clase) con métodos y atributos. "
   ]
  },
  {
   "cell_type": "markdown",
   "metadata": {},
   "source": [
    "## Operaciones básicas en R"
   ]
  },
  {
   "cell_type": "markdown",
   "metadata": {},
   "source": [
    "### Aritmética"
   ]
  },
  {
   "cell_type": "code",
   "execution_count": 1,
   "metadata": {
    "scrolled": true
   },
   "outputs": [
    {
     "data": {
      "text/html": [
       "9"
      ],
      "text/latex": [
       "9"
      ],
      "text/markdown": [
       "9"
      ],
      "text/plain": [
       "[1] 9"
      ]
     },
     "metadata": {},
     "output_type": "display_data"
    },
    {
     "data": {
      "text/html": [
       "70"
      ],
      "text/latex": [
       "70"
      ],
      "text/markdown": [
       "70"
      ],
      "text/plain": [
       "[1] 70"
      ]
     },
     "metadata": {},
     "output_type": "display_data"
    },
    {
     "data": {
      "text/html": [
       "0.666666666666667"
      ],
      "text/latex": [
       "0.666666666666667"
      ],
      "text/markdown": [
       "0.666666666666667"
      ],
      "text/plain": [
       "[1] 0.6666667"
      ]
     },
     "metadata": {},
     "output_type": "display_data"
    },
    {
     "data": {
      "text/html": [
       "3"
      ],
      "text/latex": [
       "3"
      ],
      "text/markdown": [
       "3"
      ],
      "text/plain": [
       "[1] 3"
      ]
     },
     "metadata": {},
     "output_type": "display_data"
    },
    {
     "data": {
      "text/html": [
       "125"
      ],
      "text/latex": [
       "125"
      ],
      "text/markdown": [
       "125"
      ],
      "text/plain": [
       "[1] 125"
      ]
     },
     "metadata": {},
     "output_type": "display_data"
    }
   ],
   "source": [
    "# Suma\n",
    "6+3   \n",
    "\n",
    "# Producto\n",
    "10*7  \n",
    "\n",
    "# División\n",
    "4/6\n",
    "\n",
    "# Residuo / matemática modular\n",
    "123%%4\n",
    "\n",
    "# Potencia\n",
    "5**3"
   ]
  },
  {
   "cell_type": "markdown",
   "metadata": {},
   "source": [
    "### El operador \"Combinacion\" \n",
    "\n",
    "Los objetos que en otros lenguajes (Python, Java, C++) se conocen como listas (y que además son útiles para implementar en la computadora objetos matemáticos como vectores y matrices) se pueden obtener en R mediante el operador combinación `c()` "
   ]
  },
  {
   "cell_type": "code",
   "execution_count": 2,
   "metadata": {},
   "outputs": [
    {
     "data": {
      "text/html": [
       "<style>\n",
       ".list-inline {list-style: none; margin:0; padding: 0}\n",
       ".list-inline>li {display: inline-block}\n",
       ".list-inline>li:not(:last-child)::after {content: \"\\00b7\"; padding: 0 .5ex}\n",
       "</style>\n",
       "<ol class=list-inline><li>3</li><li>4</li></ol>\n"
      ],
      "text/latex": [
       "\\begin{enumerate*}\n",
       "\\item 3\n",
       "\\item 4\n",
       "\\end{enumerate*}\n"
      ],
      "text/markdown": [
       "1. 3\n",
       "2. 4\n",
       "\n",
       "\n"
      ],
      "text/plain": [
       "[1] 3 4"
      ]
     },
     "metadata": {},
     "output_type": "display_data"
    }
   ],
   "source": [
    "# Combinando dos objetos \"numeric\"\n",
    "c(3,4)"
   ]
  },
  {
   "cell_type": "code",
   "execution_count": 3,
   "metadata": {
    "scrolled": true
   },
   "outputs": [
    {
     "data": {
      "text/html": [
       "<style>\n",
       ".list-inline {list-style: none; margin:0; padding: 0}\n",
       ".list-inline>li {display: inline-block}\n",
       ".list-inline>li:not(:last-child)::after {content: \"\\00b7\"; padding: 0 .5ex}\n",
       "</style>\n",
       "<ol class=list-inline><li>1</li><li>7</li><li>3</li><li>4</li></ol>\n"
      ],
      "text/latex": [
       "\\begin{enumerate*}\n",
       "\\item 1\n",
       "\\item 7\n",
       "\\item 3\n",
       "\\item 4\n",
       "\\end{enumerate*}\n"
      ],
      "text/markdown": [
       "1. 1\n",
       "2. 7\n",
       "3. 3\n",
       "4. 4\n",
       "\n",
       "\n"
      ],
      "text/plain": [
       "[1] 1 7 3 4"
      ]
     },
     "metadata": {},
     "output_type": "display_data"
    }
   ],
   "source": [
    "# Combinación de \"numeric\"s y otra combinación\n",
    "c(1,7, c(3, 4))"
   ]
  },
  {
   "cell_type": "code",
   "execution_count": 4,
   "metadata": {
    "scrolled": true
   },
   "outputs": [
    {
     "data": {
      "text/html": [
       "<ol>\n",
       "\t<li>4</li>\n",
       "\t<li><pre class=language-r><code>function (x, ...) \n",
       "UseMethod(\"mean\")</code></pre></li>\n",
       "\t<li>'Hola'</li>\n",
       "\t<li>5</li>\n",
       "\t<li>10</li>\n",
       "\t<li>-5</li>\n",
       "</ol>\n"
      ],
      "text/latex": [
       "\\begin{enumerate}\n",
       "\\item 4\n",
       "\\item \\begin{minted}{r}\n",
       "function (x, ...) \n",
       "UseMethod(\"mean\")\n",
       "\\end{minted}\n",
       "\\item 'Hola'\n",
       "\\item 5\n",
       "\\item 10\n",
       "\\item -5\n",
       "\\end{enumerate}\n"
      ],
      "text/markdown": [
       "1. 4\n",
       "2. ```r\n",
       "function (x, ...) \n",
       "UseMethod(\"mean\")\n",
       "```\n",
       "3. 'Hola'\n",
       "4. 5\n",
       "5. 10\n",
       "6. -5\n",
       "\n",
       "\n"
      ],
      "text/plain": [
       "[[1]]\n",
       "[1] 4\n",
       "\n",
       "[[2]]\n",
       "function (x, ...) \n",
       "UseMethod(\"mean\")\n",
       "<bytecode: 0x560703fca3b8>\n",
       "<environment: namespace:base>\n",
       "\n",
       "[[3]]\n",
       "[1] \"Hola\"\n",
       "\n",
       "[[4]]\n",
       "[1] 5\n",
       "\n",
       "[[5]]\n",
       "[1] 10\n",
       "\n",
       "[[6]]\n",
       "[1] -5\n"
      ]
     },
     "metadata": {},
     "output_type": "display_data"
    }
   ],
   "source": [
    "# Se puede combinar lo que sea (gracias a la programación funcional)\n",
    "c(4, mean, \"Hola\", 5, c(10,-5))"
   ]
  },
  {
   "cell_type": "markdown",
   "metadata": {},
   "source": [
    "Esto nos permite crear vectores de cualquier tipo de objeto. Para crear matrices en R utilizamos el comando `cbind()`, que significa \"column bind\", o el comando `rbind()`, que significa \"row bind\"."
   ]
  },
  {
   "cell_type": "code",
   "execution_count": 5,
   "metadata": {},
   "outputs": [
    {
     "data": {
      "text/html": [
       "<table>\n",
       "<caption>A matrix: 3 × 2 of type dbl</caption>\n",
       "<tbody>\n",
       "\t<tr><td>1</td><td>3</td></tr>\n",
       "\t<tr><td>2</td><td>5</td></tr>\n",
       "\t<tr><td>3</td><td>6</td></tr>\n",
       "</tbody>\n",
       "</table>\n"
      ],
      "text/latex": [
       "A matrix: 3 × 2 of type dbl\n",
       "\\begin{tabular}{ll}\n",
       "\t 1 & 3\\\\\n",
       "\t 2 & 5\\\\\n",
       "\t 3 & 6\\\\\n",
       "\\end{tabular}\n"
      ],
      "text/markdown": [
       "\n",
       "A matrix: 3 × 2 of type dbl\n",
       "\n",
       "| 1 | 3 |\n",
       "| 2 | 5 |\n",
       "| 3 | 6 |\n",
       "\n"
      ],
      "text/plain": [
       "     [,1] [,2]\n",
       "[1,] 1    3   \n",
       "[2,] 2    5   \n",
       "[3,] 3    6   "
      ]
     },
     "metadata": {},
     "output_type": "display_data"
    }
   ],
   "source": [
    "cbind(c(1,2,3), c(3,5,6)) # cada argumento de cbind() será una columna"
   ]
  },
  {
   "cell_type": "code",
   "execution_count": 6,
   "metadata": {
    "scrolled": true
   },
   "outputs": [
    {
     "data": {
      "text/html": [
       "<table>\n",
       "<caption>A matrix: 2 × 3 of type dbl</caption>\n",
       "<tbody>\n",
       "\t<tr><td>1</td><td>2</td><td>3</td></tr>\n",
       "\t<tr><td>3</td><td>5</td><td>6</td></tr>\n",
       "</tbody>\n",
       "</table>\n"
      ],
      "text/latex": [
       "A matrix: 2 × 3 of type dbl\n",
       "\\begin{tabular}{lll}\n",
       "\t 1 & 2 & 3\\\\\n",
       "\t 3 & 5 & 6\\\\\n",
       "\\end{tabular}\n"
      ],
      "text/markdown": [
       "\n",
       "A matrix: 2 × 3 of type dbl\n",
       "\n",
       "| 1 | 2 | 3 |\n",
       "| 3 | 5 | 6 |\n",
       "\n"
      ],
      "text/plain": [
       "     [,1] [,2] [,3]\n",
       "[1,] 1    2    3   \n",
       "[2,] 3    5    6   "
      ]
     },
     "metadata": {},
     "output_type": "display_data"
    }
   ],
   "source": [
    "rbind(c(1,2,3), c(3,5,6)) # cada argumento de rbind() será una fila"
   ]
  },
  {
   "cell_type": "code",
   "execution_count": 7,
   "metadata": {},
   "outputs": [
    {
     "data": {
      "text/html": [
       "<table>\n",
       "<caption>A matrix: 7 × 2 of type dbl</caption>\n",
       "<tbody>\n",
       "\t<tr><td>1</td><td>1</td></tr>\n",
       "\t<tr><td>1</td><td>2</td></tr>\n",
       "\t<tr><td>1</td><td>3</td></tr>\n",
       "\t<tr><td>1</td><td>4</td></tr>\n",
       "\t<tr><td>1</td><td>5</td></tr>\n",
       "\t<tr><td>1</td><td>6</td></tr>\n",
       "\t<tr><td>1</td><td>7</td></tr>\n",
       "</tbody>\n",
       "</table>\n"
      ],
      "text/latex": [
       "A matrix: 7 × 2 of type dbl\n",
       "\\begin{tabular}{ll}\n",
       "\t 1 & 1\\\\\n",
       "\t 1 & 2\\\\\n",
       "\t 1 & 3\\\\\n",
       "\t 1 & 4\\\\\n",
       "\t 1 & 5\\\\\n",
       "\t 1 & 6\\\\\n",
       "\t 1 & 7\\\\\n",
       "\\end{tabular}\n"
      ],
      "text/markdown": [
       "\n",
       "A matrix: 7 × 2 of type dbl\n",
       "\n",
       "| 1 | 1 |\n",
       "| 1 | 2 |\n",
       "| 1 | 3 |\n",
       "| 1 | 4 |\n",
       "| 1 | 5 |\n",
       "| 1 | 6 |\n",
       "| 1 | 7 |\n",
       "\n"
      ],
      "text/plain": [
       "     [,1] [,2]\n",
       "[1,] 1    1   \n",
       "[2,] 1    2   \n",
       "[3,] 1    3   \n",
       "[4,] 1    4   \n",
       "[5,] 1    5   \n",
       "[6,] 1    6   \n",
       "[7,] 1    7   "
      ]
     },
     "metadata": {},
     "output_type": "display_data"
    }
   ],
   "source": [
    "# cbind de un numero con un vector\n",
    "cbind(1, 1:7)"
   ]
  },
  {
   "cell_type": "code",
   "execution_count": 8,
   "metadata": {},
   "outputs": [
    {
     "data": {
      "text/html": [
       "<table>\n",
       "<caption>A matrix: 7 × 2 of type int</caption>\n",
       "<tbody>\n",
       "\t<tr><td>3</td><td>1</td></tr>\n",
       "\t<tr><td>4</td><td>2</td></tr>\n",
       "\t<tr><td>5</td><td>3</td></tr>\n",
       "\t<tr><td>6</td><td>4</td></tr>\n",
       "\t<tr><td>7</td><td>5</td></tr>\n",
       "\t<tr><td>8</td><td>6</td></tr>\n",
       "\t<tr><td>9</td><td>7</td></tr>\n",
       "</tbody>\n",
       "</table>\n"
      ],
      "text/latex": [
       "A matrix: 7 × 2 of type int\n",
       "\\begin{tabular}{ll}\n",
       "\t 3 & 1\\\\\n",
       "\t 4 & 2\\\\\n",
       "\t 5 & 3\\\\\n",
       "\t 6 & 4\\\\\n",
       "\t 7 & 5\\\\\n",
       "\t 8 & 6\\\\\n",
       "\t 9 & 7\\\\\n",
       "\\end{tabular}\n"
      ],
      "text/markdown": [
       "\n",
       "A matrix: 7 × 2 of type int\n",
       "\n",
       "| 3 | 1 |\n",
       "| 4 | 2 |\n",
       "| 5 | 3 |\n",
       "| 6 | 4 |\n",
       "| 7 | 5 |\n",
       "| 8 | 6 |\n",
       "| 9 | 7 |\n",
       "\n"
      ],
      "text/plain": [
       "     [,1] [,2]\n",
       "[1,] 3    1   \n",
       "[2,] 4    2   \n",
       "[3,] 5    3   \n",
       "[4,] 6    4   \n",
       "[5,] 7    5   \n",
       "[6,] 8    6   \n",
       "[7,] 9    7   "
      ]
     },
     "metadata": {},
     "output_type": "display_data"
    }
   ],
   "source": [
    "# cbind con dos vectores (del mismo tamaño)\n",
    "cbind(3:9, 1:7)"
   ]
  },
  {
   "cell_type": "code",
   "execution_count": 9,
   "metadata": {},
   "outputs": [
    {
     "name": "stderr",
     "output_type": "stream",
     "text": [
      "Warning message in cbind(3:14, 1:7):\n",
      "“number of rows of result is not a multiple of vector length (arg 2)”\n"
     ]
    },
    {
     "data": {
      "text/html": [
       "<table>\n",
       "<caption>A matrix: 12 × 2 of type int</caption>\n",
       "<tbody>\n",
       "\t<tr><td> 3</td><td>1</td></tr>\n",
       "\t<tr><td> 4</td><td>2</td></tr>\n",
       "\t<tr><td> 5</td><td>3</td></tr>\n",
       "\t<tr><td> 6</td><td>4</td></tr>\n",
       "\t<tr><td> 7</td><td>5</td></tr>\n",
       "\t<tr><td> 8</td><td>6</td></tr>\n",
       "\t<tr><td> 9</td><td>7</td></tr>\n",
       "\t<tr><td>10</td><td>1</td></tr>\n",
       "\t<tr><td>11</td><td>2</td></tr>\n",
       "\t<tr><td>12</td><td>3</td></tr>\n",
       "\t<tr><td>13</td><td>4</td></tr>\n",
       "\t<tr><td>14</td><td>5</td></tr>\n",
       "</tbody>\n",
       "</table>\n"
      ],
      "text/latex": [
       "A matrix: 12 × 2 of type int\n",
       "\\begin{tabular}{ll}\n",
       "\t  3 & 1\\\\\n",
       "\t  4 & 2\\\\\n",
       "\t  5 & 3\\\\\n",
       "\t  6 & 4\\\\\n",
       "\t  7 & 5\\\\\n",
       "\t  8 & 6\\\\\n",
       "\t  9 & 7\\\\\n",
       "\t 10 & 1\\\\\n",
       "\t 11 & 2\\\\\n",
       "\t 12 & 3\\\\\n",
       "\t 13 & 4\\\\\n",
       "\t 14 & 5\\\\\n",
       "\\end{tabular}\n"
      ],
      "text/markdown": [
       "\n",
       "A matrix: 12 × 2 of type int\n",
       "\n",
       "|  3 | 1 |\n",
       "|  4 | 2 |\n",
       "|  5 | 3 |\n",
       "|  6 | 4 |\n",
       "|  7 | 5 |\n",
       "|  8 | 6 |\n",
       "|  9 | 7 |\n",
       "| 10 | 1 |\n",
       "| 11 | 2 |\n",
       "| 12 | 3 |\n",
       "| 13 | 4 |\n",
       "| 14 | 5 |\n",
       "\n"
      ],
      "text/plain": [
       "      [,1] [,2]\n",
       " [1,]  3   1   \n",
       " [2,]  4   2   \n",
       " [3,]  5   3   \n",
       " [4,]  6   4   \n",
       " [5,]  7   5   \n",
       " [6,]  8   6   \n",
       " [7,]  9   7   \n",
       " [8,] 10   1   \n",
       " [9,] 11   2   \n",
       "[10,] 12   3   \n",
       "[11,] 13   4   \n",
       "[12,] 14   5   "
      ]
     },
     "metadata": {},
     "output_type": "display_data"
    }
   ],
   "source": [
    "# cbind con dos vectores (de diferente tamaño)\n",
    "cbind(3:14, 1:7)"
   ]
  },
  {
   "cell_type": "code",
   "execution_count": 10,
   "metadata": {},
   "outputs": [
    {
     "data": {
      "text/html": [
       "<table>\n",
       "<caption>A matrix: 15 × 3 of type int</caption>\n",
       "<tbody>\n",
       "\t<tr><td> 1</td><td>1</td><td>1</td></tr>\n",
       "\t<tr><td> 2</td><td>2</td><td>2</td></tr>\n",
       "\t<tr><td> 3</td><td>3</td><td>3</td></tr>\n",
       "\t<tr><td> 4</td><td>4</td><td>1</td></tr>\n",
       "\t<tr><td> 5</td><td>5</td><td>2</td></tr>\n",
       "\t<tr><td> 6</td><td>1</td><td>3</td></tr>\n",
       "\t<tr><td> 7</td><td>2</td><td>1</td></tr>\n",
       "\t<tr><td> 8</td><td>3</td><td>2</td></tr>\n",
       "\t<tr><td> 9</td><td>4</td><td>3</td></tr>\n",
       "\t<tr><td>10</td><td>5</td><td>1</td></tr>\n",
       "\t<tr><td>11</td><td>1</td><td>2</td></tr>\n",
       "\t<tr><td>12</td><td>2</td><td>3</td></tr>\n",
       "\t<tr><td>13</td><td>3</td><td>1</td></tr>\n",
       "\t<tr><td>14</td><td>4</td><td>2</td></tr>\n",
       "\t<tr><td>15</td><td>5</td><td>3</td></tr>\n",
       "</tbody>\n",
       "</table>\n"
      ],
      "text/latex": [
       "A matrix: 15 × 3 of type int\n",
       "\\begin{tabular}{lll}\n",
       "\t  1 & 1 & 1\\\\\n",
       "\t  2 & 2 & 2\\\\\n",
       "\t  3 & 3 & 3\\\\\n",
       "\t  4 & 4 & 1\\\\\n",
       "\t  5 & 5 & 2\\\\\n",
       "\t  6 & 1 & 3\\\\\n",
       "\t  7 & 2 & 1\\\\\n",
       "\t  8 & 3 & 2\\\\\n",
       "\t  9 & 4 & 3\\\\\n",
       "\t 10 & 5 & 1\\\\\n",
       "\t 11 & 1 & 2\\\\\n",
       "\t 12 & 2 & 3\\\\\n",
       "\t 13 & 3 & 1\\\\\n",
       "\t 14 & 4 & 2\\\\\n",
       "\t 15 & 5 & 3\\\\\n",
       "\\end{tabular}\n"
      ],
      "text/markdown": [
       "\n",
       "A matrix: 15 × 3 of type int\n",
       "\n",
       "|  1 | 1 | 1 |\n",
       "|  2 | 2 | 2 |\n",
       "|  3 | 3 | 3 |\n",
       "|  4 | 4 | 1 |\n",
       "|  5 | 5 | 2 |\n",
       "|  6 | 1 | 3 |\n",
       "|  7 | 2 | 1 |\n",
       "|  8 | 3 | 2 |\n",
       "|  9 | 4 | 3 |\n",
       "| 10 | 5 | 1 |\n",
       "| 11 | 1 | 2 |\n",
       "| 12 | 2 | 3 |\n",
       "| 13 | 3 | 1 |\n",
       "| 14 | 4 | 2 |\n",
       "| 15 | 5 | 3 |\n",
       "\n"
      ],
      "text/plain": [
       "      [,1] [,2] [,3]\n",
       " [1,]  1   1    1   \n",
       " [2,]  2   2    2   \n",
       " [3,]  3   3    3   \n",
       " [4,]  4   4    1   \n",
       " [5,]  5   5    2   \n",
       " [6,]  6   1    3   \n",
       " [7,]  7   2    1   \n",
       " [8,]  8   3    2   \n",
       " [9,]  9   4    3   \n",
       "[10,] 10   5    1   \n",
       "[11,] 11   1    2   \n",
       "[12,] 12   2    3   \n",
       "[13,] 13   3    1   \n",
       "[14,] 14   4    2   \n",
       "[15,] 15   5    3   "
      ]
     },
     "metadata": {},
     "output_type": "display_data"
    }
   ],
   "source": [
    "# cbind con tres vectores (con tamaños que comparten un divisor común)\n",
    "cbind(1:15, 1:5, 1:3)"
   ]
  },
  {
   "cell_type": "markdown",
   "metadata": {},
   "source": [
    "También es posible crear una matriz especificando el número de filas y columnas a un constructor por defecto, el cual llena todas sus entradas de elementos `NA`s "
   ]
  },
  {
   "cell_type": "code",
   "execution_count": 11,
   "metadata": {},
   "outputs": [
    {
     "data": {
      "text/html": [
       "<table>\n",
       "<caption>A matrix: 4 × 2 of type lgl</caption>\n",
       "<tbody>\n",
       "\t<tr><td>NA</td><td>NA</td></tr>\n",
       "\t<tr><td>NA</td><td>NA</td></tr>\n",
       "\t<tr><td>NA</td><td>NA</td></tr>\n",
       "\t<tr><td>NA</td><td>NA</td></tr>\n",
       "</tbody>\n",
       "</table>\n"
      ],
      "text/latex": [
       "A matrix: 4 × 2 of type lgl\n",
       "\\begin{tabular}{ll}\n",
       "\t NA & NA\\\\\n",
       "\t NA & NA\\\\\n",
       "\t NA & NA\\\\\n",
       "\t NA & NA\\\\\n",
       "\\end{tabular}\n"
      ],
      "text/markdown": [
       "\n",
       "A matrix: 4 × 2 of type lgl\n",
       "\n",
       "| NA | NA |\n",
       "| NA | NA |\n",
       "| NA | NA |\n",
       "| NA | NA |\n",
       "\n"
      ],
      "text/plain": [
       "     [,1] [,2]\n",
       "[1,] NA   NA  \n",
       "[2,] NA   NA  \n",
       "[3,] NA   NA  \n",
       "[4,] NA   NA  "
      ]
     },
     "metadata": {},
     "output_type": "display_data"
    }
   ],
   "source": [
    "matrix(nrow = 4, ncol = 2)"
   ]
  },
  {
   "cell_type": "markdown",
   "metadata": {},
   "source": [
    "Igualmente se pueden especificar las entradas"
   ]
  },
  {
   "cell_type": "code",
   "execution_count": 12,
   "metadata": {},
   "outputs": [
    {
     "data": {
      "text/html": [
       "<table>\n",
       "<caption>A matrix: 4 × 2 of type dbl</caption>\n",
       "<tbody>\n",
       "\t<tr><td>1</td><td>5</td></tr>\n",
       "\t<tr><td>2</td><td>6</td></tr>\n",
       "\t<tr><td>3</td><td>7</td></tr>\n",
       "\t<tr><td>4</td><td>8</td></tr>\n",
       "</tbody>\n",
       "</table>\n"
      ],
      "text/latex": [
       "A matrix: 4 × 2 of type dbl\n",
       "\\begin{tabular}{ll}\n",
       "\t 1 & 5\\\\\n",
       "\t 2 & 6\\\\\n",
       "\t 3 & 7\\\\\n",
       "\t 4 & 8\\\\\n",
       "\\end{tabular}\n"
      ],
      "text/markdown": [
       "\n",
       "A matrix: 4 × 2 of type dbl\n",
       "\n",
       "| 1 | 5 |\n",
       "| 2 | 6 |\n",
       "| 3 | 7 |\n",
       "| 4 | 8 |\n",
       "\n"
      ],
      "text/plain": [
       "     [,1] [,2]\n",
       "[1,] 1    5   \n",
       "[2,] 2    6   \n",
       "[3,] 3    7   \n",
       "[4,] 4    8   "
      ]
     },
     "metadata": {},
     "output_type": "display_data"
    }
   ],
   "source": [
    "matrix(c(1,2,3,4,5,6,7,8), nrow = 4, ncol = 2)"
   ]
  },
  {
   "cell_type": "markdown",
   "metadata": {},
   "source": [
    "## Variables\n",
    "### Creación de variables\n",
    "\n",
    "La creación de variables en R se puede realizar utilizando tres tipos operadoradores de asignación: la igualdad `=`, la asignación simple a la izquierda  `<-` (o derecha `->`), y la asignación exterior izquierda `<<-` (o derecha `->>`)"
   ]
  },
  {
   "cell_type": "code",
   "execution_count": 13,
   "metadata": {},
   "outputs": [
    {
     "data": {
      "text/html": [
       "5"
      ],
      "text/latex": [
       "5"
      ],
      "text/markdown": [
       "5"
      ],
      "text/plain": [
       "[1] 5"
      ]
     },
     "metadata": {},
     "output_type": "display_data"
    }
   ],
   "source": [
    "x = 5\n",
    "x"
   ]
  },
  {
   "cell_type": "code",
   "execution_count": 14,
   "metadata": {},
   "outputs": [
    {
     "data": {
      "text/html": [
       "4"
      ],
      "text/latex": [
       "4"
      ],
      "text/markdown": [
       "4"
      ],
      "text/plain": [
       "[1] 4"
      ]
     },
     "metadata": {},
     "output_type": "display_data"
    }
   ],
   "source": [
    "y <- 4\n",
    "y"
   ]
  },
  {
   "cell_type": "code",
   "execution_count": 15,
   "metadata": {},
   "outputs": [
    {
     "data": {
      "text/html": [
       "10"
      ],
      "text/latex": [
       "10"
      ],
      "text/markdown": [
       "10"
      ],
      "text/plain": [
       "[1] 10"
      ]
     },
     "metadata": {},
     "output_type": "display_data"
    }
   ],
   "source": [
    "10 -> z\n",
    "z"
   ]
  },
  {
   "cell_type": "markdown",
   "metadata": {},
   "source": [
    "Pero ¿En qué son diferentes? \n",
    "\n",
    "* `->` y `<-` son, en práctica, idénticos. La mayor diferencia entre ellos es estética y de legibilidad, aunque puede que hayan diferencias técnicas en cuanto a manejo de memoria dependiendo de cada implementación del lenguaje R. En la implementación estandar, no lo hay. Cabe igual mencionar que `<-` es fácilmente utilizado apretando `alt` `+` `-` tanto en jupyter notebook (con kernel de R) como en RStudio.\n",
    "\n",
    "* `<-` y `=` son diferentes en el rango de su efecto, por ejemplo:"
   ]
  },
  {
   "cell_type": "code",
   "execution_count": 16,
   "metadata": {
    "scrolled": true
   },
   "outputs": [
    {
     "data": {
      "text/html": [
       "<table>\n",
       "<caption>A matrix: 2 × 1 of type dbl</caption>\n",
       "<tbody>\n",
       "\t<tr><td>1</td></tr>\n",
       "\t<tr><td>1</td></tr>\n",
       "</tbody>\n",
       "</table>\n"
      ],
      "text/latex": [
       "A matrix: 2 × 1 of type dbl\n",
       "\\begin{tabular}{l}\n",
       "\t 1\\\\\n",
       "\t 1\\\\\n",
       "\\end{tabular}\n"
      ],
      "text/markdown": [
       "\n",
       "A matrix: 2 × 1 of type dbl\n",
       "\n",
       "| 1 |\n",
       "| 1 |\n",
       "\n"
      ],
      "text/plain": [
       "     [,1]\n",
       "[1,] 1   \n",
       "[2,] 1   "
      ]
     },
     "metadata": {},
     "output_type": "display_data"
    }
   ],
   "source": [
    "matrix(1, nrow = 2)"
   ]
  },
  {
   "cell_type": "code",
   "execution_count": 17,
   "metadata": {},
   "outputs": [
    {
     "data": {
      "text/html": [
       "<pre class=language-r><code>function (x) \n",
       "dim(x)[1L]</code></pre>"
      ],
      "text/latex": [
       "\\begin{minted}{r}\n",
       "function (x) \n",
       "dim(x){[}1L{]}\n",
       "\\end{minted}"
      ],
      "text/markdown": [
       "```r\n",
       "function (x) \n",
       "dim(x)[1L]\n",
       "```"
      ],
      "text/plain": [
       "function (x) \n",
       "dim(x)[1L]\n",
       "<bytecode: 0x56070344e9d0>\n",
       "<environment: namespace:base>"
      ]
     },
     "metadata": {},
     "output_type": "display_data"
    }
   ],
   "source": [
    "nrow"
   ]
  },
  {
   "cell_type": "code",
   "execution_count": 18,
   "metadata": {},
   "outputs": [
    {
     "data": {
      "text/html": [
       "<table>\n",
       "<caption>A matrix: 2 × 1 of type dbl</caption>\n",
       "<tbody>\n",
       "\t<tr><td>1</td></tr>\n",
       "\t<tr><td>1</td></tr>\n",
       "</tbody>\n",
       "</table>\n"
      ],
      "text/latex": [
       "A matrix: 2 × 1 of type dbl\n",
       "\\begin{tabular}{l}\n",
       "\t 1\\\\\n",
       "\t 1\\\\\n",
       "\\end{tabular}\n"
      ],
      "text/markdown": [
       "\n",
       "A matrix: 2 × 1 of type dbl\n",
       "\n",
       "| 1 |\n",
       "| 1 |\n",
       "\n"
      ],
      "text/plain": [
       "     [,1]\n",
       "[1,] 1   \n",
       "[2,] 1   "
      ]
     },
     "metadata": {},
     "output_type": "display_data"
    }
   ],
   "source": [
    "matrix(1, nrow <- 2)"
   ]
  },
  {
   "cell_type": "code",
   "execution_count": 19,
   "metadata": {},
   "outputs": [
    {
     "data": {
      "text/html": [
       "2"
      ],
      "text/latex": [
       "2"
      ],
      "text/markdown": [
       "2"
      ],
      "text/plain": [
       "[1] 2"
      ]
     },
     "metadata": {},
     "output_type": "display_data"
    }
   ],
   "source": [
    "nrow"
   ]
  },
  {
   "cell_type": "markdown",
   "metadata": {},
   "source": [
    "Es decir, utilizar a `<-` para pasar un argumento a una función resulta en además **asignar** dicho valor a una variable con el nombre del argumento. Esto es no deseado y por ello es estandar utilizar `<-` solo pa asignaciones, mientras que `=` solo para pasar argumento a funciones (aunque `=` no tenga muchos problemas con usarse para asignaciones)\n",
    "\n",
    "Para discutir el caso de `<-` vs `<<-` debemos hablar sobre la noción de **alcance (scope)** en las variables y de las funciones. \n",
    "\n",
    "### Funciones comunes\n",
    "\n",
    "Tenemos funciones predefinidas en las librerías estándar de R como:"
   ]
  },
  {
   "cell_type": "code",
   "execution_count": 20,
   "metadata": {
    "scrolled": true
   },
   "outputs": [
    {
     "data": {
      "text/html": [
       "6.42857142857143"
      ],
      "text/latex": [
       "6.42857142857143"
      ],
      "text/markdown": [
       "6.42857142857143"
      ],
      "text/plain": [
       "[1] 6.428571"
      ]
     },
     "metadata": {},
     "output_type": "display_data"
    }
   ],
   "source": [
    "x <- c(2,4,5,6,7,10,11)\n",
    "mean(x)"
   ]
  },
  {
   "cell_type": "code",
   "execution_count": 21,
   "metadata": {
    "scrolled": false
   },
   "outputs": [
    {
     "data": {
      "text/html": [
       "6"
      ],
      "text/latex": [
       "6"
      ],
      "text/markdown": [
       "6"
      ],
      "text/plain": [
       "[1] 6"
      ]
     },
     "metadata": {},
     "output_type": "display_data"
    }
   ],
   "source": [
    "median(x)"
   ]
  },
  {
   "cell_type": "code",
   "execution_count": 22,
   "metadata": {
    "scrolled": true
   },
   "outputs": [
    {
     "data": {
      "text/html": [
       "<style>\n",
       ".list-inline {list-style: none; margin:0; padding: 0}\n",
       ".list-inline>li {display: inline-block}\n",
       ".list-inline>li:not(:last-child)::after {content: \"\\00b7\"; padding: 0 .5ex}\n",
       "</style>\n",
       "<ol class=list-inline><li>-0.416146836547142</li><li>-0.653643620863612</li><li>0.283662185463226</li><li>0.960170286650366</li><li>0.753902254343305</li><li>-0.839071529076452</li><li>0.00442569798805079</li></ol>\n"
      ],
      "text/latex": [
       "\\begin{enumerate*}\n",
       "\\item -0.416146836547142\n",
       "\\item -0.653643620863612\n",
       "\\item 0.283662185463226\n",
       "\\item 0.960170286650366\n",
       "\\item 0.753902254343305\n",
       "\\item -0.839071529076452\n",
       "\\item 0.00442569798805079\n",
       "\\end{enumerate*}\n"
      ],
      "text/markdown": [
       "1. -0.416146836547142\n",
       "2. -0.653643620863612\n",
       "3. 0.283662185463226\n",
       "4. 0.960170286650366\n",
       "5. 0.753902254343305\n",
       "6. -0.839071529076452\n",
       "7. 0.00442569798805079\n",
       "\n",
       "\n"
      ],
      "text/plain": [
       "[1] -0.416146837 -0.653643621  0.283662185  0.960170287  0.753902254\n",
       "[6] -0.839071529  0.004425698"
      ]
     },
     "metadata": {},
     "output_type": "display_data"
    }
   ],
   "source": [
    "cos(x)"
   ]
  },
  {
   "cell_type": "code",
   "execution_count": 23,
   "metadata": {},
   "outputs": [
    {
     "data": {
      "text/html": [
       "<style>\n",
       ".list-inline {list-style: none; margin:0; padding: 0}\n",
       ".list-inline>li {display: inline-block}\n",
       ".list-inline>li:not(:last-child)::after {content: \"\\00b7\"; padding: 0 .5ex}\n",
       "</style>\n",
       "<ol class=list-inline><li>0.909297426825682</li><li>-0.756802495307928</li><li>-0.958924274663138</li><li>-0.279415498198926</li><li>0.656986598718789</li><li>-0.54402111088937</li><li>-0.999990206550703</li></ol>\n"
      ],
      "text/latex": [
       "\\begin{enumerate*}\n",
       "\\item 0.909297426825682\n",
       "\\item -0.756802495307928\n",
       "\\item -0.958924274663138\n",
       "\\item -0.279415498198926\n",
       "\\item 0.656986598718789\n",
       "\\item -0.54402111088937\n",
       "\\item -0.999990206550703\n",
       "\\end{enumerate*}\n"
      ],
      "text/markdown": [
       "1. 0.909297426825682\n",
       "2. -0.756802495307928\n",
       "3. -0.958924274663138\n",
       "4. -0.279415498198926\n",
       "5. 0.656986598718789\n",
       "6. -0.54402111088937\n",
       "7. -0.999990206550703\n",
       "\n",
       "\n"
      ],
      "text/plain": [
       "[1]  0.9092974 -0.7568025 -0.9589243 -0.2794155  0.6569866 -0.5440211 -0.9999902"
      ]
     },
     "metadata": {},
     "output_type": "display_data"
    }
   ],
   "source": [
    "sin(x)"
   ]
  },
  {
   "cell_type": "code",
   "execution_count": 24,
   "metadata": {},
   "outputs": [
    {
     "data": {
      "text/html": [
       "54.5981500331442"
      ],
      "text/latex": [
       "54.5981500331442"
      ],
      "text/markdown": [
       "54.5981500331442"
      ],
      "text/plain": [
       "[1] 54.59815"
      ]
     },
     "metadata": {},
     "output_type": "display_data"
    }
   ],
   "source": [
    "exp(4)"
   ]
  },
  {
   "cell_type": "code",
   "execution_count": 25,
   "metadata": {
    "scrolled": true
   },
   "outputs": [
    {
     "data": {
      "text/plain": [
       "   Min. 1st Qu.  Median    Mean 3rd Qu.    Max. \n",
       "    4.0     4.0     5.0     5.4     6.0     8.0 "
      ]
     },
     "metadata": {},
     "output_type": "display_data"
    }
   ],
   "source": [
    "summary(c(4,5,6,8,4))"
   ]
  },
  {
   "cell_type": "code",
   "execution_count": 26,
   "metadata": {},
   "outputs": [
    {
     "data": {
      "text/html": [
       "<style>\n",
       ".list-inline {list-style: none; margin:0; padding: 0}\n",
       ".list-inline>li {display: inline-block}\n",
       ".list-inline>li:not(:last-child)::after {content: \"\\00b7\"; padding: 0 .5ex}\n",
       "</style>\n",
       "<ol class=list-inline><li>1</li><li>2</li><li>3</li><li>4</li><li>5</li><li>6</li><li>7</li><li>8</li><li>9</li><li>10</li></ol>\n"
      ],
      "text/latex": [
       "\\begin{enumerate*}\n",
       "\\item 1\n",
       "\\item 2\n",
       "\\item 3\n",
       "\\item 4\n",
       "\\item 5\n",
       "\\item 6\n",
       "\\item 7\n",
       "\\item 8\n",
       "\\item 9\n",
       "\\item 10\n",
       "\\end{enumerate*}\n"
      ],
      "text/markdown": [
       "1. 1\n",
       "2. 2\n",
       "3. 3\n",
       "4. 4\n",
       "5. 5\n",
       "6. 6\n",
       "7. 7\n",
       "8. 8\n",
       "9. 9\n",
       "10. 10\n",
       "\n",
       "\n"
      ],
      "text/plain": [
       " [1]  1  2  3  4  5  6  7  8  9 10"
      ]
     },
     "metadata": {},
     "output_type": "display_data"
    },
    {
     "data": {
      "text/html": [
       "<style>\n",
       ".list-inline {list-style: none; margin:0; padding: 0}\n",
       ".list-inline>li {display: inline-block}\n",
       ".list-inline>li:not(:last-child)::after {content: \"\\00b7\"; padding: 0 .5ex}\n",
       "</style>\n",
       "<ol class=list-inline><li>1</li><li>2</li><li>3</li><li>4</li><li>5</li><li>6</li><li>7</li><li>8</li><li>9</li><li>10</li></ol>\n"
      ],
      "text/latex": [
       "\\begin{enumerate*}\n",
       "\\item 1\n",
       "\\item 2\n",
       "\\item 3\n",
       "\\item 4\n",
       "\\item 5\n",
       "\\item 6\n",
       "\\item 7\n",
       "\\item 8\n",
       "\\item 9\n",
       "\\item 10\n",
       "\\end{enumerate*}\n"
      ],
      "text/markdown": [
       "1. 1\n",
       "2. 2\n",
       "3. 3\n",
       "4. 4\n",
       "5. 5\n",
       "6. 6\n",
       "7. 7\n",
       "8. 8\n",
       "9. 9\n",
       "10. 10\n",
       "\n",
       "\n"
      ],
      "text/plain": [
       " [1]  1  2  3  4  5  6  7  8  9 10"
      ]
     },
     "metadata": {},
     "output_type": "display_data"
    },
    {
     "data": {
      "text/html": [
       "<style>\n",
       ".list-inline {list-style: none; margin:0; padding: 0}\n",
       ".list-inline>li {display: inline-block}\n",
       ".list-inline>li:not(:last-child)::after {content: \"\\00b7\"; padding: 0 .5ex}\n",
       "</style>\n",
       "<ol class=list-inline><li>3</li><li>4</li><li>5</li><li>6</li><li>7</li><li>8</li><li>9</li><li>10</li></ol>\n"
      ],
      "text/latex": [
       "\\begin{enumerate*}\n",
       "\\item 3\n",
       "\\item 4\n",
       "\\item 5\n",
       "\\item 6\n",
       "\\item 7\n",
       "\\item 8\n",
       "\\item 9\n",
       "\\item 10\n",
       "\\end{enumerate*}\n"
      ],
      "text/markdown": [
       "1. 3\n",
       "2. 4\n",
       "3. 5\n",
       "4. 6\n",
       "5. 7\n",
       "6. 8\n",
       "7. 9\n",
       "8. 10\n",
       "\n",
       "\n"
      ],
      "text/plain": [
       "[1]  3  4  5  6  7  8  9 10"
      ]
     },
     "metadata": {},
     "output_type": "display_data"
    },
    {
     "data": {
      "text/html": [
       "<style>\n",
       ".list-inline {list-style: none; margin:0; padding: 0}\n",
       ".list-inline>li {display: inline-block}\n",
       ".list-inline>li:not(:last-child)::after {content: \"\\00b7\"; padding: 0 .5ex}\n",
       "</style>\n",
       "<ol class=list-inline><li>10</li><li>9</li><li>8</li><li>7</li><li>6</li><li>5</li><li>4</li><li>3</li></ol>\n"
      ],
      "text/latex": [
       "\\begin{enumerate*}\n",
       "\\item 10\n",
       "\\item 9\n",
       "\\item 8\n",
       "\\item 7\n",
       "\\item 6\n",
       "\\item 5\n",
       "\\item 4\n",
       "\\item 3\n",
       "\\end{enumerate*}\n"
      ],
      "text/markdown": [
       "1. 10\n",
       "2. 9\n",
       "3. 8\n",
       "4. 7\n",
       "5. 6\n",
       "6. 5\n",
       "7. 4\n",
       "8. 3\n",
       "\n",
       "\n"
      ],
      "text/plain": [
       "[1] 10  9  8  7  6  5  4  3"
      ]
     },
     "metadata": {},
     "output_type": "display_data"
    },
    {
     "data": {
      "text/html": [
       "<style>\n",
       ".list-inline {list-style: none; margin:0; padding: 0}\n",
       ".list-inline>li {display: inline-block}\n",
       ".list-inline>li:not(:last-child)::after {content: \"\\00b7\"; padding: 0 .5ex}\n",
       "</style>\n",
       "<ol class=list-inline><li>1</li><li>3</li><li>5</li><li>7</li><li>9</li></ol>\n"
      ],
      "text/latex": [
       "\\begin{enumerate*}\n",
       "\\item 1\n",
       "\\item 3\n",
       "\\item 5\n",
       "\\item 7\n",
       "\\item 9\n",
       "\\end{enumerate*}\n"
      ],
      "text/markdown": [
       "1. 1\n",
       "2. 3\n",
       "3. 5\n",
       "4. 7\n",
       "5. 9\n",
       "\n",
       "\n"
      ],
      "text/plain": [
       "[1] 1 3 5 7 9"
      ]
     },
     "metadata": {},
     "output_type": "display_data"
    }
   ],
   "source": [
    "1:10\n",
    "seq(10)\n",
    "seq(3, 10)\n",
    "seq(10, 3)\n",
    "seq(1, 10, 2)"
   ]
  },
  {
   "cell_type": "markdown",
   "metadata": {},
   "source": [
    "### Funciones para probabilidad"
   ]
  },
  {
   "cell_type": "markdown",
   "metadata": {},
   "source": [
    "Pudimos habernos igualmente generado data a partir de una distribución. Por ejemplo, nos creamos 2000 puntos generados de una población con distribución normal $\\mathcal{N}\\left(\\mu = 10, \\sigma^2 = 0.7 \\right)$"
   ]
  },
  {
   "cell_type": "code",
   "execution_count": 27,
   "metadata": {},
   "outputs": [],
   "source": [
    "PobNorm <- rnorm(2000, mean = 10, sd = sqrt(0.7))"
   ]
  },
  {
   "cell_type": "code",
   "execution_count": 28,
   "metadata": {},
   "outputs": [
    {
     "data": {
      "image/png": "[encoded data removed]",
      "text/plain": [
       "Plot with title “Histogram of PobNorm”"
      ]
     },
     "metadata": {
      "image/png": {
       "height": 420,
       "width": 420
      },
      "text/plain": {
       "height": 420,
       "width": 420
      }
     },
     "output_type": "display_data"
    }
   ],
   "source": [
    "hist(PobNorm)"
   ]
  },
  {
   "cell_type": "code",
   "execution_count": 29,
   "metadata": {},
   "outputs": [
    {
     "data": {
      "text/html": [
       "9.98780911061208"
      ],
      "text/latex": [
       "9.98780911061208"
      ],
      "text/markdown": [
       "9.98780911061208"
      ],
      "text/plain": [
       "[1] 9.987809"
      ]
     },
     "metadata": {},
     "output_type": "display_data"
    },
    {
     "data": {
      "text/html": [
       "0.69729179153254"
      ],
      "text/latex": [
       "0.69729179153254"
      ],
      "text/markdown": [
       "0.69729179153254"
      ],
      "text/plain": [
       "[1] 0.6972918"
      ]
     },
     "metadata": {},
     "output_type": "display_data"
    }
   ],
   "source": [
    "mean(PobNorm)\n",
    "sd(PobNorm)**2"
   ]
  },
  {
   "cell_type": "markdown",
   "metadata": {},
   "source": [
    "Se pueden igualmente hacer gráficos con ayuda a la librería `ggplot2` que discutiremos en mayor detalle posteriormente:"
   ]
  },
  {
   "cell_type": "code",
   "execution_count": 30,
   "metadata": {},
   "outputs": [
    {
     "data": {
      "image/png": "[encoded data removed]",
      "text/plain": [
       "plot without title"
      ]
     },
     "metadata": {
      "image/png": {
       "height": 420,
       "width": 420
      },
      "text/plain": {
       "height": 420,
       "width": 420
      }
     },
     "output_type": "display_data"
    }
   ],
   "source": [
    "# Se carga la librería\n",
    "library(ggplot2)\n",
    "\n",
    "# Se guarda la data en un dataframe (cuya definición se discutirá luego)\n",
    "df <- data.frame(Muestra = PobNorm) \n",
    "\n",
    "# Se crea el gráfico con ggplot\n",
    "ggplot(data = df, aes(x = Muestra)) + \n",
    "geom_histogram(aes(y=..density..), colour=\"black\", fill=\"gray\", bins = 30) + \n",
    "geom_density(alpha=.2, fill=\"#56B4E9\") "
   ]
  },
  {
   "cell_type": "markdown",
   "metadata": {},
   "source": [
    "Podemos también generar una muestra de una población Poisson, $\\text{Poiss}(\\lambda = 8)$"
   ]
  },
  {
   "cell_type": "code",
   "execution_count": 31,
   "metadata": {},
   "outputs": [
    {
     "data": {
      "text/html": [
       "<style>\n",
       ".list-inline {list-style: none; margin:0; padding: 0}\n",
       ".list-inline>li {display: inline-block}\n",
       ".list-inline>li:not(:last-child)::after {content: \"\\00b7\"; padding: 0 .5ex}\n",
       "</style>\n",
       "<ol class=list-inline><li>9</li><li>12</li><li>7</li><li>7</li><li>10</li><li>8</li><li>8</li><li>9</li><li>7</li><li>9</li><li>9</li><li>9</li><li>8</li><li>11</li><li>7</li><li>11</li><li>12</li><li>7</li></ol>\n"
      ],
      "text/latex": [
       "\\begin{enumerate*}\n",
       "\\item 9\n",
       "\\item 12\n",
       "\\item 7\n",
       "\\item 7\n",
       "\\item 10\n",
       "\\item 8\n",
       "\\item 8\n",
       "\\item 9\n",
       "\\item 7\n",
       "\\item 9\n",
       "\\item 9\n",
       "\\item 9\n",
       "\\item 8\n",
       "\\item 11\n",
       "\\item 7\n",
       "\\item 11\n",
       "\\item 12\n",
       "\\item 7\n",
       "\\end{enumerate*}\n"
      ],
      "text/markdown": [
       "1. 9\n",
       "2. 12\n",
       "3. 7\n",
       "4. 7\n",
       "5. 10\n",
       "6. 8\n",
       "7. 8\n",
       "8. 9\n",
       "9. 7\n",
       "10. 9\n",
       "11. 9\n",
       "12. 9\n",
       "13. 8\n",
       "14. 11\n",
       "15. 7\n",
       "16. 11\n",
       "17. 12\n",
       "18. 7\n",
       "\n",
       "\n"
      ],
      "text/plain": [
       " [1]  9 12  7  7 10  8  8  9  7  9  9  9  8 11  7 11 12  7"
      ]
     },
     "metadata": {},
     "output_type": "display_data"
    }
   ],
   "source": [
    "PobPois <- rpois(5000, lambda = 8)\n",
    "PobPois[3:20]"
   ]
  },
  {
   "cell_type": "code",
   "execution_count": 32,
   "metadata": {},
   "outputs": [
    {
     "data": {
      "text/html": [
       "7.9952"
      ],
      "text/latex": [
       "7.9952"
      ],
      "text/markdown": [
       "7.9952"
      ],
      "text/plain": [
       "[1] 7.9952"
      ]
     },
     "metadata": {},
     "output_type": "display_data"
    },
    {
     "data": {
      "text/html": [
       "7.98677431486297"
      ],
      "text/latex": [
       "7.98677431486297"
      ],
      "text/markdown": [
       "7.98677431486297"
      ],
      "text/plain": [
       "[1] 7.986774"
      ]
     },
     "metadata": {},
     "output_type": "display_data"
    }
   ],
   "source": [
    "mean(PobPois)  # Lambda\n",
    "var(PobPois)   # Lambda"
   ]
  },
  {
   "cell_type": "markdown",
   "metadata": {},
   "source": [
    "Y por último, de una población binomial, $\\text{B}(n = 20, p = 0.2)$"
   ]
  },
  {
   "cell_type": "code",
   "execution_count": 33,
   "metadata": {
    "scrolled": true
   },
   "outputs": [
    {
     "data": {
      "text/html": [
       "<style>\n",
       ".list-inline {list-style: none; margin:0; padding: 0}\n",
       ".list-inline>li {display: inline-block}\n",
       ".list-inline>li:not(:last-child)::after {content: \"\\00b7\"; padding: 0 .5ex}\n",
       "</style>\n",
       "<ol class=list-inline><li>5</li><li>5</li><li>3</li><li>5</li><li>4</li><li>5</li><li>2</li><li>4</li><li>2</li><li>7</li></ol>\n"
      ],
      "text/latex": [
       "\\begin{enumerate*}\n",
       "\\item 5\n",
       "\\item 5\n",
       "\\item 3\n",
       "\\item 5\n",
       "\\item 4\n",
       "\\item 5\n",
       "\\item 2\n",
       "\\item 4\n",
       "\\item 2\n",
       "\\item 7\n",
       "\\end{enumerate*}\n"
      ],
      "text/markdown": [
       "1. 5\n",
       "2. 5\n",
       "3. 3\n",
       "4. 5\n",
       "5. 4\n",
       "6. 5\n",
       "7. 2\n",
       "8. 4\n",
       "9. 2\n",
       "10. 7\n",
       "\n",
       "\n"
      ],
      "text/plain": [
       " [1] 5 5 3 5 4 5 2 4 2 7"
      ]
     },
     "metadata": {},
     "output_type": "display_data"
    },
    {
     "data": {
      "text/html": [
       "4.05"
      ],
      "text/latex": [
       "4.05"
      ],
      "text/markdown": [
       "4.05"
      ],
      "text/plain": [
       "[1] 4.05"
      ]
     },
     "metadata": {},
     "output_type": "display_data"
    },
    {
     "data": {
      "text/html": [
       "3.1986986986987"
      ],
      "text/latex": [
       "3.1986986986987"
      ],
      "text/markdown": [
       "3.1986986986987"
      ],
      "text/plain": [
       "[1] 3.198699"
      ]
     },
     "metadata": {},
     "output_type": "display_data"
    }
   ],
   "source": [
    "binom <- rbinom(1000, 20, 0.2)\n",
    "binom[1:10]\n",
    "mean(binom)  # np\n",
    "var(binom)   # np(1-p)"
   ]
  },
  {
   "cell_type": "markdown",
   "metadata": {},
   "source": [
    "Para cada distribución tenemos otras tres funciones en R para obtener respectivamente los *cuantiles*, la imagen de la *función de densidad* o la probabilidad como si fuese evaluada de la *función de distribución*.\n",
    "\n",
    "Para ilustrar esto, tomaremos el ejemplo de la distribución normal estádar."
   ]
  },
  {
   "cell_type": "code",
   "execution_count": 34,
   "metadata": {
    "scrolled": true
   },
   "outputs": [
    {
     "data": {
      "text/html": [
       "0.398942280401433"
      ],
      "text/latex": [
       "0.398942280401433"
      ],
      "text/markdown": [
       "0.398942280401433"
      ],
      "text/plain": [
       "[1] 0.3989423"
      ]
     },
     "metadata": {},
     "output_type": "display_data"
    },
    {
     "data": {
      "text/html": [
       "0.5"
      ],
      "text/latex": [
       "0.5"
      ],
      "text/markdown": [
       "0.5"
      ],
      "text/plain": [
       "[1] 0.5"
      ]
     },
     "metadata": {},
     "output_type": "display_data"
    },
    {
     "data": {
      "text/html": [
       "-1.64485362695147"
      ],
      "text/latex": [
       "-1.64485362695147"
      ],
      "text/markdown": [
       "-1.64485362695147"
      ],
      "text/plain": [
       "[1] -1.644854"
      ]
     },
     "metadata": {},
     "output_type": "display_data"
    }
   ],
   "source": [
    "dnorm(0)      # f(0)\n",
    "pnorm(0)      # P(X<0)\n",
    "qnorm(0.05)   # Z-score"
   ]
  },
  {
   "cell_type": "markdown",
   "metadata": {},
   "source": [
    "Podemos graficar la función de densidad de una variable aleatoria con una distribución normal estándar"
   ]
  },
  {
   "cell_type": "code",
   "execution_count": 35,
   "metadata": {},
   "outputs": [
    {
     "data": {
      "image/png": "[encoded data removed]",
      "text/plain": [
       "plot without title"
      ]
     },
     "metadata": {
      "image/png": {
       "height": 420,
       "width": 420
      },
      "text/plain": {
       "height": 420,
       "width": 420
      }
     },
     "output_type": "display_data"
    }
   ],
   "source": [
    "curve(dnorm(x), from = -3, to = 3)"
   ]
  },
  {
   "cell_type": "markdown",
   "metadata": {},
   "source": [
    "Similarmente graficar cualquier otra densidad, si se desea, en una misma figura utilizando el comando `par()`:"
   ]
  },
  {
   "cell_type": "code",
   "execution_count": 36,
   "metadata": {},
   "outputs": [
    {
     "data": {
      "image/png": "[encoded data removed]",
      "text/plain": [
       "plot without title"
      ]
     },
     "metadata": {
      "image/png": {
       "height": 420,
       "width": 420
      },
      "text/plain": {
       "height": 420,
       "width": 420
      }
     },
     "output_type": "display_data"
    }
   ],
   "source": [
    "par(mfrow=c(2,2))\n",
    "curve(dbeta(x, 2, 5), from = 0, to = 1.5)\n",
    "curve(dlogis(x), from = -3, to = 3)\n",
    "curve(dgamma(x, shape=7.5, scale=1), from = 0, to = 15)\n",
    "curve(dweibull(x, 1.5, 1), from = 0, to = 3)"
   ]
  },
  {
   "cell_type": "markdown",
   "metadata": {},
   "source": [
    "Para cualquier función o comando del cual no se conozca su definición o sus parámetros se puede utilizar un prefijo `?` o el comando `help()` para llamar a la documentación que describe dicho comando. Usualmente todos los comandos de R están asociados a alguna librería (ya sea estandar pre-instalada por R o descargada aparte) y ésta posee una documentación que se puede obtener aquí en Jupyter Notebook o en RStudio. Además, suele estar fácilmente disponible en linea."
   ]
  },
  {
   "cell_type": "code",
   "execution_count": 37,
   "metadata": {},
   "outputs": [],
   "source": [
    "?dweibull"
   ]
  },
  {
   "cell_type": "markdown",
   "metadata": {},
   "source": [
    "Podemos además definir nuestras propias funciones de distribución. Definamos en este caso la función de supervivencia del modelo conocido como **ley de mortalidad de Gompertz**"
   ]
  },
  {
   "cell_type": "code",
   "execution_count": 38,
   "metadata": {
    "scrolled": true
   },
   "outputs": [
    {
     "data": {
      "image/png": "[encoded data removed]",
      "text/plain": [
       "plot without title"
      ]
     },
     "metadata": {
      "image/png": {
       "height": 420,
       "width": 420
      },
      "text/plain": {
       "height": 420,
       "width": 420
      }
     },
     "output_type": "display_data"
    }
   ],
   "source": [
    "Gompertz <- function(t, B, c, x) exp(-B/log(c)*(c^t-1)*c^x)\n",
    "curve(Gompertz(t = x, 0.0003, 1.07, 30), from = 0, to = 100)"
   ]
  },
  {
   "cell_type": "markdown",
   "metadata": {},
   "source": [
    "Para poder encontrar su función de densidad, podemos utilizar la función `deparse()` para obtener, en forma de texto, la definición que le acabamos de dar a `Gompertz()`:"
   ]
  },
  {
   "cell_type": "code",
   "execution_count": 39,
   "metadata": {
    "scrolled": true
   },
   "outputs": [
    {
     "data": {
      "text/html": [
       "'exp(-B/log(c) * (c^t - 1) * c^x)'"
      ],
      "text/latex": [
       "'exp(-B/log(c) * (c\\textasciicircum{}t - 1) * c\\textasciicircum{}x)'"
      ],
      "text/markdown": [
       "'exp(-B/log(c) * (c^t - 1) * c^x)'"
      ],
      "text/plain": [
       "[1] \"exp(-B/log(c) * (c^t - 1) * c^x)\""
      ]
     },
     "metadata": {},
     "output_type": "display_data"
    }
   ],
   "source": [
    "deparse(Gompertz)[2]"
   ]
  },
  {
   "cell_type": "markdown",
   "metadata": {},
   "source": [
    "y posteriormente convertirlo en un objeto del tipo `expresión`:"
   ]
  },
  {
   "cell_type": "code",
   "execution_count": 40,
   "metadata": {
    "scrolled": true
   },
   "outputs": [
    {
     "data": {
      "text/plain": [
       "expression(exp(-B/log(c) * (c^t - 1) * c^x))"
      ]
     },
     "metadata": {},
     "output_type": "display_data"
    }
   ],
   "source": [
    "parse(text = deparse(Gompertz)[2])"
   ]
  },
  {
   "cell_type": "markdown",
   "metadata": {},
   "source": [
    "el cual puede ser derivado por R:"
   ]
  },
  {
   "cell_type": "code",
   "execution_count": 41,
   "metadata": {},
   "outputs": [
    {
     "data": {
      "text/plain": [
       "exp(-B/log(c) * (c^t - 1) * c^x) * (-B/log(c) * (c^t - 1) * (c^x * \n",
       "    log(c)))"
      ]
     },
     "metadata": {},
     "output_type": "display_data"
    }
   ],
   "source": [
    "D(parse(text = deparse(Gompertz)[2]), \"x\")"
   ]
  },
  {
   "cell_type": "code",
   "execution_count": 42,
   "metadata": {},
   "outputs": [
    {
     "data": {
      "image/png": "[encoded data removed]",
      "text/plain": [
       "plot without title"
      ]
     },
     "metadata": {
      "image/png": {
       "height": 420,
       "width": 420
      },
      "text/plain": {
       "height": 420,
       "width": 420
      }
     },
     "output_type": "display_data"
    }
   ],
   "source": [
    "derivada <- function(t, B, c, x) - exp(-B/log(c) * c^x * (c^t - 1)) * (-B/log(c) * (c^x * log(c)) * (c^t - 1))\n",
    "curve(derivada(t = x, 0.0003, 1.07, 30), from = 0, to = 100)"
   ]
  },
  {
   "cell_type": "markdown",
   "metadata": {},
   "source": [
    "### Funciones personalizadas\n",
    "\n",
    "Podemos definir nuestra propias funciones mediante la siguiente sintaxis (conocida en otros lenguajes de programación como **función anónima o expresión Lambda**):"
   ]
  },
  {
   "cell_type": "code",
   "execution_count": 43,
   "metadata": {},
   "outputs": [
    {
     "data": {
      "text/html": [
       "<pre class=language-r><code>function (x) \n",
       "x + 1</code></pre>"
      ],
      "text/latex": [
       "\\begin{minted}{r}\n",
       "function (x) \n",
       "x + 1\n",
       "\\end{minted}"
      ],
      "text/markdown": [
       "```r\n",
       "function (x) \n",
       "x + 1\n",
       "```"
      ],
      "text/plain": [
       "function(x) x+1"
      ]
     },
     "metadata": {},
     "output_type": "display_data"
    }
   ],
   "source": [
    "function(x) x+1"
   ]
  },
  {
   "cell_type": "markdown",
   "metadata": {},
   "source": [
    "Para poder evaluar dicha función podemos hacer lo siguiente:"
   ]
  },
  {
   "cell_type": "code",
   "execution_count": 44,
   "metadata": {},
   "outputs": [
    {
     "data": {
      "text/html": [
       "11"
      ],
      "text/latex": [
       "11"
      ],
      "text/markdown": [
       "11"
      ],
      "text/plain": [
       "[1] 11"
      ]
     },
     "metadata": {},
     "output_type": "display_data"
    }
   ],
   "source": [
    "(function(x) x+1)(10)"
   ]
  },
  {
   "cell_type": "markdown",
   "metadata": {},
   "source": [
    "Para mayor facilidad de evaluación, si sabemos que la utilizaremos en repetidas posteriores ocasiones, podemos guardar la función en una variable (recordando en en programación funcional las funciones y todos los otros tipos de objetos son indistintos)"
   ]
  },
  {
   "cell_type": "code",
   "execution_count": 45,
   "metadata": {},
   "outputs": [
    {
     "data": {
      "text/html": [
       "8"
      ],
      "text/latex": [
       "8"
      ],
      "text/markdown": [
       "8"
      ],
      "text/plain": [
       "[1] 8"
      ]
     },
     "metadata": {},
     "output_type": "display_data"
    }
   ],
   "source": [
    "MiFuncion <- function(x) x+1\n",
    "MiFuncion(7)"
   ]
  },
  {
   "cell_type": "markdown",
   "metadata": {},
   "source": [
    "Lo anterior es equivalente a escribir el retorno de la función de una forma más explícita:"
   ]
  },
  {
   "cell_type": "code",
   "execution_count": 46,
   "metadata": {},
   "outputs": [
    {
     "data": {
      "text/html": [
       "8"
      ],
      "text/latex": [
       "8"
      ],
      "text/markdown": [
       "8"
      ],
      "text/plain": [
       "[1] 8"
      ]
     },
     "metadata": {},
     "output_type": "display_data"
    }
   ],
   "source": [
    "MiFuncion <- function(x) return(x+1)\n",
    "MiFuncion(7)"
   ]
  },
  {
   "cell_type": "markdown",
   "metadata": {},
   "source": [
    "### Alcance\n",
    "\n",
    "El alcance de una variable se refiere al <ins>dominio del código</ins> en el cual el valor de dicha variable es válido. Considere el siguiente ejemplo:"
   ]
  },
  {
   "cell_type": "code",
   "execution_count": 47,
   "metadata": {},
   "outputs": [],
   "source": [
    "MiFuncion <- function(x){\n",
    "    x <- 6\n",
    "    return(x**2)\n",
    "}"
   ]
  },
  {
   "cell_type": "markdown",
   "metadata": {},
   "source": [
    "La función `MiFuncion()` toma un argumento, simbolizado en su definición por `x`, pero sin importar quién sea `x`, esta será modificada a tener el valor de `6` y posteriormente ser retornada al cuadrado. Veamolo a continuación, donde `x` toma el valor de `5`, pero `MiFuncion(x)` tendrá siempre el valor de `36`"
   ]
  },
  {
   "cell_type": "code",
   "execution_count": 48,
   "metadata": {},
   "outputs": [
    {
     "data": {
      "text/html": [
       "5"
      ],
      "text/latex": [
       "5"
      ],
      "text/markdown": [
       "5"
      ],
      "text/plain": [
       "[1] 5"
      ]
     },
     "metadata": {},
     "output_type": "display_data"
    },
    {
     "data": {
      "text/html": [
       "36"
      ],
      "text/latex": [
       "36"
      ],
      "text/markdown": [
       "36"
      ],
      "text/plain": [
       "[1] 36"
      ]
     },
     "metadata": {},
     "output_type": "display_data"
    },
    {
     "data": {
      "text/html": [
       "36"
      ],
      "text/latex": [
       "36"
      ],
      "text/markdown": [
       "36"
      ],
      "text/plain": [
       "[1] 36"
      ]
     },
     "metadata": {},
     "output_type": "display_data"
    },
    {
     "data": {
      "text/html": [
       "5"
      ],
      "text/latex": [
       "5"
      ],
      "text/markdown": [
       "5"
      ],
      "text/plain": [
       "[1] 5"
      ]
     },
     "metadata": {},
     "output_type": "display_data"
    }
   ],
   "source": [
    "x <- 5\n",
    "x\n",
    "MiFuncion(x)\n",
    "MiFuncion(100)\n",
    "x"
   ]
  },
  {
   "cell_type": "markdown",
   "metadata": {},
   "source": [
    "Aquí notamos dos cosas:\n",
    "\n",
    "* La función `MiFuncion()`, independiente del argumento, `x`, que tenga, va a resultar en el valor 36. Esto es porque dentro de su definición, sobre escribe el valor de `x` que se le otorgó y luego lo devuelve al cuadrado.\n",
    "\n",
    "* El valor de `x` no ha sido realmente modificado, a pesar que la función lo modifica dentro de su definición siempre que se llama.\n",
    "\n",
    "Esto ocurre porque el cambio que `x` tuvo solo tiene un **alcance** local a la función y no afecta el valor global de `x`. Si nosotros deseamos, desde una función, modificar el valor global de una variable, debemos utilizar el operador de asignación externa, `<<-` (o su equivalente derecho `->>`)."
   ]
  },
  {
   "cell_type": "code",
   "execution_count": 49,
   "metadata": {},
   "outputs": [],
   "source": [
    "MiFuncion <- function(x){\n",
    "    x <<- 6\n",
    "    x**2\n",
    "}"
   ]
  },
  {
   "cell_type": "code",
   "execution_count": 50,
   "metadata": {},
   "outputs": [
    {
     "data": {
      "text/html": [
       "5"
      ],
      "text/latex": [
       "5"
      ],
      "text/markdown": [
       "5"
      ],
      "text/plain": [
       "[1] 5"
      ]
     },
     "metadata": {},
     "output_type": "display_data"
    },
    {
     "data": {
      "text/html": [
       "36"
      ],
      "text/latex": [
       "36"
      ],
      "text/markdown": [
       "36"
      ],
      "text/plain": [
       "[1] 36"
      ]
     },
     "metadata": {},
     "output_type": "display_data"
    },
    {
     "data": {
      "text/html": [
       "6"
      ],
      "text/latex": [
       "6"
      ],
      "text/markdown": [
       "6"
      ],
      "text/plain": [
       "[1] 6"
      ]
     },
     "metadata": {},
     "output_type": "display_data"
    }
   ],
   "source": [
    "x <- 5\n",
    "x\n",
    "MiFuncion(x)\n",
    "x"
   ]
  },
  {
   "cell_type": "markdown",
   "metadata": {},
   "source": [
    "### Argumentos de funciones\n",
    "\n",
    "Este es un pequeño apartado para mencionar la utilidad de la función `formals()`, que sirve para extraer los argumentos formales de una función. Para entender mejor el ejemplo considere la función:"
   ]
  },
  {
   "cell_type": "code",
   "execution_count": 51,
   "metadata": {},
   "outputs": [],
   "source": [
    "g <- function(x = 20, y){\n",
    "  x+y\n",
    "}"
   ]
  },
  {
   "cell_type": "markdown",
   "metadata": {},
   "source": [
    "donde se ha dejado el valor de `x=20` por defecto, en caso de no haber un argumento provisto. Examinemos qué sucede cuando aplicamos la función `formals()` "
   ]
  },
  {
   "cell_type": "code",
   "execution_count": 52,
   "metadata": {},
   "outputs": [
    {
     "data": {
      "text/plain": [
       "$x\n",
       "[1] 20\n",
       "\n",
       "$y\n",
       "\n"
      ]
     },
     "metadata": {},
     "output_type": "display_data"
    }
   ],
   "source": [
    "formals(g)"
   ]
  },
  {
   "cell_type": "markdown",
   "metadata": {},
   "source": [
    "Esta nos deja acceder a sus argumentos e incluso al valor por defecto que tiene guardado `x`. Esto puede ser útil si se desean modificar los valores por defecto de cierta función, como se ilustra a continuación con `g`:"
   ]
  },
  {
   "cell_type": "code",
   "execution_count": 53,
   "metadata": {},
   "outputs": [
    {
     "data": {
      "text/plain": [
       "$x\n",
       "\n",
       "\n",
       "$y\n",
       "[1] 20\n"
      ]
     },
     "metadata": {},
     "output_type": "display_data"
    }
   ],
   "source": [
    "formals(g)$y <- 20\n",
    "formals(g)$x <- quote(expr = )\n",
    "formals(g)"
   ]
  },
  {
   "cell_type": "markdown",
   "metadata": {},
   "source": [
    "Ahora quien tiene el valor de `20` es la variable formal `y` mientras que `x` es un argumento cuyo valor debe ser obligatoriamente definido como se ve a continuación:"
   ]
  },
  {
   "cell_type": "code",
   "execution_count": 54,
   "metadata": {},
   "outputs": [
    {
     "ename": "ERROR",
     "evalue": "Error in g(y = 5): argument \"x\" is missing, with no default\n",
     "output_type": "error",
     "traceback": [
      "Error in g(y = 5): argument \"x\" is missing, with no default\nTraceback:\n",
      "1. g(y = 5)"
     ]
    }
   ],
   "source": [
    "g(y=5)"
   ]
  },
  {
   "cell_type": "markdown",
   "metadata": {},
   "source": [
    "## Clases en R\n",
    "\n",
    "Se puede saber la clase a la que cada objeto en R pertenece mediante la función `class()`"
   ]
  },
  {
   "cell_type": "code",
   "execution_count": 55,
   "metadata": {},
   "outputs": [
    {
     "data": {
      "text/html": [
       "'numeric'"
      ],
      "text/latex": [
       "'numeric'"
      ],
      "text/markdown": [
       "'numeric'"
      ],
      "text/plain": [
       "[1] \"numeric\""
      ]
     },
     "metadata": {},
     "output_type": "display_data"
    }
   ],
   "source": [
    "class(8.1) "
   ]
  },
  {
   "cell_type": "code",
   "execution_count": 56,
   "metadata": {},
   "outputs": [
    {
     "data": {
      "text/html": [
       "'character'"
      ],
      "text/latex": [
       "'character'"
      ],
      "text/markdown": [
       "'character'"
      ],
      "text/plain": [
       "[1] \"character\""
      ]
     },
     "metadata": {},
     "output_type": "display_data"
    }
   ],
   "source": [
    "class(\"Hola\") # La cadena de caracteres \"Hola\" sigue siendo considerada un caracter en sí mismo"
   ]
  },
  {
   "cell_type": "code",
   "execution_count": 57,
   "metadata": {},
   "outputs": [
    {
     "data": {
      "text/html": [
       "'function'"
      ],
      "text/latex": [
       "'function'"
      ],
      "text/markdown": [
       "'function'"
      ],
      "text/plain": [
       "[1] \"function\""
      ]
     },
     "metadata": {},
     "output_type": "display_data"
    }
   ],
   "source": [
    "class(mean) # mean() es una función que calcula el promedio de sus argumentos"
   ]
  },
  {
   "cell_type": "code",
   "execution_count": 58,
   "metadata": {},
   "outputs": [
    {
     "data": {
      "text/html": [
       "'logical'"
      ],
      "text/latex": [
       "'logical'"
      ],
      "text/markdown": [
       "'logical'"
      ],
      "text/plain": [
       "[1] \"logical\""
      ]
     },
     "metadata": {},
     "output_type": "display_data"
    }
   ],
   "source": [
    "class(NA) # NA pertenece a la misma clase que otros objetos como TRUE o FALSE, conocidos en C++ como \"bool\""
   ]
  },
  {
   "cell_type": "code",
   "execution_count": 59,
   "metadata": {},
   "outputs": [
    {
     "data": {
      "text/html": [
       "'matrix'"
      ],
      "text/latex": [
       "'matrix'"
      ],
      "text/markdown": [
       "'matrix'"
      ],
      "text/plain": [
       "[1] \"matrix\""
      ]
     },
     "metadata": {},
     "output_type": "display_data"
    }
   ],
   "source": [
    "class(matrix(c(1,2,3,4,5,6,7,8), nrow = 4, ncol = 2))"
   ]
  },
  {
   "cell_type": "code",
   "execution_count": 60,
   "metadata": {},
   "outputs": [
    {
     "data": {
      "text/html": [
       "'numeric'"
      ],
      "text/latex": [
       "'numeric'"
      ],
      "text/markdown": [
       "'numeric'"
      ],
      "text/plain": [
       "[1] \"numeric\""
      ]
     },
     "metadata": {},
     "output_type": "display_data"
    }
   ],
   "source": [
    "class(c(3,4,5)) # la combinación de dos o más objetos \"numeric\" es \"numeric\""
   ]
  },
  {
   "cell_type": "code",
   "execution_count": 61,
   "metadata": {
    "scrolled": true
   },
   "outputs": [
    {
     "data": {
      "text/html": [
       "'character'"
      ],
      "text/latex": [
       "'character'"
      ],
      "text/markdown": [
       "'character'"
      ],
      "text/plain": [
       "[1] \"character\""
      ]
     },
     "metadata": {},
     "output_type": "display_data"
    }
   ],
   "source": [
    "class(c(3,\"Hola\", 4, 5,10, 23)) # Con AL MENOS un objeto \"character\", la combinación es \"character\" ¿Por qué?"
   ]
  },
  {
   "cell_type": "code",
   "execution_count": 62,
   "metadata": {},
   "outputs": [
    {
     "data": {
      "text/html": [
       "'list'"
      ],
      "text/latex": [
       "'list'"
      ],
      "text/markdown": [
       "'list'"
      ],
      "text/plain": [
       "[1] \"list\""
      ]
     },
     "metadata": {},
     "output_type": "display_data"
    }
   ],
   "source": [
    "class(c(3, mean, 4, \"Hola\")) # Con AL MENOS un objeto \"function\", la combinación se fuerza a ser una lista."
   ]
  },
  {
   "cell_type": "markdown",
   "metadata": {},
   "source": [
    "No obstante, como comentado anteriormente, la función `mean` es tratada **al mismo nivel** que cualquier otra variable (o como cualquier otro **objeto**, en nuestro jerga de POO) debido a que tenemos un paradigma de programación funcional. \n",
    "\n",
    "Esto se refleja en el hecho que el nombre de las clases anteriores **no significan esencialmente nada** como vemos a continuación:"
   ]
  },
  {
   "cell_type": "code",
   "execution_count": 63,
   "metadata": {},
   "outputs": [
    {
     "data": {
      "text/html": [
       "'numeric'"
      ],
      "text/latex": [
       "'numeric'"
      ],
      "text/markdown": [
       "'numeric'"
      ],
      "text/plain": [
       "[1] \"numeric\""
      ]
     },
     "metadata": {},
     "output_type": "display_data"
    }
   ],
   "source": [
    "x <- 5\n",
    "class(x)"
   ]
  },
  {
   "cell_type": "code",
   "execution_count": 64,
   "metadata": {},
   "outputs": [
    {
     "data": {
      "text/html": [
       "'MiClase'"
      ],
      "text/latex": [
       "'MiClase'"
      ],
      "text/markdown": [
       "'MiClase'"
      ],
      "text/plain": [
       "[1] \"MiClase\""
      ]
     },
     "metadata": {},
     "output_type": "display_data"
    }
   ],
   "source": [
    "class(x) <- \"MiClase\"\n",
    "class(x)"
   ]
  },
  {
   "cell_type": "code",
   "execution_count": 65,
   "metadata": {},
   "outputs": [
    {
     "data": {
      "text/plain": [
       "[1] 5\n",
       "attr(,\"class\")\n",
       "[1] \"MiClase\""
      ]
     },
     "metadata": {},
     "output_type": "display_data"
    }
   ],
   "source": [
    "x"
   ]
  },
  {
   "cell_type": "markdown",
   "metadata": {},
   "source": [
    "Estas clases anteriormente descritas, en R, se conocen como clases de tipo S3 o **funciones genéricas de S3**, debido a que juegan un rol en el lenguaje equivalente a la que los objetos en el lenguaje S (versión 3) jugaban.\n",
    "\n",
    "Pero si estas clases no significan nada ¿Por qué son diferentes cuando se trata de hacer cálculos con ellos?\n",
    "\n",
    "Esto es porque R diferencia la clase tipo S3 de los objetos con su **tipo**. Observe lo siguiente:"
   ]
  },
  {
   "cell_type": "code",
   "execution_count": 66,
   "metadata": {
    "scrolled": true
   },
   "outputs": [
    {
     "data": {
      "text/html": [
       "'double'"
      ],
      "text/latex": [
       "'double'"
      ],
      "text/markdown": [
       "'double'"
      ],
      "text/plain": [
       "[1] \"double\""
      ]
     },
     "metadata": {},
     "output_type": "display_data"
    },
    {
     "data": {
      "text/html": [
       "'character'"
      ],
      "text/latex": [
       "'character'"
      ],
      "text/markdown": [
       "'character'"
      ],
      "text/plain": [
       "[1] \"character\""
      ]
     },
     "metadata": {},
     "output_type": "display_data"
    },
    {
     "data": {
      "text/html": [
       "'integer'"
      ],
      "text/latex": [
       "'integer'"
      ],
      "text/markdown": [
       "'integer'"
      ],
      "text/plain": [
       "[1] \"integer\""
      ]
     },
     "metadata": {},
     "output_type": "display_data"
    },
    {
     "data": {
      "text/html": [
       "'closure'"
      ],
      "text/latex": [
       "'closure'"
      ],
      "text/markdown": [
       "'closure'"
      ],
      "text/plain": [
       "[1] \"closure\""
      ]
     },
     "metadata": {},
     "output_type": "display_data"
    },
    {
     "data": {
      "text/html": [
       "'closure'"
      ],
      "text/latex": [
       "'closure'"
      ],
      "text/markdown": [
       "'closure'"
      ],
      "text/plain": [
       "[1] \"closure\""
      ]
     },
     "metadata": {},
     "output_type": "display_data"
    },
    {
     "data": {
      "text/html": [
       "'double'"
      ],
      "text/latex": [
       "'double'"
      ],
      "text/markdown": [
       "'double'"
      ],
      "text/plain": [
       "[1] \"double\""
      ]
     },
     "metadata": {},
     "output_type": "display_data"
    },
    {
     "data": {
      "text/html": [
       "'list'"
      ],
      "text/latex": [
       "'list'"
      ],
      "text/markdown": [
       "'list'"
      ],
      "text/plain": [
       "[1] \"list\""
      ]
     },
     "metadata": {},
     "output_type": "display_data"
    }
   ],
   "source": [
    "typeof(8) \n",
    "typeof(\"Hola\") \n",
    "typeof(305L)     # La L denota \"Long int\" de otros lenguajes, como C++\n",
    "typeof(mean)\n",
    "typeof(MiFuncion)\n",
    "typeof(x)        # El tipo de x sigue siendo un double, a pesar de haberle cambiado la clase S3\n",
    "typeof(c(mean, 3))"
   ]
  },
  {
   "cell_type": "markdown",
   "metadata": {},
   "source": [
    "El tipo de un objeto en R define la manera en que éste interactúa con otros objetos, y los operadores por los cuales puede hacerlo y su reacción hacia ellos. \n",
    "\n",
    "Por otro lado, el tipo NO determina la forma en que el objeto es guardado en memoria. Esto es más determinado por la clase, pero no puede serlo realmente (pues como vimos, podemos fácilmente cambiar su clase). La manera correcta de examinar cómo un objeto está siendo guardado en memoria es mediante el comando `mode`, que retorna **la clase del objeto más complejo que puede ser almacenado en la misma localidad en la cual el argumento está siendo guardado**."
   ]
  },
  {
   "cell_type": "code",
   "execution_count": 67,
   "metadata": {},
   "outputs": [
    {
     "data": {
      "text/html": [
       "'numeric'"
      ],
      "text/latex": [
       "'numeric'"
      ],
      "text/markdown": [
       "'numeric'"
      ],
      "text/plain": [
       "[1] \"numeric\""
      ]
     },
     "metadata": {},
     "output_type": "display_data"
    },
    {
     "data": {
      "text/html": [
       "'character'"
      ],
      "text/latex": [
       "'character'"
      ],
      "text/markdown": [
       "'character'"
      ],
      "text/plain": [
       "[1] \"character\""
      ]
     },
     "metadata": {},
     "output_type": "display_data"
    },
    {
     "data": {
      "text/html": [
       "'numeric'"
      ],
      "text/latex": [
       "'numeric'"
      ],
      "text/markdown": [
       "'numeric'"
      ],
      "text/plain": [
       "[1] \"numeric\""
      ]
     },
     "metadata": {},
     "output_type": "display_data"
    },
    {
     "data": {
      "text/html": [
       "'function'"
      ],
      "text/latex": [
       "'function'"
      ],
      "text/markdown": [
       "'function'"
      ],
      "text/plain": [
       "[1] \"function\""
      ]
     },
     "metadata": {},
     "output_type": "display_data"
    },
    {
     "data": {
      "text/html": [
       "'function'"
      ],
      "text/latex": [
       "'function'"
      ],
      "text/markdown": [
       "'function'"
      ],
      "text/plain": [
       "[1] \"function\""
      ]
     },
     "metadata": {},
     "output_type": "display_data"
    },
    {
     "data": {
      "text/html": [
       "'numeric'"
      ],
      "text/latex": [
       "'numeric'"
      ],
      "text/markdown": [
       "'numeric'"
      ],
      "text/plain": [
       "[1] \"numeric\""
      ]
     },
     "metadata": {},
     "output_type": "display_data"
    },
    {
     "data": {
      "text/html": [
       "'list'"
      ],
      "text/latex": [
       "'list'"
      ],
      "text/markdown": [
       "'list'"
      ],
      "text/plain": [
       "[1] \"list\""
      ]
     },
     "metadata": {},
     "output_type": "display_data"
    }
   ],
   "source": [
    "mode(8) \n",
    "mode(\"Hola\") \n",
    "mode(305L)     # La L denota \"Long int\" de otros lenguajes, como C++\n",
    "mode(mean)\n",
    "mode(MiFuncion)\n",
    "mode(x)\n",
    "mode(c(mean, 3))"
   ]
  },
  {
   "cell_type": "markdown",
   "metadata": {},
   "source": [
    "Esto no es toda la historia. Las funciones genéricas S3 sí pueden tener métodos de clase que les distingan de otras clases, por ejemplo:"
   ]
  },
  {
   "cell_type": "code",
   "execution_count": 68,
   "metadata": {},
   "outputs": [
    {
     "data": {
      "text/plain": [
       "[1] mean.Date        mean.default     mean.difftime    mean.POSIXct    \n",
       "[5] mean.POSIXlt     mean.quosure*    mean.vctrs_vctr*\n",
       "see '?methods' for accessing help and source code"
      ]
     },
     "metadata": {},
     "output_type": "display_data"
    }
   ],
   "source": [
    ".S3methods(mean)"
   ]
  },
  {
   "cell_type": "code",
   "execution_count": 69,
   "metadata": {},
   "outputs": [
    {
     "data": {
      "text/plain": [
       " [1] summary.aov                    summary.aovlist*              \n",
       " [3] summary.aspell*                summary.check_packages_in_dir*\n",
       " [5] summary.connection             summary.data.frame            \n",
       " [7] summary.Date                   summary.default               \n",
       " [9] summary.ecdf*                  summary.factor                \n",
       "[11] summary.ggplot*                summary.glm                   \n",
       "[13] summary.hcl_palettes*          summary.infl*                 \n",
       "[15] summary.lm                     summary.loess*                \n",
       "[17] summary.manova                 summary.matrix                \n",
       "[19] summary.mlm*                   summary.nls*                  \n",
       "[21] summary.packageStatus*         summary.POSIXct               \n",
       "[23] summary.POSIXlt                summary.ppr*                  \n",
       "[25] summary.prcomp*                summary.princomp*             \n",
       "[27] summary.proc_time              summary.rlang_error*          \n",
       "[29] summary.rlang_trace*           summary.srcfile               \n",
       "[31] summary.srcref                 summary.stepfun               \n",
       "[33] summary.stl*                   summary.table                 \n",
       "[35] summary.tukeysmooth*           summary.vctrs_sclr*           \n",
       "[37] summary.vctrs_vctr*            summary.warnings              \n",
       "see '?methods' for accessing help and source code"
      ]
     },
     "metadata": {},
     "output_type": "display_data"
    }
   ],
   "source": [
    ".S3methods(summary)"
   ]
  },
  {
   "cell_type": "markdown",
   "metadata": {},
   "source": [
    "Pero esto se vuelve relevante solamente cuando se desea realizar uso avanzado del lenguaje R en la creación de librerías nuevas. "
   ]
  }
 ],
 "metadata": {
  "kernelspec": {
   "display_name": "R",
   "language": "R",
   "name": "ir"
  },
  "language_info": {
   "codemirror_mode": "r",
   "file_extension": ".r",
   "mimetype": "text/x-r-source",
   "name": "R",
   "pygments_lexer": "r",
   "version": "3.6.1"
  }
 },
 "nbformat": 4,
 "nbformat_minor": 4
}
